{
 "cells": [
  {
   "cell_type": "markdown",
   "metadata": {
    "button": false,
    "new_sheet": false,
    "run_control": {
     "read_only": false
    }
   },
   "source": [
    "# Generate Credit Card Transactions\n",
    "**This notebook generates credit card transactions and randomly injects fraud chain attacks.**\n",
    "\n",
    "\n",
    "---\n",
    "\n",
    "## Contents\n",
    "\n",
    "1. [Background](#Background)\n",
    "1. [Setup](#Setup)\n",
    "1. [Generate Transactions](#Generate-Transactions)\n",
    "1. [Inject Fradulent Transactions](#Inject-Fradulent-Transactions)\n",
    "1. [Save Generated Data](#Save-Generated-Data)"
   ]
  },
  {
   "cell_type": "markdown",
   "metadata": {
    "button": false,
    "new_sheet": false,
    "run_control": {
     "read_only": false
    }
   },
   "source": [
    "### Background\n",
    "This notebook generates random credit card transactions for 10K users over a period of 5 months. In an ideal scenario, these historical transactions would be accumulated into a data lake/store for batch processing so as to derive insights and analytics about this data. Credit card numbers can be bought in bulk on the dark web through previous leaks or hacks of organizations that store this sensitive data. Fraudsters will buy these card lists and attempt to make as many transactions as possible with the stolen numbers until the card is blocked. These fraud chain attacks typically happen in a short time frame and can be easily spotted amongst historical transactions. This is because the velocity of transactions during the attack significantly differs from that of cardholder’s usual spending pattern. This notebook is optional to run. The generated data already exists in the `./data` folder for you to use. Re-run this notebook if you desire to re-populate fresh data or understand the whole process of how this dataset was generated."
   ]
  },
  {
   "cell_type": "markdown",
   "metadata": {
    "button": false,
    "new_sheet": false,
    "run_control": {
     "read_only": false
    }
   },
   "source": [
    "### Setup"
   ]
  },
  {
   "cell_type": "markdown",
   "metadata": {
    "button": false,
    "new_sheet": false,
    "run_control": {
     "read_only": false
    }
   },
   "source": [
    "#### Prerequisites "
   ]
  },
  {
   "cell_type": "code",
   "execution_count": 1,
   "metadata": {
    "button": false,
    "new_sheet": false,
    "run_control": {
     "read_only": false
    }
   },
   "outputs": [
    {
     "name": "stdout",
     "output_type": "stream",
     "text": [
      "Collecting Faker\n",
      "  Downloading Faker-8.2.1-py3-none-any.whl (1.2 MB)\n",
      "\u001b[K     |████████████████████████████████| 1.2 MB 23.3 MB/s eta 0:00:01\n",
      "\u001b[?25hCollecting text-unidecode==1.3\n",
      "  Downloading text_unidecode-1.3-py2.py3-none-any.whl (78 kB)\n",
      "\u001b[K     |████████████████████████████████| 78 kB 12.1 MB/s  eta 0:00:01\n",
      "\u001b[?25hRequirement already satisfied: python-dateutil>=2.4 in /home/ec2-user/anaconda3/envs/python3/lib/python3.6/site-packages (from Faker) (2.8.1)\n",
      "Requirement already satisfied: six>=1.5 in /home/ec2-user/anaconda3/envs/python3/lib/python3.6/site-packages (from python-dateutil>=2.4->Faker) (1.15.0)\n",
      "Installing collected packages: text-unidecode, Faker\n",
      "Successfully installed Faker-8.2.1 text-unidecode-1.3\n"
     ]
    }
   ],
   "source": [
    "!pip install Faker"
   ]
  },
  {
   "cell_type": "markdown",
   "metadata": {
    "button": false,
    "new_sheet": false,
    "run_control": {
     "read_only": false
    }
   },
   "source": [
    "#### Imports "
   ]
  },
  {
   "cell_type": "code",
   "execution_count": 2,
   "metadata": {
    "button": false,
    "new_sheet": false,
    "run_control": {
     "read_only": false
    }
   },
   "outputs": [],
   "source": [
    "from botocore.client import ClientError\n",
    "from collections import defaultdict\n",
    "from faker import Faker\n",
    "import pandas as pd\n",
    "import numpy as np\n",
    "import sagemaker\n",
    "import datetime\n",
    "import hashlib\n",
    "import random\n",
    "import boto3\n",
    "import math\n",
    "import os"
   ]
  },
  {
   "cell_type": "markdown",
   "metadata": {
    "button": false,
    "new_sheet": false,
    "run_control": {
     "read_only": false
    }
   },
   "source": [
    "#### Seed for Reproducibility"
   ]
  },
  {
   "cell_type": "code",
   "execution_count": 3,
   "metadata": {
    "button": false,
    "new_sheet": false,
    "run_control": {
     "read_only": false
    }
   },
   "outputs": [],
   "source": [
    "faker = Faker()\n",
    "faker.seed_locale('en_US', 0)"
   ]
  },
  {
   "cell_type": "code",
   "execution_count": 4,
   "metadata": {
    "button": false,
    "new_sheet": false,
    "run_control": {
     "read_only": false
    }
   },
   "outputs": [],
   "source": [
    "SEED = 123\n",
    "random.seed(SEED)\n",
    "np.random.seed(SEED)\n",
    "faker.seed_instance(SEED)"
   ]
  },
  {
   "cell_type": "markdown",
   "metadata": {
    "button": false,
    "new_sheet": false,
    "run_control": {
     "read_only": false
    }
   },
   "source": [
    "#### Constants "
   ]
  },
  {
   "cell_type": "code",
   "execution_count": 5,
   "metadata": {
    "button": false,
    "new_sheet": false,
    "run_control": {
     "read_only": false
    }
   },
   "outputs": [],
   "source": [
    "# Define counts\n",
    "TOTAL_UNIQUE_TRANSACTIONS = 100 * 1000\n",
    "TOTAL_UNIQUE_CREDIT_CARDS = 2000\n",
    "TOTAL_UNIQUE_CONSUMERS = 1000\n",
    "\n",
    "BUCKET = sagemaker.Session().default_bucket()"
   ]
  },
  {
   "cell_type": "markdown",
   "metadata": {
    "button": false,
    "new_sheet": false,
    "run_control": {
     "read_only": false
    }
   },
   "source": [
    "### Generate Transactions"
   ]
  },
  {
   "cell_type": "markdown",
   "metadata": {
    "button": false,
    "new_sheet": false,
    "run_control": {
     "read_only": false
    }
   },
   "source": [
    "#### Generate Unique Credit Card Numbers \n",
    "<p> Credit card numbers are uniquely assigned to users. Since, there are 10K users, we would want to generate 10K unique card numbers.</p>"
   ]
  },
  {
   "cell_type": "code",
   "execution_count": 6,
   "metadata": {
    "button": false,
    "new_sheet": false,
    "run_control": {
     "read_only": false
    }
   },
   "outputs": [],
   "source": [
    "def generate_unique_credit_card_numbers(n: int) -> list:\n",
    "    cc_ids = set()\n",
    "    for _ in range(n):\n",
    "        cc_id = faker.credit_card_number(card_type='visa')\n",
    "        cc_ids.add(cc_id)\n",
    "    return list(cc_ids) "
   ]
  },
  {
   "cell_type": "code",
   "execution_count": 7,
   "metadata": {
    "button": false,
    "new_sheet": false,
    "run_control": {
     "read_only": false
    }
   },
   "outputs": [],
   "source": [
    "credit_card_numbers = generate_unique_credit_card_numbers(TOTAL_UNIQUE_CREDIT_CARDS)"
   ]
  },
  {
   "cell_type": "code",
   "execution_count": 8,
   "metadata": {
    "button": false,
    "new_sheet": false,
    "run_control": {
     "read_only": false
    }
   },
   "outputs": [],
   "source": [
    "assert len(credit_card_numbers) == TOTAL_UNIQUE_CREDIT_CARDS \n",
    "assert len(credit_card_numbers[0]) == 16 # validate if generated number is 16-digit"
   ]
  },
  {
   "cell_type": "code",
   "execution_count": 9,
   "metadata": {
    "button": false,
    "new_sheet": false,
    "run_control": {
     "read_only": false
    }
   },
   "outputs": [
    {
     "data": {
      "text/plain": [
       "['4956661021345975',\n",
       " '4750764047485706',\n",
       " '4057120219501079',\n",
       " '4295021621227182',\n",
       " '4134120990603661']"
      ]
     },
     "execution_count": 9,
     "metadata": {},
     "output_type": "execute_result"
    }
   ],
   "source": [
    "# inspect random sample of credit card numbers \n",
    "random.sample(credit_card_numbers, 5)"
   ]
  },
  {
   "cell_type": "markdown",
   "metadata": {},
   "source": [
    "#### Generate Consumer IDs\n",
    "Since we are training a consumer fraud detection model, we need a set of unique consumer IDs that we can randomly associate with each credit card transaction. The relationship between Consumer IDs to Credit Cards is one-to-many; a single Consumer can be tied to one or more credit instruments."
   ]
  },
  {
   "cell_type": "code",
   "execution_count": 10,
   "metadata": {},
   "outputs": [],
   "source": [
    "# We use Faker's Basic Bank Account Number (bban) module as a proxy for Consumer ID\n",
    "def generate_unique_consumer_ids(n: int) -> list:\n",
    "    id_list = set()\n",
    "    for _ in range(n):\n",
    "        bban_id = faker.unique.bban()\n",
    "        id_list.add(bban_id)\n",
    "    return list(id_list) "
   ]
  },
  {
   "cell_type": "code",
   "execution_count": 11,
   "metadata": {},
   "outputs": [],
   "source": [
    "consumer_ids = generate_unique_consumer_ids(TOTAL_UNIQUE_CONSUMERS)"
   ]
  },
  {
   "cell_type": "code",
   "execution_count": 12,
   "metadata": {},
   "outputs": [],
   "source": [
    "assert len(consumer_ids) == TOTAL_UNIQUE_CONSUMERS"
   ]
  },
  {
   "cell_type": "code",
   "execution_count": 13,
   "metadata": {},
   "outputs": [
    {
     "data": {
      "text/plain": [
       "['ZCRN56886001005293',\n",
       " 'VBLY61361832497125',\n",
       " 'OPEW57074941492054',\n",
       " 'JOFR79281747618483',\n",
       " 'TLOI08540195188595']"
      ]
     },
     "execution_count": 13,
     "metadata": {},
     "output_type": "execute_result"
    }
   ],
   "source": [
    "random.sample(consumer_ids, 5)"
   ]
  },
  {
   "cell_type": "markdown",
   "metadata": {
    "button": false,
    "new_sheet": false,
    "run_control": {
     "read_only": false
    }
   },
   "source": [
    "#### Generate Time Series\n",
    "<p>Generate one hundered thousand (100,000) random timestamps spread across a period of one month (2021-03-01 to 2021-03-31) in sorted order.</p>\n",
    "<b>Note:</b> The timestamps are NOT unique themselves. We can have 2 or more transactions occurring at the same time coming from different users. "
   ]
  },
  {
   "cell_type": "code",
   "execution_count": 14,
   "metadata": {},
   "outputs": [],
   "source": [
    "# Feature Store Group requires ISO-8601 string format: yyyy-MM-dd'T'HH:mm:ssZ\n",
    "# when the EventTime required attribute is type String\n",
    "\n",
    "ISO_8601_DATETIME_FORMAT = '%Y-%m-%dT%H:%M:%SZ'"
   ]
  },
  {
   "cell_type": "code",
   "execution_count": 15,
   "metadata": {
    "button": false,
    "new_sheet": false,
    "run_control": {
     "read_only": false
    }
   },
   "outputs": [],
   "source": [
    "def generate_timestamps(n: int) -> list:\n",
    "    # Use timeframe of one month Mar 2021   \n",
    "    start = datetime.datetime.strptime('2021-03-01T00:00:00Z', ISO_8601_DATETIME_FORMAT)\n",
    "    end = datetime.datetime.strptime('2021-03-31T23:59:59Z', ISO_8601_DATETIME_FORMAT)\n",
    "\n",
    "    timestamps = list()\n",
    "    for _ in range(n):\n",
    "        # We use .isoformat() to convert datetime to ISO-8601 Format, required by Feature Store\n",
    "        iso_timestamp = faker.date_time_between(start_date=start, end_date=end, tzinfo=None).strftime(ISO_8601_DATETIME_FORMAT)\n",
    "        timestamps.append(iso_timestamp)\n",
    "    timestamps = sorted(timestamps)\n",
    "    return timestamps"
   ]
  },
  {
   "cell_type": "code",
   "execution_count": 16,
   "metadata": {
    "button": false,
    "new_sheet": false,
    "run_control": {
     "read_only": false
    }
   },
   "outputs": [],
   "source": [
    "timestamps = generate_timestamps(TOTAL_UNIQUE_TRANSACTIONS)"
   ]
  },
  {
   "cell_type": "code",
   "execution_count": 17,
   "metadata": {
    "button": false,
    "new_sheet": false,
    "run_control": {
     "read_only": false
    }
   },
   "outputs": [],
   "source": [
    "assert len(timestamps) == TOTAL_UNIQUE_TRANSACTIONS"
   ]
  },
  {
   "cell_type": "code",
   "execution_count": 18,
   "metadata": {
    "button": false,
    "new_sheet": false,
    "run_control": {
     "read_only": false
    }
   },
   "outputs": [
    {
     "data": {
      "text/plain": [
       "['2021-03-02T13:13:15Z',\n",
       " '2021-03-16T11:38:49Z',\n",
       " '2021-03-22T19:19:45Z',\n",
       " '2021-03-23T20:43:56Z',\n",
       " '2021-03-14T13:41:00Z']"
      ]
     },
     "execution_count": 18,
     "metadata": {},
     "output_type": "execute_result"
    }
   ],
   "source": [
    "# inspect random sample of timestamps\n",
    "random.sample(timestamps, 5)"
   ]
  },
  {
   "cell_type": "markdown",
   "metadata": {
    "button": false,
    "new_sheet": false,
    "run_control": {
     "read_only": false
    }
   },
   "source": [
    "#### Generate Random Transaction Amounts \n",
    "<p>The transaction amounts are presumed to follow Pareto distribution, as it is logical for consumers to make many more smaller purchases than large ones. The break down of the distribution is shown in the table below.</p>\n",
    "\n",
    "\n",
    "| Percentage        | Range (Amount in $)     |\n",
    "| :-------------: | :----------: |\n",
    "|  5\\% | 0.01 to 1    |\n",
    "| 7.5\\%   | 1 to 10 |\n",
    "| 52.5\\%   | 10 to 100 |\n",
    "| 25\\%   | 100 to 1000 |\n",
    "| 10\\%   | 1000 to 10000 |"
   ]
  },
  {
   "cell_type": "code",
   "execution_count": 19,
   "metadata": {
    "button": false,
    "new_sheet": false,
    "run_control": {
     "read_only": false
    }
   },
   "outputs": [],
   "source": [
    "def get_random_transaction_amount(start: float, end: float) -> float:\n",
    "    amt = round(np.random.uniform(start, end), 2)\n",
    "    return amt"
   ]
  },
  {
   "cell_type": "code",
   "execution_count": 20,
   "metadata": {
    "button": false,
    "new_sheet": false,
    "run_control": {
     "read_only": false
    }
   },
   "outputs": [],
   "source": [
    "distribution_percentages = {0.05: (0.01, 1.01), \n",
    "                            0.075: (1, 11.01),\n",
    "                            0.525: (10, 100.01),\n",
    "                            0.25: (100, 1000.01),\n",
    "                            0.10: (1000, 10000.01)}"
   ]
  },
  {
   "cell_type": "code",
   "execution_count": 21,
   "metadata": {
    "button": false,
    "new_sheet": false,
    "run_control": {
     "read_only": false
    }
   },
   "outputs": [],
   "source": [
    "amounts = []\n",
    "\n",
    "for percentage, span in distribution_percentages.items():\n",
    "    n = int(TOTAL_UNIQUE_TRANSACTIONS * percentage)\n",
    "    start, end = span\n",
    "    for _ in range(n):\n",
    "        amounts.append(get_random_transaction_amount(start, end+1))\n",
    "        \n",
    "random.shuffle(amounts)"
   ]
  },
  {
   "cell_type": "code",
   "execution_count": 22,
   "metadata": {
    "button": false,
    "new_sheet": false,
    "run_control": {
     "read_only": false
    }
   },
   "outputs": [],
   "source": [
    "assert len(amounts) == TOTAL_UNIQUE_TRANSACTIONS"
   ]
  },
  {
   "cell_type": "code",
   "execution_count": 23,
   "metadata": {
    "button": false,
    "new_sheet": false,
    "run_control": {
     "read_only": false
    }
   },
   "outputs": [
    {
     "data": {
      "text/plain": [
       "[6.46, 43.12, 35.43, 89.63, 40.24]"
      ]
     },
     "execution_count": 23,
     "metadata": {},
     "output_type": "execute_result"
    }
   ],
   "source": [
    "# inspect random sample of transaction amounts\n",
    "random.sample(amounts, 5)"
   ]
  },
  {
   "cell_type": "markdown",
   "metadata": {
    "button": false,
    "new_sheet": false,
    "run_control": {
     "read_only": false
    }
   },
   "source": [
    "#### Generate Credit Card Transactions\n",
    "<br>\n",
    "<div style=\"text-align: justify\">\n",
    "Using the random credit card numbers, timestamps and transaction amounts generated in the above steps, \n",
    "we can generate random credit card transactions by combining them. The transaction id for the transaction is the md5\n",
    "hash of the above mentioned entities.\n",
    "</div>"
   ]
  },
  {
   "cell_type": "code",
   "execution_count": 24,
   "metadata": {
    "button": false,
    "new_sheet": false,
    "run_control": {
     "read_only": false
    }
   },
   "outputs": [],
   "source": [
    "def generate_transaction_id(timestamp: str, credit_card_number: str, transaction_amount: float) -> str:\n",
    "    hashable = f'{timestamp}{credit_card_number}{transaction_amount}'\n",
    "    hexdigest = hashlib.md5(hashable.encode('utf-8')).hexdigest()\n",
    "    return hexdigest"
   ]
  },
  {
   "cell_type": "code",
   "execution_count": 25,
   "metadata": {},
   "outputs": [],
   "source": [
    "# Use jitter when assigning consumer_ids\n",
    "\n",
    "def apply_jitter(iterator, increment, max_inc):\n",
    "    iterator = 0\n",
    "    increment += 3\n",
    "    if (increment > max_inc):\n",
    "        increment = 1\n",
    "    return iterator, increment"
   ]
  },
  {
   "cell_type": "code",
   "execution_count": 26,
   "metadata": {
    "button": false,
    "new_sheet": false,
    "run_control": {
     "read_only": false
    }
   },
   "outputs": [],
   "source": [
    "# Create transactions\n",
    "transactions = []\n",
    "\n",
    "MAX_INCREMENT = 99\n",
    "iter = 0\n",
    "incr = 1\n",
    "for timestamp, amount in zip(timestamps, amounts):\n",
    "    consumer_id = consumer_ids[iter % TOTAL_UNIQUE_CONSUMERS]\n",
    "    credit_card_number = random.choice(credit_card_numbers)\n",
    "    transaction_id = generate_transaction_id(timestamp, credit_card_number, amount)\n",
    "    transactions.append({'tid': transaction_id, \n",
    "                         'event_time': timestamp, \n",
    "                         'cc_num': credit_card_number, \n",
    "                         'consumer_id': consumer_id,\n",
    "                         'amount': amount, \n",
    "                         'fraud_label': 0})\n",
    "    iter += incr\n",
    "    if (iter > TOTAL_UNIQUE_CONSUMERS):\n",
    "        iter, incr = apply_jitter(iter, incr, MAX_INCREMENT)\n",
    "        "
   ]
  },
  {
   "cell_type": "code",
   "execution_count": 27,
   "metadata": {
    "button": false,
    "new_sheet": false,
    "run_control": {
     "read_only": false
    }
   },
   "outputs": [],
   "source": [
    "assert len(transactions) == TOTAL_UNIQUE_TRANSACTIONS"
   ]
  },
  {
   "cell_type": "code",
   "execution_count": 28,
   "metadata": {
    "button": false,
    "new_sheet": false,
    "run_control": {
     "read_only": false
    }
   },
   "outputs": [
    {
     "data": {
      "text/plain": [
       "[{'tid': '48ca9eb9128875d7f815aca04727c7fa',\n",
       "  'event_time': '2021-03-21T07:01:57Z',\n",
       "  'cc_num': '4532702060862208',\n",
       "  'consumer_id': 'VNGM63871524814184',\n",
       "  'amount': 4825.38,\n",
       "  'fraud_label': 0},\n",
       " {'tid': 'b0be99afc27afdb3d1de6cb566a33db3',\n",
       "  'event_time': '2021-03-16T14:06:19Z',\n",
       "  'cc_num': '4849092754344749',\n",
       "  'consumer_id': 'KINB63239048235860',\n",
       "  'amount': 7409.58,\n",
       "  'fraud_label': 0},\n",
       " {'tid': '996776cf97fad1a8207136829bcb9337',\n",
       "  'event_time': '2021-03-15T15:35:41Z',\n",
       "  'cc_num': '4995025867432789',\n",
       "  'consumer_id': 'JSOE81361660812329',\n",
       "  'amount': 13.11,\n",
       "  'fraud_label': 0}]"
      ]
     },
     "execution_count": 28,
     "metadata": {},
     "output_type": "execute_result"
    }
   ],
   "source": [
    "# inspect random sample of credit card transactions\n",
    "random.sample(transactions, 3)"
   ]
  },
  {
   "cell_type": "markdown",
   "metadata": {
    "button": false,
    "new_sheet": false,
    "run_control": {
     "read_only": false
    }
   },
   "source": [
    "### Inject Fradulent Transactions\n",
    "<p> A typical fraud chain looks like the one as shown in the image below.</p>\n",
    "<img src=\"./images/fraud_pattern.png\" />"
   ]
  },
  {
   "cell_type": "code",
   "execution_count": 29,
   "metadata": {
    "button": false,
    "new_sheet": false,
    "run_control": {
     "read_only": false
    }
   },
   "outputs": [],
   "source": [
    "FRAUD_RATIO = 0.02 # was 0.0025 # percentage of transactions that are fraudulent\n",
    "NUMBER_OF_FRAUDULENT_TRANSACTIONS = int(FRAUD_RATIO * TOTAL_UNIQUE_TRANSACTIONS)\n",
    "ATTACK_CHAIN_LENGTHS = [3, 4, 5, 6, 7, 8, 9, 10]"
   ]
  },
  {
   "cell_type": "markdown",
   "metadata": {
    "button": false,
    "new_sheet": false,
    "run_control": {
     "read_only": false
    }
   },
   "source": [
    "#### Create Transaction Chains "
   ]
  },
  {
   "cell_type": "code",
   "execution_count": 30,
   "metadata": {
    "button": false,
    "new_sheet": false,
    "run_control": {
     "read_only": false
    }
   },
   "outputs": [],
   "source": [
    "visited = set()\n",
    "chains = defaultdict(list)"
   ]
  },
  {
   "cell_type": "code",
   "execution_count": 31,
   "metadata": {
    "button": false,
    "new_sheet": false,
    "run_control": {
     "read_only": false
    }
   },
   "outputs": [],
   "source": [
    "def size(chains: dict) -> int:\n",
    "    counts = {key: len(values)+1 for (key, values) in chains.items()}\n",
    "    return sum(counts.values())"
   ]
  },
  {
   "cell_type": "code",
   "execution_count": 32,
   "metadata": {
    "button": false,
    "new_sheet": false,
    "run_control": {
     "read_only": false
    }
   },
   "outputs": [],
   "source": [
    "def create_attack_chain(i: int):\n",
    "    chain_length = random.choice(ATTACK_CHAIN_LENGTHS)\n",
    "    for j in range(1, chain_length):\n",
    "        if i+j not in visited:\n",
    "            if size(chains) == NUMBER_OF_FRAUDULENT_TRANSACTIONS:\n",
    "                break\n",
    "            chains[i].append(i+j)\n",
    "            visited.add(i+j)"
   ]
  },
  {
   "cell_type": "code",
   "execution_count": 33,
   "metadata": {
    "button": false,
    "new_sheet": false,
    "run_control": {
     "read_only": false
    }
   },
   "outputs": [],
   "source": [
    "while size(chains) < NUMBER_OF_FRAUDULENT_TRANSACTIONS:\n",
    "    i = random.choice(range(TOTAL_UNIQUE_TRANSACTIONS))\n",
    "    if i not in visited:\n",
    "        create_attack_chain(i)\n",
    "        visited.add(i)"
   ]
  },
  {
   "cell_type": "code",
   "execution_count": 34,
   "metadata": {
    "button": false,
    "new_sheet": false,
    "run_control": {
     "read_only": false
    }
   },
   "outputs": [],
   "source": [
    "assert size(chains) == NUMBER_OF_FRAUDULENT_TRANSACTIONS"
   ]
  },
  {
   "cell_type": "markdown",
   "metadata": {
    "button": false,
    "new_sheet": false,
    "run_control": {
     "read_only": false
    }
   },
   "source": [
    "#### Modify Transactions with Fraud Chain Attacks "
   ]
  },
  {
   "cell_type": "code",
   "execution_count": 35,
   "metadata": {
    "button": false,
    "new_sheet": false,
    "run_control": {
     "read_only": false
    }
   },
   "outputs": [],
   "source": [
    "def generate_timestamps_for_fraud_attacks(timestamp: str, chain_length: int) -> list:\n",
    "    timestamps = []\n",
    "    timestamp = datetime.datetime.strptime(timestamp, ISO_8601_DATETIME_FORMAT)\n",
    "    for _ in range(chain_length):\n",
    "        # interval in seconds between fraudulent attacks\n",
    "        delta = random.randint(30, 120)\n",
    "        current = timestamp + datetime.timedelta(seconds=delta)\n",
    "        timestamps.append(current.strftime(ISO_8601_DATETIME_FORMAT))\n",
    "        timestamp = current\n",
    "    return timestamps "
   ]
  },
  {
   "cell_type": "code",
   "execution_count": 36,
   "metadata": {
    "button": false,
    "new_sheet": false,
    "run_control": {
     "read_only": false
    }
   },
   "outputs": [],
   "source": [
    "def generate_amounts_for_fraud_attacks(chain_length: int) -> list:\n",
    "    amounts = []\n",
    "    for percentage, span in distribution_percentages.items():\n",
    "        n = math.ceil(chain_length * percentage)\n",
    "        start, end = span\n",
    "        for _ in range(n):\n",
    "            amounts.append(get_random_transaction_amount(start, end+1))\n",
    "    return amounts[:chain_length]"
   ]
  },
  {
   "cell_type": "code",
   "execution_count": 37,
   "metadata": {
    "button": false,
    "new_sheet": false,
    "run_control": {
     "read_only": false
    }
   },
   "outputs": [],
   "source": [
    "for key, chain in chains.items():\n",
    "    transaction = transactions[key]\n",
    "    timestamp = transaction['event_time']\n",
    "    consumer_id = transaction['consumer_id']\n",
    "    cc_num = transaction['cc_num']\n",
    "    amount = transaction['amount']\n",
    "    transaction['fraud_label'] = 1\n",
    "    inject_timestamps = generate_timestamps_for_fraud_attacks(timestamp, len(chain))\n",
    "    inject_amounts = generate_amounts_for_fraud_attacks(len(chain))\n",
    "    random.shuffle(inject_amounts)\n",
    "    for i, idx in enumerate(chain):\n",
    "            original_transaction = transactions[idx]\n",
    "            inject_timestamp = inject_timestamps[i]\n",
    "            original_transaction['event_time'] = inject_timestamp\n",
    "            original_transaction['fraud_label'] = 1\n",
    "            original_transaction['cc_num'] = cc_num\n",
    "            original_transaction['consumer_id'] = consumer_id\n",
    "            original_transaction['amount'] = inject_amounts[i]\n",
    "            original_transaction['tid'] = generate_transaction_id(inject_timestamp, cc_num, amount)\n",
    "            transactions[idx] = original_transaction"
   ]
  },
  {
   "cell_type": "markdown",
   "metadata": {
    "button": false,
    "new_sheet": false,
    "run_control": {
     "read_only": false
    }
   },
   "source": [
    "#### Transform Transactions to Pandas DataFrame"
   ]
  },
  {
   "cell_type": "code",
   "execution_count": 38,
   "metadata": {
    "button": false,
    "new_sheet": false,
    "run_control": {
     "read_only": false
    }
   },
   "outputs": [],
   "source": [
    "transactions_df = pd.DataFrame(transactions)"
   ]
  },
  {
   "cell_type": "code",
   "execution_count": 39,
   "metadata": {
    "button": false,
    "new_sheet": false,
    "run_control": {
     "read_only": false
    }
   },
   "outputs": [
    {
     "data": {
      "text/html": [
       "<div>\n",
       "<style scoped>\n",
       "    .dataframe tbody tr th:only-of-type {\n",
       "        vertical-align: middle;\n",
       "    }\n",
       "\n",
       "    .dataframe tbody tr th {\n",
       "        vertical-align: top;\n",
       "    }\n",
       "\n",
       "    .dataframe thead th {\n",
       "        text-align: right;\n",
       "    }\n",
       "</style>\n",
       "<table border=\"1\" class=\"dataframe\">\n",
       "  <thead>\n",
       "    <tr style=\"text-align: right;\">\n",
       "      <th></th>\n",
       "      <th>tid</th>\n",
       "      <th>event_time</th>\n",
       "      <th>cc_num</th>\n",
       "      <th>consumer_id</th>\n",
       "      <th>amount</th>\n",
       "      <th>fraud_label</th>\n",
       "    </tr>\n",
       "  </thead>\n",
       "  <tbody>\n",
       "    <tr>\n",
       "      <th>502</th>\n",
       "      <td>79edd618e084b87327fff6f776000c80</td>\n",
       "      <td>2021-03-01T03:56:49Z</td>\n",
       "      <td>4861936807957845</td>\n",
       "      <td>RDUX88890356530086</td>\n",
       "      <td>56.65</td>\n",
       "      <td>1</td>\n",
       "    </tr>\n",
       "    <tr>\n",
       "      <th>503</th>\n",
       "      <td>fca760f10fac7d69f176f46141684f33</td>\n",
       "      <td>2021-03-01T03:58:24Z</td>\n",
       "      <td>4861936807957845</td>\n",
       "      <td>RDUX88890356530086</td>\n",
       "      <td>8.36</td>\n",
       "      <td>1</td>\n",
       "    </tr>\n",
       "    <tr>\n",
       "      <th>504</th>\n",
       "      <td>98c5195e6bd9025993082f76abff3fd0</td>\n",
       "      <td>2021-03-01T03:59:17Z</td>\n",
       "      <td>4861936807957845</td>\n",
       "      <td>RDUX88890356530086</td>\n",
       "      <td>1.49</td>\n",
       "      <td>1</td>\n",
       "    </tr>\n",
       "    <tr>\n",
       "      <th>591</th>\n",
       "      <td>96211ab09ce5148d9a11aafb0c77c8aa</td>\n",
       "      <td>2021-03-01T04:40:54Z</td>\n",
       "      <td>4626452901098169</td>\n",
       "      <td>UUEZ89591751278982</td>\n",
       "      <td>74.98</td>\n",
       "      <td>1</td>\n",
       "    </tr>\n",
       "    <tr>\n",
       "      <th>592</th>\n",
       "      <td>3f3d1de725805126afb4e80e285b7265</td>\n",
       "      <td>2021-03-01T04:41:35Z</td>\n",
       "      <td>4626452901098169</td>\n",
       "      <td>UUEZ89591751278982</td>\n",
       "      <td>0.44</td>\n",
       "      <td>1</td>\n",
       "    </tr>\n",
       "  </tbody>\n",
       "</table>\n",
       "</div>"
      ],
      "text/plain": [
       "                                  tid            event_time            cc_num  \\\n",
       "502  79edd618e084b87327fff6f776000c80  2021-03-01T03:56:49Z  4861936807957845   \n",
       "503  fca760f10fac7d69f176f46141684f33  2021-03-01T03:58:24Z  4861936807957845   \n",
       "504  98c5195e6bd9025993082f76abff3fd0  2021-03-01T03:59:17Z  4861936807957845   \n",
       "591  96211ab09ce5148d9a11aafb0c77c8aa  2021-03-01T04:40:54Z  4626452901098169   \n",
       "592  3f3d1de725805126afb4e80e285b7265  2021-03-01T04:41:35Z  4626452901098169   \n",
       "\n",
       "            consumer_id  amount  fraud_label  \n",
       "502  RDUX88890356530086   56.65            1  \n",
       "503  RDUX88890356530086    8.36            1  \n",
       "504  RDUX88890356530086    1.49            1  \n",
       "591  UUEZ89591751278982   74.98            1  \n",
       "592  UUEZ89591751278982    0.44            1  "
      ]
     },
     "execution_count": 39,
     "metadata": {},
     "output_type": "execute_result"
    }
   ],
   "source": [
    "fraud_transactions = transactions_df[transactions_df.fraud_label.eq(1)]\n",
    "fraud_transactions.head()"
   ]
  },
  {
   "cell_type": "code",
   "execution_count": 40,
   "metadata": {
    "button": false,
    "new_sheet": false,
    "run_control": {
     "read_only": false
    }
   },
   "outputs": [],
   "source": [
    "assert fraud_transactions.count()[0] == NUMBER_OF_FRAUDULENT_TRANSACTIONS"
   ]
  },
  {
   "cell_type": "markdown",
   "metadata": {
    "button": false,
    "new_sheet": false,
    "run_control": {
     "read_only": false
    }
   },
   "source": [
    "### Save Generated Data\n",
    "<p> The generated raw transactions data will be used by the next step = SageMaker PySpark Processing Job to do aggregations on the raw data columns and derive new features which are useful for model training in the later steps.\n",
    "The generated data is saved locally and then copied to S3 bucket.</p>"
   ]
  },
  {
   "cell_type": "markdown",
   "metadata": {
    "button": false,
    "new_sheet": false,
    "run_control": {
     "read_only": false
    }
   },
   "source": [
    "#### Save Transactions Data to Local Folder ./data and upload to S3"
   ]
  },
  {
   "cell_type": "code",
   "execution_count": 41,
   "metadata": {
    "button": false,
    "new_sheet": false,
    "run_control": {
     "read_only": false
    }
   },
   "outputs": [],
   "source": [
    "data_dir = os.path.join(os.getcwd(), 'data/raw')\n",
    "os.makedirs(data_dir, exist_ok=True)\n",
    "\n",
    "transactions_df.to_csv(f'{data_dir}/transactions.csv', index=False)"
   ]
  },
  {
   "cell_type": "code",
   "execution_count": 42,
   "metadata": {},
   "outputs": [
    {
     "name": "stdout",
     "output_type": "stream",
     "text": [
      "sagemaker-featurestore-blog/raw\n"
     ]
    }
   ],
   "source": [
    "BASE_PREFIX = \"sagemaker-featurestore-blog\"\n",
    "\n",
    "INPUT_KEY_PREFIX = os.path.join(BASE_PREFIX, 'raw')\n",
    "print (INPUT_KEY_PREFIX)"
   ]
  },
  {
   "cell_type": "code",
   "execution_count": 43,
   "metadata": {
    "button": false,
    "new_sheet": false,
    "run_control": {
     "read_only": false
    }
   },
   "outputs": [],
   "source": [
    "transactions_df.to_csv(f's3://{BUCKET}/{INPUT_KEY_PREFIX}/transactions.csv', index=False)"
   ]
  },
  {
   "cell_type": "code",
   "execution_count": null,
   "metadata": {},
   "outputs": [],
   "source": []
  }
 ],
 "metadata": {
  "kernelspec": {
   "display_name": "conda_python3",
   "language": "python",
   "name": "conda_python3"
  },
  "language_info": {
   "codemirror_mode": {
    "name": "ipython",
    "version": 3
   },
   "file_extension": ".py",
   "mimetype": "text/x-python",
   "name": "python",
   "nbconvert_exporter": "python",
   "pygments_lexer": "ipython3",
   "version": "3.6.13"
  }
 },
 "nbformat": 4,
 "nbformat_minor": 4
}
