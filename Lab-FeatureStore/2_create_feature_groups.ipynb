{
 "cells": [
  {
   "cell_type": "markdown",
   "metadata": {},
   "source": [
    "### SageMaker Feature Store Notebook showing use of Point-in-Time Queries"
   ]
  },
  {
   "cell_type": "markdown",
   "metadata": {},
   "source": [
    "This notebook is part of an AWS blog, written in collaboration with GoDaddy.com, that shows how to use \"Point-in-Time\" queries by leveraging SageMaker Feature Store. The blog walks through a fraud detection use case where we ingest transaction data. \n",
    "\n",
    "This particular notebook (#2) is used to create two feature groups, one for consumer transaction data and one for credit card transaction data. These two feature groups are created according to the schema files, which are stored in the `schema` sub-directory. This schema is aligned with previous notebook, `1_generate_creditcard_transactions.ipynb` , which generated raw transaction data for the fraud detection use case."
   ]
  },
  {
   "cell_type": "code",
   "execution_count": null,
   "metadata": {},
   "outputs": [],
   "source": [
    "from sagemaker import get_execution_role\n",
    "import sagemaker\n",
    "import boto3\n",
    "import time\n",
    "import json\n",
    "import sys\n",
    "\n",
    "role = get_execution_role()\n",
    "sm_client = boto3.Session().client(service_name='sagemaker')\n",
    "smfs_runtime = boto3.Session().client(service_name='sagemaker-featurestore-runtime')"
   ]
  },
  {
   "cell_type": "markdown",
   "metadata": {},
   "source": [
    "#### Start by Deleting Feature Groups that we will re-create"
   ]
  },
  {
   "cell_type": "code",
   "execution_count": null,
   "metadata": {},
   "outputs": [],
   "source": [
    "# Use SageMaker default bucket\n",
    "BUCKET = sagemaker.Session().default_bucket()\n",
    "BASE_PREFIX = \"sagemaker-featurestore-blog\"\n",
    "\n",
    "# Note that FeatureStore will append this pattern to base prefix -> \"{account_id}/sagemaker/{region}/offline-store/\"\n",
    "OFFLINE_STORE_BASE_URI = f's3://{BUCKET}/{BASE_PREFIX}'\n",
    "\n",
    "print(OFFLINE_STORE_BASE_URI)\n",
    "\n",
    "CONS_FEATURE_GROUP = \"consumer-fg\"\n",
    "CARD_FEATURE_GROUP = \"credit-card-fg\""
   ]
  },
  {
   "cell_type": "code",
   "execution_count": null,
   "metadata": {},
   "outputs": [],
   "source": [
    "# Delete feature groups (in case the name already exists)\n",
    "\n",
    "try:\n",
    "    sm_client.delete_feature_group(FeatureGroupName=CARD_FEATURE_GROUP) \n",
    "    print('deleted feature group: ' + CARD_FEATURE_GROUP)\n",
    "except:\n",
    "    print('Could not delete feature group, it may not exist')\n",
    "    \n",
    "try:\n",
    "    sm_client.delete_feature_group(FeatureGroupName=CONS_FEATURE_GROUP) \n",
    "    print('deleted feature group: ' + CONS_FEATURE_GROUP)\n",
    "except:\n",
    "    print('Could not delete feature group, it may not exist')\n",
    "    "
   ]
  },
  {
   "cell_type": "markdown",
   "metadata": {},
   "source": [
    "#### Recreate the Feature Groups using Schema definition files\n",
    "Each feature group contains configuration parameters for Offline and Online stores. The feature group uses a schema definition file (JSON) that dictates the feature names and types. Below we display these local schema files."
   ]
  },
  {
   "cell_type": "markdown",
   "metadata": {},
   "source": [
    "#### Schema files on in the local 'schema' folder"
   ]
  },
  {
   "cell_type": "code",
   "execution_count": null,
   "metadata": {},
   "outputs": [],
   "source": [
    "!pygmentize schema/consumer-fg-schema.json"
   ]
  },
  {
   "cell_type": "code",
   "execution_count": null,
   "metadata": {},
   "outputs": [],
   "source": [
    "!pygmentize schema/credit-card-fg-schema.json"
   ]
  },
  {
   "cell_type": "code",
   "execution_count": null,
   "metadata": {},
   "outputs": [],
   "source": [
    "def create_feature_group_from_schema(filename, fg_name, role_arn=None, s3_uri=None):\n",
    "    schema = json.loads(open(filename).read())\n",
    "    \n",
    "    feature_defs = []\n",
    "    \n",
    "    for col in schema['features']:\n",
    "        feature = {'FeatureName': col['name']}\n",
    "        if col['type'] == 'double':\n",
    "            feature['FeatureType'] = 'Fractional'\n",
    "        elif col['type'] == 'bigint':\n",
    "            feature['FeatureType'] = 'Integral'\n",
    "        else:\n",
    "            feature['FeatureType'] = 'String'\n",
    "        feature_defs.append(feature)\n",
    "\n",
    "    record_identifier_name = schema['record_identifier_feature_name']\n",
    "    event_time_name = schema['event_time_feature_name']\n",
    "\n",
    "    if role_arn is None:\n",
    "        role_arn = get_execution_role()\n",
    "\n",
    "    if s3_uri is None:\n",
    "        offline_config = {}\n",
    "    else:\n",
    "        print(f'Creating Offline Store at: {s3_uri}')\n",
    "        offline_config = {'OfflineStoreConfig': {'S3StorageConfig': {'S3Uri': s3_uri}}}\n",
    "        \n",
    "    sm_client.create_feature_group(\n",
    "        FeatureGroupName = fg_name,\n",
    "        RecordIdentifierFeatureName = record_identifier_name,\n",
    "        EventTimeFeatureName = event_time_name,\n",
    "        FeatureDefinitions = feature_defs,\n",
    "        Description = schema['description'],\n",
    "        Tags = schema['tags'],\n",
    "        OnlineStoreConfig = {'EnableOnlineStore': True},\n",
    "        RoleArn = role_arn,\n",
    "        **offline_config)"
   ]
  },
  {
   "cell_type": "markdown",
   "metadata": {},
   "source": [
    "#### Create the new Feature Groups using the schema definition \n",
    "Now we will create the feature group as defined by the schema file. Since Feature Group creation can sometimes take a few minutes, we will wait below for status to change from `Creating`."
   ]
  },
  {
   "cell_type": "code",
   "execution_count": null,
   "metadata": {},
   "outputs": [],
   "source": [
    "create_feature_group_from_schema('schema/consumer-fg-schema.json', CONS_FEATURE_GROUP, \n",
    "                                 role_arn=role, s3_uri=OFFLINE_STORE_BASE_URI)"
   ]
  },
  {
   "cell_type": "code",
   "execution_count": null,
   "metadata": {},
   "outputs": [],
   "source": [
    "create_feature_group_from_schema('schema/credit-card-fg-schema.json', CARD_FEATURE_GROUP, \n",
    "                                 role_arn=role, s3_uri=OFFLINE_STORE_BASE_URI)"
   ]
  },
  {
   "cell_type": "code",
   "execution_count": null,
   "metadata": {},
   "outputs": [],
   "source": [
    "# Wait for status to change to 'Created'\n",
    "\n",
    "def wait_for_feature_group_creation_complete(feature_group_name):\n",
    "    response = sm_client.describe_feature_group(FeatureGroupName=feature_group_name)\n",
    "    status = response['FeatureGroupStatus']\n",
    "    while status == \"Creating\":\n",
    "        print(\"Waiting for Feature Group Creation\")\n",
    "        time.sleep(5)\n",
    "        response = sm_client.describe_feature_group(FeatureGroupName=feature_group_name)\n",
    "        status = response['FeatureGroupStatus']\n",
    "    if status != \"Created\":\n",
    "        raise RuntimeError(f\"Failed to create feature group {feature_group_name}\")\n",
    "    print(f\"FeatureGroup {feature_group_name} successfully created.\")\n",
    "\n",
    "wait_for_feature_group_creation_complete(feature_group_name=CONS_FEATURE_GROUP)\n",
    "wait_for_feature_group_creation_complete(feature_group_name=CARD_FEATURE_GROUP)"
   ]
  },
  {
   "cell_type": "markdown",
   "metadata": {},
   "source": [
    "#### Make sure the new Feature Groups exist"
   ]
  },
  {
   "cell_type": "code",
   "execution_count": null,
   "metadata": {},
   "outputs": [],
   "source": [
    "sm_client.list_feature_groups()"
   ]
  },
  {
   "cell_type": "markdown",
   "metadata": {},
   "source": [
    "#### Describe configuration of feature group\n",
    "Note that each feature group gets its own ARN, allowing you to manage IAM policies that control access to individual feature groups. The feature names and types are displayed, and the required record identifier and event time features are called out specifically. Notice that when we created the Feature Group above, we passed in the `s3_uri` parameter. This parameter dictates the base S3 location where the Offline Store data is written, and can be retrieved from the `describe_feature_group` output within the `OfflineStoreConfig` dictionary. "
   ]
  },
  {
   "cell_type": "code",
   "execution_count": null,
   "metadata": {},
   "outputs": [],
   "source": [
    "sm_client.describe_feature_group(FeatureGroupName=CONS_FEATURE_GROUP)"
   ]
  },
  {
   "cell_type": "code",
   "execution_count": null,
   "metadata": {},
   "outputs": [],
   "source": [
    "sm_client.describe_feature_group(FeatureGroupName=CARD_FEATURE_GROUP)"
   ]
  },
  {
   "cell_type": "code",
   "execution_count": null,
   "metadata": {
    "button": false,
    "new_sheet": false,
    "run_control": {
     "read_only": false
    }
   },
   "outputs": [],
   "source": []
  }
 ],
 "metadata": {
  "kernelspec": {
   "display_name": "conda_python3",
   "language": "python",
   "name": "conda_python3"
  },
  "language_info": {
   "codemirror_mode": {
    "name": "ipython",
    "version": 3
   },
   "file_extension": ".py",
   "mimetype": "text/x-python",
   "name": "python",
   "nbconvert_exporter": "python",
   "pygments_lexer": "ipython3",
   "version": "3.6.13"
  }
 },
 "nbformat": 4,
 "nbformat_minor": 4
}
