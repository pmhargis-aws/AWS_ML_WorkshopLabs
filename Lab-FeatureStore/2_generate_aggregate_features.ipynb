{
 "cells": [
  {
   "cell_type": "markdown",
   "metadata": {},
   "source": [
    "### SageMaker Feature Store Notebook showing use of Time Travel"
   ]
  },
  {
   "cell_type": "markdown",
   "metadata": {},
   "source": [
    "This notebook is part of an AWS blog that shows how to use \"Time Travel\" by leveraging SageMaker Feature Store. This particular notebook (#2) is used to generate aggregate data attributes (i.e. averages and sums) from the raw transaction data generated in previous notebook (#1). "
   ]
  },
  {
   "cell_type": "code",
   "execution_count": 1,
   "metadata": {},
   "outputs": [],
   "source": [
    "from sagemaker import get_execution_role\n",
    "import sagemaker\n",
    "import boto3\n",
    "import time\n",
    "import json\n",
    "import sys\n",
    "\n",
    "role = get_execution_role()\n",
    "sm_client = boto3.Session().client(service_name='sagemaker')\n",
    "smfs_runtime = boto3.Session().client(service_name='sagemaker-featurestore-runtime')"
   ]
  },
  {
   "cell_type": "markdown",
   "metadata": {},
   "source": [
    "#### Start by Deleting Feature Groups that we will re-create"
   ]
  },
  {
   "cell_type": "code",
   "execution_count": 2,
   "metadata": {},
   "outputs": [
    {
     "name": "stdout",
     "output_type": "stream",
     "text": [
      "s3://sagemaker-us-east-1-572539092864/sagemaker-featurestore-blog\n"
     ]
    }
   ],
   "source": [
    "# Use SageMaker default bucket\n",
    "BUCKET = sagemaker.Session().default_bucket()\n",
    "BASE_PREFIX = \"sagemaker-featurestore-blog\"\n",
    "\n",
    "# Note that FeatureStore will append this pattern to base prefix -> \"{account_id}/sagemaker/{region}/offline-store/\"\n",
    "OFFLINE_STORE_BASE_URI = f's3://{BUCKET}/{BASE_PREFIX}'\n",
    "\n",
    "print(OFFLINE_STORE_BASE_URI)\n",
    "\n",
    "CONS_FEATURE_GROUP = \"consumer-fg\"\n",
    "CARD_FEATURE_GROUP = \"credit-card-fg\""
   ]
  },
  {
   "cell_type": "code",
   "execution_count": 3,
   "metadata": {},
   "outputs": [
    {
     "name": "stdout",
     "output_type": "stream",
     "text": [
      "deleted feature group: credit-card-fg\n",
      "deleted feature group: consumer-fg\n"
     ]
    }
   ],
   "source": [
    "# Delete feature groups (in case the name already exists)\n",
    "\n",
    "try:\n",
    "    sm_client.delete_feature_group(FeatureGroupName=CARD_FEATURE_GROUP) \n",
    "    print('deleted feature group: ' + CARD_FEATURE_GROUP)\n",
    "except:\n",
    "    print('Could not delete feature group, it may not exist')\n",
    "    \n",
    "try:\n",
    "    sm_client.delete_feature_group(FeatureGroupName=CONS_FEATURE_GROUP) \n",
    "    print('deleted feature group: ' + CONS_FEATURE_GROUP)\n",
    "except:\n",
    "    print('Could not delete feature group, it may not exist')\n",
    "    "
   ]
  },
  {
   "cell_type": "markdown",
   "metadata": {},
   "source": [
    "#### Recreate the Feature Groups using Schema definition files\n",
    "Each feature group contains configuration parameters for Offline and Online stores. The feature group uses a schema definition file (JSON) that dictates the feature names and types. Below we display these local schema files."
   ]
  },
  {
   "cell_type": "markdown",
   "metadata": {},
   "source": [
    "#### Schema files on in the local 'schema' folder"
   ]
  },
  {
   "cell_type": "code",
   "execution_count": 4,
   "metadata": {},
   "outputs": [
    {
     "name": "stdout",
     "output_type": "stream",
     "text": [
      "{\r\n",
      "    \u001b[94m\"description\"\u001b[39;49;00m: \u001b[33m\"Consumer features\"\u001b[39;49;00m,\r\n",
      "    \u001b[94m\"features\"\u001b[39;49;00m: [\r\n",
      "          {\r\n",
      "              \u001b[94m\"name\"\u001b[39;49;00m: \u001b[33m\"consumer_id\"\u001b[39;49;00m,\r\n",
      "              \u001b[94m\"type\"\u001b[39;49;00m: \u001b[33m\"string\"\u001b[39;49;00m,\r\n",
      "              \u001b[94m\"description\"\u001b[39;49;00m: \u001b[33m\"Consumer ID built from BBAN proxy (Unique)\"\u001b[39;49;00m\r\n",
      "          },\r\n",
      "          {\r\n",
      "              \u001b[94m\"name\"\u001b[39;49;00m: \u001b[33m\"num_trans_last_7d\"\u001b[39;49;00m,\r\n",
      "              \u001b[94m\"type\"\u001b[39;49;00m: \u001b[33m\"bigint\"\u001b[39;49;00m,\r\n",
      "              \u001b[94m\"description\"\u001b[39;49;00m: \u001b[33m\"Aggregated Metric: Average number of transactions for the consumer aggregated by past 7 days\"\u001b[39;49;00m\r\n",
      "          },\r\n",
      "          {\r\n",
      "              \u001b[94m\"name\"\u001b[39;49;00m: \u001b[33m\"avg_amt_last_7d\"\u001b[39;49;00m,\r\n",
      "              \u001b[94m\"type\"\u001b[39;49;00m: \u001b[33m\"double\"\u001b[39;49;00m,\r\n",
      "              \u001b[94m\"description\"\u001b[39;49;00m: \u001b[33m\"Aggregated Metric: Average transaction amount for the consumer aggregated by past 7 days\"\u001b[39;49;00m\r\n",
      "          },\r\n",
      "          {\r\n",
      "              \u001b[94m\"name\"\u001b[39;49;00m: \u001b[33m\"num_trans_last_1d\"\u001b[39;49;00m,\r\n",
      "              \u001b[94m\"type\"\u001b[39;49;00m: \u001b[33m\"bigint\"\u001b[39;49;00m,\r\n",
      "              \u001b[94m\"description\"\u001b[39;49;00m: \u001b[33m\"Aggregated Metric: Average number of transactions for the consumer aggregated by past 1 day\"\u001b[39;49;00m\r\n",
      "          },\r\n",
      "          {\r\n",
      "              \u001b[94m\"name\"\u001b[39;49;00m: \u001b[33m\"avg_amt_last_1d\"\u001b[39;49;00m,\r\n",
      "              \u001b[94m\"type\"\u001b[39;49;00m: \u001b[33m\"double\"\u001b[39;49;00m,\r\n",
      "              \u001b[94m\"description\"\u001b[39;49;00m: \u001b[33m\"Aggregated Metric: Average transaction amount for the consumer aggregated by past 1 day\"\u001b[39;49;00m\r\n",
      "          },\r\n",
      "          {\r\n",
      "              \u001b[94m\"name\"\u001b[39;49;00m: \u001b[33m\"event_time\"\u001b[39;49;00m,\r\n",
      "              \u001b[94m\"type\"\u001b[39;49;00m: \u001b[33m\"string\"\u001b[39;49;00m,\r\n",
      "              \u001b[94m\"description\"\u001b[39;49;00m: \u001b[33m\"Externally generated event timestamp (String in ISO-8601 format)\"\u001b[39;49;00m\r\n",
      "          }\r\n",
      "      ],\r\n",
      "    \r\n",
      "      \u001b[94m\"record_identifier_feature_name\"\u001b[39;49;00m: \u001b[33m\"consumer_id\"\u001b[39;49;00m,\r\n",
      "      \u001b[94m\"event_time_feature_name\"\u001b[39;49;00m: \u001b[33m\"event_time\"\u001b[39;49;00m,\r\n",
      "      \u001b[94m\"tags\"\u001b[39;49;00m: [{\u001b[94m\"Key\"\u001b[39;49;00m: \u001b[33m\"Environment\"\u001b[39;49;00m, \u001b[94m\"Value\"\u001b[39;49;00m : \u001b[33m\"DEV\"\u001b[39;49;00m}, \r\n",
      "               {\u001b[94m\"Key\"\u001b[39;49;00m: \u001b[33m\"IngestionType\"\u001b[39;49;00m, \u001b[94m\"Value\"\u001b[39;49;00m: \u001b[33m\"Batch\"\u001b[39;49;00m},\r\n",
      "               {\u001b[94m\"Key\"\u001b[39;49;00m: \u001b[33m\"CostCenter\"\u001b[39;49;00m, \u001b[94m\"Value\"\u001b[39;49;00m: \u001b[33m\"C18\"\u001b[39;49;00m}]\r\n",
      "}\r\n"
     ]
    }
   ],
   "source": [
    "!pygmentize schema/consumer-fg-schema.json"
   ]
  },
  {
   "cell_type": "code",
   "execution_count": 5,
   "metadata": {},
   "outputs": [
    {
     "name": "stdout",
     "output_type": "stream",
     "text": [
      "{\r\n",
      "    \u001b[94m\"description\"\u001b[39;49;00m: \u001b[33m\"Credit card features\"\u001b[39;49;00m,\r\n",
      "    \u001b[94m\"features\"\u001b[39;49;00m: [\r\n",
      "          {\r\n",
      "              \u001b[94m\"name\"\u001b[39;49;00m: \u001b[33m\"cc_num\"\u001b[39;49;00m,\r\n",
      "              \u001b[94m\"type\"\u001b[39;49;00m: \u001b[33m\"bigint\"\u001b[39;49;00m,\r\n",
      "              \u001b[94m\"description\"\u001b[39;49;00m: \u001b[33m\"Credit Card Number (Unique)\"\u001b[39;49;00m\r\n",
      "          },\r\n",
      "          {\r\n",
      "              \u001b[94m\"name\"\u001b[39;49;00m: \u001b[33m\"num_trans_last_7d\"\u001b[39;49;00m,\r\n",
      "              \u001b[94m\"type\"\u001b[39;49;00m: \u001b[33m\"bigint\"\u001b[39;49;00m,\r\n",
      "              \u001b[94m\"description\"\u001b[39;49;00m: \u001b[33m\"Aggregated Metric: Average number of transactions for the card aggregated by past 7 days\"\u001b[39;49;00m\r\n",
      "          },\r\n",
      "          {\r\n",
      "              \u001b[94m\"name\"\u001b[39;49;00m: \u001b[33m\"avg_amt_last_7d\"\u001b[39;49;00m,\r\n",
      "              \u001b[94m\"type\"\u001b[39;49;00m: \u001b[33m\"double\"\u001b[39;49;00m,\r\n",
      "              \u001b[94m\"description\"\u001b[39;49;00m: \u001b[33m\"Aggregated Metric: Average transaction amount for the card aggregated by past 7 days\"\u001b[39;49;00m\r\n",
      "          },\r\n",
      "          {\r\n",
      "              \u001b[94m\"name\"\u001b[39;49;00m: \u001b[33m\"num_trans_last_1d\"\u001b[39;49;00m,\r\n",
      "              \u001b[94m\"type\"\u001b[39;49;00m: \u001b[33m\"bigint\"\u001b[39;49;00m,\r\n",
      "              \u001b[94m\"description\"\u001b[39;49;00m: \u001b[33m\"Aggregated Metric: Average number of transactions for the card aggregated by past 7 days\"\u001b[39;49;00m\r\n",
      "          },\r\n",
      "          {\r\n",
      "              \u001b[94m\"name\"\u001b[39;49;00m: \u001b[33m\"avg_amt_last_1d\"\u001b[39;49;00m,\r\n",
      "              \u001b[94m\"type\"\u001b[39;49;00m: \u001b[33m\"double\"\u001b[39;49;00m,\r\n",
      "              \u001b[94m\"description\"\u001b[39;49;00m: \u001b[33m\"Aggregated Metric: Average transaction amount for the card aggregated by past 7 days\"\u001b[39;49;00m\r\n",
      "          },\r\n",
      "          {\r\n",
      "              \u001b[94m\"name\"\u001b[39;49;00m: \u001b[33m\"event_time\"\u001b[39;49;00m,\r\n",
      "              \u001b[94m\"type\"\u001b[39;49;00m: \u001b[33m\"string\"\u001b[39;49;00m,\r\n",
      "              \u001b[94m\"description\"\u001b[39;49;00m: \u001b[33m\"Externally generated event timestamp (String in ISO-8601 format)\"\u001b[39;49;00m\r\n",
      "          }\r\n",
      "      ],\r\n",
      "    \r\n",
      "      \u001b[94m\"record_identifier_feature_name\"\u001b[39;49;00m: \u001b[33m\"cc_num\"\u001b[39;49;00m,\r\n",
      "      \u001b[94m\"event_time_feature_name\"\u001b[39;49;00m: \u001b[33m\"event_time\"\u001b[39;49;00m,\r\n",
      "      \u001b[94m\"tags\"\u001b[39;49;00m: [{\u001b[94m\"Key\"\u001b[39;49;00m: \u001b[33m\"Environment\"\u001b[39;49;00m, \u001b[94m\"Value\"\u001b[39;49;00m : \u001b[33m\"DEV\"\u001b[39;49;00m}, \r\n",
      "               {\u001b[94m\"Key\"\u001b[39;49;00m: \u001b[33m\"IngestionType\"\u001b[39;49;00m, \u001b[94m\"Value\"\u001b[39;49;00m: \u001b[33m\"Batch\"\u001b[39;49;00m},\r\n",
      "               {\u001b[94m\"Key\"\u001b[39;49;00m: \u001b[33m\"CostCenter\"\u001b[39;49;00m, \u001b[94m\"Value\"\u001b[39;49;00m: \u001b[33m\"C18\"\u001b[39;49;00m}]\r\n",
      "}\r\n"
     ]
    }
   ],
   "source": [
    "!pygmentize schema/credit-card-fg-schema.json"
   ]
  },
  {
   "cell_type": "code",
   "execution_count": 6,
   "metadata": {},
   "outputs": [],
   "source": [
    "def create_feature_group_from_schema(filename, fg_name, role_arn=None, s3_uri=None):\n",
    "    schema = json.loads(open(filename).read())\n",
    "    \n",
    "    feature_defs = []\n",
    "    \n",
    "    for col in schema['features']:\n",
    "        feature = {'FeatureName': col['name']}\n",
    "        if col['type'] == 'double':\n",
    "            feature['FeatureType'] = 'Fractional'\n",
    "        elif col['type'] == 'bigint':\n",
    "            feature['FeatureType'] = 'Integral'\n",
    "        else:\n",
    "            feature['FeatureType'] = 'String'\n",
    "        feature_defs.append(feature)\n",
    "\n",
    "    record_identifier_name = schema['record_identifier_feature_name']\n",
    "    event_time_name = schema['event_time_feature_name']\n",
    "\n",
    "    if role_arn is None:\n",
    "        role_arn = get_execution_role()\n",
    "\n",
    "    if s3_uri is None:\n",
    "        offline_config = {}\n",
    "    else:\n",
    "        print(f'Creating Offline Store at: {s3_uri}')\n",
    "        offline_config = {'OfflineStoreConfig': {'S3StorageConfig': {'S3Uri': s3_uri}}}\n",
    "        \n",
    "    sm_client.create_feature_group(\n",
    "        FeatureGroupName = fg_name,\n",
    "        RecordIdentifierFeatureName = record_identifier_name,\n",
    "        EventTimeFeatureName = event_time_name,\n",
    "        FeatureDefinitions = feature_defs,\n",
    "        Description = schema['description'],\n",
    "        Tags = schema['tags'],\n",
    "        OnlineStoreConfig = {'EnableOnlineStore': True},\n",
    "        RoleArn = role_arn,\n",
    "        **offline_config)"
   ]
  },
  {
   "cell_type": "markdown",
   "metadata": {},
   "source": [
    "#### Create the new Feature Groups using the schema definition \n",
    "Now we will create the feature group as defined by the schema file. Since Feature Group creation can sometimes take a few minutes, we will wait below for status to change from `Creating`."
   ]
  },
  {
   "cell_type": "code",
   "execution_count": 7,
   "metadata": {},
   "outputs": [
    {
     "name": "stdout",
     "output_type": "stream",
     "text": [
      "Creating Offline Store at: s3://sagemaker-us-east-1-572539092864/sagemaker-featurestore-blog\n"
     ]
    }
   ],
   "source": [
    "create_feature_group_from_schema('schema/consumer-fg-schema.json', CONS_FEATURE_GROUP, \n",
    "                                 role_arn=role, s3_uri=OFFLINE_STORE_BASE_URI)"
   ]
  },
  {
   "cell_type": "code",
   "execution_count": 8,
   "metadata": {},
   "outputs": [
    {
     "name": "stdout",
     "output_type": "stream",
     "text": [
      "Creating Offline Store at: s3://sagemaker-us-east-1-572539092864/sagemaker-featurestore-blog\n"
     ]
    }
   ],
   "source": [
    "create_feature_group_from_schema('schema/credit-card-fg-schema.json', CARD_FEATURE_GROUP, \n",
    "                                 role_arn=role, s3_uri=OFFLINE_STORE_BASE_URI)"
   ]
  },
  {
   "cell_type": "code",
   "execution_count": 9,
   "metadata": {},
   "outputs": [
    {
     "name": "stdout",
     "output_type": "stream",
     "text": [
      "Waiting for Feature Group Creation\n",
      "FeatureGroup consumer-fg successfully created.\n",
      "FeatureGroup credit-card-fg successfully created.\n"
     ]
    }
   ],
   "source": [
    "# Wait for status to change to 'Created'\n",
    "\n",
    "def wait_for_feature_group_creation_complete(feature_group_name):\n",
    "    response = sm_client.describe_feature_group(FeatureGroupName=feature_group_name)\n",
    "    status = response['FeatureGroupStatus']\n",
    "    while status == \"Creating\":\n",
    "        print(\"Waiting for Feature Group Creation\")\n",
    "        time.sleep(5)\n",
    "        response = sm_client.describe_feature_group(FeatureGroupName=feature_group_name)\n",
    "        status = response['FeatureGroupStatus']\n",
    "    if status != \"Created\":\n",
    "        raise RuntimeError(f\"Failed to create feature group {feature_group_name}\")\n",
    "    print(f\"FeatureGroup {feature_group_name} successfully created.\")\n",
    "\n",
    "wait_for_feature_group_creation_complete(feature_group_name=CONS_FEATURE_GROUP)\n",
    "wait_for_feature_group_creation_complete(feature_group_name=CARD_FEATURE_GROUP)"
   ]
  },
  {
   "cell_type": "markdown",
   "metadata": {},
   "source": [
    "#### Make sure the new Feature Groups exist"
   ]
  },
  {
   "cell_type": "code",
   "execution_count": 10,
   "metadata": {},
   "outputs": [
    {
     "data": {
      "text/plain": [
       "{'FeatureGroupSummaries': [{'FeatureGroupName': 'transaction-feature-group-27-20-08-49',\n",
       "   'FeatureGroupArn': 'arn:aws:sagemaker:us-east-1:572539092864:feature-group/transaction-feature-group-27-20-08-49',\n",
       "   'CreationTime': datetime.datetime(2021, 4, 27, 20, 8, 58, 393000, tzinfo=tzlocal()),\n",
       "   'FeatureGroupStatus': 'Created',\n",
       "   'OfflineStoreStatus': {'Status': 'Active'}},\n",
       "  {'FeatureGroupName': 'pyspark-fg',\n",
       "   'FeatureGroupArn': 'arn:aws:sagemaker:us-east-1:572539092864:feature-group/pyspark-fg',\n",
       "   'CreationTime': datetime.datetime(2021, 4, 20, 18, 54, 48, 557000, tzinfo=tzlocal()),\n",
       "   'FeatureGroupStatus': 'Created'},\n",
       "  {'FeatureGroupName': 'orders-feature-group-06-15-47-58',\n",
       "   'FeatureGroupArn': 'arn:aws:sagemaker:us-east-1:572539092864:feature-group/orders-feature-group-06-15-47-58',\n",
       "   'CreationTime': datetime.datetime(2021, 5, 6, 15, 48, 15, 394000, tzinfo=tzlocal()),\n",
       "   'FeatureGroupStatus': 'Created',\n",
       "   'OfflineStoreStatus': {'Status': 'Active'}},\n",
       "  {'FeatureGroupName': 'identity-feature-group-27-20-08-49',\n",
       "   'FeatureGroupArn': 'arn:aws:sagemaker:us-east-1:572539092864:feature-group/identity-feature-group-27-20-08-49',\n",
       "   'CreationTime': datetime.datetime(2021, 4, 27, 20, 8, 57, 684000, tzinfo=tzlocal()),\n",
       "   'FeatureGroupStatus': 'Created',\n",
       "   'OfflineStoreStatus': {'Status': 'Active'}},\n",
       "  {'FeatureGroupName': 'customers-feature-group-06-15-47-58',\n",
       "   'FeatureGroupArn': 'arn:aws:sagemaker:us-east-1:572539092864:feature-group/customers-feature-group-06-15-47-58',\n",
       "   'CreationTime': datetime.datetime(2021, 5, 6, 15, 48, 9, 273000, tzinfo=tzlocal()),\n",
       "   'FeatureGroupStatus': 'Created',\n",
       "   'OfflineStoreStatus': {'Status': 'Active'}},\n",
       "  {'FeatureGroupName': 'credit-card-fg',\n",
       "   'FeatureGroupArn': 'arn:aws:sagemaker:us-east-1:572539092864:feature-group/credit-card-fg',\n",
       "   'CreationTime': datetime.datetime(2021, 5, 26, 14, 49, 0, 425000, tzinfo=tzlocal()),\n",
       "   'FeatureGroupStatus': 'Created'},\n",
       "  {'FeatureGroupName': 'consumer-fg',\n",
       "   'FeatureGroupArn': 'arn:aws:sagemaker:us-east-1:572539092864:feature-group/consumer-fg',\n",
       "   'CreationTime': datetime.datetime(2021, 5, 26, 14, 48, 57, 742000, tzinfo=tzlocal()),\n",
       "   'FeatureGroupStatus': 'Created'},\n",
       "  {'FeatureGroupName': 'cc-agg-batch-fg',\n",
       "   'FeatureGroupArn': 'arn:aws:sagemaker:us-east-1:572539092864:feature-group/cc-agg-batch-fg',\n",
       "   'CreationTime': datetime.datetime(2021, 5, 13, 22, 20, 24, 438000, tzinfo=tzlocal()),\n",
       "   'FeatureGroupStatus': 'Created',\n",
       "   'OfflineStoreStatus': {'Status': 'Active'}}],\n",
       " 'ResponseMetadata': {'RequestId': '7d8d3b42-1f35-43aa-baa0-07b37508abd3',\n",
       "  'HTTPStatusCode': 200,\n",
       "  'HTTPHeaders': {'x-amzn-requestid': '7d8d3b42-1f35-43aa-baa0-07b37508abd3',\n",
       "   'content-type': 'application/x-amz-json-1.1',\n",
       "   'content-length': '1912',\n",
       "   'date': 'Wed, 26 May 2021 14:49:12 GMT'},\n",
       "  'RetryAttempts': 0}}"
      ]
     },
     "execution_count": 10,
     "metadata": {},
     "output_type": "execute_result"
    }
   ],
   "source": [
    "sm_client.list_feature_groups()"
   ]
  },
  {
   "cell_type": "markdown",
   "metadata": {},
   "source": [
    "#### Describe configuration of feature group\n",
    "Note that each feature group gets its own ARN, allowing you to manage IAM policies that control access to individual feature groups. The feature names and types are displayed, and the required record identifier and event time features are called out specifically. Notice that when we created the Feature Group above, we passed in the `s3_uri` parameter. This parameter dictates the base S3 location where the Offline Store data is written, and can be retrieved from the `describe_feature_group` output within the `OfflineStoreConfig` dictionary. "
   ]
  },
  {
   "cell_type": "code",
   "execution_count": 11,
   "metadata": {},
   "outputs": [
    {
     "data": {
      "text/plain": [
       "{'FeatureGroupArn': 'arn:aws:sagemaker:us-east-1:572539092864:feature-group/consumer-fg',\n",
       " 'FeatureGroupName': 'consumer-fg',\n",
       " 'RecordIdentifierFeatureName': 'consumer_id',\n",
       " 'EventTimeFeatureName': 'event_time',\n",
       " 'FeatureDefinitions': [{'FeatureName': 'consumer_id',\n",
       "   'FeatureType': 'String'},\n",
       "  {'FeatureName': 'num_trans_last_7d', 'FeatureType': 'Integral'},\n",
       "  {'FeatureName': 'avg_amt_last_7d', 'FeatureType': 'Fractional'},\n",
       "  {'FeatureName': 'num_trans_last_1d', 'FeatureType': 'Integral'},\n",
       "  {'FeatureName': 'avg_amt_last_1d', 'FeatureType': 'Fractional'},\n",
       "  {'FeatureName': 'event_time', 'FeatureType': 'String'}],\n",
       " 'CreationTime': datetime.datetime(2021, 5, 26, 14, 48, 57, 742000, tzinfo=tzlocal()),\n",
       " 'OnlineStoreConfig': {'EnableOnlineStore': True},\n",
       " 'OfflineStoreConfig': {'S3StorageConfig': {'S3Uri': 's3://sagemaker-us-east-1-572539092864/sagemaker-featurestore-blog',\n",
       "   'ResolvedOutputS3Uri': 's3://sagemaker-us-east-1-572539092864/sagemaker-featurestore-blog/572539092864/sagemaker/us-east-1/offline-store/consumer-fg-1622040537/data'},\n",
       "  'DisableGlueTableCreation': False,\n",
       "  'DataCatalogConfig': {'TableName': 'consumer-fg-1622040537',\n",
       "   'Catalog': 'AwsDataCatalog',\n",
       "   'Database': 'sagemaker_featurestore'}},\n",
       " 'RoleArn': 'arn:aws:iam::572539092864:role/service-role/AmazonSageMaker-ExecutionRole-20200407T174741',\n",
       " 'FeatureGroupStatus': 'Created',\n",
       " 'Description': 'Consumer features',\n",
       " 'ResponseMetadata': {'RequestId': 'a9a2c60c-3507-42f3-9ecb-eacd818b70b8',\n",
       "  'HTTPStatusCode': 200,\n",
       "  'HTTPHeaders': {'x-amzn-requestid': 'a9a2c60c-3507-42f3-9ecb-eacd818b70b8',\n",
       "   'content-type': 'application/x-amz-json-1.1',\n",
       "   'content-length': '1258',\n",
       "   'date': 'Wed, 26 May 2021 14:49:15 GMT'},\n",
       "  'RetryAttempts': 0}}"
      ]
     },
     "execution_count": 11,
     "metadata": {},
     "output_type": "execute_result"
    }
   ],
   "source": [
    "sm_client.describe_feature_group(FeatureGroupName=CONS_FEATURE_GROUP)"
   ]
  },
  {
   "cell_type": "code",
   "execution_count": 12,
   "metadata": {},
   "outputs": [
    {
     "data": {
      "text/plain": [
       "{'FeatureGroupArn': 'arn:aws:sagemaker:us-east-1:572539092864:feature-group/credit-card-fg',\n",
       " 'FeatureGroupName': 'credit-card-fg',\n",
       " 'RecordIdentifierFeatureName': 'cc_num',\n",
       " 'EventTimeFeatureName': 'event_time',\n",
       " 'FeatureDefinitions': [{'FeatureName': 'cc_num', 'FeatureType': 'Integral'},\n",
       "  {'FeatureName': 'num_trans_last_7d', 'FeatureType': 'Integral'},\n",
       "  {'FeatureName': 'avg_amt_last_7d', 'FeatureType': 'Fractional'},\n",
       "  {'FeatureName': 'num_trans_last_1d', 'FeatureType': 'Integral'},\n",
       "  {'FeatureName': 'avg_amt_last_1d', 'FeatureType': 'Fractional'},\n",
       "  {'FeatureName': 'event_time', 'FeatureType': 'String'}],\n",
       " 'CreationTime': datetime.datetime(2021, 5, 26, 14, 49, 0, 425000, tzinfo=tzlocal()),\n",
       " 'OnlineStoreConfig': {'EnableOnlineStore': True},\n",
       " 'OfflineStoreConfig': {'S3StorageConfig': {'S3Uri': 's3://sagemaker-us-east-1-572539092864/sagemaker-featurestore-blog',\n",
       "   'ResolvedOutputS3Uri': 's3://sagemaker-us-east-1-572539092864/sagemaker-featurestore-blog/572539092864/sagemaker/us-east-1/offline-store/credit-card-fg-1622040540/data'},\n",
       "  'DisableGlueTableCreation': False,\n",
       "  'DataCatalogConfig': {'TableName': 'credit-card-fg-1622040540',\n",
       "   'Catalog': 'AwsDataCatalog',\n",
       "   'Database': 'sagemaker_featurestore'}},\n",
       " 'RoleArn': 'arn:aws:iam::572539092864:role/service-role/AmazonSageMaker-ExecutionRole-20200407T174741',\n",
       " 'FeatureGroupStatus': 'Created',\n",
       " 'Description': 'Credit card features',\n",
       " 'ResponseMetadata': {'RequestId': 'dc6ff79a-b6b0-4ddd-a1b3-353811ea6e67',\n",
       "  'HTTPStatusCode': 200,\n",
       "  'HTTPHeaders': {'x-amzn-requestid': 'dc6ff79a-b6b0-4ddd-a1b3-353811ea6e67',\n",
       "   'content-type': 'application/x-amz-json-1.1',\n",
       "   'content-length': '1265',\n",
       "   'date': 'Wed, 26 May 2021 14:49:16 GMT'},\n",
       "  'RetryAttempts': 0}}"
      ]
     },
     "execution_count": 12,
     "metadata": {},
     "output_type": "execute_result"
    }
   ],
   "source": [
    "sm_client.describe_feature_group(FeatureGroupName=CARD_FEATURE_GROUP)"
   ]
  },
  {
   "cell_type": "code",
   "execution_count": null,
   "metadata": {
    "button": false,
    "new_sheet": false,
    "run_control": {
     "read_only": false
    }
   },
   "outputs": [],
   "source": []
  }
 ],
 "metadata": {
  "kernelspec": {
   "display_name": "conda_python3",
   "language": "python",
   "name": "conda_python3"
  },
  "language_info": {
   "codemirror_mode": {
    "name": "ipython",
    "version": 3
   },
   "file_extension": ".py",
   "mimetype": "text/x-python",
   "name": "python",
   "nbconvert_exporter": "python",
   "pygments_lexer": "ipython3",
   "version": "3.6.13"
  }
 },
 "nbformat": 4,
 "nbformat_minor": 4
}
