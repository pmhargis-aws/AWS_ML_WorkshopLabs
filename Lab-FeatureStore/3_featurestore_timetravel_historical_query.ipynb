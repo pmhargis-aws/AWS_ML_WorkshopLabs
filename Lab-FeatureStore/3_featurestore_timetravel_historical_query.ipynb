{
 "cells": [
  {
   "cell_type": "markdown",
   "metadata": {},
   "source": [
    "### Use SageMaker Feature Store and Apache Spark to generate point-in-time queries to implement Time Travel\n",
    "The following notebook uses SageMaker Feature Store and Apache Spark to build out a set of Dataframes and queries that provide a pattern for using \"Time Travel\" capabilities. We will demonstrate how to build a \"point-in-time\" feature sets by starting with raw transactional data, joining that data with records from the Offline Store, and then building an \"entity\" dataset to define the items we care about and the timestamp of reference. Techniques include building Spark Dataframes, using outer and inner table joins, using query filters to prune items outside our timeframe, and finally ReduceByKey to reduce the final the dataset. "
   ]
  },
  {
   "cell_type": "markdown",
   "metadata": {},
   "source": [
    "#### Install Faker library to help generate timestamps within a given range"
   ]
  },
  {
   "cell_type": "code",
   "execution_count": 1,
   "metadata": {},
   "outputs": [
    {
     "name": "stdout",
     "output_type": "stream",
     "text": [
      "\u001b[33mWARNING: Value for scheme.headers does not match. Please report this to <https://github.com/pypa/pip/issues/9617>\n",
      "distutils: /home/ec2-user/anaconda3/envs/python3/include/python3.6m/UNKNOWN\n",
      "sysconfig: /home/ec2-user/anaconda3/envs/python3/include/python3.6m\u001b[0m\n",
      "\u001b[33mWARNING: Additional context:\n",
      "user = False\n",
      "home = None\n",
      "root = None\n",
      "prefix = None\u001b[0m\n",
      "Requirement already satisfied: Faker in /home/ec2-user/anaconda3/envs/python3/lib/python3.6/site-packages (8.0.0)\n",
      "Requirement already satisfied: text-unidecode==1.3 in /home/ec2-user/anaconda3/envs/python3/lib/python3.6/site-packages (from Faker) (1.3)\n",
      "Requirement already satisfied: python-dateutil>=2.4 in /home/ec2-user/anaconda3/envs/python3/lib/python3.6/site-packages (from Faker) (2.8.1)\n",
      "Requirement already satisfied: six>=1.5 in /home/ec2-user/anaconda3/envs/python3/lib/python3.6/site-packages (from python-dateutil>=2.4->Faker) (1.14.0)\n",
      "\u001b[33mWARNING: Value for scheme.headers does not match. Please report this to <https://github.com/pypa/pip/issues/9617>\n",
      "distutils: /home/ec2-user/anaconda3/envs/python3/include/python3.6m/UNKNOWN\n",
      "sysconfig: /home/ec2-user/anaconda3/envs/python3/include/python3.6m\u001b[0m\n",
      "\u001b[33mWARNING: Additional context:\n",
      "user = False\n",
      "home = None\n",
      "root = None\n",
      "prefix = None\u001b[0m\n"
     ]
    }
   ],
   "source": [
    "!pip install Faker"
   ]
  },
  {
   "cell_type": "code",
   "execution_count": 2,
   "metadata": {},
   "outputs": [],
   "source": [
    "# Faker\n",
    "from faker import Faker\n",
    "\n",
    "# Import pyspark and build Spark session\n",
    "\n",
    "from pyspark.sql import SparkSession\n",
    "from pyspark.sql.functions import datediff\n",
    "from pyspark.sql.functions import lit\n",
    "from pyspark.sql.functions import col\n",
    "from pyspark.sql.functions import max as sql_max\n",
    "from pyspark.sql.functions import min as sql_min\n",
    "from pyspark.sql.types import StringType\n",
    "from pyspark.sql.types import StructField\n",
    "from pyspark.sql.types import StructType\n",
    "\n",
    "from pyspark import SparkContext, SparkConf\n",
    "import sagemaker_pyspark\n",
    "import datetime\n",
    "import random\n",
    "\n",
    "# Configure Spark to use the SageMaker Spark dependency jars\n",
    "classpath = \":\".join(sagemaker_pyspark.classpath_jars())\n"
   ]
  },
  {
   "cell_type": "code",
   "execution_count": 3,
   "metadata": {},
   "outputs": [],
   "source": [
    "spark = (SparkSession\n",
    "    .builder\n",
    "    .config(\"spark.driver.extraClassPath\", classpath)\n",
    "    .getOrCreate())\n"
   ]
  },
  {
   "cell_type": "code",
   "execution_count": 4,
   "metadata": {},
   "outputs": [
    {
     "name": "stdout",
     "output_type": "stream",
     "text": [
      "2.3.4\n"
     ]
    }
   ],
   "source": [
    "sc = spark.sparkContext\n",
    "print(sc.version)"
   ]
  },
  {
   "cell_type": "code",
   "execution_count": 5,
   "metadata": {},
   "outputs": [],
   "source": [
    "SEED = 123456\n",
    "faker = Faker()\n",
    "faker.seed_locale('en_US', 0)\n",
    "faker.seed_instance(SEED)"
   ]
  },
  {
   "cell_type": "code",
   "execution_count": 6,
   "metadata": {},
   "outputs": [
    {
     "name": "stdout",
     "output_type": "stream",
     "text": [
      "sagemaker-us-east-1-572539092864\n"
     ]
    }
   ],
   "source": [
    "import sagemaker\n",
    "\n",
    "BUCKET = sagemaker.Session().default_bucket()\n",
    "print(BUCKET)"
   ]
  },
  {
   "cell_type": "code",
   "execution_count": 7,
   "metadata": {},
   "outputs": [
    {
     "name": "stdout",
     "output_type": "stream",
     "text": [
      "S3 Aggregated Prefix: sagemaker-featurestore-blog/aggregated\n"
     ]
    }
   ],
   "source": [
    "import os\n",
    "\n",
    "BASE_PREFIX = \"sagemaker-featurestore-blog\"\n",
    "\n",
    "OFFLINE_STORE_BASE_URI = f's3://{BUCKET}/{BASE_PREFIX}'\n",
    "\n",
    "AGG_PREFIX = os.path.join(BASE_PREFIX, 'aggregated')\n",
    "print(f'S3 Aggregated Prefix: {AGG_PREFIX}')\n",
    "\n",
    "AGG_FEATURES_PATH_S3 = f\"s3://{BUCKET}/{AGG_PREFIX}/\"\n",
    "AGG_FEATURES_PATH_PARQUET = f\"s3a://{BUCKET}/{AGG_PREFIX}/\""
   ]
  },
  {
   "cell_type": "code",
   "execution_count": 8,
   "metadata": {},
   "outputs": [
    {
     "name": "stdout",
     "output_type": "stream",
     "text": [
      "Using S3 path: s3://sagemaker-us-east-1-572539092864/sagemaker-featurestore-blog/aggregated/\n",
      "Found files: \n",
      "s3://sagemaker-us-east-1-572539092864/sagemaker-featurestore-blog/aggregated/_SUCCESS\n",
      "s3://sagemaker-us-east-1-572539092864/sagemaker-featurestore-blog/aggregated/part-00000-c991f597-2032-42ab-ae57-974543cbcf59-c000.csv\n"
     ]
    }
   ],
   "source": [
    "from sagemaker.s3 import S3Downloader\n",
    "\n",
    "file_list = S3Downloader.list(AGG_FEATURES_PATH_S3)\n",
    "\n",
    "print(f'Using S3 path: {AGG_FEATURES_PATH_S3}')\n",
    "print(\"Found files: \\n\" + \"\\n\".join(file_list))"
   ]
  },
  {
   "cell_type": "markdown",
   "metadata": {},
   "source": [
    "#### Let's retreive our credit card transaction data"
   ]
  },
  {
   "cell_type": "code",
   "execution_count": 9,
   "metadata": {},
   "outputs": [],
   "source": [
    "transactions_df = spark.read.options(Header=True).csv(AGG_FEATURES_PATH_PARQUET)"
   ]
  },
  {
   "cell_type": "code",
   "execution_count": 10,
   "metadata": {},
   "outputs": [
    {
     "name": "stdout",
     "output_type": "stream",
     "text": [
      "root\n",
      " |-- tid: string (nullable = true)\n",
      " |-- event_time: string (nullable = true)\n",
      " |-- cc_num: string (nullable = true)\n",
      " |-- consumer_id: string (nullable = true)\n",
      " |-- amount: string (nullable = true)\n",
      " |-- fraud_label: string (nullable = true)\n",
      " |-- num_trans_last_60m: string (nullable = true)\n",
      " |-- avg_amt_last_60m: string (nullable = true)\n",
      " |-- num_trans_last_7d: string (nullable = true)\n",
      " |-- avg_amt_last_7d: string (nullable = true)\n",
      " |-- amt_ratio1: string (nullable = true)\n",
      " |-- amt_ratio2: string (nullable = true)\n",
      " |-- count_ratio: string (nullable = true)\n",
      "\n"
     ]
    },
    {
     "data": {
      "text/plain": [
       "500001"
      ]
     },
     "execution_count": 10,
     "metadata": {},
     "output_type": "execute_result"
    }
   ],
   "source": [
    "transactions_df.printSchema()\n",
    "transactions_df.count()"
   ]
  },
  {
   "cell_type": "code",
   "execution_count": 12,
   "metadata": {},
   "outputs": [
    {
     "name": "stdout",
     "output_type": "stream",
     "text": [
      "Fraction: 0.000010\n",
      "[Row(tid='a65d2367cff1400cd245c5db5361597f', event_time='2021-01-17T17:02:54.000Z', cc_num='4172096516686385', consumer_id='XBHV44170963561062', amount='5822.98', fraud_label='0', num_trans_last_60m='1', avg_amt_last_60m='5822.98', num_trans_last_7d='15', avg_amt_last_7d='1328.2613333333331', amt_ratio1='4.383911398961651', amt_ratio2='4.383911398961651', count_ratio='0.06666666666666667'), Row(tid='0cfce750d02f3c1275b7c36d8cf7b703', event_time='2021-01-02T02:34:34.000Z', cc_num='4675446179121786', consumer_id='MXMS11417993608776', amount='1791.58', fraud_label='0', num_trans_last_60m='1', avg_amt_last_60m='1791.58', num_trans_last_7d='3', avg_amt_last_7d='622.82', amt_ratio1='2.8765614463247804', amt_ratio2='2.8765614463247804', count_ratio='0.3333333333333333'), Row(tid='cd9b000579c24ac8846bf5f8cfac5269', event_time='2021-01-11T13:30:35.000Z', cc_num='4781272421257207', consumer_id='ZKFN80055633118034', amount='37.88', fraud_label='0', num_trans_last_60m='1', avg_amt_last_60m='37.88', num_trans_last_7d='17', avg_amt_last_7d='310.48058823529414', amt_ratio1='0.12200440683039766', amt_ratio2='0.12200440683039766', count_ratio='0.058823529411764705'), Row(tid='ba9082c7bf59f968c95257306cac8ce4', event_time='2021-01-21T15:19:58.000Z', cc_num='4096751175353379', consumer_id='LGUO00801443255935', amount='2166.39', fraud_label='0', num_trans_last_60m='1', avg_amt_last_60m='2166.39', num_trans_last_7d='11', avg_amt_last_7d='431.9109090909091', amt_ratio1='5.0158260752427895', amt_ratio2='5.0158260752427895', count_ratio='0.09090909090909091'), Row(tid='d441dd8306f36a6dea3fa96a2e4ae921', event_time='2021-01-14T20:56:06.000Z', cc_num='4829206292512138', consumer_id='LDUE34750879977245', amount='3327.72', fraud_label='0', num_trans_last_60m='1', avg_amt_last_60m='3327.72', num_trans_last_7d='17', avg_amt_last_7d='719.6141176470586', amt_ratio1='4.624311722622583', amt_ratio2='4.624311722622583', count_ratio='0.058823529411764705')]\n"
     ]
    }
   ],
   "source": [
    "# Show 5 random rows from dataframe\n",
    "show_fraction = float(5.0 / 500000.0)\n",
    "print(\"Fraction: %2f\" % show_fraction)\n",
    "print(transactions_df.sample(withReplacement=False, fraction=show_fraction, seed=3).collect())"
   ]
  },
  {
   "cell_type": "markdown",
   "metadata": {},
   "source": [
    "#### Use Sagemaker Client to retrieve info about Feature Group\n",
    "We will use the `describe_feature_group` method to lookup the S3 Uri location of the Offline Store data files."
   ]
  },
  {
   "cell_type": "code",
   "execution_count": 13,
   "metadata": {},
   "outputs": [],
   "source": [
    "from sagemaker import get_execution_role\n",
    "import sagemaker\n",
    "import boto3\n",
    "\n",
    "role = get_execution_role()\n",
    "sm_client = boto3.Session().client(service_name='sagemaker')\n"
   ]
  },
  {
   "cell_type": "code",
   "execution_count": 14,
   "metadata": {},
   "outputs": [
    {
     "data": {
      "text/plain": [
       "{'FeatureGroupArn': 'arn:aws:sagemaker:us-east-1:572539092864:feature-group/cc-agg-batch-fg',\n",
       " 'FeatureGroupName': 'cc-agg-batch-fg',\n",
       " 'RecordIdentifierFeatureName': 'consumer_id',\n",
       " 'EventTimeFeatureName': 'trans_time',\n",
       " 'FeatureDefinitions': [{'FeatureName': 'tid', 'FeatureType': 'String'},\n",
       "  {'FeatureName': 'cc_num', 'FeatureType': 'Integral'},\n",
       "  {'FeatureName': 'consumer_id', 'FeatureType': 'String'},\n",
       "  {'FeatureName': 'num_trans_last_7d', 'FeatureType': 'Integral'},\n",
       "  {'FeatureName': 'avg_amt_last_7d', 'FeatureType': 'Fractional'},\n",
       "  {'FeatureName': 'event_time', 'FeatureType': 'String'},\n",
       "  {'FeatureName': 'trans_time', 'FeatureType': 'Fractional'}],\n",
       " 'CreationTime': datetime.datetime(2021, 5, 4, 0, 2, 44, 97000, tzinfo=tzlocal()),\n",
       " 'OnlineStoreConfig': {'EnableOnlineStore': True},\n",
       " 'OfflineStoreConfig': {'S3StorageConfig': {'S3Uri': 's3://sagemaker-us-east-1-572539092864/sagemaker-featurestore-blog',\n",
       "   'ResolvedOutputS3Uri': 's3://sagemaker-us-east-1-572539092864/sagemaker-featurestore-blog/572539092864/sagemaker/us-east-1/offline-store/cc-agg-batch-fg-1620086564/data'},\n",
       "  'DisableGlueTableCreation': False,\n",
       "  'DataCatalogConfig': {'TableName': 'cc-agg-batch-fg-1620086564',\n",
       "   'Catalog': 'AwsDataCatalog',\n",
       "   'Database': 'sagemaker_featurestore'}},\n",
       " 'RoleArn': 'arn:aws:iam::572539092864:role/service-role/AmazonSageMaker-ExecutionRole-20200407T174741',\n",
       " 'FeatureGroupStatus': 'Created',\n",
       " 'OfflineStoreStatus': {'Status': 'Active'},\n",
       " 'Description': 'Aggregated features for each credit card, streamed intraday',\n",
       " 'ResponseMetadata': {'RequestId': '3e84beb0-2ada-4a5f-9cce-011e971c582e',\n",
       "  'HTTPStatusCode': 200,\n",
       "  'HTTPHeaders': {'x-amzn-requestid': '3e84beb0-2ada-4a5f-9cce-011e971c582e',\n",
       "   'content-type': 'application/x-amz-json-1.1',\n",
       "   'content-length': '1386',\n",
       "   'date': 'Tue, 04 May 2021 00:14:57 GMT'},\n",
       "  'RetryAttempts': 0}}"
      ]
     },
     "execution_count": 14,
     "metadata": {},
     "output_type": "execute_result"
    }
   ],
   "source": [
    "# Identify name of the Feature Group that contains aggregated features for our transaction data\n",
    "FEATURE_GROUP = 'cc-agg-batch-fg'\n",
    "\n",
    "feature_group_info = sm_client.describe_feature_group(FeatureGroupName=FEATURE_GROUP)\n",
    "feature_group_info"
   ]
  },
  {
   "cell_type": "code",
   "execution_count": 15,
   "metadata": {},
   "outputs": [
    {
     "name": "stdout",
     "output_type": "stream",
     "text": [
      "s3a://sagemaker-us-east-1-572539092864/sagemaker-featurestore-blog/572539092864/sagemaker/us-east-1/offline-store/cc-agg-batch-fg-1620086564/data\n"
     ]
    }
   ],
   "source": [
    "# Lookup S3 Location of Offline Store\n",
    "\n",
    "resolved_offline_store_s3_location = feature_group_info['OfflineStoreConfig']['S3StorageConfig']['ResolvedOutputS3Uri']\n",
    "\n",
    "# Spark's Parquet file reader requires replacement of 's3' with 's3a'\n",
    "offline_store_s3a_uri = resolved_offline_store_s3_location.replace(\"s3:\", \"s3a:\")\n",
    "\n",
    "print(offline_store_s3a_uri)"
   ]
  },
  {
   "cell_type": "code",
   "execution_count": 16,
   "metadata": {},
   "outputs": [],
   "source": [
    "# Read Offline Store data\n",
    "feature_store_df = spark.read.parquet(offline_store_s3a_uri)"
   ]
  },
  {
   "cell_type": "code",
   "execution_count": 17,
   "metadata": {},
   "outputs": [
    {
     "name": "stdout",
     "output_type": "stream",
     "text": [
      "root\n",
      " |-- tid: string (nullable = true)\n",
      " |-- cc_num: long (nullable = true)\n",
      " |-- consumer_id: string (nullable = true)\n",
      " |-- num_trans_last_7d: long (nullable = true)\n",
      " |-- avg_amt_last_7d: double (nullable = true)\n",
      " |-- event_time: string (nullable = true)\n",
      " |-- trans_time: double (nullable = true)\n",
      " |-- write_time: timestamp (nullable = true)\n",
      " |-- api_invocation_time: timestamp (nullable = true)\n",
      " |-- is_deleted: boolean (nullable = true)\n",
      " |-- year: integer (nullable = true)\n",
      " |-- month: integer (nullable = true)\n",
      " |-- day: integer (nullable = true)\n",
      " |-- hour: integer (nullable = true)\n",
      "\n"
     ]
    },
    {
     "data": {
      "text/plain": [
       "10001"
      ]
     },
     "execution_count": 17,
     "metadata": {},
     "output_type": "execute_result"
    }
   ],
   "source": [
    "feature_store_df.printSchema()\n",
    "feature_store_df.count()"
   ]
  },
  {
   "cell_type": "code",
   "execution_count": 18,
   "metadata": {},
   "outputs": [
    {
     "name": "stdout",
     "output_type": "stream",
     "text": [
      "+--------------------+----------------+------------------+-----------------+---------------+-------------------+-------------+--------------------+-------------------+----------+----+-----+---+----+\n",
      "|                 tid|          cc_num|       consumer_id|num_trans_last_7d|avg_amt_last_7d|         event_time|   trans_time|          write_time|api_invocation_time|is_deleted|year|month|day|hour|\n",
      "+--------------------+----------------+------------------+-----------------+---------------+-------------------+-------------+--------------------+-------------------+----------+----+-----+---+----+\n",
      "|c9fc14047042b8c77...|4819550644575521|AKJG26134916263543|               14|         108.39|2021-01-31 06:11:28|1.620086953E9|2021-05-04 00:14:...|2021-05-04 00:09:13|     false|2021|    5|  4|   0|\n",
      "|3926227c69fcd439d...|4691951668579907|ASMP81111912057771|               14|         805.59|2021-01-31 18:44:35|1.620086953E9|2021-05-04 00:14:...|2021-05-04 00:09:13|     false|2021|    5|  4|   0|\n",
      "|8d0d6451b1c726d0c...|4727004643437458|AUWF34750047426810|               10|         195.67|2021-01-30 01:00:10|1.620086953E9|2021-05-04 00:14:...|2021-05-04 00:09:13|     false|2021|    5|  4|   0|\n",
      "|29a3716ffde543509...|4633840312981380|AYAS92237198677794|               10|         101.98|2021-01-31 19:41:13|1.620086953E9|2021-05-04 00:14:...|2021-05-04 00:09:13|     false|2021|    5|  4|   0|\n",
      "|3523895385be0813c...|4651135414249142|BAJU17227611125500|                5|        1113.67|2021-01-31 10:39:49|1.620086953E9|2021-05-04 00:14:...|2021-05-04 00:09:13|     false|2021|    5|  4|   0|\n",
      "+--------------------+----------------+------------------+-----------------+---------------+-------------------+-------------+--------------------+-------------------+----------+----+-----+---+----+\n",
      "only showing top 5 rows\n",
      "\n"
     ]
    }
   ],
   "source": [
    "feature_store_df.show(5)"
   ]
  },
  {
   "cell_type": "markdown",
   "metadata": {},
   "source": [
    "#### Create an enhanced set of features by joining raw transaction data with aggregate features from the Offline Store"
   ]
  },
  {
   "cell_type": "code",
   "execution_count": 19,
   "metadata": {},
   "outputs": [],
   "source": [
    "# Join the raw transactons table to the aggregate feature table \n",
    "\n",
    "enhanced_df = (transactions_df.join(feature_store_df, transactions_df.tid == feature_store_df.tid, \"left_outer\")\n",
    "    .drop(transactions_df.tid)\n",
    "    .drop(transactions_df.cc_num)\n",
    "    .drop(transactions_df.consumer_id)\n",
    "    .drop(transactions_df.num_trans_last_7d)\n",
    "    .drop(transactions_df.avg_amt_last_7d)\n",
    "    .drop(transactions_df.event_time))"
   ]
  },
  {
   "cell_type": "code",
   "execution_count": 20,
   "metadata": {},
   "outputs": [
    {
     "name": "stdout",
     "output_type": "stream",
     "text": [
      "root\n",
      " |-- amount: string (nullable = true)\n",
      " |-- fraud_label: string (nullable = true)\n",
      " |-- num_trans_last_60m: string (nullable = true)\n",
      " |-- avg_amt_last_60m: string (nullable = true)\n",
      " |-- amt_ratio1: string (nullable = true)\n",
      " |-- amt_ratio2: string (nullable = true)\n",
      " |-- count_ratio: string (nullable = true)\n",
      " |-- tid: string (nullable = true)\n",
      " |-- cc_num: long (nullable = true)\n",
      " |-- consumer_id: string (nullable = true)\n",
      " |-- num_trans_last_7d: long (nullable = true)\n",
      " |-- avg_amt_last_7d: double (nullable = true)\n",
      " |-- event_time: string (nullable = true)\n",
      " |-- trans_time: double (nullable = true)\n",
      " |-- write_time: timestamp (nullable = true)\n",
      " |-- api_invocation_time: timestamp (nullable = true)\n",
      " |-- is_deleted: boolean (nullable = true)\n",
      " |-- year: integer (nullable = true)\n",
      " |-- month: integer (nullable = true)\n",
      " |-- day: integer (nullable = true)\n",
      " |-- hour: integer (nullable = true)\n",
      "\n"
     ]
    },
    {
     "data": {
      "text/plain": [
       "500001"
      ]
     },
     "execution_count": 20,
     "metadata": {},
     "output_type": "execute_result"
    }
   ],
   "source": [
    "enhanced_df.printSchema()\n",
    "enhanced_df.count()"
   ]
  },
  {
   "cell_type": "markdown",
   "metadata": {},
   "source": [
    "### Sample Time Travel query from Studio\n",
    "\n",
    "##### Simplified query for datasets up to 100 GB\n",
    "\n",
    "SELECT *\n",
    "FROM\n",
    "    (SELECT *,\n",
    "         row_number()\n",
    "        OVER (PARTITION BY EventTime\n",
    "    ORDER BY  EventTime desc, Api_Invocation_Time DESC, write_time DESC) AS row_number\n",
    "    FROM sagemaker_featurestore.identity-feature-group-03-20-32-44-1614803787\n",
    "    where EventTime <= timestamp '<timestamp>')\n",
    "    -- replace timestamp '<timestamp>' with just <timestamp>  if EventTimeFeature is of type fractional\n",
    "WHERE row_number = 1 and\n",
    "NOT is_deleted"
   ]
  },
  {
   "cell_type": "markdown",
   "metadata": {},
   "source": [
    "### Build Entity Dataframe that spans the intended time window"
   ]
  },
  {
   "cell_type": "code",
   "execution_count": 21,
   "metadata": {},
   "outputs": [],
   "source": [
    "# Num samples in entity dataframe\n",
    "NUM_RANDOM_SAMPLES = 500\n",
    "\n",
    "cid_list = transactions_df.rdd.map(lambda x: x.consumer_id).collect()"
   ]
  },
  {
   "cell_type": "code",
   "execution_count": 22,
   "metadata": {},
   "outputs": [
    {
     "name": "stdout",
     "output_type": "stream",
     "text": [
      "500\n"
     ]
    }
   ],
   "source": [
    "cid_sample = random.sample(cid_list, NUM_RANDOM_SAMPLES) \n",
    "print(len(cid_sample))"
   ]
  },
  {
   "cell_type": "code",
   "execution_count": 23,
   "metadata": {},
   "outputs": [],
   "source": [
    "# Build list of tuples containing consumer IDs with faked timestamps within our time window\n",
    "start = datetime.datetime.strptime('2021-01-31 00:00:00', '%Y-%m-%d %H:%M:%S')\n",
    "end = datetime.datetime.strptime('2021-01-31 23:00:00', '%Y-%m-%d %H:%M:%S')\n",
    "\n",
    "samples = list()\n",
    "for r in range(NUM_RANDOM_SAMPLES):\n",
    "    row = []\n",
    "    fake_timestamp = faker.date_time_between(start_date=start, end_date=end, tzinfo=None).strftime('%Y-%m-%d %H:00:00')\n",
    "    row.append(cid_sample[r])\n",
    "    row.append(fake_timestamp)\n",
    "    samples.append(row)\n",
    "    "
   ]
  },
  {
   "cell_type": "code",
   "execution_count": 24,
   "metadata": {},
   "outputs": [],
   "source": [
    "# Create and show the Entity Dataframe\n",
    "# (e.g. the dataframe that defines our set of credit card numbers and timestamps for our point-in-time queries)\n",
    "\n",
    "entity_df_schema = StructType([\n",
    "    StructField('consumer_id', StringType(), False),\n",
    "    StructField('joindate', StringType(), False)\n",
    "])"
   ]
  },
  {
   "cell_type": "code",
   "execution_count": 25,
   "metadata": {},
   "outputs": [
    {
     "name": "stdout",
     "output_type": "stream",
     "text": [
      "+------------------+-------------------+\n",
      "|       consumer_id|           joindate|\n",
      "+------------------+-------------------+\n",
      "|EPQM42267411121685|2021-01-31 10:00:00|\n",
      "|TKIN43838631624846|2021-01-31 01:00:00|\n",
      "|AGKE78700875586528|2021-01-31 06:00:00|\n",
      "|VANM94024305759394|2021-01-31 00:00:00|\n",
      "|FFMZ51315248853491|2021-01-31 02:00:00|\n",
      "|UCWI31015250828475|2021-01-31 01:00:00|\n",
      "|XYFV50123039975887|2021-01-31 09:00:00|\n",
      "|KOFP22214206152516|2021-01-31 01:00:00|\n",
      "|KALI81416137453187|2021-01-31 04:00:00|\n",
      "|YXFC62040921041604|2021-01-31 08:00:00|\n",
      "+------------------+-------------------+\n",
      "only showing top 10 rows\n",
      "\n"
     ]
    }
   ],
   "source": [
    "# Create entity data frame\n",
    "\n",
    "entity_df = spark.createDataFrame(samples, entity_df_schema)\n",
    "entity_df.show(10)"
   ]
  },
  {
   "cell_type": "code",
   "execution_count": 26,
   "metadata": {},
   "outputs": [
    {
     "name": "stdout",
     "output_type": "stream",
     "text": [
      "[Row(min(joindate)='2021-01-31 00:00:00', max(joindate)='2021-01-31 22:00:00')]\n"
     ]
    }
   ],
   "source": [
    "# Performance Improvement: \n",
    "# This first dataframe filter serves as a performance optimization to reduce the size of dataset\n",
    "# We compute the overall min and max times for the initial filtering, in one pass\n",
    "\n",
    "# entity_df used to define bounded time window\n",
    "minmax_time = entity_df.agg(sql_min(\"joindate\"), sql_max(\"joindate\")).collect()\n",
    "print(minmax_time)"
   ]
  },
  {
   "cell_type": "code",
   "execution_count": 27,
   "metadata": {},
   "outputs": [
    {
     "name": "stdout",
     "output_type": "stream",
     "text": [
      "min_time: 2021-01-31 00:00:00\n",
      "max_time: 2021-01-31 22:00:00\n"
     ]
    }
   ],
   "source": [
    "min_time, max_time = minmax_time[0][\"min(joindate)\"], minmax_time[0][\"max(joindate)\"]\n",
    "print(f'min_time: {min_time}')\n",
    "print(f'max_time: {max_time}')"
   ]
  },
  {
   "cell_type": "code",
   "execution_count": 28,
   "metadata": {},
   "outputs": [
    {
     "name": "stdout",
     "output_type": "stream",
     "text": [
      "Before filter, count: 500001\n"
     ]
    }
   ],
   "source": [
    "print(\"Before filter, count: \" + str(enhanced_df.count()))"
   ]
  },
  {
   "cell_type": "code",
   "execution_count": 29,
   "metadata": {},
   "outputs": [
    {
     "name": "stdout",
     "output_type": "stream",
     "text": [
      "CPU times: user 0 ns, sys: 2.35 ms, total: 2.35 ms\n",
      "Wall time: 47.5 ms\n"
     ]
    }
   ],
   "source": [
    "%%time\n",
    "\n",
    "# Filter out records from after query max_time and before staleness window prior to the min_time\n",
    "# NOTE: This is a performance optimization; doing this prior to individual {consumer_id, joindate} filtering will be faster\n",
    "\n",
    "# Choose a \"staleness\" window of time before which we want to ignore records\n",
    "allowed_staleness_days = 4\n",
    "\n",
    "# Eliminate Credit Cards (entities) who do NOT have any relevant records within our time window \n",
    "# this window represents the {max_time - min_time} delta, plus our staleness window (4 days)\n",
    "\n",
    "# Via the staleness check, we are actually removing items when event_time is MORE than 4 days before min_time\n",
    "# Usage: datediff ( enddate, startdate ) - returns days\n",
    "\n",
    "filtered = enhanced_df.filter(\n",
    "    (enhanced_df.event_time <= max_time) & \n",
    "    (datediff(lit(min_time), enhanced_df.event_time) <= allowed_staleness_days)\n",
    ")"
   ]
  },
  {
   "cell_type": "code",
   "execution_count": 30,
   "metadata": {},
   "outputs": [
    {
     "name": "stdout",
     "output_type": "stream",
     "text": [
      "root\n",
      " |-- amount: string (nullable = true)\n",
      " |-- fraud_label: string (nullable = true)\n",
      " |-- num_trans_last_60m: string (nullable = true)\n",
      " |-- avg_amt_last_60m: string (nullable = true)\n",
      " |-- amt_ratio1: string (nullable = true)\n",
      " |-- amt_ratio2: string (nullable = true)\n",
      " |-- count_ratio: string (nullable = true)\n",
      " |-- tid: string (nullable = true)\n",
      " |-- cc_num: long (nullable = true)\n",
      " |-- consumer_id: string (nullable = true)\n",
      " |-- num_trans_last_7d: long (nullable = true)\n",
      " |-- avg_amt_last_7d: double (nullable = true)\n",
      " |-- event_time: string (nullable = true)\n",
      " |-- trans_time: double (nullable = true)\n",
      " |-- write_time: timestamp (nullable = true)\n",
      " |-- api_invocation_time: timestamp (nullable = true)\n",
      " |-- is_deleted: boolean (nullable = true)\n",
      " |-- year: integer (nullable = true)\n",
      " |-- month: integer (nullable = true)\n",
      " |-- day: integer (nullable = true)\n",
      " |-- hour: integer (nullable = true)\n",
      "\n",
      "After filter, count: 8807\n"
     ]
    }
   ],
   "source": [
    "filtered.printSchema()\n",
    "print(\"After filter, count: \" + str(filtered.count()))"
   ]
  },
  {
   "cell_type": "code",
   "execution_count": 31,
   "metadata": {},
   "outputs": [
    {
     "name": "stdout",
     "output_type": "stream",
     "text": [
      "+-------+-----------+------------------+----------------+-------------------+-------------------+-------------------+--------------------+----------------+------------------+-----------------+---------------+-------------------+-------------+--------------------+-------------------+----------+----+-----+---+----+\n",
      "| amount|fraud_label|num_trans_last_60m|avg_amt_last_60m|         amt_ratio1|         amt_ratio2|        count_ratio|                 tid|          cc_num|       consumer_id|num_trans_last_7d|avg_amt_last_7d|         event_time|   trans_time|          write_time|api_invocation_time|is_deleted|year|month|day|hour|\n",
      "+-------+-----------+------------------+----------------+-------------------+-------------------+-------------------+--------------------+----------------+------------------+-----------------+---------------+-------------------+-------------+--------------------+-------------------+----------+----+-----+---+----+\n",
      "|  79.42|          0|                 1|           79.42|  0.076882579184678|  0.076882579184678|0.07692307692307693|7d88be83f63535abd...|4250798115116459|AGKN34752255584542|               13|         1033.0|2021-01-29 10:04:17|1.620086952E9|2021-05-04 00:14:...|2021-05-04 00:09:11|     false|2021|    5|  4|   0|\n",
      "| 9259.0|          0|                 1|          9259.0|  5.309802518242232|  5.309802518242232|                0.1|a699f560f75daea14...|4527632357482179|AINP94926359368311|               10|        1743.76|2021-01-31 17:09:50|1.620086953E9|2021-05-04 00:14:...|2021-05-04 00:09:13|     false|2021|    5|  4|   0|\n",
      "|  56.33|          0|                 1|           56.33| 0.5197042387178407| 0.5197042387178407|0.07142857142857142|c9fc14047042b8c77...|4819550644575521|AKJG26134916263543|               14|         108.39|2021-01-31 06:11:28|1.620086953E9|2021-05-04 00:14:...|2021-05-04 00:09:13|     false|2021|    5|  4|   0|\n",
      "|  80.89|          0|                 1|           80.89|0.08589714267043505|0.08589714267043505|0.07692307692307693|9af049f40827f1f4e...|4031641771363971|AOUZ04666346722161|               13|         941.71|2021-01-31 17:01:14|1.620086953E9|2021-05-04 00:14:...|2021-05-04 00:09:13|     false|2021|    5|  4|   0|\n",
      "|8519.41|          0|                 1|         8519.41| 3.5362786529664048| 3.5362786529664048| 0.1111111111111111|caaa178370035250f...|4198816697198128|ARRP87120193280992|                9|        2409.15|2021-01-30 23:52:54|1.620086953E9|2021-05-04 00:14:...|2021-05-04 00:09:13|     false|2021|    5|  4|   0|\n",
      "+-------+-----------+------------------+----------------+-------------------+-------------------+-------------------+--------------------+----------------+------------------+-----------------+---------------+-------------------+-------------+--------------------+-------------------+----------+----+-----+---+----+\n",
      "only showing top 5 rows\n",
      "\n"
     ]
    }
   ],
   "source": [
    "filtered.show(5)"
   ]
  },
  {
   "cell_type": "code",
   "execution_count": 32,
   "metadata": {},
   "outputs": [
    {
     "name": "stdout",
     "output_type": "stream",
     "text": [
      "+----------------+------------------+\n",
      "|          cc_num|       consumer_id|\n",
      "+----------------+------------------+\n",
      "|4250798115116459|AGKN34752255584542|\n",
      "|4527632357482179|AINP94926359368311|\n",
      "|4819550644575521|AKJG26134916263543|\n",
      "|4031641771363971|AOUZ04666346722161|\n",
      "|4198816697198128|ARRP87120193280992|\n",
      "+----------------+------------------+\n",
      "only showing top 5 rows\n",
      "\n"
     ]
    }
   ],
   "source": [
    "filtered.select(\"cc_num\", \"consumer_id\").show(5)"
   ]
  },
  {
   "cell_type": "code",
   "execution_count": 33,
   "metadata": {},
   "outputs": [
    {
     "name": "stdout",
     "output_type": "stream",
     "text": [
      "Joined count: 441\n"
     ]
    }
   ],
   "source": [
    "# Join filtered dataframe with generated entity dataframe; drop duplicate consumer_id field\n",
    "\n",
    "joined = filtered.join(entity_df, filtered.consumer_id == entity_df.consumer_id, \"inner\").drop(entity_df.consumer_id)\n",
    "print(\"Joined count: \" + str(joined.count()))"
   ]
  },
  {
   "cell_type": "code",
   "execution_count": 34,
   "metadata": {},
   "outputs": [
    {
     "name": "stdout",
     "output_type": "stream",
     "text": [
      "+------+-----------+------------------+----------------+--------------------+--------------------+-------------------+--------------------+----------------+------------------+-----------------+---------------+-------------------+-------------+--------------------+-------------------+----------+----+-----+---+----+-------------------+\n",
      "|amount|fraud_label|num_trans_last_60m|avg_amt_last_60m|          amt_ratio1|          amt_ratio2|        count_ratio|                 tid|          cc_num|       consumer_id|num_trans_last_7d|avg_amt_last_7d|         event_time|   trans_time|          write_time|api_invocation_time|is_deleted|year|month|day|hour|           joindate|\n",
      "+------+-----------+------------------+----------------+--------------------+--------------------+-------------------+--------------------+----------------+------------------+-----------------+---------------+-------------------+-------------+--------------------+-------------------+----------+----+-----+---+----+-------------------+\n",
      "|  5.57|          0|                 1|            5.57|0.030991965458146933|0.030991965458146933|                0.2|aef871473d01691d7...|4776581520592778|NXFD47214590281452|                5|         179.72|2021-01-30 21:26:03|1.620087024E9|2021-05-04 00:14:...|2021-05-04 00:10:24|     false|2021|    5|  4|   0|2021-01-31 00:00:00|\n",
      "|861.35|          0|                 1|          861.35|   1.292323157414175|   1.292323157414175|0.07142857142857142|f3caa922bc0531596...|4863142568123325|UTEG81977298423310|               14|         666.51|2021-01-31 20:37:22|1.620086956E9|2021-05-04 00:14:...|2021-05-04 00:09:16|     false|2021|    5|  4|   0|2021-01-31 10:00:00|\n",
      "| 57.28|          0|                 1|           57.28| 0.07424593967517401| 0.07424593967517401|                0.1|8373cf97b35ffbd6f...|4381501848390546|WYDH16890160668186|               10|         771.49|2021-01-31 10:14:45|1.620087047E9|2021-05-04 00:14:...|2021-05-04 00:10:46|     false|2021|    5|  4|   0|2021-01-31 03:00:00|\n",
      "| 45.89|          0|                 1|           45.89| 0.04365706581788876| 0.04365706581788876|0.14285714285714285|5db7eb57d850f6ec2...|4566220935660045|ZDJM23959669605713|                7|        1051.15|2021-01-30 03:27:29|1.620086957E9|2021-05-04 00:14:...|2021-05-04 00:09:16|     false|2021|    5|  4|   0|2021-01-31 20:00:00|\n",
      "|  92.8|          0|                 1|            92.8|  0.3208352780514788|  0.3208352780514788|              0.125|b9610424abf0b92e9...|4577749194507783|BEYS59443385820789|                8|         289.25|2021-01-31 07:46:54|1.620087023E9|2021-05-04 00:14:...|2021-05-04 00:10:22|     false|2021|    5|  4|   0|2021-01-31 06:00:00|\n",
      "+------+-----------+------------------+----------------+--------------------+--------------------+-------------------+--------------------+----------------+------------------+-----------------+---------------+-------------------+-------------+--------------------+-------------------+----------+----+-----+---+----+-------------------+\n",
      "only showing top 5 rows\n",
      "\n"
     ]
    }
   ],
   "source": [
    "joined.show(5)"
   ]
  },
  {
   "cell_type": "code",
   "execution_count": 35,
   "metadata": {},
   "outputs": [
    {
     "name": "stdout",
     "output_type": "stream",
     "text": [
      "After drop stale, count: 200\n"
     ]
    }
   ],
   "source": [
    "# Filter out data from after query time or before query time minus staleness window\n",
    "# this query removes events outside the time window FOR the SPECIFIC CC (customer)\n",
    "drop_future_and_stale = joined.filter(\n",
    "    (joined.event_time <= entity_df.joindate)\n",
    "    & (datediff(entity_df.joindate, joined.event_time) <= allowed_staleness_days)\n",
    ")\n",
    "\n",
    "print(\"After drop stale, count: \" + str(drop_future_and_stale.count()))"
   ]
  },
  {
   "cell_type": "code",
   "execution_count": 36,
   "metadata": {},
   "outputs": [
    {
     "name": "stdout",
     "output_type": "stream",
     "text": [
      "+-------+-----------+------------------+----------------+--------------------+--------------------+-------------------+--------------------+----------------+------------------+-----------------+---------------+-------------------+-------------+--------------------+-------------------+----------+----+-----+---+----+-------------------+\n",
      "| amount|fraud_label|num_trans_last_60m|avg_amt_last_60m|          amt_ratio1|          amt_ratio2|        count_ratio|                 tid|          cc_num|       consumer_id|num_trans_last_7d|avg_amt_last_7d|         event_time|   trans_time|          write_time|api_invocation_time|is_deleted|year|month|day|hour|           joindate|\n",
      "+-------+-----------+------------------+----------------+--------------------+--------------------+-------------------+--------------------+----------------+------------------+-----------------+---------------+-------------------+-------------+--------------------+-------------------+----------+----+-----+---+----+-------------------+\n",
      "|   5.57|          0|                 1|            5.57|0.030991965458146933|0.030991965458146933|                0.2|aef871473d01691d7...|4776581520592778|NXFD47214590281452|                5|         179.72|2021-01-30 21:26:03|1.620087024E9|2021-05-04 00:14:...|2021-05-04 00:10:24|     false|2021|    5|  4|   0|2021-01-31 00:00:00|\n",
      "|  45.89|          0|                 1|           45.89| 0.04365706581788876| 0.04365706581788876|0.14285714285714285|5db7eb57d850f6ec2...|4566220935660045|ZDJM23959669605713|                7|        1051.15|2021-01-30 03:27:29|1.620086957E9|2021-05-04 00:14:...|2021-05-04 00:09:16|     false|2021|    5|  4|   0|2021-01-31 20:00:00|\n",
      "|  655.9|          0|                 1|           655.9| 0.36900699567017126| 0.36900699567017126|0.07692307692307693|8cecda3eeb1438849...|4660244081941335|JAFG17212568334347|               13|        1777.47|2021-01-31 15:22:10|1.620087001E9|2021-05-04 00:14:...|2021-05-04 00:10:00|     false|2021|    5|  4|   0|2021-01-31 18:00:00|\n",
      "|  43.52|          0|                 1|           43.52| 0.19436923231522474| 0.19436923231522474|              0.125|298d989dd48e81a3a...|4602386441721138|OENQ33956910724490|                8|          223.9|2021-01-31 05:00:38|1.620086955E9|2021-05-04 00:14:...|2021-05-04 00:09:14|     false|2021|    5|  4|   0|2021-01-31 15:00:00|\n",
      "|9707.51|          0|                 1|         9707.51|  11.666521114889225|  11.666521114889225|0.06666666666666667|f89ac7e189dd78160...|4344939924159607|FUAZ96915069331695|               15|         832.08|2021-01-31 06:03:48|   1.620087E9|2021-05-04 00:14:...|2021-05-04 00:10:00|     false|2021|    5|  4|   0|2021-01-31 22:00:00|\n",
      "+-------+-----------+------------------+----------------+--------------------+--------------------+-------------------+--------------------+----------------+------------------+-----------------+---------------+-------------------+-------------+--------------------+-------------------+----------+----+-----+---+----+-------------------+\n",
      "only showing top 5 rows\n",
      "\n"
     ]
    }
   ],
   "source": [
    "drop_future_and_stale.show(5)"
   ]
  },
  {
   "cell_type": "code",
   "execution_count": 37,
   "metadata": {},
   "outputs": [],
   "source": [
    "# Use reduceByKey to group by consumer_id and keep most recent record\n",
    "take_latest = (\n",
    "    drop_future_and_stale.rdd.map(lambda x: (x.consumer_id, x)) \n",
    "    .reduceByKey(\n",
    "        lambda x, y: x if ((x.event_time) >= (y.event_time)) else y\n",
    "    )  #  We could have used api_invocation_time as tie-breaker\n",
    "    .values()  # drop keys\n",
    ")\n"
   ]
  },
  {
   "cell_type": "code",
   "execution_count": 38,
   "metadata": {},
   "outputs": [],
   "source": [
    "# Convert to DataFrame\n",
    "latest_df = take_latest.toDF(drop_future_and_stale.schema)"
   ]
  },
  {
   "cell_type": "code",
   "execution_count": 39,
   "metadata": {},
   "outputs": [
    {
     "name": "stdout",
     "output_type": "stream",
     "text": [
      "Final count: 200\n"
     ]
    }
   ],
   "source": [
    "# Drop extra columns\n",
    "columns_to_drop = [\"write_time\", \"is_deleted\", \"year\", \"month\", \"day\", \"hour\", \"query_time\", \"api_invocation_time\"]\n",
    "final_df = latest_df.drop(*columns_to_drop)\n",
    "\n",
    "print('Final count: ' + str(final_df.count()))"
   ]
  },
  {
   "cell_type": "code",
   "execution_count": 40,
   "metadata": {},
   "outputs": [
    {
     "name": "stdout",
     "output_type": "stream",
     "text": [
      "+-------+-----------+------------------+----------------+--------------------+--------------------+--------------------+--------------------+----------------+------------------+-----------------+---------------+-------------------+-------------+-------------------+\n",
      "| amount|fraud_label|num_trans_last_60m|avg_amt_last_60m|          amt_ratio1|          amt_ratio2|         count_ratio|                 tid|          cc_num|       consumer_id|num_trans_last_7d|avg_amt_last_7d|         event_time|   trans_time|           joindate|\n",
      "+-------+-----------+------------------+----------------+--------------------+--------------------+--------------------+--------------------+----------------+------------------+-----------------+---------------+-------------------+-------------+-------------------+\n",
      "|  20.85|          0|                 1|           20.85| 0.19102619700588197| 0.19102619700588197| 0.06666666666666667|04f21b0619064256a...|4651276579663766|IXUJ57796449588233|               15|         109.15|2021-01-31 06:35:16|1.620087058E9|2021-01-31 09:00:00|\n",
      "|  46.85|          0|                 2|         514.095|  0.4594499386694055| 0.04187014000653896| 0.16666666666666666|553b09762e3486ce7...|4799594218664554|OGKG75949282369889|               12|        1118.94|2021-01-31 13:27:27|1.620086993E9|2021-01-31 14:00:00|\n",
      "| 983.07|          0|                 1|          983.07|   7.233721606169197|   7.233721606169197|                 0.1|350c4938a1597dd57...|4554358026390892|JTSI92768193337316|               10|          135.9|2021-01-31 11:39:56|1.620086974E9|2021-01-31 19:00:00|\n",
      "|   5.57|          0|                 1|            5.57|0.030991965458146933|0.030991965458146933|                 0.2|aef871473d01691d7...|4776581520592778|NXFD47214590281452|                5|         179.72|2021-01-30 21:26:03|1.620087024E9|2021-01-31 00:00:00|\n",
      "|  97.76|          0|                 1|           97.76| 0.10192920424541466| 0.10192920424541466|0.058823529411764705|16f6d3839c7471ca1...|4344467264454438|JNGH78684539044588|               17|          959.1|2021-01-31 16:21:01| 1.62008701E9|2021-01-31 18:00:00|\n",
      "|   0.08|          0|                 1|            0.08|7.709967263073212E-5|7.709967263073212E-5| 0.05263157894736842|37ce427bbbee7e8e8...|4603438539335443|TNIK85046300442572|               19|        1037.62|2021-01-31 07:09:07|1.620086994E9|2021-01-31 19:00:00|\n",
      "|3536.34|          0|                 1|         3536.34|   6.842193857709207|   6.842193857709207|                 0.1|fc6eab9dc7aa271b8...|4337980319609003|WNUN23747786019276|               10|         516.84|2021-01-30 09:34:38|1.620087012E9|2021-01-31 18:00:00|\n",
      "|  79.61|          0|                 1|           79.61| 0.08263367639762427| 0.08263367639762427| 0.06666666666666667|21f0caf0398b44c27...|4010533043311760|DYBI03156223550186|               15|         963.41|2021-01-31 09:24:44|1.620087018E9|2021-01-31 15:00:00|\n",
      "|   2.84|          0|                 1|            2.84|0.003291672300886...|0.003291672300886...| 0.06666666666666667|38da3712e14c4864b...|4670609170442700|CHOC17608400125669|               15|         862.78|2021-01-31 15:16:07|1.620087035E9|2021-01-31 22:00:00|\n",
      "|  95.81|          0|                 1|           95.81|  0.1483551186627429|  0.1483551186627429| 0.05263157894736842|70e81316ceae2146b...|4996240089137533|XKMP18170027282657|               19|         645.82|2021-01-31 17:23:22|1.620086962E9|2021-01-31 22:00:00|\n",
      "+-------+-----------+------------------+----------------+--------------------+--------------------+--------------------+--------------------+----------------+------------------+-----------------+---------------+-------------------+-------------+-------------------+\n",
      "only showing top 10 rows\n",
      "\n"
     ]
    }
   ],
   "source": [
    "# Show final query results\n",
    "\n",
    "final_df.show(10)\n",
    "\n",
    "# To save query result to s3:\n",
    "# OUTPUT_PATH = f\"s3://{BUCKET}/{PREFIX}/test_query_output\"\n",
    "# final_df.write.parquet(OUTPUT_PATH, mode=\"overwrite\")"
   ]
  },
  {
   "cell_type": "code",
   "execution_count": null,
   "metadata": {},
   "outputs": [],
   "source": []
  }
 ],
 "metadata": {
  "kernelspec": {
   "display_name": "conda_python3",
   "language": "python",
   "name": "conda_python3"
  },
  "language_info": {
   "codemirror_mode": {
    "name": "ipython",
    "version": 3
   },
   "file_extension": ".py",
   "mimetype": "text/x-python",
   "name": "python",
   "nbconvert_exporter": "python",
   "pygments_lexer": "ipython3",
   "version": "3.6.10"
  }
 },
 "nbformat": 4,
 "nbformat_minor": 5
}
