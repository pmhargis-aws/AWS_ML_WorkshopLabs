{
 "cells": [
  {
   "cell_type": "markdown",
   "metadata": {},
   "source": [
    "### Use SageMaker Feature Store and Apache Spark to generate point-in-time queries to implement Time Travel\n",
    "The following notebook builds out a set of Dataframes and Spark queries that provide a pattern for using \"Time Travel\" capabilities that leverage SageMaker Feature Store. We will demonstrate how to build a point-in-time feature sets. Techniques include building Spark Dataframes and using cross-table joins and query filters to reduce the dataset. "
   ]
  },
  {
   "cell_type": "code",
   "execution_count": null,
   "metadata": {},
   "outputs": [],
   "source": [
    "!pip install Faker"
   ]
  },
  {
   "cell_type": "code",
   "execution_count": 1,
   "metadata": {},
   "outputs": [],
   "source": [
    "# Faker\n",
    "from faker import Faker\n",
    "\n",
    "# Import pyspark and build Spark session\n",
    "\n",
    "from pyspark.sql import SparkSession\n",
    "from pyspark.sql.functions import datediff\n",
    "from pyspark.sql.functions import lit\n",
    "from pyspark.sql.functions import col\n",
    "from pyspark.sql.functions import max as sql_max\n",
    "from pyspark.sql.functions import min as sql_min\n",
    "from pyspark.sql.types import StringType\n",
    "from pyspark.sql.types import StructField\n",
    "from pyspark.sql.types import StructType\n",
    "\n",
    "from pyspark import SparkContext, SparkConf\n",
    "import sagemaker_pyspark\n",
    "import datetime\n",
    "\n",
    "# Configure Spark to use the SageMaker Spark dependency jars\n",
    "classpath = \":\".join(sagemaker_pyspark.classpath_jars())\n",
    "\n",
    "#print(f\"Spark classpath_jars: {classpath}\")"
   ]
  },
  {
   "cell_type": "code",
   "execution_count": 2,
   "metadata": {},
   "outputs": [],
   "source": [
    "spark = (SparkSession\n",
    "    .builder\n",
    "    .config(\"spark.driver.extraClassPath\", classpath)\n",
    "    .getOrCreate())\n"
   ]
  },
  {
   "cell_type": "code",
   "execution_count": 3,
   "metadata": {},
   "outputs": [
    {
     "name": "stdout",
     "output_type": "stream",
     "text": [
      "2.3.4\n"
     ]
    }
   ],
   "source": [
    "sc = spark.sparkContext\n",
    "print(sc.version)"
   ]
  },
  {
   "cell_type": "code",
   "execution_count": 4,
   "metadata": {},
   "outputs": [],
   "source": [
    "SEED = 123456\n",
    "faker = Faker()\n",
    "faker.seed_locale('en_US', 0)\n",
    "faker.seed_instance(SEED)"
   ]
  },
  {
   "cell_type": "code",
   "execution_count": 5,
   "metadata": {},
   "outputs": [
    {
     "name": "stdout",
     "output_type": "stream",
     "text": [
      "sagemaker-us-east-1-572539092864\n"
     ]
    }
   ],
   "source": [
    "import sagemaker\n",
    "\n",
    "BUCKET = sagemaker.Session().default_bucket()\n",
    "print(BUCKET)"
   ]
  },
  {
   "cell_type": "code",
   "execution_count": 6,
   "metadata": {},
   "outputs": [
    {
     "name": "stdout",
     "output_type": "stream",
     "text": [
      "s3://sagemaker-us-east-1-572539092864/sagemaker-featurestore-demo\n",
      "sagemaker-featurestore-demo/aggregated\n"
     ]
    }
   ],
   "source": [
    "import os\n",
    "\n",
    "BASE_PREFIX = \"sagemaker-featurestore-demo\"\n",
    "OFFLINE_STORE_BASE_URI = f's3://{BUCKET}/{BASE_PREFIX}'\n",
    "print(OFFLINE_STORE_BASE_URI)\n",
    "\n",
    "AGG_PREFIX = os.path.join(BASE_PREFIX, 'aggregated')\n",
    "print(AGG_PREFIX)\n",
    "\n",
    "AGG_FEATURES_PATH_S3 = f\"s3://{BUCKET}/{AGG_PREFIX}/\"\n",
    "AGG_FEATURES_PATH_PARQUET = f\"s3a://{BUCKET}/{AGG_PREFIX}/\""
   ]
  },
  {
   "cell_type": "code",
   "execution_count": 7,
   "metadata": {},
   "outputs": [
    {
     "name": "stdout",
     "output_type": "stream",
     "text": [
      "Using S3 path: s3://sagemaker-us-east-1-572539092864/sagemaker-featurestore-demo/aggregated/\n",
      "Found files: \n",
      "s3://sagemaker-us-east-1-572539092864/sagemaker-featurestore-demo/aggregated/_SUCCESS\n",
      "s3://sagemaker-us-east-1-572539092864/sagemaker-featurestore-demo/aggregated/part-00000-8905a404-2acc-42b8-9f77-bb12fa21ba4e-c000.csv\n"
     ]
    }
   ],
   "source": [
    "from sagemaker.s3 import S3Downloader\n",
    "\n",
    "file_list = S3Downloader.list(AGG_FEATURES_PATH_S3)\n",
    "\n",
    "print(f'Using S3 path: {AGG_FEATURES_PATH_S3}')\n",
    "print(\"Found files: \\n\" + \"\\n\".join(file_list))"
   ]
  },
  {
   "cell_type": "code",
   "execution_count": 8,
   "metadata": {},
   "outputs": [],
   "source": [
    "transactions_df = spark.read.options(Header=True).csv(AGG_FEATURES_PATH_PARQUET)"
   ]
  },
  {
   "cell_type": "code",
   "execution_count": 9,
   "metadata": {},
   "outputs": [
    {
     "name": "stdout",
     "output_type": "stream",
     "text": [
      "root\n",
      " |-- tid: string (nullable = true)\n",
      " |-- event_time: string (nullable = true)\n",
      " |-- cc_num: string (nullable = true)\n",
      " |-- amount: string (nullable = true)\n",
      " |-- fraud_label: string (nullable = true)\n",
      " |-- num_trans_last_60m: string (nullable = true)\n",
      " |-- avg_amt_last_60m: string (nullable = true)\n",
      " |-- num_trans_last_1d: string (nullable = true)\n",
      " |-- avg_amt_last_1d: string (nullable = true)\n",
      " |-- amt_ratio1: string (nullable = true)\n",
      " |-- amt_ratio2: string (nullable = true)\n",
      " |-- count_ratio: string (nullable = true)\n",
      "\n"
     ]
    },
    {
     "data": {
      "text/plain": [
       "500001"
      ]
     },
     "execution_count": 9,
     "metadata": {},
     "output_type": "execute_result"
    }
   ],
   "source": [
    "transactions_df.printSchema()\n",
    "transactions_df.count()"
   ]
  },
  {
   "cell_type": "code",
   "execution_count": 10,
   "metadata": {},
   "outputs": [
    {
     "name": "stdout",
     "output_type": "stream",
     "text": [
      "+--------------------+--------------------+----------------+-------+-----------+------------------+----------------+-----------------+------------------+--------------------+--------------------+------------------+\n",
      "|                 tid|          event_time|          cc_num| amount|fraud_label|num_trans_last_60m|avg_amt_last_60m|num_trans_last_1d|   avg_amt_last_1d|          amt_ratio1|          amt_ratio2|       count_ratio|\n",
      "+--------------------+--------------------+----------------+-------+-----------+------------------+----------------+-----------------+------------------+--------------------+--------------------+------------------+\n",
      "|ec9e8c973eabb24ff...|2021-01-01T02:10:...|4028853934607849|6698.67|          0|                 1|         6698.67|                1|           6698.67|                 1.0|                 1.0|               1.0|\n",
      "|6c708b2bea5bec096...|2021-01-01T03:11:...|4028853934607849| 338.97|          0|                 1|          338.97|                2|           3518.82| 0.09633058809487272| 0.09633058809487272|               0.5|\n",
      "|e2ad5ac9b181f07c0...|2021-01-01T05:25:...|4028853934607849|  50.64|          0|                 1|           50.64|                3|           2362.76|0.021432561919111547|0.021432561919111547|0.3333333333333333|\n",
      "|d8604d76551ea7d8a...|2021-01-01T09:19:...|4028853934607849| 198.32|          0|                 1|          198.32|                4|           1821.65| 0.10886833365355583| 0.10886833365355583|              0.25|\n",
      "|601a891f9225b96c8...|2021-01-01T11:07:...|4028853934607849|  44.76|          0|                 1|           44.76|                5|1466.2720000000002|0.030526396193884895|0.030526396193884895|               0.2|\n",
      "+--------------------+--------------------+----------------+-------+-----------+------------------+----------------+-----------------+------------------+--------------------+--------------------+------------------+\n",
      "only showing top 5 rows\n",
      "\n"
     ]
    }
   ],
   "source": [
    "transactions_df.show(5)"
   ]
  },
  {
   "cell_type": "code",
   "execution_count": 11,
   "metadata": {},
   "outputs": [],
   "source": [
    "# Load S3 location for Offline Store \n",
    "OFFLINE_STORE_URI = \"s3a://sagemaker-us-east-1-572539092864/sagemaker-featurestore-demo/572539092864/sagemaker/us-east-1/offline-store/cc-agg-batch-fg-1618489640/data/\"\n"
   ]
  },
  {
   "cell_type": "code",
   "execution_count": 12,
   "metadata": {},
   "outputs": [
    {
     "name": "stdout",
     "output_type": "stream",
     "text": [
      "root\n",
      " |-- tid: string (nullable = true)\n",
      " |-- cc_num: long (nullable = true)\n",
      " |-- num_trans_last_1d: long (nullable = true)\n",
      " |-- avg_amt_last_1d: double (nullable = true)\n",
      " |-- event_time: string (nullable = true)\n",
      " |-- trans_time: double (nullable = true)\n",
      " |-- write_time: timestamp (nullable = true)\n",
      " |-- api_invocation_time: timestamp (nullable = true)\n",
      " |-- is_deleted: boolean (nullable = true)\n",
      " |-- year: integer (nullable = true)\n",
      " |-- month: integer (nullable = true)\n",
      " |-- day: integer (nullable = true)\n",
      " |-- hour: integer (nullable = true)\n",
      "\n"
     ]
    },
    {
     "data": {
      "text/plain": [
       "1000"
      ]
     },
     "execution_count": 12,
     "metadata": {},
     "output_type": "execute_result"
    }
   ],
   "source": [
    "# Read Offline Store data\n",
    "feature_store_df = spark.read.parquet(OFFLINE_STORE_URI)\n",
    "feature_store_df.printSchema()\n",
    "feature_store_df.count()"
   ]
  },
  {
   "cell_type": "code",
   "execution_count": 13,
   "metadata": {},
   "outputs": [
    {
     "name": "stdout",
     "output_type": "stream",
     "text": [
      "+--------------------+----------------+-----------------+---------------+-------------------+-------------+--------------------+-------------------+----------+----+-----+---+----+\n",
      "|                 tid|          cc_num|num_trans_last_1d|avg_amt_last_1d|         event_time|   trans_time|          write_time|api_invocation_time|is_deleted|year|month|day|hour|\n",
      "+--------------------+----------------+-----------------+---------------+-------------------+-------------+--------------------+-------------------+----------+----+-----+---+----+\n",
      "|6c7825ae8dde6f430...|4047269399322294|               20|         929.34|2021-01-31 23:32:29|1.618490011E9|2021-04-15 12:38:...|2021-04-15 12:33:30|     false|2021|    4| 15|  12|\n",
      "|298e2cab41aed7dbf...|4387164162852064|               16|         287.72|2021-01-31 23:27:24|1.618490011E9|2021-04-15 12:38:...|2021-04-15 12:33:30|     false|2021|    4| 15|  12|\n",
      "|065076eddd6bb8079...|4447228755741220|               11|         307.44|2021-01-31 22:03:52|1.618490011E9|2021-04-15 12:38:...|2021-04-15 12:33:30|     false|2021|    4| 15|  12|\n",
      "|72ebcd416f090e1c6...|4723203369699713|               12|        2563.45|2021-01-31 20:17:26|1.618490011E9|2021-04-15 12:38:...|2021-04-15 12:33:31|     false|2021|    4| 15|  12|\n",
      "|ec681331e513abc3f...|4741577760487499|               10|        1954.35|2021-01-31 21:44:56|1.618490011E9|2021-04-15 12:38:...|2021-04-15 12:33:31|     false|2021|    4| 15|  12|\n",
      "+--------------------+----------------+-----------------+---------------+-------------------+-------------+--------------------+-------------------+----------+----+-----+---+----+\n",
      "only showing top 5 rows\n",
      "\n"
     ]
    }
   ],
   "source": [
    "feature_store_df.show(5)"
   ]
  },
  {
   "cell_type": "code",
   "execution_count": 14,
   "metadata": {},
   "outputs": [
    {
     "name": "stdout",
     "output_type": "stream",
     "text": [
      "root\n",
      " |-- amount: string (nullable = true)\n",
      " |-- fraud_label: string (nullable = true)\n",
      " |-- num_trans_last_60m: string (nullable = true)\n",
      " |-- avg_amt_last_60m: string (nullable = true)\n",
      " |-- amt_ratio1: string (nullable = true)\n",
      " |-- amt_ratio2: string (nullable = true)\n",
      " |-- count_ratio: string (nullable = true)\n",
      " |-- tid: string (nullable = true)\n",
      " |-- cc_num: long (nullable = true)\n",
      " |-- num_trans_last_1d: long (nullable = true)\n",
      " |-- avg_amt_last_1d: double (nullable = true)\n",
      " |-- event_time: string (nullable = true)\n",
      " |-- trans_time: double (nullable = true)\n",
      " |-- write_time: timestamp (nullable = true)\n",
      " |-- api_invocation_time: timestamp (nullable = true)\n",
      " |-- is_deleted: boolean (nullable = true)\n",
      " |-- year: integer (nullable = true)\n",
      " |-- month: integer (nullable = true)\n",
      " |-- day: integer (nullable = true)\n",
      " |-- hour: integer (nullable = true)\n",
      "\n"
     ]
    },
    {
     "data": {
      "text/plain": [
       "500001"
      ]
     },
     "execution_count": 14,
     "metadata": {},
     "output_type": "execute_result"
    }
   ],
   "source": [
    "# Join the raw transactons table to the aggregate feature table \n",
    "\n",
    "enhanced_df = (transactions_df.join(feature_store_df, transactions_df.tid == feature_store_df.tid, \"left_outer\")\n",
    "    .drop(transactions_df.tid)\n",
    "    .drop(transactions_df.cc_num)\n",
    "    .drop(transactions_df.num_trans_last_1d)\n",
    "    .drop(transactions_df.avg_amt_last_1d)\n",
    "    .drop(transactions_df.event_time))\n",
    "\n",
    "enhanced_df.printSchema()\n",
    "enhanced_df.count()"
   ]
  },
  {
   "cell_type": "code",
   "execution_count": 15,
   "metadata": {},
   "outputs": [
    {
     "name": "stdout",
     "output_type": "stream",
     "text": [
      "Cutoff time: 2021-02-01 00:00:00\n",
      "Cutoff cal:  1612137600\n"
     ]
    }
   ],
   "source": [
    "# Early cutoff to prune extra data\n",
    "import calendar\n",
    "\n",
    "# create cutoff time\n",
    "cutoff_time = datetime.datetime(2021, 2, 1)\n",
    "cutoff_cal = calendar.timegm(cutoff_time.timetuple())\n",
    "\n",
    "print(f'Cutoff time: {cutoff_time}')\n",
    "print(f'Cutoff cal:  {cutoff_cal}')"
   ]
  },
  {
   "cell_type": "markdown",
   "metadata": {},
   "source": [
    "### Sample Time Travel query from Studio\n",
    "\n",
    "##### Simplified query for datasets up to 100 GB\n",
    "\n",
    "SELECT *\n",
    "FROM\n",
    "    (SELECT *,\n",
    "         row_number()\n",
    "        OVER (PARTITION BY EventTime\n",
    "    ORDER BY  EventTime desc, Api_Invocation_Time DESC, write_time DESC) AS row_number\n",
    "    FROM sagemaker_featurestore.identity-feature-group-03-20-32-44-1614803787\n",
    "    where EventTime <= timestamp '<timestamp>')\n",
    "    -- replace timestamp '<timestamp>' with just <timestamp>  if EventTimeFeature is of type fractional\n",
    "WHERE row_number = 1 and\n",
    "NOT is_deleted"
   ]
  },
  {
   "cell_type": "markdown",
   "metadata": {},
   "source": [
    "### Build Query Dataframe that spans the intended time window"
   ]
  },
  {
   "cell_type": "code",
   "execution_count": null,
   "metadata": {},
   "outputs": [],
   "source": [
    "# entity data frame\n",
    "\n",
    "# add multiple instances for same cc_num\n",
    "#query_df = spark.createDataFrame([\n",
    "#      # instead of tid we use cc_num\n",
    "#      [cc_num_sample[0], \"2021-01-31T18:00:00Z\"], \n",
    "#      [cc_num_sample[1], \"2021-01-31T14:00:00Z\"],\n",
    "#      [cc_num_sample[2], \"2021-01-31T12:00:00Z\"],\n",
    "#      [cc_num_sample[3], \"2021-01-31T17:00:00Z\"],\n",
    "#      [cc_num_sample[4], \"2021-01-31T13:00:00Z\"]\n",
    "#    ],\n",
    "#    query_df_schema)\n",
    "\n",
    "#query_df.show()"
   ]
  },
  {
   "cell_type": "code",
   "execution_count": 16,
   "metadata": {},
   "outputs": [],
   "source": [
    "import random\n",
    "\n",
    "# Num samples in entity dataframe\n",
    "NUM_RANDOM_SAMPLES = 100\n",
    "\n",
    "cc_num_list = transactions_df.rdd.map(lambda x: x.cc_num).collect()"
   ]
  },
  {
   "cell_type": "code",
   "execution_count": 17,
   "metadata": {},
   "outputs": [
    {
     "name": "stdout",
     "output_type": "stream",
     "text": [
      "['4391394388523066', '4178703341147517', '4671096685272336', '4683617042712171', '4739672684659184', '4857743511793169', '4646120214659300', '4255558590192549', '4814121088764768', '4524584153018280', '4728806894593691', '4301684712758167', '4587576193681220', '4236603585689879', '4106727807825537', '4193799047482548', '4858014024523850', '4092336170988751', '4843834799716530', '4866429625756909', '4219457262138911', '4663671103936298', '4766960253027248', '4335550895610436', '4750764047485706', '4937909039675022', '4566212050718302', '4596231937265919', '4992021332110723', '4395886393337008', '4784109640131705', '4053728860399256', '4525813189752391', '4427066677260828', '4543145054222624', '4802445864928337', '4853952111585750', '4584401678600624', '4584998335559473', '4560154420940933', '4790550204645725', '4550792066895267', '4104825398215019', '4171133180677795', '4596231937265919', '4112847194141777', '4087089000407784', '4585047292159759', '4639389658139439', '4039621597854363', '4978795628949534', '4277698309551298', '4888557501280661', '4618937332705713', '4881053708504167', '4893308344742860', '4148950609641791', '4222541624502388', '4752133380472507', '4001351807943574', '4180897551997581', '4867010117638802', '4001837582277998', '4083798027474742', '4262665280982112', '4059791558090151', '4007144070776605', '4977782900448667', '4701919372400510', '4787741267319655', '4446018051418305', '4178703341147517', '4174145124046397', '4368598961938546', '4039951234037985', '4615861341152316', '4874885868493072', '4491810891527863', '4890785453601818', '4956860373932956', '4244558614819790', '4936563931287229', '4638733570298958', '4630246970548037', '4229877640266019', '4831257176785122', '4807614894591994', '4914146331599090', '4002179894087834', '4707060755005883', '4695640151184236', '4199439111597863', '4563133360689764', '4966332382034107', '4699136763776283', '4047120658622538', '4560970118727526', '4001351807943574', '4270322534709178', '4803584699884262']\n"
     ]
    }
   ],
   "source": [
    "cc_num_sample = random.sample(cc_num_list, NUM_RANDOM_SAMPLES)\n",
    "print(cc_num_sample)"
   ]
  },
  {
   "cell_type": "code",
   "execution_count": 18,
   "metadata": {},
   "outputs": [
    {
     "name": "stdout",
     "output_type": "stream",
     "text": [
      "[['4391394388523066', '2021-01-31 10:32:47'], ['4178703341147517', '2021-01-31 01:04:16'], ['4671096685272336', '2021-01-31 06:21:32'], ['4683617042712171', '2021-01-31 00:04:52'], ['4739672684659184', '2021-01-31 02:48:19'], ['4857743511793169', '2021-01-31 01:51:26'], ['4646120214659300', '2021-01-31 09:46:35'], ['4255558590192549', '2021-01-31 01:02:03'], ['4814121088764768', '2021-01-31 04:14:16'], ['4524584153018280', '2021-01-31 08:20:18'], ['4728806894593691', '2021-01-31 23:15:50'], ['4301684712758167', '2021-01-31 17:44:46'], ['4587576193681220', '2021-01-31 06:46:33'], ['4236603585689879', '2021-01-31 00:53:01'], ['4106727807825537', '2021-01-31 19:16:06'], ['4193799047482548', '2021-01-31 04:41:42'], ['4858014024523850', '2021-01-31 13:44:19'], ['4092336170988751', '2021-01-31 23:32:52'], ['4843834799716530', '2021-01-31 13:28:10'], ['4866429625756909', '2021-01-31 01:33:18'], ['4219457262138911', '2021-01-31 06:34:08'], ['4663671103936298', '2021-01-31 02:12:53'], ['4766960253027248', '2021-01-31 16:01:37'], ['4335550895610436', '2021-01-31 18:19:40'], ['4750764047485706', '2021-01-31 16:12:46'], ['4937909039675022', '2021-01-31 16:30:22'], ['4566212050718302', '2021-01-31 18:20:48'], ['4596231937265919', '2021-01-31 05:41:50'], ['4992021332110723', '2021-01-31 19:11:18'], ['4395886393337008', '2021-01-31 20:25:09'], ['4784109640131705', '2021-01-31 01:35:00'], ['4053728860399256', '2021-01-31 03:53:38'], ['4525813189752391', '2021-01-31 02:48:10'], ['4427066677260828', '2021-01-31 03:31:16'], ['4543145054222624', '2021-01-31 18:19:14'], ['4802445864928337', '2021-01-31 03:13:14'], ['4853952111585750', '2021-01-31 02:52:51'], ['4584401678600624', '2021-01-31 04:45:15'], ['4584998335559473', '2021-01-31 12:19:46'], ['4560154420940933', '2021-01-31 21:02:03'], ['4790550204645725', '2021-01-31 10:52:23'], ['4550792066895267', '2021-01-31 16:06:52'], ['4104825398215019', '2021-01-31 18:39:06'], ['4171133180677795', '2021-01-31 22:37:00'], ['4596231937265919', '2021-01-31 11:53:48'], ['4112847194141777', '2021-01-31 13:26:47'], ['4087089000407784', '2021-01-31 09:06:11'], ['4585047292159759', '2021-01-31 08:56:36'], ['4639389658139439', '2021-01-31 04:00:53'], ['4039621597854363', '2021-01-31 09:56:08'], ['4978795628949534', '2021-01-31 09:42:11'], ['4277698309551298', '2021-01-31 02:53:49'], ['4888557501280661', '2021-01-31 04:06:07'], ['4618937332705713', '2021-01-31 07:41:18'], ['4881053708504167', '2021-01-31 16:05:59'], ['4893308344742860', '2021-01-31 14:32:24'], ['4148950609641791', '2021-01-31 01:21:48'], ['4222541624502388', '2021-01-31 00:41:52'], ['4752133380472507', '2021-01-31 17:34:23'], ['4001351807943574', '2021-01-31 03:44:44'], ['4180897551997581', '2021-01-31 15:22:15'], ['4867010117638802', '2021-01-31 03:37:19'], ['4001837582277998', '2021-01-31 06:02:10'], ['4083798027474742', '2021-01-31 14:46:50'], ['4262665280982112', '2021-01-31 09:00:02'], ['4059791558090151', '2021-01-31 00:25:28'], ['4007144070776605', '2021-01-31 21:54:08'], ['4977782900448667', '2021-01-31 18:33:06'], ['4701919372400510', '2021-01-31 15:42:39'], ['4787741267319655', '2021-01-31 04:19:57'], ['4446018051418305', '2021-01-31 22:03:50'], ['4178703341147517', '2021-01-31 18:58:31'], ['4174145124046397', '2021-01-31 09:04:13'], ['4368598961938546', '2021-01-31 18:24:34'], ['4039951234037985', '2021-01-31 22:32:07'], ['4615861341152316', '2021-01-31 18:31:58'], ['4874885868493072', '2021-01-31 04:09:04'], ['4491810891527863', '2021-01-31 14:16:25'], ['4890785453601818', '2021-01-31 10:06:53'], ['4956860373932956', '2021-01-31 21:00:18'], ['4244558614819790', '2021-01-31 01:35:31'], ['4936563931287229', '2021-01-31 22:54:55'], ['4638733570298958', '2021-01-31 12:52:09'], ['4630246970548037', '2021-01-31 15:28:19'], ['4229877640266019', '2021-01-31 03:31:02'], ['4831257176785122', '2021-01-31 01:43:09'], ['4807614894591994', '2021-01-31 19:12:50'], ['4914146331599090', '2021-01-31 08:38:31'], ['4002179894087834', '2021-01-31 01:24:47'], ['4707060755005883', '2021-01-31 07:54:09'], ['4695640151184236', '2021-01-31 06:42:49'], ['4199439111597863', '2021-01-31 19:36:27'], ['4563133360689764', '2021-01-31 08:16:10'], ['4966332382034107', '2021-01-31 13:35:01'], ['4699136763776283', '2021-01-31 13:20:18'], ['4047120658622538', '2021-01-31 07:22:57'], ['4560970118727526', '2021-01-31 02:38:18'], ['4001351807943574', '2021-01-31 18:18:25'], ['4270322534709178', '2021-01-31 12:19:33'], ['4803584699884262', '2021-01-31 20:01:42']]\n"
     ]
    }
   ],
   "source": [
    "# Build list of faked tuples of cc_num and timestamp\n",
    "start = datetime.datetime.strptime('2021-01-31 00:00:00', '%Y-%m-%d %H:%M:%S')\n",
    "end = datetime.datetime.strptime('2021-01-31 23:59:59', '%Y-%m-%d %H:%M:%S')\n",
    "\n",
    "samples = list()\n",
    "for r in range(NUM_RANDOM_SAMPLES):\n",
    "    row = []\n",
    "    fake_timestamp = faker.date_time_between(start_date=start, end_date=end, tzinfo=None).strftime('%Y-%m-%d %H:%M:%S')\n",
    "    row.append(cc_num_sample[r])\n",
    "    row.append(fake_timestamp)\n",
    "    samples.append(row)\n",
    "    \n",
    "print(samples)"
   ]
  },
  {
   "cell_type": "code",
   "execution_count": 19,
   "metadata": {},
   "outputs": [],
   "source": [
    "# Create and show the query DF (e.g. entity_dataframe)\n",
    "\n",
    "query_df_schema = StructType([\n",
    "    # change to transactionid (tid)\n",
    "    StructField('cc_num', StringType(), False),\n",
    "    StructField('joindate', StringType(), False)\n",
    "])"
   ]
  },
  {
   "cell_type": "code",
   "execution_count": 20,
   "metadata": {},
   "outputs": [
    {
     "name": "stdout",
     "output_type": "stream",
     "text": [
      "+----------------+-------------------+\n",
      "|          cc_num|           joindate|\n",
      "+----------------+-------------------+\n",
      "|4391394388523066|2021-01-31 10:32:47|\n",
      "|4178703341147517|2021-01-31 01:04:16|\n",
      "|4671096685272336|2021-01-31 06:21:32|\n",
      "|4683617042712171|2021-01-31 00:04:52|\n",
      "|4739672684659184|2021-01-31 02:48:19|\n",
      "|4857743511793169|2021-01-31 01:51:26|\n",
      "|4646120214659300|2021-01-31 09:46:35|\n",
      "|4255558590192549|2021-01-31 01:02:03|\n",
      "|4814121088764768|2021-01-31 04:14:16|\n",
      "|4524584153018280|2021-01-31 08:20:18|\n",
      "|4728806894593691|2021-01-31 23:15:50|\n",
      "|4301684712758167|2021-01-31 17:44:46|\n",
      "|4587576193681220|2021-01-31 06:46:33|\n",
      "|4236603585689879|2021-01-31 00:53:01|\n",
      "|4106727807825537|2021-01-31 19:16:06|\n",
      "|4193799047482548|2021-01-31 04:41:42|\n",
      "|4858014024523850|2021-01-31 13:44:19|\n",
      "|4092336170988751|2021-01-31 23:32:52|\n",
      "|4843834799716530|2021-01-31 13:28:10|\n",
      "|4866429625756909|2021-01-31 01:33:18|\n",
      "+----------------+-------------------+\n",
      "only showing top 20 rows\n",
      "\n"
     ]
    }
   ],
   "source": [
    "# Create entity data frame\n",
    "\n",
    "query_df = spark.createDataFrame(samples, query_df_schema)\n",
    "query_df.show()"
   ]
  },
  {
   "cell_type": "code",
   "execution_count": 21,
   "metadata": {},
   "outputs": [
    {
     "name": "stdout",
     "output_type": "stream",
     "text": [
      "[Row(min(joindate)='2021-01-31 00:04:52', max(joindate)='2021-01-31 23:32:52')]\n"
     ]
    }
   ],
   "source": [
    "# Performance Improvement: \n",
    "# Compute min and max times over our query data for filtering, in one pass for performance\n",
    "\n",
    "# query_df used to define bounded time window\n",
    "minmax_time = query_df.agg(sql_min(\"joindate\"), sql_max(\"joindate\")).collect()\n",
    "print(minmax_time)"
   ]
  },
  {
   "cell_type": "code",
   "execution_count": 22,
   "metadata": {},
   "outputs": [
    {
     "name": "stdout",
     "output_type": "stream",
     "text": [
      "min_time: 2021-01-31 00:04:52\n",
      "max_time: 2021-01-31 23:32:52\n"
     ]
    }
   ],
   "source": [
    "min_time, max_time = minmax_time[0][\"min(joindate)\"], minmax_time[0][\"max(joindate)\"]\n",
    "print(f'min_time: {min_time}')\n",
    "print(f'max_time: {max_time}')"
   ]
  },
  {
   "cell_type": "code",
   "execution_count": 23,
   "metadata": {},
   "outputs": [
    {
     "name": "stdout",
     "output_type": "stream",
     "text": [
      "Before filter, count: 500001\n"
     ]
    }
   ],
   "source": [
    "print(\"Before filter, count: \" + str(enhanced_df.count()))"
   ]
  },
  {
   "cell_type": "code",
   "execution_count": null,
   "metadata": {},
   "outputs": [],
   "source": [
    "# Filter deleted records out\n",
    "#events_window = events_window.filter(~events_window.is_deleted)\n",
    "#print(\"After count: \" + str(events_window.count()))"
   ]
  },
  {
   "cell_type": "code",
   "execution_count": 24,
   "metadata": {},
   "outputs": [
    {
     "name": "stdout",
     "output_type": "stream",
     "text": [
      "root\n",
      " |-- amount: string (nullable = true)\n",
      " |-- fraud_label: string (nullable = true)\n",
      " |-- num_trans_last_60m: string (nullable = true)\n",
      " |-- avg_amt_last_60m: string (nullable = true)\n",
      " |-- amt_ratio1: string (nullable = true)\n",
      " |-- amt_ratio2: string (nullable = true)\n",
      " |-- count_ratio: string (nullable = true)\n",
      " |-- tid: string (nullable = true)\n",
      " |-- cc_num: long (nullable = true)\n",
      " |-- num_trans_last_1d: long (nullable = true)\n",
      " |-- avg_amt_last_1d: double (nullable = true)\n",
      " |-- event_time: string (nullable = true)\n",
      " |-- trans_time: double (nullable = true)\n",
      " |-- write_time: timestamp (nullable = true)\n",
      " |-- api_invocation_time: timestamp (nullable = true)\n",
      " |-- is_deleted: boolean (nullable = true)\n",
      " |-- year: integer (nullable = true)\n",
      " |-- month: integer (nullable = true)\n",
      " |-- day: integer (nullable = true)\n",
      " |-- hour: integer (nullable = true)\n",
      "\n",
      "After filter, count: 728\n",
      "CPU times: user 2.8 ms, sys: 0 ns, total: 2.8 ms\n",
      "Wall time: 925 ms\n"
     ]
    }
   ],
   "source": [
    "%%time\n",
    "\n",
    "# Filter out records from after query max_time and before staleness window prior to the min_time\n",
    "# This is a performance optimization; doing this prior to individual {shopper, query_time} filtering will be faster\n",
    "\n",
    "# Choose a window of time before which we want to ignore records\n",
    "allowed_staleness_days = 4\n",
    "\n",
    "# Eliminate CC's (customers) who do NOT have any relevant records within a near timeframe (4 days)\n",
    "filtered = enhanced_df.filter(\n",
    "    # datediff ( enddate, startdate ) - returns days\n",
    "    # we are actually removing items when event_time is MORE than 4 days before min_time (outside our buffer)\n",
    "    (datediff(lit(min_time), enhanced_df.event_time) <= allowed_staleness_days)\n",
    "    & (enhanced_df.event_time <= max_time)\n",
    ")\n",
    "\n",
    "filtered.printSchema()\n",
    "print(\"After filter, count: \" + str(filtered.count()))"
   ]
  },
  {
   "cell_type": "code",
   "execution_count": 25,
   "metadata": {},
   "outputs": [
    {
     "name": "stdout",
     "output_type": "stream",
     "text": [
      "+----------------+\n",
      "|          cc_num|\n",
      "+----------------+\n",
      "|4028853934607849|\n",
      "|4047269399322294|\n",
      "|4064963388466975|\n",
      "|4171133180677795|\n",
      "|4364372509439829|\n",
      "|4376838888917748|\n",
      "|4387164162852064|\n",
      "|4437529857770948|\n",
      "|4447228755741220|\n",
      "|4453776103531090|\n",
      "+----------------+\n",
      "only showing top 10 rows\n",
      "\n"
     ]
    }
   ],
   "source": [
    "filtered.select(\"cc_num\").show(10)"
   ]
  },
  {
   "cell_type": "code",
   "execution_count": 26,
   "metadata": {},
   "outputs": [
    {
     "name": "stdout",
     "output_type": "stream",
     "text": [
      "Joined count: 77\n"
     ]
    }
   ],
   "source": [
    "# Join with query set; drop duplicate id field\n",
    "# .drop(feature_store_df.tid)\n",
    "\n",
    "joined = filtered.join(query_df, filtered.cc_num == query_df.cc_num, \"inner\").drop(query_df.cc_num)\n",
    "print(\"Joined count: \" + str(joined.count()))"
   ]
  },
  {
   "cell_type": "code",
   "execution_count": 28,
   "metadata": {},
   "outputs": [
    {
     "name": "stdout",
     "output_type": "stream",
     "text": [
      "+-------+-----------+------------------+------------------+------------------+-------------------+-------------------+--------------------+----------------+-----------------+---------------+-------------------+-------------+--------------------+-------------------+----------+----+-----+---+----+-------------------+\n",
      "| amount|fraud_label|num_trans_last_60m|  avg_amt_last_60m|        amt_ratio1|         amt_ratio2|        count_ratio|                 tid|          cc_num|num_trans_last_1d|avg_amt_last_1d|         event_time|   trans_time|          write_time|api_invocation_time|is_deleted|year|month|day|hour|           joindate|\n",
      "+-------+-----------+------------------+------------------+------------------+-------------------+-------------------+--------------------+----------------+-----------------+---------------+-------------------+-------------+--------------------+-------------------+----------+----+-----+---+----+-------------------+\n",
      "|  95.08|          0|                 2|            527.46| 1.558436422563189|0.28092392798943616|0.15384615384615385|492a9645b7d3a720f...|4699136763776283|               13|         338.45|2021-01-31 22:30:10|1.618490015E9|2021-04-15 12:38:...|2021-04-15 12:33:35|     false|2021|    4| 15|  12|2021-01-31 13:20:18|\n",
      "|5430.24|          0|                 2|2919.7149999999997|  4.49378196873541|   8.35777279560018|0.13333333333333333|09d801c2b212059a1...|4766960253027248|               15|         649.72|2021-01-31 22:30:04|1.618490011E9|2021-04-15 12:38:...|2021-04-15 12:33:31|     false|2021|    4| 15|  12|2021-01-31 16:01:37|\n",
      "|  49.88|          0|                 1|             49.88| 0.256586561956121|  0.256586561956121|0.05555555555555555|40a564ca782f5ec95...|4831257176785122|               18|          194.4|2021-01-31 22:45:07|1.618490019E9|2021-04-15 12:38:...|2021-04-15 12:33:38|     false|2021|    4| 15|  12|2021-01-31 01:43:09|\n",
      "|  47.61|          0|                 2|            50.875|0.1045769771343853|0.09786555049372155|              0.125|33d93b715bf49137b...|4087089000407784|               16|         486.48|2021-01-31 22:46:53|1.618490015E9|2021-04-15 12:38:...|2021-04-15 12:33:35|     false|2021|    4| 15|  12|2021-01-31 09:06:11|\n",
      "|  78.87|          0|                 1|             78.87| 0.359245211140465|  0.359245211140465|0.09090909090909091|3bf8025008ff1aa54...|4978795628949534|               11|         219.54|2021-01-31 22:14:22|1.618490011E9|2021-04-15 12:39:...|2021-04-15 12:33:31|     false|2021|    4| 15|  12|2021-01-31 09:42:11|\n",
      "+-------+-----------+------------------+------------------+------------------+-------------------+-------------------+--------------------+----------------+-----------------+---------------+-------------------+-------------+--------------------+-------------------+----------+----+-----+---+----+-------------------+\n",
      "only showing top 5 rows\n",
      "\n"
     ]
    }
   ],
   "source": [
    "joined.show(5)"
   ]
  },
  {
   "cell_type": "code",
   "execution_count": 29,
   "metadata": {},
   "outputs": [
    {
     "name": "stdout",
     "output_type": "stream",
     "text": [
      "After drop stale, count: 6\n"
     ]
    }
   ],
   "source": [
    "# Filter out data from after query time or before query time minus staleness window\n",
    "# this query removes events outside the time window FOR the SPECIFIC CC (customer)\n",
    "drop_future_and_stale = joined.filter(\n",
    "    (joined.event_time <= query_df.joindate)\n",
    "    & (datediff(query_df.joindate, joined.event_time) <= allowed_staleness_days)\n",
    ")\n",
    "print(\"After drop stale, count: \" + str(drop_future_and_stale.count()))"
   ]
  },
  {
   "cell_type": "code",
   "execution_count": 31,
   "metadata": {},
   "outputs": [
    {
     "name": "stdout",
     "output_type": "stream",
     "text": [
      "+------+-----------+------------------+------------------+------------------+------------------+-------------------+--------------------+----------------+-----------------+---------------+-------------------+-------------+--------------------+-------------------+----------+----+-----+---+----+-------------------+\n",
      "|amount|fraud_label|num_trans_last_60m|  avg_amt_last_60m|        amt_ratio1|        amt_ratio2|        count_ratio|                 tid|          cc_num|num_trans_last_1d|avg_amt_last_1d|         event_time|   trans_time|          write_time|api_invocation_time|is_deleted|year|month|day|hour|           joindate|\n",
      "+------+-----------+------------------+------------------+------------------+------------------+-------------------+--------------------+----------------+-----------------+---------------+-------------------+-------------+--------------------+-------------------+----------+----+-----+---+----+-------------------+\n",
      "|373.86|          0|                 1|            373.86|0.2896065959820171|0.2896065959820171|0.09090909090909091|7eb20397bde4a6842...|4171133180677795|               11|        1290.92|2021-01-31 22:33:53|1.618490011E9|2021-04-15 12:38:...|2021-04-15 12:33:30|     false|2021|    4| 15|  12|2021-01-31 22:37:00|\n",
      "|352.78|          0|                 1|            352.78|0.5560476765409601|0.5560476765409601|0.06666666666666667|4e515c9d26ce48f71...|4039951234037985|               15|         634.44|2021-01-31 22:17:32|1.618490021E9|2021-04-15 12:38:...|2021-04-15 12:33:41|     false|2021|    4| 15|  12|2021-01-31 22:32:07|\n",
      "|256.19|          0|                 2|           3656.39| 4.294517391589718|0.3009012743584163|0.11764705882352941|83c8ecf1a3d33ccf2...|4728806894593691|               17|         851.41|2021-01-31 22:21:44|1.618490014E9|2021-04-15 12:38:...|2021-04-15 12:33:34|     false|2021|    4| 15|  12|2021-01-31 23:15:50|\n",
      "| 98.47|          0|                 1|             98.47|0.0850845545942664|0.0850845545942664|0.06666666666666667|4969b12d9509be06f...|4007144070776605|               15|        1157.32|2021-01-31 21:16:21|1.618490022E9|2021-04-15 12:39:...|2021-04-15 12:33:41|     false|2021|    4| 15|  12|2021-01-31 21:54:08|\n",
      "|353.62|          0|                 3|144.15666666666667|0.1842688765274908|0.4520162794019328|0.13043478260869565|9f30dc3d5980679e9...|4936563931287229|               23|         782.32|2021-01-31 21:59:38|1.618490018E9|2021-04-15 12:38:...|2021-04-15 12:33:37|     false|2021|    4| 15|  12|2021-01-31 22:54:55|\n",
      "+------+-----------+------------------+------------------+------------------+------------------+-------------------+--------------------+----------------+-----------------+---------------+-------------------+-------------+--------------------+-------------------+----------+----+-----+---+----+-------------------+\n",
      "only showing top 5 rows\n",
      "\n"
     ]
    }
   ],
   "source": [
    "drop_future_and_stale.show(5)"
   ]
  },
  {
   "cell_type": "code",
   "execution_count": 32,
   "metadata": {},
   "outputs": [],
   "source": [
    "# Group by id and take latest record\n",
    "take_latest = (\n",
    "    drop_future_and_stale.rdd.map(lambda x: (x.cc_num, x))  # to RDD with KVPs so we can use efficient reduceByKey\n",
    "    .reduceByKey(\n",
    "        lambda x, y: x if ((x.event_time) >= (y.event_time)) else y\n",
    "    )  # Use API invocation time as tie-breaker\n",
    "    .values()  # drop keys\n",
    ")"
   ]
  },
  {
   "cell_type": "code",
   "execution_count": 33,
   "metadata": {},
   "outputs": [],
   "source": [
    "# Convert to DF\n",
    "latest_df = take_latest.toDF(drop_future_and_stale.schema)"
   ]
  },
  {
   "cell_type": "code",
   "execution_count": 34,
   "metadata": {},
   "outputs": [],
   "source": [
    "# Drop extra columns\n",
    "columns_to_drop = [\"write_time\", \"is_deleted\", \"year\", \"month\", \"day\", \"hour\", \"query_time\", \"api_invocation_time\"]\n",
    "selected = latest_df.drop(*columns_to_drop)"
   ]
  },
  {
   "cell_type": "code",
   "execution_count": 35,
   "metadata": {},
   "outputs": [
    {
     "name": "stdout",
     "output_type": "stream",
     "text": [
      "+------+-----------+------------------+------------------+-------------------+-------------------+-------------------+--------------------+----------------+-----------------+---------------+-------------------+-------------+-------------------+\n",
      "|amount|fraud_label|num_trans_last_60m|  avg_amt_last_60m|         amt_ratio1|         amt_ratio2|        count_ratio|                 tid|          cc_num|num_trans_last_1d|avg_amt_last_1d|         event_time|   trans_time|           joindate|\n",
      "+------+-----------+------------------+------------------+-------------------+-------------------+-------------------+--------------------+----------------+-----------------+---------------+-------------------+-------------+-------------------+\n",
      "| 98.47|          0|                 1|             98.47| 0.0850845545942664| 0.0850845545942664|0.06666666666666667|4969b12d9509be06f...|4007144070776605|               15|        1157.32|2021-01-31 21:16:21|1.618490022E9|2021-01-31 21:54:08|\n",
      "|353.62|          0|                 3|144.15666666666667| 0.1842688765274908| 0.4520162794019328|0.13043478260869565|9f30dc3d5980679e9...|4936563931287229|               23|         782.32|2021-01-31 21:59:38|1.618490018E9|2021-01-31 22:54:55|\n",
      "|256.19|          0|                 2|           3656.39|  4.294517391589718| 0.3009012743584163|0.11764705882352941|83c8ecf1a3d33ccf2...|4728806894593691|               17|         851.41|2021-01-31 22:21:44|1.618490014E9|2021-01-31 23:15:50|\n",
      "| 12.09|          0|                 2| 7.734999999999999|0.03260090757105325|0.05095604040517567| 0.1111111111111111|6bf4c92cc7ab74c6a...|4092336170988751|               18|         237.26|2021-01-31 23:17:50|1.618490022E9|2021-01-31 23:32:52|\n",
      "|352.78|          0|                 1|            352.78| 0.5560476765409601| 0.5560476765409601|0.06666666666666667|4e515c9d26ce48f71...|4039951234037985|               15|         634.44|2021-01-31 22:17:32|1.618490021E9|2021-01-31 22:32:07|\n",
      "|373.86|          0|                 1|            373.86| 0.2896065959820171| 0.2896065959820171|0.09090909090909091|7eb20397bde4a6842...|4171133180677795|               11|        1290.92|2021-01-31 22:33:53|1.618490011E9|2021-01-31 22:37:00|\n",
      "+------+-----------+------------------+------------------+-------------------+-------------------+-------------------+--------------------+----------------+-----------------+---------------+-------------------+-------------+-------------------+\n",
      "\n"
     ]
    }
   ],
   "source": [
    "# Show query result\n",
    "selected.show()\n",
    "\n",
    "# To save query result to s3:\n",
    "# OUTPUT_PATH = f\"s3://{BUCKET}/{PREFIX}/test_query_output\"\n",
    "# selected.write.parquet(OUTPUT_PATH, mode=\"overwrite\")"
   ]
  },
  {
   "cell_type": "code",
   "execution_count": null,
   "metadata": {},
   "outputs": [],
   "source": []
  }
 ],
 "metadata": {
  "kernelspec": {
   "display_name": "conda_python3",
   "language": "python",
   "name": "conda_python3"
  },
  "language_info": {
   "codemirror_mode": {
    "name": "ipython",
    "version": 3
   },
   "file_extension": ".py",
   "mimetype": "text/x-python",
   "name": "python",
   "nbconvert_exporter": "python",
   "pygments_lexer": "ipython3",
   "version": "3.6.10"
  }
 },
 "nbformat": 4,
 "nbformat_minor": 5
}
