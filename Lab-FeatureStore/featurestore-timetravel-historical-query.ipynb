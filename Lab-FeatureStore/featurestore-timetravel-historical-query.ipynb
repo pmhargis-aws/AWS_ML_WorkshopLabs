{
 "cells": [
  {
   "cell_type": "markdown",
   "metadata": {},
   "source": [
    "### Use SageMaker Feature Store and Apache Spark to generate point-in-time queries to implement Time Travel\n",
    "The following notebook builds out a set of Dataframes and Spark queries that provide a pattern for using \"Time Travel\" capabilities that leverage SageMaker Feature Store. We will demonstrate how to build a point-in-time feature sets. Techniques include building Spark Dataframes and using cross-table joins and query filters to reduce the dataset. "
   ]
  },
  {
   "cell_type": "code",
   "execution_count": null,
   "metadata": {},
   "outputs": [],
   "source": [
    "!pip install Faker"
   ]
  },
  {
   "cell_type": "code",
   "execution_count": 1,
   "metadata": {},
   "outputs": [],
   "source": [
    "# Faker\n",
    "from faker import Faker\n",
    "\n",
    "# Import pyspark and build Spark session\n",
    "\n",
    "from pyspark.sql import SparkSession\n",
    "from pyspark.sql.functions import datediff\n",
    "from pyspark.sql.functions import lit\n",
    "from pyspark.sql.functions import col\n",
    "from pyspark.sql.functions import max as sql_max\n",
    "from pyspark.sql.functions import min as sql_min\n",
    "from pyspark.sql.types import StringType\n",
    "from pyspark.sql.types import StructField\n",
    "from pyspark.sql.types import StructType\n",
    "\n",
    "from pyspark import SparkContext, SparkConf\n",
    "import sagemaker_pyspark\n",
    "import datetime\n",
    "\n",
    "# Configure Spark to use the SageMaker Spark dependency jars\n",
    "classpath = \":\".join(sagemaker_pyspark.classpath_jars())\n",
    "\n",
    "#print(f\"Spark classpath_jars: {classpath}\")"
   ]
  },
  {
   "cell_type": "code",
   "execution_count": 2,
   "metadata": {},
   "outputs": [],
   "source": [
    "spark = (SparkSession\n",
    "    .builder\n",
    "    .config(\"spark.driver.extraClassPath\", classpath)\n",
    "    .getOrCreate())\n"
   ]
  },
  {
   "cell_type": "code",
   "execution_count": 3,
   "metadata": {},
   "outputs": [
    {
     "name": "stdout",
     "output_type": "stream",
     "text": [
      "2.3.4\n"
     ]
    }
   ],
   "source": [
    "sc = spark.sparkContext\n",
    "print(sc.version)"
   ]
  },
  {
   "cell_type": "code",
   "execution_count": 4,
   "metadata": {},
   "outputs": [],
   "source": [
    "SEED = 123456\n",
    "faker = Faker()\n",
    "faker.seed_locale('en_US', 0)\n",
    "faker.seed_instance(SEED)"
   ]
  },
  {
   "cell_type": "code",
   "execution_count": 5,
   "metadata": {},
   "outputs": [
    {
     "name": "stdout",
     "output_type": "stream",
     "text": [
      "sagemaker-us-east-1-572539092864\n"
     ]
    }
   ],
   "source": [
    "import sagemaker\n",
    "\n",
    "BUCKET = sagemaker.Session().default_bucket()\n",
    "print(BUCKET)"
   ]
  },
  {
   "cell_type": "code",
   "execution_count": 6,
   "metadata": {},
   "outputs": [
    {
     "name": "stdout",
     "output_type": "stream",
     "text": [
      "s3://sagemaker-us-east-1-572539092864/sagemaker-featurestore-demo\n",
      "sagemaker-featurestore-demo/aggregated\n"
     ]
    }
   ],
   "source": [
    "import os\n",
    "\n",
    "BASE_PREFIX = \"sagemaker-featurestore-demo\"\n",
    "OFFLINE_STORE_BASE_URI = f's3://{BUCKET}/{BASE_PREFIX}'\n",
    "print(OFFLINE_STORE_BASE_URI)\n",
    "\n",
    "AGG_PREFIX = os.path.join(BASE_PREFIX, 'aggregated')\n",
    "print(AGG_PREFIX)\n",
    "\n",
    "AGG_FEATURES_PATH_S3 = f\"s3://{BUCKET}/{AGG_PREFIX}/\"\n",
    "AGG_FEATURES_PATH_PARQUET = f\"s3a://{BUCKET}/{AGG_PREFIX}/\""
   ]
  },
  {
   "cell_type": "code",
   "execution_count": 7,
   "metadata": {},
   "outputs": [
    {
     "name": "stdout",
     "output_type": "stream",
     "text": [
      "Using S3 path: s3://sagemaker-us-east-1-572539092864/sagemaker-featurestore-demo/aggregated/\n",
      "Found files: \n",
      "s3://sagemaker-us-east-1-572539092864/sagemaker-featurestore-demo/aggregated/_SUCCESS\n",
      "s3://sagemaker-us-east-1-572539092864/sagemaker-featurestore-demo/aggregated/part-00000-8905a404-2acc-42b8-9f77-bb12fa21ba4e-c000.csv\n"
     ]
    }
   ],
   "source": [
    "from sagemaker.s3 import S3Downloader\n",
    "\n",
    "file_list = S3Downloader.list(AGG_FEATURES_PATH_S3)\n",
    "\n",
    "print(f'Using S3 path: {AGG_FEATURES_PATH_S3}')\n",
    "print(\"Found files: \\n\" + \"\\n\".join(file_list))"
   ]
  },
  {
   "cell_type": "code",
   "execution_count": null,
   "metadata": {},
   "outputs": [],
   "source": [
    "# Read and show feature store DF\n",
    "#feature_store_df = spark.read.parquet(AGG_FEATURES_PATH_PARQUET)\n",
    "\n",
    "# copy CSV file from above\n",
    "##partfile = \"part-00000-736d45d1-ee46-4745-b88a-7ba9460b239c-c000.csv\"\n",
    "\n",
    "##FEATURE_STORE_PATH_CSV = f\"s3a://{BUCKET}/{PREFIX}/{partfile}\""
   ]
  },
  {
   "cell_type": "code",
   "execution_count": 8,
   "metadata": {},
   "outputs": [],
   "source": [
    "transactions_df = spark.read.options(Header=True).csv(AGG_FEATURES_PATH_PARQUET)"
   ]
  },
  {
   "cell_type": "code",
   "execution_count": 9,
   "metadata": {},
   "outputs": [
    {
     "name": "stdout",
     "output_type": "stream",
     "text": [
      "root\n",
      " |-- tid: string (nullable = true)\n",
      " |-- event_time: string (nullable = true)\n",
      " |-- cc_num: string (nullable = true)\n",
      " |-- amount: string (nullable = true)\n",
      " |-- fraud_label: string (nullable = true)\n",
      " |-- num_trans_last_60m: string (nullable = true)\n",
      " |-- avg_amt_last_60m: string (nullable = true)\n",
      " |-- num_trans_last_1d: string (nullable = true)\n",
      " |-- avg_amt_last_1d: string (nullable = true)\n",
      " |-- amt_ratio1: string (nullable = true)\n",
      " |-- amt_ratio2: string (nullable = true)\n",
      " |-- count_ratio: string (nullable = true)\n",
      "\n"
     ]
    },
    {
     "data": {
      "text/plain": [
       "500001"
      ]
     },
     "execution_count": 9,
     "metadata": {},
     "output_type": "execute_result"
    }
   ],
   "source": [
    "transactions_df.printSchema()\n",
    "transactions_df.count()"
   ]
  },
  {
   "cell_type": "code",
   "execution_count": 10,
   "metadata": {},
   "outputs": [
    {
     "name": "stdout",
     "output_type": "stream",
     "text": [
      "+--------------------+--------------------+----------------+-------+-----------+------------------+----------------+-----------------+------------------+--------------------+--------------------+------------------+\n",
      "|                 tid|          event_time|          cc_num| amount|fraud_label|num_trans_last_60m|avg_amt_last_60m|num_trans_last_1d|   avg_amt_last_1d|          amt_ratio1|          amt_ratio2|       count_ratio|\n",
      "+--------------------+--------------------+----------------+-------+-----------+------------------+----------------+-----------------+------------------+--------------------+--------------------+------------------+\n",
      "|ec9e8c973eabb24ff...|2021-01-01T02:10:...|4028853934607849|6698.67|          0|                 1|         6698.67|                1|           6698.67|                 1.0|                 1.0|               1.0|\n",
      "|6c708b2bea5bec096...|2021-01-01T03:11:...|4028853934607849| 338.97|          0|                 1|          338.97|                2|           3518.82| 0.09633058809487272| 0.09633058809487272|               0.5|\n",
      "|e2ad5ac9b181f07c0...|2021-01-01T05:25:...|4028853934607849|  50.64|          0|                 1|           50.64|                3|           2362.76|0.021432561919111547|0.021432561919111547|0.3333333333333333|\n",
      "|d8604d76551ea7d8a...|2021-01-01T09:19:...|4028853934607849| 198.32|          0|                 1|          198.32|                4|           1821.65| 0.10886833365355583| 0.10886833365355583|              0.25|\n",
      "|601a891f9225b96c8...|2021-01-01T11:07:...|4028853934607849|  44.76|          0|                 1|           44.76|                5|1466.2720000000002|0.030526396193884895|0.030526396193884895|               0.2|\n",
      "+--------------------+--------------------+----------------+-------+-----------+------------------+----------------+-----------------+------------------+--------------------+--------------------+------------------+\n",
      "only showing top 5 rows\n",
      "\n"
     ]
    }
   ],
   "source": [
    "transactions_df.show(5)"
   ]
  },
  {
   "cell_type": "code",
   "execution_count": 11,
   "metadata": {},
   "outputs": [],
   "source": [
    "OFFLINE_STORE_URI = \\\n",
    "    \"s3a://sagemaker-us-east-1-572539092864/sagemaker-featurestore-demo/572539092864/sagemaker/us-east-1/offline-store/cc-agg-batch-fg-1618489640/data/\"\n",
    "#\"s3a://sagemaker-us-east-1-572539092864/sagemaker-featurestore-demo/572539092864/sagemaker/us-east-1/offline-store/cc-agg-batch-fg-1618437897/data/\"\n",
    "#OFFLINE_STORE_URI = \"s3a://sagemaker-us-east-1-572539092864/sagemaker-featurestore-demo/572539092864/sagemaker/us-east-1/offline-store/cc-agg-batch-fg-1618411941/data/year=2021/month=04/day=14/hour=14/\"\n"
   ]
  },
  {
   "cell_type": "code",
   "execution_count": 12,
   "metadata": {},
   "outputs": [
    {
     "name": "stdout",
     "output_type": "stream",
     "text": [
      "root\n",
      " |-- tid: string (nullable = true)\n",
      " |-- cc_num: long (nullable = true)\n",
      " |-- num_trans_last_1d: long (nullable = true)\n",
      " |-- avg_amt_last_1d: double (nullable = true)\n",
      " |-- event_time: string (nullable = true)\n",
      " |-- trans_time: double (nullable = true)\n",
      " |-- write_time: timestamp (nullable = true)\n",
      " |-- api_invocation_time: timestamp (nullable = true)\n",
      " |-- is_deleted: boolean (nullable = true)\n",
      " |-- year: integer (nullable = true)\n",
      " |-- month: integer (nullable = true)\n",
      " |-- day: integer (nullable = true)\n",
      " |-- hour: integer (nullable = true)\n",
      "\n"
     ]
    },
    {
     "data": {
      "text/plain": [
       "1000"
      ]
     },
     "execution_count": 12,
     "metadata": {},
     "output_type": "execute_result"
    }
   ],
   "source": [
    "##feature_store_df = spark.read.parquet(OFFLINE_STORE_BASE_URI + \"/data\")\n",
    "\n",
    "feature_store_df = spark.read.parquet(OFFLINE_STORE_URI)\n",
    "feature_store_df.printSchema()\n",
    "feature_store_df.count()"
   ]
  },
  {
   "cell_type": "code",
   "execution_count": 13,
   "metadata": {},
   "outputs": [
    {
     "name": "stdout",
     "output_type": "stream",
     "text": [
      "+--------------------+----------------+-----------------+---------------+-------------------+-------------+--------------------+-------------------+----------+----+-----+---+----+\n",
      "|                 tid|          cc_num|num_trans_last_1d|avg_amt_last_1d|         event_time|   trans_time|          write_time|api_invocation_time|is_deleted|year|month|day|hour|\n",
      "+--------------------+----------------+-----------------+---------------+-------------------+-------------+--------------------+-------------------+----------+----+-----+---+----+\n",
      "|6c7825ae8dde6f430...|4047269399322294|               20|         929.34|2021-01-31 23:32:29|1.618490011E9|2021-04-15 12:38:...|2021-04-15 12:33:30|     false|2021|    4| 15|  12|\n",
      "|298e2cab41aed7dbf...|4387164162852064|               16|         287.72|2021-01-31 23:27:24|1.618490011E9|2021-04-15 12:38:...|2021-04-15 12:33:30|     false|2021|    4| 15|  12|\n",
      "|065076eddd6bb8079...|4447228755741220|               11|         307.44|2021-01-31 22:03:52|1.618490011E9|2021-04-15 12:38:...|2021-04-15 12:33:30|     false|2021|    4| 15|  12|\n",
      "|72ebcd416f090e1c6...|4723203369699713|               12|        2563.45|2021-01-31 20:17:26|1.618490011E9|2021-04-15 12:38:...|2021-04-15 12:33:31|     false|2021|    4| 15|  12|\n",
      "|ec681331e513abc3f...|4741577760487499|               10|        1954.35|2021-01-31 21:44:56|1.618490011E9|2021-04-15 12:38:...|2021-04-15 12:33:31|     false|2021|    4| 15|  12|\n",
      "+--------------------+----------------+-----------------+---------------+-------------------+-------------+--------------------+-------------------+----------+----+-----+---+----+\n",
      "only showing top 5 rows\n",
      "\n"
     ]
    }
   ],
   "source": [
    "feature_store_df.show(5)"
   ]
  },
  {
   "cell_type": "code",
   "execution_count": 14,
   "metadata": {},
   "outputs": [
    {
     "name": "stdout",
     "output_type": "stream",
     "text": [
      "root\n",
      " |-- amount: string (nullable = true)\n",
      " |-- fraud_label: string (nullable = true)\n",
      " |-- num_trans_last_60m: string (nullable = true)\n",
      " |-- avg_amt_last_60m: string (nullable = true)\n",
      " |-- amt_ratio1: string (nullable = true)\n",
      " |-- amt_ratio2: string (nullable = true)\n",
      " |-- count_ratio: string (nullable = true)\n",
      " |-- tid: string (nullable = true)\n",
      " |-- cc_num: long (nullable = true)\n",
      " |-- num_trans_last_1d: long (nullable = true)\n",
      " |-- avg_amt_last_1d: double (nullable = true)\n",
      " |-- event_time: string (nullable = true)\n",
      " |-- trans_time: double (nullable = true)\n",
      " |-- write_time: timestamp (nullable = true)\n",
      " |-- api_invocation_time: timestamp (nullable = true)\n",
      " |-- is_deleted: boolean (nullable = true)\n",
      " |-- year: integer (nullable = true)\n",
      " |-- month: integer (nullable = true)\n",
      " |-- day: integer (nullable = true)\n",
      " |-- hour: integer (nullable = true)\n",
      "\n"
     ]
    },
    {
     "data": {
      "text/plain": [
       "500001"
      ]
     },
     "execution_count": 14,
     "metadata": {},
     "output_type": "execute_result"
    }
   ],
   "source": [
    "# Join the raw transactons table to the aggregate feature table \n",
    "\n",
    "enhanced_df = (transactions_df.join(feature_store_df, transactions_df.tid == feature_store_df.tid, \"left_outer\")\n",
    "    .drop(transactions_df.tid)\n",
    "    .drop(transactions_df.cc_num)\n",
    "    .drop(transactions_df.num_trans_last_1d)\n",
    "    .drop(transactions_df.avg_amt_last_1d)\n",
    "    .drop(transactions_df.event_time))\n",
    "\n",
    "enhanced_df.printSchema()\n",
    "enhanced_df.count()"
   ]
  },
  {
   "cell_type": "code",
   "execution_count": null,
   "metadata": {},
   "outputs": [],
   "source": [
    "#enhanced_df.createOrReplaceTempView(\"features\")"
   ]
  },
  {
   "cell_type": "code",
   "execution_count": 15,
   "metadata": {},
   "outputs": [
    {
     "name": "stdout",
     "output_type": "stream",
     "text": [
      "Cutoff time: 2021-02-01 00:00:00\n",
      "Cutoff cal:  1612137600\n"
     ]
    }
   ],
   "source": [
    "import calendar\n",
    "\n",
    "# create cutoff time\n",
    "cutoff_time = datetime.datetime(2021, 2, 1)\n",
    "cutoff_cal = calendar.timegm(cutoff_time.timetuple())\n",
    "\n",
    "print(f'Cutoff time: {cutoff_time}')\n",
    "print(f'Cutoff cal:  {cutoff_cal}')"
   ]
  },
  {
   "cell_type": "code",
   "execution_count": null,
   "metadata": {},
   "outputs": [],
   "source": [
    "## events = spark.sql(\"SELECT transactionid, transactionamt, transactiondt, write_time FROM features WHERE write_time < '\" + str(cutoff_time) + \"' ORDER BY transactiondt\")\n",
    "#events_window = spark.sql(\"SELECT tid, event_time, trans_time, api_invocation_time, cc_num, fraud_label, amount, num_trans_last_1d, avg_amt_last_1d \\\n",
    "#                    FROM features WHERE event_time <= '\" + str(cutoff_time) + \"'\")\n",
    "\n",
    "# removed \"\" ORDER BY event_time\"\n",
    "#print (\"Count: \" + str(events_window.count()))"
   ]
  },
  {
   "cell_type": "code",
   "execution_count": null,
   "metadata": {},
   "outputs": [],
   "source": [
    "#events_window.show(5)"
   ]
  },
  {
   "cell_type": "markdown",
   "metadata": {},
   "source": [
    "### Sample Time Travel query from Studio\n",
    "\n",
    "##### Simplified query for datasets up to 100 GB\n",
    "\n",
    "SELECT *\n",
    "FROM\n",
    "    (SELECT *,\n",
    "         row_number()\n",
    "        OVER (PARTITION BY EventTime\n",
    "    ORDER BY  EventTime desc, Api_Invocation_Time DESC, write_time DESC) AS row_number\n",
    "    FROM sagemaker_featurestore.identity-feature-group-03-20-32-44-1614803787\n",
    "    where EventTime <= timestamp '<timestamp>')\n",
    "    -- replace timestamp '<timestamp>' with just <timestamp>  if EventTimeFeature is of type fractional\n",
    "WHERE row_number = 1 and\n",
    "NOT is_deleted"
   ]
  },
  {
   "cell_type": "markdown",
   "metadata": {},
   "source": [
    "### Build Query Dataframe that spans the intended time window"
   ]
  },
  {
   "cell_type": "code",
   "execution_count": 16,
   "metadata": {},
   "outputs": [],
   "source": [
    "import random\n",
    "\n",
    "NUM_RANDOM_SAMPLES = 100\n",
    "\n",
    "cc_num_list = transactions_df.rdd.map(lambda x: x.cc_num).collect()"
   ]
  },
  {
   "cell_type": "code",
   "execution_count": 17,
   "metadata": {},
   "outputs": [
    {
     "name": "stdout",
     "output_type": "stream",
     "text": [
      "['4730351302648825', '4557873358799582', '4436369522230759', '4629251671616490', '4827760497563827', '4859223670509563', '4776202749026163', '4456277494923688', '4134120990603661', '4953391840037198', '4250799428404202', '4853206196105715', '4185260096189427', '4275108997597522', '4135894046934556', '4997434680860069', '4704235247099792', '4580063469039042', '4270322534709178', '4364372509439829', '4193799047482548', '4936052901371668', '4543292577127706', '4883290698301356', '4946069718963279', '4462604072071071', '4460285888258185', '4677777148375543', '4001629714607162', '4259787421397516', '4784109640131705', '4242134327115363', '4417214091284428', '4646554697578571', '4084987407985604', '4615861341152316', '4327251504706422', '4666545769123077', '4931602919413376', '4637117798226556', '4784755052999284', '4094026775370087', '4125310868424651', '4411504524619489', '4864410677210781', '4663001507344834', '4764837772829217', '4153347371820756', '4104686603950695', '4666301057221474', '4106727807825537', '4389392057210464', '4192471753963829', '4953624657196891', '4429385180531022', '4894793684994719', '4727563050402339', '4902056415872970', '4534201354107428', '4113770439555875', '4090612125343330', '4573294041670629', '4827760497563827', '4007365955573714', '4728806894593691', '4025129427215983', '4635727083844889', '4105944458641961', '4369075906669451', '4355384691635735', '4680257208972302', '4947638477574854', '4977782900448667', '4422147277337995', '4893308344742860', '4853748893579569', '4108484702041863', '4970326915614009', '4813142511722562', '4134120990603661', '4782709325872747', '4884011144684024', '4749721736704148', '4526094550580419', '4868446025519404', '4630950339991701', '4390047232225939', '4233910247126452', '4663671103936298', '4388894479791568', '4584998335559473', '4584401678600624', '4635727083844889', '4579287026502662', '4740525005709673', '4935351496634212', '4075666766283659', '4104825398215019', '4124517262597061', '4116370669391070']\n"
     ]
    }
   ],
   "source": [
    "cc_num_sample = random.sample(cc_num_list, NUM_RANDOM_SAMPLES)\n",
    "print(cc_num_sample)"
   ]
  },
  {
   "cell_type": "code",
   "execution_count": 18,
   "metadata": {},
   "outputs": [
    {
     "name": "stdout",
     "output_type": "stream",
     "text": [
      "[['4730351302648825', '2021-01-31 10:32:47'], ['4557873358799582', '2021-01-31 01:04:16'], ['4436369522230759', '2021-01-31 06:21:32'], ['4629251671616490', '2021-01-31 00:04:52'], ['4827760497563827', '2021-01-31 02:48:19'], ['4859223670509563', '2021-01-31 01:51:26'], ['4776202749026163', '2021-01-31 09:46:35'], ['4456277494923688', '2021-01-31 01:02:03'], ['4134120990603661', '2021-01-31 04:14:16'], ['4953391840037198', '2021-01-31 08:20:18'], ['4250799428404202', '2021-01-31 23:15:50'], ['4853206196105715', '2021-01-31 17:44:46'], ['4185260096189427', '2021-01-31 06:46:33'], ['4275108997597522', '2021-01-31 00:53:01'], ['4135894046934556', '2021-01-31 19:16:06'], ['4997434680860069', '2021-01-31 04:41:42'], ['4704235247099792', '2021-01-31 13:44:19'], ['4580063469039042', '2021-01-31 23:32:52'], ['4270322534709178', '2021-01-31 13:28:10'], ['4364372509439829', '2021-01-31 01:33:18'], ['4193799047482548', '2021-01-31 06:34:08'], ['4936052901371668', '2021-01-31 02:12:53'], ['4543292577127706', '2021-01-31 16:01:37'], ['4883290698301356', '2021-01-31 18:19:40'], ['4946069718963279', '2021-01-31 16:12:46'], ['4462604072071071', '2021-01-31 16:30:22'], ['4460285888258185', '2021-01-31 18:20:48'], ['4677777148375543', '2021-01-31 05:41:50'], ['4001629714607162', '2021-01-31 19:11:18'], ['4259787421397516', '2021-01-31 20:25:09'], ['4784109640131705', '2021-01-31 01:35:00'], ['4242134327115363', '2021-01-31 03:53:38'], ['4417214091284428', '2021-01-31 02:48:10'], ['4646554697578571', '2021-01-31 03:31:16'], ['4084987407985604', '2021-01-31 18:19:14'], ['4615861341152316', '2021-01-31 03:13:14'], ['4327251504706422', '2021-01-31 02:52:51'], ['4666545769123077', '2021-01-31 04:45:15'], ['4931602919413376', '2021-01-31 12:19:46'], ['4637117798226556', '2021-01-31 21:02:03'], ['4784755052999284', '2021-01-31 10:52:23'], ['4094026775370087', '2021-01-31 16:06:52'], ['4125310868424651', '2021-01-31 18:39:06'], ['4411504524619489', '2021-01-31 22:37:00'], ['4864410677210781', '2021-01-31 11:53:48'], ['4663001507344834', '2021-01-31 13:26:47'], ['4764837772829217', '2021-01-31 09:06:11'], ['4153347371820756', '2021-01-31 08:56:36'], ['4104686603950695', '2021-01-31 04:00:53'], ['4666301057221474', '2021-01-31 09:56:08'], ['4106727807825537', '2021-01-31 09:42:11'], ['4389392057210464', '2021-01-31 02:53:49'], ['4192471753963829', '2021-01-31 04:06:07'], ['4953624657196891', '2021-01-31 07:41:18'], ['4429385180531022', '2021-01-31 16:05:59'], ['4894793684994719', '2021-01-31 14:32:24'], ['4727563050402339', '2021-01-31 01:21:48'], ['4902056415872970', '2021-01-31 00:41:52'], ['4534201354107428', '2021-01-31 17:34:23'], ['4113770439555875', '2021-01-31 03:44:44'], ['4090612125343330', '2021-01-31 15:22:15'], ['4573294041670629', '2021-01-31 03:37:19'], ['4827760497563827', '2021-01-31 06:02:10'], ['4007365955573714', '2021-01-31 14:46:50'], ['4728806894593691', '2021-01-31 09:00:02'], ['4025129427215983', '2021-01-31 00:25:28'], ['4635727083844889', '2021-01-31 21:54:08'], ['4105944458641961', '2021-01-31 18:33:06'], ['4369075906669451', '2021-01-31 15:42:39'], ['4355384691635735', '2021-01-31 04:19:57'], ['4680257208972302', '2021-01-31 22:03:50'], ['4947638477574854', '2021-01-31 18:58:31'], ['4977782900448667', '2021-01-31 09:04:13'], ['4422147277337995', '2021-01-31 18:24:34'], ['4893308344742860', '2021-01-31 22:32:07'], ['4853748893579569', '2021-01-31 18:31:58'], ['4108484702041863', '2021-01-31 04:09:04'], ['4970326915614009', '2021-01-31 14:16:25'], ['4813142511722562', '2021-01-31 10:06:53'], ['4134120990603661', '2021-01-31 21:00:18'], ['4782709325872747', '2021-01-31 01:35:31'], ['4884011144684024', '2021-01-31 22:54:55'], ['4749721736704148', '2021-01-31 12:52:09'], ['4526094550580419', '2021-01-31 15:28:19'], ['4868446025519404', '2021-01-31 03:31:02'], ['4630950339991701', '2021-01-31 01:43:09'], ['4390047232225939', '2021-01-31 19:12:50'], ['4233910247126452', '2021-01-31 08:38:31'], ['4663671103936298', '2021-01-31 01:24:47'], ['4388894479791568', '2021-01-31 07:54:09'], ['4584998335559473', '2021-01-31 06:42:49'], ['4584401678600624', '2021-01-31 19:36:27'], ['4635727083844889', '2021-01-31 08:16:10'], ['4579287026502662', '2021-01-31 13:35:01'], ['4740525005709673', '2021-01-31 13:20:18'], ['4935351496634212', '2021-01-31 07:22:57'], ['4075666766283659', '2021-01-31 02:38:18'], ['4104825398215019', '2021-01-31 18:18:25'], ['4124517262597061', '2021-01-31 12:19:33'], ['4116370669391070', '2021-01-31 20:01:42']]\n"
     ]
    }
   ],
   "source": [
    "# Build list of faked tuples of cc_num and timestamp\n",
    "start = datetime.datetime.strptime('2021-01-31 00:00:00', '%Y-%m-%d %H:%M:%S')\n",
    "end = datetime.datetime.strptime('2021-01-31 23:59:59', '%Y-%m-%d %H:%M:%S')\n",
    "\n",
    "samples = list()\n",
    "for r in range(NUM_RANDOM_SAMPLES):\n",
    "    row = []\n",
    "    fake_timestamp = faker.date_time_between(start_date=start, end_date=end, tzinfo=None).strftime('%Y-%m-%d %H:%M:%S')\n",
    "    row.append(cc_num_sample[r])\n",
    "    row.append(fake_timestamp)\n",
    "    samples.append(row)\n",
    "    \n",
    "print(samples)"
   ]
  },
  {
   "cell_type": "code",
   "execution_count": 19,
   "metadata": {},
   "outputs": [],
   "source": [
    "# Create and show the query DF (e.g. entity_dataframe)\n",
    "query_df_schema = StructType([\n",
    "    # change to transactionid (tid)\n",
    "    StructField('cc_num', StringType(), False),\n",
    "    StructField('joindate', StringType(), False)\n",
    "])"
   ]
  },
  {
   "cell_type": "code",
   "execution_count": 20,
   "metadata": {},
   "outputs": [
    {
     "name": "stdout",
     "output_type": "stream",
     "text": [
      "+----------------+-------------------+\n",
      "|          cc_num|           joindate|\n",
      "+----------------+-------------------+\n",
      "|4730351302648825|2021-01-31 10:32:47|\n",
      "|4557873358799582|2021-01-31 01:04:16|\n",
      "|4436369522230759|2021-01-31 06:21:32|\n",
      "|4629251671616490|2021-01-31 00:04:52|\n",
      "|4827760497563827|2021-01-31 02:48:19|\n",
      "|4859223670509563|2021-01-31 01:51:26|\n",
      "|4776202749026163|2021-01-31 09:46:35|\n",
      "|4456277494923688|2021-01-31 01:02:03|\n",
      "|4134120990603661|2021-01-31 04:14:16|\n",
      "|4953391840037198|2021-01-31 08:20:18|\n",
      "|4250799428404202|2021-01-31 23:15:50|\n",
      "|4853206196105715|2021-01-31 17:44:46|\n",
      "|4185260096189427|2021-01-31 06:46:33|\n",
      "|4275108997597522|2021-01-31 00:53:01|\n",
      "|4135894046934556|2021-01-31 19:16:06|\n",
      "|4997434680860069|2021-01-31 04:41:42|\n",
      "|4704235247099792|2021-01-31 13:44:19|\n",
      "|4580063469039042|2021-01-31 23:32:52|\n",
      "|4270322534709178|2021-01-31 13:28:10|\n",
      "|4364372509439829|2021-01-31 01:33:18|\n",
      "+----------------+-------------------+\n",
      "only showing top 20 rows\n",
      "\n"
     ]
    }
   ],
   "source": [
    "# Create entity data frame\n",
    "\n",
    "query_df = spark.createDataFrame(samples, query_df_schema)\n",
    "query_df.show()"
   ]
  },
  {
   "cell_type": "code",
   "execution_count": null,
   "metadata": {},
   "outputs": [],
   "source": [
    "# entity data frame\n",
    "\n",
    "# add multiple instances for same cc_num\n",
    "#query_df = spark.createDataFrame([\n",
    "#      # instead of tid we use cc_num\n",
    "#      [cc_num_sample[0], \"2021-01-31T18:00:00Z\"], \n",
    "#      [cc_num_sample[1], \"2021-01-31T14:00:00Z\"],\n",
    "#      [cc_num_sample[2], \"2021-01-31T12:00:00Z\"],\n",
    "#      [cc_num_sample[3], \"2021-01-31T17:00:00Z\"],\n",
    "#      [cc_num_sample[4], \"2021-01-31T13:00:00Z\"]\n",
    "#    ],\n",
    "#    query_df_schema)\n",
    "\n",
    "#query_df.show()"
   ]
  },
  {
   "cell_type": "code",
   "execution_count": 21,
   "metadata": {},
   "outputs": [
    {
     "name": "stdout",
     "output_type": "stream",
     "text": [
      "[Row(min(joindate)='2021-01-31 00:04:52', max(joindate)='2021-01-31 23:32:52')]\n"
     ]
    }
   ],
   "source": [
    "# Compute min and max times over our query data for filtering, in one pass for performance\n",
    "\n",
    "# query_df used to define bounded time window\n",
    "minmax_time = query_df.agg(sql_min(\"joindate\"), sql_max(\"joindate\")).collect()\n",
    "print(minmax_time)"
   ]
  },
  {
   "cell_type": "code",
   "execution_count": 22,
   "metadata": {},
   "outputs": [
    {
     "name": "stdout",
     "output_type": "stream",
     "text": [
      "min_time: 2021-01-31 00:04:52\n",
      "max_time: 2021-01-31 23:32:52\n"
     ]
    }
   ],
   "source": [
    "min_time, max_time = minmax_time[0][\"min(joindate)\"], minmax_time[0][\"max(joindate)\"]\n",
    "print(f'min_time: {min_time}')\n",
    "print(f'max_time: {max_time}')"
   ]
  },
  {
   "cell_type": "code",
   "execution_count": 23,
   "metadata": {},
   "outputs": [
    {
     "name": "stdout",
     "output_type": "stream",
     "text": [
      "Before filter, count: 500001\n"
     ]
    }
   ],
   "source": [
    "#print(\"Before filter, count: \" + str(events_window.count()))\n",
    "print(\"Before filter, count: \" + str(enhanced_df.count()))"
   ]
  },
  {
   "cell_type": "code",
   "execution_count": null,
   "metadata": {},
   "outputs": [],
   "source": [
    "# Filter deleted records out\n",
    "#events_window = events_window.filter(~events_window.is_deleted)\n",
    "#print(\"After count: \" + str(events_window.count()))"
   ]
  },
  {
   "cell_type": "code",
   "execution_count": 24,
   "metadata": {},
   "outputs": [
    {
     "name": "stdout",
     "output_type": "stream",
     "text": [
      "root\n",
      " |-- amount: string (nullable = true)\n",
      " |-- fraud_label: string (nullable = true)\n",
      " |-- num_trans_last_60m: string (nullable = true)\n",
      " |-- avg_amt_last_60m: string (nullable = true)\n",
      " |-- amt_ratio1: string (nullable = true)\n",
      " |-- amt_ratio2: string (nullable = true)\n",
      " |-- count_ratio: string (nullable = true)\n",
      " |-- tid: string (nullable = true)\n",
      " |-- cc_num: long (nullable = true)\n",
      " |-- num_trans_last_1d: long (nullable = true)\n",
      " |-- avg_amt_last_1d: double (nullable = true)\n",
      " |-- event_time: string (nullable = true)\n",
      " |-- trans_time: double (nullable = true)\n",
      " |-- write_time: timestamp (nullable = true)\n",
      " |-- api_invocation_time: timestamp (nullable = true)\n",
      " |-- is_deleted: boolean (nullable = true)\n",
      " |-- year: integer (nullable = true)\n",
      " |-- month: integer (nullable = true)\n",
      " |-- day: integer (nullable = true)\n",
      " |-- hour: integer (nullable = true)\n",
      "\n",
      "After filter, count: 728\n",
      "CPU times: user 0 ns, sys: 3.15 ms, total: 3.15 ms\n",
      "Wall time: 894 ms\n"
     ]
    }
   ],
   "source": [
    "%%time\n",
    "\n",
    "# Filter out records from after highest query time and before staleness window of the min_time\n",
    "# This is a performance optimization; doing this prior to individual (shopper, query_time) filtering will be faster\n",
    "\n",
    "# 'datediff' function will convert delta to be datetime-compare compatible\n",
    "allowed_staleness_days = 4\n",
    "\n",
    "filtered = enhanced_df.filter(\n",
    "    # datediff ( enddate, startdate ) - returns days\n",
    "    (datediff(enhanced_df.event_time, lit(min_time)) <= allowed_staleness_days)\n",
    "    & (enhanced_df.event_time <= max_time)\n",
    ")\n",
    "\n",
    "filtered.printSchema()\n",
    "print(\"After filter, count: \" + str(filtered.count()))"
   ]
  },
  {
   "cell_type": "code",
   "execution_count": 25,
   "metadata": {},
   "outputs": [
    {
     "name": "stdout",
     "output_type": "stream",
     "text": [
      "+----------------+\n",
      "|          cc_num|\n",
      "+----------------+\n",
      "|4028853934607849|\n",
      "|4047269399322294|\n",
      "|4064963388466975|\n",
      "|4171133180677795|\n",
      "|4364372509439829|\n",
      "|4376838888917748|\n",
      "|4387164162852064|\n",
      "|4437529857770948|\n",
      "|4447228755741220|\n",
      "|4453776103531090|\n",
      "+----------------+\n",
      "only showing top 10 rows\n",
      "\n"
     ]
    }
   ],
   "source": [
    "filtered.select(\"cc_num\").show(10)"
   ]
  },
  {
   "cell_type": "code",
   "execution_count": 26,
   "metadata": {},
   "outputs": [
    {
     "name": "stdout",
     "output_type": "stream",
     "text": [
      "Joined count: 70\n"
     ]
    }
   ],
   "source": [
    "# Join with query set; drop duplicate id field\n",
    "# .drop(feature_store_df.tid)\n",
    "\n",
    "joined = filtered.join(query_df, filtered.cc_num == query_df.cc_num, \"inner\").drop(query_df.cc_num)\n",
    "print(\"Joined count: \" + str(joined.count()))"
   ]
  },
  {
   "cell_type": "code",
   "execution_count": 27,
   "metadata": {},
   "outputs": [
    {
     "name": "stdout",
     "output_type": "stream",
     "text": [
      "+-------+-----------+------------------+------------------+--------------------+--------------------+--------------------+--------------------+----------------+-----------------+---------------+-------------------+-------------+--------------------+-------------------+----------+----+-----+---+----+-------------------+\n",
      "| amount|fraud_label|num_trans_last_60m|  avg_amt_last_60m|          amt_ratio1|          amt_ratio2|         count_ratio|                 tid|          cc_num|num_trans_last_1d|avg_amt_last_1d|         event_time|   trans_time|          write_time|api_invocation_time|is_deleted|year|month|day|hour|           joindate|\n",
      "+-------+-----------+------------------+------------------+--------------------+--------------------+--------------------+--------------------+----------------+-----------------+---------------+-------------------+-------------+--------------------+-------------------+----------+----+-----+---+----+-------------------+\n",
      "|  10.85|          0|                 2|             316.8|   1.272221928665786| 0.04357199471598414| 0.10526315789473684|c71645b2a9e820808...|4275108997597522|               19|         249.01|2021-01-31 23:28:47| 1.61849002E9|2021-04-15 12:39:...|2021-04-15 12:33:40|     false|2021|    4| 15|  12|2021-01-31 00:53:01|\n",
      "|  98.39|          0|                 1|             98.39| 0.30564994794083195| 0.30564994794083195| 0.03225806451612903|92a025c13d5f4c4ff...|4666301057221474|               31|          321.9|2021-01-31 22:12:20|1.618490015E9|2021-04-15 12:38:...|2021-04-15 12:33:35|     false|2021|    4| 15|  12|2021-01-31 09:56:08|\n",
      "|  79.26|          0|                 2|            339.26|  0.1599691789826845| 0.03737297979769963| 0.11764705882352941|11d235831ce2f3a30...|4936052901371668|               17|        2120.78|2021-01-31 22:31:18|1.618490019E9|2021-04-15 12:38:...|2021-04-15 12:33:38|     false|2021|    4| 15|  12|2021-01-31 02:12:53|\n",
      "|  99.37|          0|                 1|             99.37|  0.1647247507765246|  0.1647247507765246|              0.0625|be07fddb823b2d04f...|4364372509439829|               16|         603.25|2021-01-31 23:15:50|1.618490011E9|2021-04-15 12:38:...|2021-04-15 12:33:30|     false|2021|    4| 15|  12|2021-01-31 01:33:18|\n",
      "|  50.97|          0|                 1|             50.97| 0.07066875973422765| 0.07066875973422765| 0.05555555555555555|0532024d8e2919840...|4764837772829217|               18|         721.25|2021-01-31 21:40:47|1.618490014E9|2021-04-15 12:38:...|2021-04-15 12:33:33|     false|2021|    4| 15|  12|2021-01-31 09:06:11|\n",
      "| 894.37|          0|                 1|            894.37|   5.008325089130719|   5.008325089130719| 0.06666666666666667|8786264eca6e1cf62...|4947638477574854|               15|         178.58|2021-01-31 22:52:40|1.618490021E9|2021-04-15 12:38:...|2021-04-15 12:33:41|     false|2021|    4| 15|  12|2021-01-31 18:58:31|\n",
      "|  38.73|          0|                 1|             38.73|0.060579335238381715|0.060579335238381715| 0.07692307692307693|cd57e0bba5307ebe7...|4462604072071071|               13|         639.33|2021-01-31 22:55:41|1.618490011E9|2021-04-15 12:38:...|2021-04-15 12:33:30|     false|2021|    4| 15|  12|2021-01-31 16:30:22|\n",
      "|  10.99|          0|                 2|             7.225|0.004974198249802461|0.007566289102467688| 0.15384615384615385|fafeafdeb56451b1d...|4853748893579569|               13|         1452.5|2021-01-31 23:01:24|1.618490011E9|2021-04-15 12:38:...|2021-04-15 12:33:31|     false|2021|    4| 15|  12|2021-01-31 18:31:58|\n",
      "|  61.07|          0|                 1|             61.07|  0.6302323550658485|  0.6302323550658485| 0.07692307692307693|dc2ab4016bae798c5...|4417214091284428|               13|           96.9|2021-01-31 22:57:14|1.618490016E9|2021-04-15 12:39:...|2021-04-15 12:33:35|     false|2021|    4| 15|  12|2021-01-31 02:48:10|\n",
      "|  86.48|          0|                 2|48.385000000000005| 0.09128051993203048| 0.16314848328453024| 0.14285714285714285|a66f60f77152509ee...|4977782900448667|               14|         530.07|2021-01-31 23:19:44|1.618490011E9|2021-04-15 12:38:...|2021-04-15 12:33:31|     false|2021|    4| 15|  12|2021-01-31 09:04:13|\n",
      "|  73.87|          0|                 1|             73.87| 0.07623985572587919| 0.07623985572587919| 0.05263157894736842|31a1ae6f5d2709b0e...|4124517262597061|               19|         968.92|2021-01-31 22:46:17|1.618490016E9|2021-04-15 12:39:...|2021-04-15 12:33:35|     false|2021|    4| 15|  12|2021-01-31 12:19:33|\n",
      "|  25.74|          0|                 1|             25.74| 0.03297449408790636| 0.03297449408790636| 0.06666666666666667|b8b31a1c1269c964a...|4460285888258185|               15|          780.6|2021-01-31 21:25:42|1.618490013E9|2021-04-15 12:38:...|2021-04-15 12:33:33|     false|2021|    4| 15|  12|2021-01-31 18:20:48|\n",
      "|  11.37|          0|                 1|             11.37| 0.02156055158603741| 0.02156055158603741| 0.06666666666666667|9b13a3b22292d114d...|4970326915614009|               15|         527.35|2021-01-31 21:58:29|1.618490016E9|2021-04-15 12:38:...|2021-04-15 12:33:36|     false|2021|    4| 15|  12|2021-01-31 14:16:25|\n",
      "|   94.1|          0|                 1|              94.1| 0.17489389739248254| 0.17489389739248254|                0.05|83a8242282b337c32...|4997434680860069|               20|         538.04|2021-01-31 23:30:16|1.618490016E9|2021-04-15 12:39:...|2021-04-15 12:33:36|     false|2021|    4| 15|  12|2021-01-31 04:41:42|\n",
      "|  86.37|          0|                 1|             86.37| 0.06792657606644018| 0.06792657606644018|              0.0625|22dcca215102c0035...|4635727083844889|               16|        1271.52|2021-01-31 17:13:55|1.618490011E9|2021-04-15 12:38:...|2021-04-15 12:33:31|     false|2021|    4| 15|  12|2021-01-31 21:54:08|\n",
      "|  86.37|          0|                 1|             86.37| 0.06792657606644018| 0.06792657606644018|              0.0625|22dcca215102c0035...|4635727083844889|               16|        1271.52|2021-01-31 17:13:55|1.618490011E9|2021-04-15 12:38:...|2021-04-15 12:33:31|     false|2021|    4| 15|  12|2021-01-31 08:16:10|\n",
      "|  10.75|          0|                 1|             10.75|0.015264696041740071|0.015264696041740071|              0.0625|5ad54491d3d277b8b...|4579287026502662|               16|         704.24|2021-01-31 21:28:54|1.618490019E9|2021-04-15 12:39:...|2021-04-15 12:33:39|     false|2021|    4| 15|  12|2021-01-31 13:35:01|\n",
      "|  507.8|          0|                 3|220.75666666666666| 0.34746917861763654|  0.7992730256634115|                 0.2|694c7981bc405fa7e...|4422147277337995|               15|         635.33|2021-01-31 23:15:53|1.618490021E9|2021-04-15 12:39:...|2021-04-15 12:33:41|     false|2021|    4| 15|  12|2021-01-31 18:24:34|\n",
      "|   0.41|          0|                 1|              0.41|5.507605062268176E-4|5.507605062268176E-4|                0.04|0ab15e79eab9bc02a...|4646554697578571|               25|         744.43|2021-01-31 22:46:06|1.618490016E9|2021-04-15 12:38:...|2021-04-15 12:33:35|     false|2021|    4| 15|  12|2021-01-31 03:31:16|\n",
      "|6875.47|          0|                 1|           6875.47|    7.63961583284258|    7.63961583284258|0.058823529411764705|d2afc5f96e7a314ff...|4025129427215983|               17|         899.98|2021-01-31 22:38:36|1.618490011E9|2021-04-15 12:38:...|2021-04-15 12:33:31|     false|2021|    4| 15|  12|2021-01-31 00:25:28|\n",
      "+-------+-----------+------------------+------------------+--------------------+--------------------+--------------------+--------------------+----------------+-----------------+---------------+-------------------+-------------+--------------------+-------------------+----------+----+-----+---+----+-------------------+\n",
      "only showing top 20 rows\n",
      "\n"
     ]
    }
   ],
   "source": [
    "joined.show()"
   ]
  },
  {
   "cell_type": "code",
   "execution_count": 28,
   "metadata": {},
   "outputs": [
    {
     "name": "stdout",
     "output_type": "stream",
     "text": [
      "After drop stale, count: 6\n"
     ]
    }
   ],
   "source": [
    "# Filter out data from after query time or before query time minus staleness window\n",
    "drop_future_and_stale = joined.filter(\n",
    "    (joined.event_time <= query_df.joindate)\n",
    "    & (datediff(query_df.joindate, joined.event_time) <= allowed_staleness_days)\n",
    ")\n",
    "print(\"After drop stale, count: \" + str(drop_future_and_stale.count()))"
   ]
  },
  {
   "cell_type": "code",
   "execution_count": 29,
   "metadata": {},
   "outputs": [
    {
     "name": "stdout",
     "output_type": "stream",
     "text": [
      "+------+-----------+------------------+------------------+-------------------+-------------------+-------------------+--------------------+----------------+-----------------+---------------+-------------------+-------------+--------------------+-------------------+----------+----+-----+---+----+-------------------+\n",
      "|amount|fraud_label|num_trans_last_60m|  avg_amt_last_60m|         amt_ratio1|         amt_ratio2|        count_ratio|                 tid|          cc_num|num_trans_last_1d|avg_amt_last_1d|         event_time|   trans_time|          write_time|api_invocation_time|is_deleted|year|month|day|hour|           joindate|\n",
      "+------+-----------+------------------+------------------+-------------------+-------------------+-------------------+--------------------+----------------+-----------------+---------------+-------------------+-------------+--------------------+-------------------+----------+----+-----+---+----+-------------------+\n",
      "| 86.37|          0|                 1|             86.37|0.06792657606644018|0.06792657606644018|             0.0625|22dcca215102c0035...|4635727083844889|               16|        1271.52|2021-01-31 17:13:55|1.618490011E9|2021-04-15 12:38:...|2021-04-15 12:33:31|     false|2021|    4| 15|  12|2021-01-31 21:54:08|\n",
      "| 34.17|          0|                 2|             21.79|0.05900010707600058|0.09252104904942358|0.09090909090909091|4ab320b98658707da...|4411504524619489|               22|         369.32|2021-01-31 21:42:29|1.618490022E9|2021-04-15 12:39:...|2021-04-15 12:33:41|     false|2021|    4| 15|  12|2021-01-31 22:37:00|\n",
      "|909.29|          0|                 1|            909.29|  5.017802889788861|  5.017802889788861|0.05555555555555555|12489a72c501b5cc4...|4884011144684024|               18|         181.21|2021-01-31 21:37:46|1.618490017E9|2021-04-15 12:38:...|2021-04-15 12:33:36|     false|2021|    4| 15|  12|2021-01-31 22:54:55|\n",
      "|687.07|          0|                 1|            687.07|  1.199034687189536|  1.199034687189536|0.07142857142857142|8fe6da5ed536c7aaa...|4250799428404202|               14|         573.02|2021-01-31 19:38:36|1.618490015E9|2021-04-15 12:38:...|2021-04-15 12:33:34|     false|2021|    4| 15|  12|2021-01-31 23:15:50|\n",
      "| 45.07|          0|                 2|59.760000000000005|0.16847433682650914|0.12706054820566878| 0.1111111111111111|63cbb095f913e596c...|4580063469039042|               18|         354.71|2021-01-31 22:52:22|1.618490015E9|2021-04-15 12:38:...|2021-04-15 12:33:34|     false|2021|    4| 15|  12|2021-01-31 23:32:52|\n",
      "| 39.17|          0|                 1|             39.17|0.03670540586394789|0.03670540586394789|0.05263157894736842|65d4dc67037597655...|4740525005709673|               19|        1067.15|2021-01-31 12:47:00|1.618490013E9|2021-04-15 12:38:...|2021-04-15 12:33:32|     false|2021|    4| 15|  12|2021-01-31 13:20:18|\n",
      "+------+-----------+------------------+------------------+-------------------+-------------------+-------------------+--------------------+----------------+-----------------+---------------+-------------------+-------------+--------------------+-------------------+----------+----+-----+---+----+-------------------+\n",
      "\n"
     ]
    }
   ],
   "source": [
    "drop_future_and_stale.show()"
   ]
  },
  {
   "cell_type": "code",
   "execution_count": 30,
   "metadata": {},
   "outputs": [],
   "source": [
    "# Group by id and take latest record\n",
    "take_latest = (\n",
    "    drop_future_and_stale.rdd.map(lambda x: (x.tid, x))  # to RDD with KVPs so we can use efficient reduceByKey\n",
    "    .reduceByKey(\n",
    "        lambda x, y: x if ((x.event_time, x.api_invocation_time) >= (y.event_time, y.api_invocation_time)) else y\n",
    "    )  # Use API invocation time as tie-breaker\n",
    "    .values()  # drop keys\n",
    ")"
   ]
  },
  {
   "cell_type": "code",
   "execution_count": 31,
   "metadata": {},
   "outputs": [],
   "source": [
    "# Convert to DF\n",
    "latest_df = take_latest.toDF(drop_future_and_stale.schema)"
   ]
  },
  {
   "cell_type": "code",
   "execution_count": 32,
   "metadata": {},
   "outputs": [],
   "source": [
    "# Drop extra columns\n",
    "columns_to_drop = [\"write_time\", \"is_deleted\", \"year\", \"month\", \"day\", \"hour\", \"query_time\", \"api_invocation_time\"]\n",
    "selected = latest_df.drop(*columns_to_drop)"
   ]
  },
  {
   "cell_type": "code",
   "execution_count": 33,
   "metadata": {},
   "outputs": [
    {
     "name": "stdout",
     "output_type": "stream",
     "text": [
      "+------+-----------+------------------+------------------+-------------------+-------------------+-------------------+--------------------+----------------+-----------------+---------------+-------------------+-------------+-------------------+\n",
      "|amount|fraud_label|num_trans_last_60m|  avg_amt_last_60m|         amt_ratio1|         amt_ratio2|        count_ratio|                 tid|          cc_num|num_trans_last_1d|avg_amt_last_1d|         event_time|   trans_time|           joindate|\n",
      "+------+-----------+------------------+------------------+-------------------+-------------------+-------------------+--------------------+----------------+-----------------+---------------+-------------------+-------------+-------------------+\n",
      "| 45.07|          0|                 2|59.760000000000005|0.16847433682650914|0.12706054820566878| 0.1111111111111111|63cbb095f913e596c...|4580063469039042|               18|         354.71|2021-01-31 22:52:22|1.618490015E9|2021-01-31 23:32:52|\n",
      "| 34.17|          0|                 2|             21.79|0.05900010707600058|0.09252104904942358|0.09090909090909091|4ab320b98658707da...|4411504524619489|               22|         369.32|2021-01-31 21:42:29|1.618490022E9|2021-01-31 22:37:00|\n",
      "| 39.17|          0|                 1|             39.17|0.03670540586394789|0.03670540586394789|0.05263157894736842|65d4dc67037597655...|4740525005709673|               19|        1067.15|2021-01-31 12:47:00|1.618490013E9|2021-01-31 13:20:18|\n",
      "|909.29|          0|                 1|            909.29|  5.017802889788861|  5.017802889788861|0.05555555555555555|12489a72c501b5cc4...|4884011144684024|               18|         181.21|2021-01-31 21:37:46|1.618490017E9|2021-01-31 22:54:55|\n",
      "| 86.37|          0|                 1|             86.37|0.06792657606644018|0.06792657606644018|             0.0625|22dcca215102c0035...|4635727083844889|               16|        1271.52|2021-01-31 17:13:55|1.618490011E9|2021-01-31 21:54:08|\n",
      "|687.07|          0|                 1|            687.07|  1.199034687189536|  1.199034687189536|0.07142857142857142|8fe6da5ed536c7aaa...|4250799428404202|               14|         573.02|2021-01-31 19:38:36|1.618490015E9|2021-01-31 23:15:50|\n",
      "+------+-----------+------------------+------------------+-------------------+-------------------+-------------------+--------------------+----------------+-----------------+---------------+-------------------+-------------+-------------------+\n",
      "\n"
     ]
    }
   ],
   "source": [
    "# Show query result\n",
    "selected.show()\n",
    "\n",
    "# To save query result to s3:\n",
    "# OUTPUT_PATH = f\"s3://{BUCKET}/{PREFIX}/test_query_output\"\n",
    "# selected.write.parquet(OUTPUT_PATH, mode=\"overwrite\")"
   ]
  },
  {
   "cell_type": "code",
   "execution_count": null,
   "metadata": {},
   "outputs": [],
   "source": []
  }
 ],
 "metadata": {
  "kernelspec": {
   "display_name": "conda_python3",
   "language": "python",
   "name": "conda_python3"
  },
  "language_info": {
   "codemirror_mode": {
    "name": "ipython",
    "version": 3
   },
   "file_extension": ".py",
   "mimetype": "text/x-python",
   "name": "python",
   "nbconvert_exporter": "python",
   "pygments_lexer": "ipython3",
   "version": "3.6.10"
  }
 },
 "nbformat": 4,
 "nbformat_minor": 5
}
