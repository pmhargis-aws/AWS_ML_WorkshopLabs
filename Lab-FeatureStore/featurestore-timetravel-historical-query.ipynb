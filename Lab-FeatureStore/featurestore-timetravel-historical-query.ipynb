{
 "cells": [
  {
   "cell_type": "markdown",
   "metadata": {},
   "source": [
    "### Use SageMaker Feature Store and Apache Spark to generate point-in-time queries to implement Time Travel\n",
    "The following notebook builds out a set of Dataframes and Spark queries that provide a pattern for using \"Time Travel\" capabilities. "
   ]
  },
  {
   "cell_type": "code",
   "execution_count": null,
   "metadata": {},
   "outputs": [],
   "source": [
    "!pip install Faker"
   ]
  },
  {
   "cell_type": "code",
   "execution_count": 5,
   "metadata": {},
   "outputs": [],
   "source": [
    "# Faker\n",
    "from faker import Faker\n",
    "\n",
    "# Import pyspark and build Spark session\n",
    "\n",
    "from pyspark.sql import SparkSession\n",
    "from pyspark.sql.functions import datediff\n",
    "from pyspark.sql.functions import lit\n",
    "from pyspark.sql.functions import col\n",
    "from pyspark.sql.functions import max as sql_max\n",
    "from pyspark.sql.functions import min as sql_min\n",
    "from pyspark.sql.types import StringType\n",
    "from pyspark.sql.types import StructField\n",
    "from pyspark.sql.types import StructType\n",
    "\n",
    "from pyspark import SparkContext, SparkConf\n",
    "import sagemaker_pyspark\n",
    "import datetime\n",
    "\n",
    "# Configure Spark to use the SageMaker Spark dependency jars\n",
    "classpath = \":\".join(sagemaker_pyspark.classpath_jars())\n",
    "\n",
    "#print(f\"Spark classpath_jars: {classpath}\")"
   ]
  },
  {
   "cell_type": "code",
   "execution_count": 6,
   "metadata": {},
   "outputs": [],
   "source": [
    "spark = (SparkSession\n",
    "    .builder\n",
    "    .config(\"spark.driver.extraClassPath\", classpath)\n",
    "    .getOrCreate())\n",
    "\n",
    "##spark = SparkSession.builder.appName(\"PySparkApp\").getOrCreate()"
   ]
  },
  {
   "cell_type": "code",
   "execution_count": 7,
   "metadata": {},
   "outputs": [
    {
     "name": "stdout",
     "output_type": "stream",
     "text": [
      "2.3.4\n"
     ]
    }
   ],
   "source": [
    "sc = spark.sparkContext\n",
    "print(sc.version)"
   ]
  },
  {
   "cell_type": "code",
   "execution_count": 8,
   "metadata": {},
   "outputs": [],
   "source": [
    "SEED = 123456\n",
    "faker = Faker()\n",
    "faker.seed_locale('en_US', 0)\n",
    "faker.seed_instance(SEED)"
   ]
  },
  {
   "cell_type": "code",
   "execution_count": 9,
   "metadata": {},
   "outputs": [
    {
     "name": "stdout",
     "output_type": "stream",
     "text": [
      "sagemaker-us-east-1-572539092864\n"
     ]
    }
   ],
   "source": [
    "import sagemaker\n",
    "\n",
    "# Set feature Store s3 path\n",
    "##PREFIX=\"572539092864/sagemaker/us-east-2/offline-store/transaction-feature-group-12-00-17-00/year=2020/month=11/day=12/hour=00\"\n",
    "\n",
    "BUCKET = sagemaker.Session().default_bucket()\n",
    "print(BUCKET)"
   ]
  },
  {
   "cell_type": "code",
   "execution_count": 10,
   "metadata": {},
   "outputs": [
    {
     "name": "stdout",
     "output_type": "stream",
     "text": [
      "s3://sagemaker-us-east-1-572539092864/sagemaker-featurestore-demo\n",
      "sagemaker-featurestore-demo/aggregated\n"
     ]
    }
   ],
   "source": [
    "import os\n",
    "\n",
    "BASE_PREFIX = \"sagemaker-featurestore-demo\"\n",
    "OFFLINE_STORE_BASE_URI = f's3://{BUCKET}/{BASE_PREFIX}'\n",
    "\n",
    "print(OFFLINE_STORE_BASE_URI)\n",
    "\n",
    "PREFIX = os.path.join(BASE_PREFIX, 'aggregated')\n",
    "print(PREFIX)\n",
    "\n",
    "FEATURE_STORE_PATH_S3 = f\"s3://{BUCKET}/{PREFIX}/\"\n",
    "FEATURE_STORE_PATH_PARQ = f\"s3a://{BUCKET}/{PREFIX}/\""
   ]
  },
  {
   "cell_type": "code",
   "execution_count": 11,
   "metadata": {},
   "outputs": [
    {
     "name": "stdout",
     "output_type": "stream",
     "text": [
      "Using S3 path: s3://sagemaker-us-east-1-572539092864/sagemaker-featurestore-demo/aggregated/\n",
      "Found files: \n",
      "s3://sagemaker-us-east-1-572539092864/sagemaker-featurestore-demo/aggregated/_SUCCESS\n",
      "s3://sagemaker-us-east-1-572539092864/sagemaker-featurestore-demo/aggregated/part-00000-0e62ddd1-2489-452b-88db-d29726847041-c000.csv\n"
     ]
    }
   ],
   "source": [
    "from sagemaker.s3 import S3Downloader\n",
    "\n",
    "file_list = S3Downloader.list(FEATURE_STORE_PATH_S3)\n",
    "\n",
    "print(f'Using S3 path: {FEATURE_STORE_PATH_S3}')\n",
    "print(\"Found files: \\n\" + \"\\n\".join(file_list))"
   ]
  },
  {
   "cell_type": "code",
   "execution_count": null,
   "metadata": {},
   "outputs": [],
   "source": [
    "# Read and show feature store DF\n",
    "#feature_store_df = spark.read.parquet(FEATURE_STORE_PATH_PARQ)\n",
    "\n",
    "# copy CSV file from above\n",
    "##partfile = \"part-00000-736d45d1-ee46-4745-b88a-7ba9460b239c-c000.csv\"\n",
    "\n",
    "##FEATURE_STORE_PATH_CSV = f\"s3a://{BUCKET}/{PREFIX}/{partfile}\""
   ]
  },
  {
   "cell_type": "code",
   "execution_count": 12,
   "metadata": {},
   "outputs": [],
   "source": [
    "transactions_df = spark.read.options(Header=True).csv(FEATURE_STORE_PATH_PARQ)"
   ]
  },
  {
   "cell_type": "code",
   "execution_count": 13,
   "metadata": {},
   "outputs": [
    {
     "name": "stdout",
     "output_type": "stream",
     "text": [
      "root\n",
      " |-- tid: string (nullable = true)\n",
      " |-- event_time: string (nullable = true)\n",
      " |-- cc_num: string (nullable = true)\n",
      " |-- amount: string (nullable = true)\n",
      " |-- fraud_label: string (nullable = true)\n",
      " |-- num_trans_last_60m: string (nullable = true)\n",
      " |-- avg_amt_last_60m: string (nullable = true)\n",
      " |-- num_trans_last_1d: string (nullable = true)\n",
      " |-- avg_amt_last_1d: string (nullable = true)\n",
      " |-- amt_ratio1: string (nullable = true)\n",
      " |-- amt_ratio2: string (nullable = true)\n",
      " |-- count_ratio: string (nullable = true)\n",
      "\n"
     ]
    },
    {
     "data": {
      "text/plain": [
       "500001"
      ]
     },
     "execution_count": 13,
     "metadata": {},
     "output_type": "execute_result"
    }
   ],
   "source": [
    "transactions_df.printSchema()\n",
    "transactions_df.count()"
   ]
  },
  {
   "cell_type": "code",
   "execution_count": 14,
   "metadata": {},
   "outputs": [
    {
     "name": "stdout",
     "output_type": "stream",
     "text": [
      "+--------------------+--------------------+----------------+------+-----------+------------------+------------------+-----------------+------------------+-------------------+-------------------+------------------+\n",
      "|                 tid|          event_time|          cc_num|amount|fraud_label|num_trans_last_60m|  avg_amt_last_60m|num_trans_last_1d|   avg_amt_last_1d|         amt_ratio1|         amt_ratio2|       count_ratio|\n",
      "+--------------------+--------------------+----------------+------+-----------+------------------+------------------+-----------------+------------------+-------------------+-------------------+------------------+\n",
      "|1df1e7c3a3d547646...|2021-01-01T00:08:...|4028853934607849| 18.68|          0|                 1|             18.68|                1|             18.68|                1.0|                1.0|               1.0|\n",
      "|ef698627d0cf96b7a...|2021-01-01T01:04:...|4028853934607849|  1.09|          0|                 2|             9.885|                2|             9.885|                1.0|0.11026808295397067|               1.0|\n",
      "|48a9691e7269f7796...|2021-01-01T01:35:...|4028853934607849|  2.13|          0|                 2|1.6099999999999999|                3|               7.3|0.22054794520547943| 0.2917808219178082|0.6666666666666666|\n",
      "|0c87dfd1bbb4024f1...|2021-01-01T01:58:...|4028853934607849| 957.3|          0|                 3|320.17333333333335|                4|244.79999999999998|  1.307897603485839| 3.9105392156862746|              0.75|\n",
      "|b21d2abc494ec739c...|2021-01-01T04:10:...|4028853934607849| 17.21|          0|                 1|             17.21|                5|199.28199999999998|0.08636003251673509|0.08636003251673509|               0.2|\n",
      "+--------------------+--------------------+----------------+------+-----------+------------------+------------------+-----------------+------------------+-------------------+-------------------+------------------+\n",
      "only showing top 5 rows\n",
      "\n"
     ]
    }
   ],
   "source": [
    "transactions_df.show(5)"
   ]
  },
  {
   "cell_type": "code",
   "execution_count": 15,
   "metadata": {},
   "outputs": [],
   "source": [
    "OFFLINE_STORE_URI = \\\n",
    "\"s3a://sagemaker-us-east-1-572539092864/sagemaker-featurestore-demo/572539092864/sagemaker/us-east-1/offline-store/cc-agg-batch-fg-1618437897/data/\"\n",
    "#OFFLINE_STORE_URI = \"s3a://sagemaker-us-east-1-572539092864/sagemaker-featurestore-demo/572539092864/sagemaker/us-east-1/offline-store/cc-agg-batch-fg-1618411941/data/\"\n",
    "#OFFLINE_STORE_URI = \"s3a://sagemaker-us-east-1-572539092864/sagemaker-featurestore-demo/572539092864/sagemaker/us-east-1/offline-store/cc-agg-batch-fg-1618411941/data/year=2021/month=04/day=14/hour=14/\"\n"
   ]
  },
  {
   "cell_type": "code",
   "execution_count": 16,
   "metadata": {},
   "outputs": [
    {
     "name": "stdout",
     "output_type": "stream",
     "text": [
      "root\n",
      " |-- tid: string (nullable = true)\n",
      " |-- cc_num: long (nullable = true)\n",
      " |-- num_trans_last_1d: long (nullable = true)\n",
      " |-- avg_amt_last_1d: double (nullable = true)\n",
      " |-- event_time: string (nullable = true)\n",
      " |-- trans_time: double (nullable = true)\n",
      " |-- write_time: timestamp (nullable = true)\n",
      " |-- api_invocation_time: timestamp (nullable = true)\n",
      " |-- is_deleted: boolean (nullable = true)\n",
      " |-- year: integer (nullable = true)\n",
      " |-- month: integer (nullable = true)\n",
      " |-- day: integer (nullable = true)\n",
      " |-- hour: integer (nullable = true)\n",
      "\n"
     ]
    },
    {
     "data": {
      "text/plain": [
       "1000"
      ]
     },
     "execution_count": 16,
     "metadata": {},
     "output_type": "execute_result"
    }
   ],
   "source": [
    "##feature_store_df = spark.read.parquet(OFFLINE_STORE_BASE_URI + \"/data\")\n",
    "\n",
    "feature_store_df = spark.read.parquet(OFFLINE_STORE_URI)\n",
    "feature_store_df.printSchema()\n",
    "feature_store_df.count()"
   ]
  },
  {
   "cell_type": "code",
   "execution_count": 17,
   "metadata": {},
   "outputs": [
    {
     "name": "stdout",
     "output_type": "stream",
     "text": [
      "+--------------------+----------------+-----------------+---------------+-------------------+-------------+--------------------+-------------------+----------+----+-----+---+----+\n",
      "|                 tid|          cc_num|num_trans_last_1d|avg_amt_last_1d|         event_time|   trans_time|          write_time|api_invocation_time|is_deleted|year|month|day|hour|\n",
      "+--------------------+----------------+-----------------+---------------+-------------------+-------------+--------------------+-------------------+----------+----+-----+---+----+\n",
      "|ceb3e268f8aeed354...|4047269399322294|               15|         555.18|2021-01-31 21:48:32|1.618438279E9|2021-04-14 22:16:...|2021-04-14 22:11:19|     false|2021|    4| 14|  22|\n",
      "|66f97b675966d60dd...|4387164162852064|               21|         267.87|2021-01-31 22:26:40|1.618438279E9|2021-04-14 22:16:...|2021-04-14 22:11:19|     false|2021|    4| 14|  22|\n",
      "|412a567f353a83a2f...|4447228755741220|               14|         772.38|2021-01-31 23:39:09|1.618438279E9|2021-04-14 22:16:...|2021-04-14 22:11:19|     false|2021|    4| 14|  22|\n",
      "|8340e5ad80d23ec0b...|4723203369699713|               23|         577.63|2021-01-31 22:14:39|1.618438279E9|2021-04-14 22:16:...|2021-04-14 22:11:19|     false|2021|    4| 14|  22|\n",
      "|3097a351ad33a0b21...|4741577760487499|               17|         1960.0|2021-01-31 23:15:22|1.618438279E9|2021-04-14 22:16:...|2021-04-14 22:11:19|     false|2021|    4| 14|  22|\n",
      "+--------------------+----------------+-----------------+---------------+-------------------+-------------+--------------------+-------------------+----------+----+-----+---+----+\n",
      "only showing top 5 rows\n",
      "\n"
     ]
    }
   ],
   "source": [
    "feature_store_df.show(5)"
   ]
  },
  {
   "cell_type": "code",
   "execution_count": 19,
   "metadata": {},
   "outputs": [
    {
     "name": "stdout",
     "output_type": "stream",
     "text": [
      "root\n",
      " |-- amount: string (nullable = true)\n",
      " |-- fraud_label: string (nullable = true)\n",
      " |-- num_trans_last_60m: string (nullable = true)\n",
      " |-- avg_amt_last_60m: string (nullable = true)\n",
      " |-- amt_ratio1: string (nullable = true)\n",
      " |-- amt_ratio2: string (nullable = true)\n",
      " |-- count_ratio: string (nullable = true)\n",
      " |-- tid: string (nullable = true)\n",
      " |-- cc_num: long (nullable = true)\n",
      " |-- num_trans_last_1d: long (nullable = true)\n",
      " |-- avg_amt_last_1d: double (nullable = true)\n",
      " |-- event_time: string (nullable = true)\n",
      " |-- trans_time: double (nullable = true)\n",
      " |-- write_time: timestamp (nullable = true)\n",
      " |-- api_invocation_time: timestamp (nullable = true)\n",
      " |-- is_deleted: boolean (nullable = true)\n",
      " |-- year: integer (nullable = true)\n",
      " |-- month: integer (nullable = true)\n",
      " |-- day: integer (nullable = true)\n",
      " |-- hour: integer (nullable = true)\n",
      "\n"
     ]
    },
    {
     "data": {
      "text/plain": [
       "1000"
      ]
     },
     "execution_count": 19,
     "metadata": {},
     "output_type": "execute_result"
    }
   ],
   "source": [
    "# Join the raw transactons table to the aggregate feature table \n",
    "\n",
    "combined_df = (transactions_df.join(feature_store_df, transactions_df.tid == feature_store_df.tid, \"inner\")\n",
    "    .drop(transactions_df.tid)\n",
    "    .drop(transactions_df.cc_num)\n",
    "    .drop(transactions_df.num_trans_last_1d)\n",
    "    .drop(transactions_df.avg_amt_last_1d)\n",
    "    .drop(transactions_df.event_time))\n",
    "\n",
    "combined_df.printSchema()\n",
    "combined_df.count()"
   ]
  },
  {
   "cell_type": "code",
   "execution_count": 20,
   "metadata": {},
   "outputs": [],
   "source": [
    "combined_df.createOrReplaceTempView(\"features\")"
   ]
  },
  {
   "cell_type": "code",
   "execution_count": 21,
   "metadata": {},
   "outputs": [
    {
     "name": "stdout",
     "output_type": "stream",
     "text": [
      "Cutoff time: 2021-02-01 00:00:00\n",
      "Cutoff cal:  1612137600\n"
     ]
    }
   ],
   "source": [
    "import calendar\n",
    "\n",
    "# create cutoff time\n",
    "cutoff_time = datetime.datetime(2021, 2, 1)\n",
    "cutoff_cal = calendar.timegm(cutoff_time.timetuple())\n",
    "\n",
    "print(f'Cutoff time: {cutoff_time}')\n",
    "print(f'Cutoff cal:  {cutoff_cal}')"
   ]
  },
  {
   "cell_type": "code",
   "execution_count": 22,
   "metadata": {},
   "outputs": [
    {
     "name": "stdout",
     "output_type": "stream",
     "text": [
      "Count: 1000\n"
     ]
    }
   ],
   "source": [
    "# events = spark.sql(\"SELECT transactionid, transactionamt, transactiondt, write_time FROM features WHERE write_time < '\" + str(cutoff_time) + \"' ORDER BY transactiondt\")\n",
    "events = spark.sql(\"SELECT tid, event_time, trans_time, api_invocation_time, cc_num, fraud_label, amount, num_trans_last_1d, avg_amt_last_1d \\\n",
    "                    FROM features WHERE event_time <= '\" + str(cutoff_time) + \"' ORDER BY event_time\")\n",
    "\n",
    "print (\"Count: \" + str(events.count()))"
   ]
  },
  {
   "cell_type": "code",
   "execution_count": 23,
   "metadata": {},
   "outputs": [
    {
     "name": "stdout",
     "output_type": "stream",
     "text": [
      "+--------------------+-------------------+-------------+-------------------+----------------+-----------+------+-----------------+---------------+\n",
      "|                 tid|         event_time|   trans_time|api_invocation_time|          cc_num|fraud_label|amount|num_trans_last_1d|avg_amt_last_1d|\n",
      "+--------------------+-------------------+-------------+-------------------+----------------+-----------+------+-----------------+---------------+\n",
      "|14d27169f9dfa1123...|2021-01-31 12:47:00|1.618438289E9|2021-04-14 22:11:29|4841758566240493|          0| 39.17|               19|        1067.15|\n",
      "|44195c898b81a0382...|2021-01-31 12:53:39| 1.61843828E9|2021-04-14 22:11:19|4112052632105688|          0|  47.8|               16|        1232.35|\n",
      "|8acb7c348354cd367...|2021-01-31 13:17:07|1.618438288E9|2021-04-14 22:11:28|4115181035084583|          0| 14.48|               23|         270.36|\n",
      "|eab8602dce36b70c8...|2021-01-31 14:31:35| 1.61843829E9|2021-04-14 22:11:30|4007144070776605|          0|  1.71|               20|        1353.12|\n",
      "|0978530afe86dec6b...|2021-01-31 14:52:48|1.618438287E9|2021-04-14 22:11:27|4741003082139478|          0|599.24|               23|        1317.56|\n",
      "+--------------------+-------------------+-------------+-------------------+----------------+-----------+------+-----------------+---------------+\n",
      "only showing top 5 rows\n",
      "\n"
     ]
    }
   ],
   "source": [
    "events.show(5)"
   ]
  },
  {
   "cell_type": "markdown",
   "metadata": {},
   "source": [
    "### Sample Time Travel query from Studio\n",
    "\n",
    "##### Simplified query for datasets up to 100 GB\n",
    "\n",
    "SELECT *\n",
    "FROM\n",
    "    (SELECT *,\n",
    "         row_number()\n",
    "        OVER (PARTITION BY EventTime\n",
    "    ORDER BY  EventTime desc, Api_Invocation_Time DESC, write_time DESC) AS row_number\n",
    "    FROM sagemaker_featurestore.identity-feature-group-03-20-32-44-1614803787\n",
    "    where EventTime <= timestamp '<timestamp>')\n",
    "    -- replace timestamp '<timestamp>' with just <timestamp>  if EventTimeFeature is of type fractional\n",
    "WHERE row_number = 1 and\n",
    "NOT is_deleted"
   ]
  },
  {
   "cell_type": "code",
   "execution_count": 24,
   "metadata": {},
   "outputs": [],
   "source": [
    "import random\n",
    "\n",
    "NUM_RANDOM_SAMPLES = 100\n",
    "\n",
    "cc_num_list = transactions_df.rdd.map(lambda x: x.cc_num).collect()"
   ]
  },
  {
   "cell_type": "code",
   "execution_count": 25,
   "metadata": {},
   "outputs": [
    {
     "name": "stdout",
     "output_type": "stream",
     "text": [
      "['4366675155603615', '4566212050718302', '4230880984727064', '4526580585599952', '4563254037187733', '4240943081010350', '4783713328425247', '4184024195705504', '4039951234037985', '4390047232225939', '4609751074905238', '4656683571012535', '4730351302648825', '4219457262138911', '4159574586922804', '4897510052779978', '4775216567122137', '4411504524619489', '4086324433357673', '4948841722803552', '4408878958981127', '4119215696686652', '4372082122888803', '4823810986511227', '4893308344742860', '4702407853825297', '4691298379888791', '4538154569785056', '4125580628518162', '4943697132856191', '4863832984712996', '4303127491121668', '4236603585689879', '4994055031069549', '4574116219417534', '4025129427215983', '4544141497443538', '4422842854172126', '4033160065800364', '4566129671485170', '4459780215953485', '4937809707561266', '4116370669391070', '4211230960431815', '4557873358799582', '4916419000645975', '4199439111597863', '4108484702041863', '4343189075029008', '4709600761304131', '4143873250835428', '4163756890679485', '4220665133935425', '4165127470474796', '4680257208972302', '4650822922270873', '4014298499616767', '4618937332705713', '4039227906134982', '4805652416927579', '4241453805273630', '4978667132535671', '4997434680860069', '4702407853825297', '4675440669272126', '4357232209332097', '4273745598776427', '4655251061784855', '4395886393337008', '4695890822342701', '4252731284423750', '4102126941842025', '4906160569009755', '4954324682705985', '4259787421397516', '4637117798226556', '4285140543694436', '4194307421027217', '4876756648554830', '4661693857717130', '4255558590192549', '4937809707561266', '4619052827974227', '4727112902803540', '4398950686897867', '4671601717871359', '4902056415872970', '4134120990603661', '4277698309551298', '4912635283469031', '4857743511793169', '4560554080154982', '4125784896465623', '4919473680172286', '4486178141236447', '4239373027992565', '4780933342390572', '4125725767919073', '4812832116936218', '4366675155603615']\n"
     ]
    }
   ],
   "source": [
    "cc_num_sample = random.sample(cc_num_list, NUM_RANDOM_SAMPLES)\n",
    "print(cc_num_sample)"
   ]
  },
  {
   "cell_type": "code",
   "execution_count": 33,
   "metadata": {},
   "outputs": [
    {
     "name": "stdout",
     "output_type": "stream",
     "text": [
      "[['4366675155603615', '2021-01-31 21:35:49'], ['4566212050718302', '2021-01-31 16:35:20'], ['4230880984727064', '2021-01-31 22:22:56'], ['4526580585599952', '2021-01-31 23:34:29'], ['4563254037187733', '2021-01-31 23:21:36'], ['4240943081010350', '2021-01-31 18:50:58'], ['4783713328425247', '2021-01-31 13:12:02'], ['4184024195705504', '2021-01-31 19:33:34'], ['4039951234037985', '2021-01-31 19:16:16'], ['4390047232225939', '2021-01-31 17:15:27'], ['4609751074905238', '2021-01-31 15:12:30'], ['4656683571012535', '2021-01-31 21:23:50'], ['4730351302648825', '2021-01-31 23:46:43'], ['4219457262138911', '2021-01-31 23:25:54'], ['4159574586922804', '2021-01-31 18:50:00'], ['4897510052779978', '2021-01-31 19:43:57'], ['4775216567122137', '2021-01-31 12:49:06'], ['4411504524619489', '2021-01-31 14:38:17'], ['4086324433357673', '2021-01-31 19:02:32'], ['4948841722803552', '2021-01-31 14:27:53'], ['4408878958981127', '2021-01-31 19:30:28'], ['4119215696686652', '2021-01-31 14:08:32'], ['4372082122888803', '2021-01-31 17:19:47'], ['4823810986511227', '2021-01-31 16:57:58'], ['4893308344742860', '2021-01-31 18:04:02'], ['4702407853825297', '2021-01-31 16:29:36'], ['4691298379888791', '2021-01-31 17:49:16'], ['4538154569785056', '2021-01-31 17:52:56'], ['4125580628518162', '2021-01-31 12:30:06'], ['4943697132856191', '2021-01-31 22:34:26'], ['4863832984712996', '2021-01-31 20:08:17'], ['4303127491121668', '2021-01-31 23:01:44'], ['4236603585689879', '2021-01-31 14:20:20'], ['4994055031069549', '2021-01-31 14:53:30'], ['4574116219417534', '2021-01-31 19:57:39'], ['4025129427215983', '2021-01-31 15:02:49'], ['4544141497443538', '2021-01-31 22:28:39'], ['4422842854172126', '2021-01-31 17:51:07'], ['4033160065800364', '2021-01-31 23:58:07'], ['4566129671485170', '2021-01-31 13:34:22'], ['4459780215953485', '2021-01-31 16:47:08'], ['4937809707561266', '2021-01-31 17:46:30'], ['4116370669391070', '2021-01-31 21:08:07'], ['4211230960431815', '2021-01-31 19:18:04'], ['4557873358799582', '2021-01-31 12:58:57'], ['4916419000645975', '2021-01-31 12:35:13'], ['4199439111597863', '2021-01-31 16:58:33'], ['4108484702041863', '2021-01-31 23:57:44'], ['4343189075029008', '2021-01-31 14:01:56'], ['4709600761304131', '2021-01-31 13:16:20'], ['4143873250835428', '2021-01-31 13:57:56'], ['4163756890679485', '2021-01-31 12:52:43'], ['4220665133935425', '2021-01-31 19:31:51'], ['4165127470474796', '2021-01-31 18:50:32'], ['4680257208972302', '2021-01-31 14:24:38'], ['4650822922270873', '2021-01-31 19:52:54'], ['4014298499616767', '2021-01-31 16:00:19'], ['4618937332705713', '2021-01-31 13:57:17'], ['4039227906134982', '2021-01-31 13:25:26'], ['4805652416927579', '2021-01-31 23:12:16'], ['4241453805273630', '2021-01-31 21:29:08'], ['4978667132535671', '2021-01-31 22:41:56'], ['4997434680860069', '2021-01-31 22:26:01'], ['4702407853825297', '2021-01-31 19:05:04'], ['4675440669272126', '2021-01-31 15:03:58'], ['4357232209332097', '2021-01-31 15:59:05'], ['4273745598776427', '2021-01-31 19:43:44'], ['4655251061784855', '2021-01-31 22:24:36'], ['4395886393337008', '2021-01-31 20:58:46'], ['4695890822342701', '2021-01-31 23:25:39'], ['4252731284423750', '2021-01-31 14:57:54'], ['4102126941842025', '2021-01-31 14:50:53'], ['4906160569009755', '2021-01-31 14:14:24'], ['4954324682705985', '2021-01-31 13:59:36'], ['4259787421397516', '2021-01-31 15:19:23'], ['4637117798226556', '2021-01-31 13:22:20'], ['4285140543694436', '2021-01-31 23:55:56'], ['4194307421027217', '2021-01-31 16:18:34'], ['4876756648554830', '2021-01-31 17:46:50'], ['4661693857717130', '2021-01-31 18:28:35'], ['4255558590192549', '2021-01-31 18:43:23'], ['4937809707561266', '2021-01-31 14:57:35'], ['4619052827974227', '2021-01-31 15:20:29'], ['4727112902803540', '2021-01-31 19:52:14'], ['4398950686897867', '2021-01-31 19:26:47'], ['4671601717871359', '2021-01-31 21:53:02'], ['4902056415872970', '2021-01-31 23:42:37'], ['4134120990603661', '2021-01-31 14:24:39'], ['4277698309551298', '2021-01-31 23:23:43'], ['4912635283469031', '2021-01-31 20:43:18'], ['4857743511793169', '2021-01-31 20:51:37'], ['4560554080154982', '2021-01-31 17:46:49'], ['4125784896465623', '2021-01-31 16:13:23'], ['4919473680172286', '2021-01-31 18:18:37'], ['4486178141236447', '2021-01-31 17:13:26'], ['4239373027992565', '2021-01-31 12:42:33'], ['4780933342390572', '2021-01-31 18:19:16'], ['4125725767919073', '2021-01-31 15:20:21'], ['4812832116936218', '2021-01-31 16:41:01'], ['4366675155603615', '2021-01-31 15:59:52']]\n"
     ]
    }
   ],
   "source": [
    "# Build list of faked tuples of cc_num and timestamp\n",
    "start = datetime.datetime.strptime('2021-01-31 12:00:00', '%Y-%m-%d %H:%M:%S')\n",
    "end = datetime.datetime.strptime('2021-01-31 23:59:59', '%Y-%m-%d %H:%M:%S')\n",
    "\n",
    "samples = list()\n",
    "for r in range(NUM_RANDOM_SAMPLES):\n",
    "    row = []\n",
    "    fake_timestamp = faker.date_time_between(start_date=start, end_date=end, tzinfo=None).strftime('%Y-%m-%d %H:%M:%S')\n",
    "    row.append(cc_num_sample[r])\n",
    "    row.append(fake_timestamp)\n",
    "    samples.append(row)\n",
    "    \n",
    "print(samples)"
   ]
  },
  {
   "cell_type": "code",
   "execution_count": 34,
   "metadata": {},
   "outputs": [],
   "source": [
    "# Create and show the query DF (e.g. entity_dataframe)\n",
    "query_df_schema = StructType([\n",
    "    # change to transactionid (tid)\n",
    "    StructField('cc_num', StringType(), False),\n",
    "    StructField('joindate', StringType(), False)\n",
    "])"
   ]
  },
  {
   "cell_type": "code",
   "execution_count": 35,
   "metadata": {},
   "outputs": [
    {
     "name": "stdout",
     "output_type": "stream",
     "text": [
      "+----------------+-------------------+\n",
      "|          cc_num|           joindate|\n",
      "+----------------+-------------------+\n",
      "|4366675155603615|2021-01-31 21:35:49|\n",
      "|4566212050718302|2021-01-31 16:35:20|\n",
      "|4230880984727064|2021-01-31 22:22:56|\n",
      "|4526580585599952|2021-01-31 23:34:29|\n",
      "|4563254037187733|2021-01-31 23:21:36|\n",
      "|4240943081010350|2021-01-31 18:50:58|\n",
      "|4783713328425247|2021-01-31 13:12:02|\n",
      "|4184024195705504|2021-01-31 19:33:34|\n",
      "|4039951234037985|2021-01-31 19:16:16|\n",
      "|4390047232225939|2021-01-31 17:15:27|\n",
      "|4609751074905238|2021-01-31 15:12:30|\n",
      "|4656683571012535|2021-01-31 21:23:50|\n",
      "|4730351302648825|2021-01-31 23:46:43|\n",
      "|4219457262138911|2021-01-31 23:25:54|\n",
      "|4159574586922804|2021-01-31 18:50:00|\n",
      "|4897510052779978|2021-01-31 19:43:57|\n",
      "|4775216567122137|2021-01-31 12:49:06|\n",
      "|4411504524619489|2021-01-31 14:38:17|\n",
      "|4086324433357673|2021-01-31 19:02:32|\n",
      "|4948841722803552|2021-01-31 14:27:53|\n",
      "+----------------+-------------------+\n",
      "only showing top 20 rows\n",
      "\n"
     ]
    }
   ],
   "source": [
    "# Create entity data frame\n",
    "\n",
    "query_df = spark.createDataFrame(samples, query_df_schema)\n",
    "query_df.show()"
   ]
  },
  {
   "cell_type": "code",
   "execution_count": null,
   "metadata": {},
   "outputs": [],
   "source": [
    "# entity data frame\n",
    "\n",
    "# add multiple instances for same cc_num\n",
    "#query_df = spark.createDataFrame([\n",
    "#      # instead of tid we use cc_num\n",
    "#      [cc_num_sample[0], \"2021-01-31T18:00:00Z\"], \n",
    "#      [cc_num_sample[1], \"2021-01-31T14:00:00Z\"],\n",
    "#      [cc_num_sample[2], \"2021-01-31T12:00:00Z\"],\n",
    "#      [cc_num_sample[3], \"2021-01-31T17:00:00Z\"],\n",
    "#      [cc_num_sample[4], \"2021-01-31T13:00:00Z\"]\n",
    "#    ],\n",
    "#    query_df_schema)\n",
    "\n",
    "# To instead load this query df from s3:\n",
    "# QUERY_PATH = f\"s3://{BUCKET}/{PREFIX}/test_query.parquet\"\n",
    "# query_df = spark.read.parquet(QUERY_PATH)\n",
    "\n",
    "# TEST, will it still run ok with 5,000 rows in the entity frame\n",
    "# try pandas sample() \n",
    "\n",
    "#query_df.show()"
   ]
  },
  {
   "cell_type": "code",
   "execution_count": 36,
   "metadata": {},
   "outputs": [
    {
     "name": "stdout",
     "output_type": "stream",
     "text": [
      "[Row(min(joindate)='2021-01-31 12:30:06', max(joindate)='2021-01-31 23:58:07')]\n"
     ]
    }
   ],
   "source": [
    "# Compute min and max times over our query data for filtering, in one pass for performance\n",
    "\n",
    "# query_df used to define bounded time window\n",
    "minmax_time = query_df.agg(sql_min(\"joindate\"), sql_max(\"joindate\")).collect()\n",
    "print(minmax_time)"
   ]
  },
  {
   "cell_type": "code",
   "execution_count": 37,
   "metadata": {},
   "outputs": [
    {
     "name": "stdout",
     "output_type": "stream",
     "text": [
      "min_time: 2021-01-31 12:30:06\n",
      "max_time: 2021-01-31 23:58:07\n"
     ]
    }
   ],
   "source": [
    "min_time, max_time = minmax_time[0][\"min(joindate)\"], minmax_time[0][\"max(joindate)\"]\n",
    "print(f'min_time: {min_time}')\n",
    "print(f'max_time: {max_time}')"
   ]
  },
  {
   "cell_type": "code",
   "execution_count": 38,
   "metadata": {},
   "outputs": [
    {
     "name": "stdout",
     "output_type": "stream",
     "text": [
      "Before filter, count: 1000\n"
     ]
    }
   ],
   "source": [
    "print(\"Before filter, count: \" + str(events.count()))"
   ]
  },
  {
   "cell_type": "code",
   "execution_count": null,
   "metadata": {},
   "outputs": [],
   "source": [
    "# Filter deleted records out\n",
    "#filtered = events.filter(~events.is_deleted)\n",
    "#print(\"After count: \" + str(filtered.count()))"
   ]
  },
  {
   "cell_type": "code",
   "execution_count": 39,
   "metadata": {},
   "outputs": [
    {
     "name": "stdout",
     "output_type": "stream",
     "text": [
      "After filter, count: 981\n"
     ]
    }
   ],
   "source": [
    "# Filter out records from after highest query time and before staleness window of the min_time\n",
    "# This is a performance optimization; doing this prior to individual (shopper, query_time) filtering will be faster\n",
    "\n",
    "# 'datediff' function will convert delta to be datetime-compare compatible\n",
    "allowed_staleness_days = 4\n",
    "\n",
    "filtered = events.filter(\n",
    "    # datediff ( enddate, startdate ) - returns days\n",
    "    (datediff(events.event_time, lit(min_time)) <= allowed_staleness_days)\n",
    "    & (events.event_time <= max_time)\n",
    ")\n",
    "\n",
    "print(\"After filter, count: \" + str(filtered.count()))"
   ]
  },
  {
   "cell_type": "code",
   "execution_count": 40,
   "metadata": {},
   "outputs": [
    {
     "name": "stdout",
     "output_type": "stream",
     "text": [
      "+----------------+\n",
      "|          cc_num|\n",
      "+----------------+\n",
      "|4841758566240493|\n",
      "|4112052632105688|\n",
      "|4115181035084583|\n",
      "|4007144070776605|\n",
      "|4741003082139478|\n",
      "|4661693857717130|\n",
      "|4897249935555210|\n",
      "|4213741526478791|\n",
      "|4862530081141983|\n",
      "|4056057388547395|\n",
      "|4609270001711569|\n",
      "|4349977314233413|\n",
      "|4512227924204037|\n",
      "|4221583135670743|\n",
      "|4007365955573714|\n",
      "|4647625239834026|\n",
      "|4947638477574854|\n",
      "|4585480040850249|\n",
      "|4232420034941999|\n",
      "|4766004007367160|\n",
      "+----------------+\n",
      "only showing top 20 rows\n",
      "\n"
     ]
    }
   ],
   "source": [
    "filtered.select(\"cc_num\").show(20)"
   ]
  },
  {
   "cell_type": "code",
   "execution_count": 41,
   "metadata": {},
   "outputs": [
    {
     "name": "stdout",
     "output_type": "stream",
     "text": [
      "root\n",
      " |-- tid: string (nullable = true)\n",
      " |-- event_time: string (nullable = true)\n",
      " |-- trans_time: double (nullable = true)\n",
      " |-- api_invocation_time: timestamp (nullable = true)\n",
      " |-- cc_num: long (nullable = true)\n",
      " |-- fraud_label: string (nullable = true)\n",
      " |-- amount: string (nullable = true)\n",
      " |-- num_trans_last_1d: long (nullable = true)\n",
      " |-- avg_amt_last_1d: double (nullable = true)\n",
      "\n"
     ]
    }
   ],
   "source": [
    "filtered.printSchema()"
   ]
  },
  {
   "cell_type": "code",
   "execution_count": 42,
   "metadata": {},
   "outputs": [
    {
     "name": "stdout",
     "output_type": "stream",
     "text": [
      "Joined count: 98\n"
     ]
    }
   ],
   "source": [
    "# Join with query set; drop duplicate id field\n",
    "# .drop(feature_store_df.tid)\n",
    "\n",
    "joined = filtered.join(query_df, combined_df.cc_num == query_df.cc_num, \"inner\").drop(query_df.cc_num)\n",
    "print(\"Joined count: \" + str(joined.count()))"
   ]
  },
  {
   "cell_type": "code",
   "execution_count": 43,
   "metadata": {},
   "outputs": [
    {
     "name": "stdout",
     "output_type": "stream",
     "text": [
      "+--------------------+-------------------+-------------+-------------------+----------------+-----------+-------+-----------------+---------------+-------------------+\n",
      "|                 tid|         event_time|   trans_time|api_invocation_time|          cc_num|fraud_label| amount|num_trans_last_1d|avg_amt_last_1d|           joindate|\n",
      "+--------------------+-------------------+-------------+-------------------+----------------+-----------+-------+-----------------+---------------+-------------------+\n",
      "|d22910f4cf6475542...|2021-01-31 23:15:22|1.618438283E9|2021-04-14 22:11:23|4775216567122137|          0|9047.24|               16|        1475.59|2021-01-31 12:49:06|\n",
      "|be2ae1d6c75fdc576...|2021-01-31 23:28:12|1.618438288E9|2021-04-14 22:11:28|4086324433357673|          0|4667.65|               13|         903.64|2021-01-31 19:02:32|\n",
      "|3833b8ff2ffa65c14...|2021-01-31 23:16:21|1.618438289E9|2021-04-14 22:11:29|4691298379888791|          0| 353.52|               16|         203.15|2021-01-31 17:49:16|\n",
      "|162e05647f0712e93...|2021-01-31 21:52:40|1.618438289E9|2021-04-14 22:11:28|4184024195705504|          0|    7.8|               16|         1244.1|2021-01-31 19:33:34|\n",
      "|0f7fd10046becf715...|2021-01-31 23:07:53|1.618438281E9|2021-04-14 22:11:21|4134120990603661|          0|  10.42|               21|         159.38|2021-01-31 14:24:39|\n",
      "|8b7d614872d30f5b5...|2021-01-31 22:09:46|1.618438279E9|2021-04-14 22:11:19|4655251061784855|          0|   1.91|               17|         999.39|2021-01-31 22:24:36|\n",
      "|56b1ca225f1ddc404...|2021-01-31 23:56:08|1.618438287E9|2021-04-14 22:11:26|4978667132535671|          0| 698.98|               19|         214.96|2021-01-31 22:41:56|\n",
      "|ef7a546a5aa7f089f...|2021-01-31 20:39:58|1.618438284E9|2021-04-14 22:11:24|4609751074905238|          0|  46.27|               22|         556.21|2021-01-31 15:12:30|\n",
      "|1fee364967fdb3a86...|2021-01-31 23:25:14|1.618438287E9|2021-04-14 22:11:27|4805652416927579|          0|  34.32|               16|         259.61|2021-01-31 23:12:16|\n",
      "|fea5356bbba49aa5e...|2021-01-31 23:00:30|1.618438284E9|2021-04-14 22:11:23|4039227906134982|          0|  45.61|               17|         214.91|2021-01-31 13:25:26|\n",
      "|739ad99de64cbf93b...|2021-01-31 22:25:48|1.618438282E9|2021-04-14 22:11:21|4857743511793169|          0|  798.3|               20|        1046.14|2021-01-31 20:51:37|\n",
      "|f8a920a3cff04d93f...|2021-01-31 23:42:23|1.618438281E9|2021-04-14 22:11:21|4102126941842025|          0| 457.78|               19|         704.85|2021-01-31 14:50:53|\n",
      "|fd52042037115275d...|2021-01-31 19:28:44|1.618438284E9|2021-04-14 22:11:24|4526580585599952|          0|3108.82|               22|         844.45|2021-01-31 23:34:29|\n",
      "|3679f414ebd49cfc8...|2021-01-31 22:26:36|1.618438284E9|2021-04-14 22:11:24|4997434680860069|          0|  78.44|               20|         998.72|2021-01-31 22:26:01|\n",
      "|373bcb71c06af624a...|2021-01-31 22:57:14|1.618438284E9|2021-04-14 22:11:24|4273745598776427|          0|  61.07|               13|           96.9|2021-01-31 19:43:44|\n",
      "|fb76b3bc1841a2ca3...|2021-01-31 21:21:11| 1.61843829E9|2021-04-14 22:11:29|4919473680172286|          0|  67.81|               22|          733.2|2021-01-31 18:18:37|\n",
      "|ca8a704454626f70f...|2021-01-31 22:18:25| 1.61843829E9|2021-04-14 22:11:29|4357232209332097|          0|   7.41|               16|         788.17|2021-01-31 15:59:05|\n",
      "|31363b6715d22a114...|2021-01-31 22:00:01| 1.61843828E9|2021-04-14 22:11:19|4239373027992565|          0| 183.32|               17|         519.99|2021-01-31 12:42:33|\n",
      "|11b946f91196fe0c6...|2021-01-31 21:16:58| 1.61843828E9|2021-04-14 22:11:19|4343189075029008|          0|  11.92|               21|         577.35|2021-01-31 14:01:56|\n",
      "|afaf86b97c8411a6a...|2021-01-31 22:03:38|1.618438282E9|2021-04-14 22:11:21|4727112902803540|          0| 349.61|               18|         663.21|2021-01-31 19:52:14|\n",
      "+--------------------+-------------------+-------------+-------------------+----------------+-----------+-------+-----------------+---------------+-------------------+\n",
      "only showing top 20 rows\n",
      "\n"
     ]
    }
   ],
   "source": [
    "joined.show()"
   ]
  },
  {
   "cell_type": "code",
   "execution_count": 44,
   "metadata": {},
   "outputs": [
    {
     "name": "stdout",
     "output_type": "stream",
     "text": [
      "After drop stale, count: 16\n"
     ]
    }
   ],
   "source": [
    "# Filter out data from after query time or before query time minus staleness window\n",
    "drop_future_and_stale = joined.filter(\n",
    "    (joined.event_time <= query_df.joindate)\n",
    "    & (datediff(query_df.joindate, feature_store_df.event_time) <= allowed_staleness_days)\n",
    ")\n",
    "print(\"After drop stale, count: \" + str(drop_future_and_stale.count()))"
   ]
  },
  {
   "cell_type": "code",
   "execution_count": 45,
   "metadata": {},
   "outputs": [
    {
     "name": "stdout",
     "output_type": "stream",
     "text": [
      "+--------------------+-------------------+-------------+-------------------+----------------+-----------+-------+-----------------+---------------+-------------------+\n",
      "|                 tid|         event_time|   trans_time|api_invocation_time|          cc_num|fraud_label| amount|num_trans_last_1d|avg_amt_last_1d|           joindate|\n",
      "+--------------------+-------------------+-------------+-------------------+----------------+-----------+-------+-----------------+---------------+-------------------+\n",
      "|8b7d614872d30f5b5...|2021-01-31 22:09:46|1.618438279E9|2021-04-14 22:11:19|4655251061784855|          0|   1.91|               17|         999.39|2021-01-31 22:24:36|\n",
      "|fd52042037115275d...|2021-01-31 19:28:44|1.618438284E9|2021-04-14 22:11:24|4526580585599952|          0|3108.82|               22|         844.45|2021-01-31 23:34:29|\n",
      "|c3fcb8a3a2093a1da...|2021-01-31 21:01:00|1.618438282E9|2021-04-14 22:11:21|4366675155603615|          0|  13.39|               17|        1245.66|2021-01-31 21:35:49|\n",
      "|c55d78ffcc68cafc2...|2021-01-31 21:33:49|1.618438282E9|2021-04-14 22:11:21|4303127491121668|          0| 898.27|               14|        1300.84|2021-01-31 23:01:44|\n",
      "|aaf77963f79e210b6...|2021-01-31 22:29:21|1.618438282E9|2021-04-14 22:11:22|4219457262138911|          0|  88.23|               17|         865.31|2021-01-31 23:25:54|\n",
      "|a34aba61fba304b98...|2021-01-31 22:48:07|1.618438285E9|2021-04-14 22:11:24|4277698309551298|          0|   1.32|               16|         102.37|2021-01-31 23:23:43|\n",
      "|4ea019275bf0af102...|2021-01-31 21:30:36|1.618438291E9|2021-04-14 22:11:30|4902056415872970|          0| 542.05|               16|         250.91|2021-01-31 23:42:37|\n",
      "|f49e9491c5eb25b83...|2021-01-31 22:20:55|1.618438291E9|2021-04-14 22:11:30|4544141497443538|          0| 574.88|               18|         642.18|2021-01-31 22:28:39|\n",
      "|beb56b7f5fbc5937e...|2021-01-31 21:25:32|1.618438288E9|2021-04-14 22:11:28|4108484702041863|          0|2489.68|               19|         430.27|2021-01-31 23:57:44|\n",
      "|4b49d1acd415d34e3...|2021-01-31 23:26:19| 1.61843828E9|2021-04-14 22:11:20|4285140543694436|          0|  37.43|               16|         448.08|2021-01-31 23:55:56|\n",
      "|b9cbd77d1f2591531...|2021-01-31 20:55:39|1.618438288E9|2021-04-14 22:11:28|4241453805273630|          0|  20.71|               18|          91.86|2021-01-31 21:29:08|\n",
      "|b744b991b334a27f2...|2021-01-31 23:13:18|1.618438286E9|2021-04-14 22:11:25|4033160065800364|          0|3453.53|               22|         1238.9|2021-01-31 23:58:07|\n",
      "|38a91eac8e8da8bbf...|2021-01-31 23:16:02|1.618438291E9|2021-04-14 22:11:31|4695890822342701|          0|  53.88|               18|         606.09|2021-01-31 23:25:39|\n",
      "|ca0ef60e326d346f1...|2021-01-31 21:38:23|1.618438286E9|2021-04-14 22:11:26|4730351302648825|          0|  31.38|               16|        1227.12|2021-01-31 23:46:43|\n",
      "|7d0282426a7f9d196...|2021-01-31 15:11:45|1.618438286E9|2021-04-14 22:11:25|4661693857717130|          0|   0.42|               25|         200.08|2021-01-31 18:28:35|\n",
      "|38a83eadfbbed2201...|2021-01-31 20:47:28|1.618438288E9|2021-04-14 22:11:28|4656683571012535|          0|  97.73|               20|          663.2|2021-01-31 21:23:50|\n",
      "+--------------------+-------------------+-------------+-------------------+----------------+-----------+-------+-----------------+---------------+-------------------+\n",
      "\n"
     ]
    }
   ],
   "source": [
    "drop_future_and_stale.show()"
   ]
  },
  {
   "cell_type": "code",
   "execution_count": 46,
   "metadata": {},
   "outputs": [],
   "source": [
    "# Group by id and take latest record\n",
    "take_latest = (\n",
    "    drop_future_and_stale.rdd.map(lambda x: (x.tid, x))  # to RDD with KVPs so we can use efficient reduceByKey\n",
    "    .reduceByKey(\n",
    "        lambda x, y: x if ((x.event_time, x.api_invocation_time) >= (y.event_time, y.api_invocation_time)) else y\n",
    "    )  # Use API invocation time as tie-breaker\n",
    "    .values()  # drop keys\n",
    ")"
   ]
  },
  {
   "cell_type": "code",
   "execution_count": 47,
   "metadata": {},
   "outputs": [],
   "source": [
    "# Convert to DF\n",
    "latest_df = take_latest.toDF(drop_future_and_stale.schema)"
   ]
  },
  {
   "cell_type": "code",
   "execution_count": 48,
   "metadata": {},
   "outputs": [],
   "source": [
    "# Drop extra columns\n",
    "columns_to_drop = [\"write_time\", \"is_deleted\", \"year\", \"month\", \"day\", \"hour\", \"query_time\", \"api_invocation_time\"]\n",
    "selected = latest_df.drop(*columns_to_drop)"
   ]
  },
  {
   "cell_type": "code",
   "execution_count": 49,
   "metadata": {},
   "outputs": [
    {
     "name": "stdout",
     "output_type": "stream",
     "text": [
      "+--------------------+-------------------+-------------+----------------+-----------+-------+-----------------+---------------+-------------------+\n",
      "|                 tid|         event_time|   trans_time|          cc_num|fraud_label| amount|num_trans_last_1d|avg_amt_last_1d|           joindate|\n",
      "+--------------------+-------------------+-------------+----------------+-----------+-------+-----------------+---------------+-------------------+\n",
      "|c55d78ffcc68cafc2...|2021-01-31 21:33:49|1.618438282E9|4303127491121668|          0| 898.27|               14|        1300.84|2021-01-31 23:01:44|\n",
      "|c3fcb8a3a2093a1da...|2021-01-31 21:01:00|1.618438282E9|4366675155603615|          0|  13.39|               17|        1245.66|2021-01-31 21:35:49|\n",
      "|ca0ef60e326d346f1...|2021-01-31 21:38:23|1.618438286E9|4730351302648825|          0|  31.38|               16|        1227.12|2021-01-31 23:46:43|\n",
      "|fd52042037115275d...|2021-01-31 19:28:44|1.618438284E9|4526580585599952|          0|3108.82|               22|         844.45|2021-01-31 23:34:29|\n",
      "|8b7d614872d30f5b5...|2021-01-31 22:09:46|1.618438279E9|4655251061784855|          0|   1.91|               17|         999.39|2021-01-31 22:24:36|\n",
      "|b744b991b334a27f2...|2021-01-31 23:13:18|1.618438286E9|4033160065800364|          0|3453.53|               22|         1238.9|2021-01-31 23:58:07|\n",
      "|aaf77963f79e210b6...|2021-01-31 22:29:21|1.618438282E9|4219457262138911|          0|  88.23|               17|         865.31|2021-01-31 23:25:54|\n",
      "|a34aba61fba304b98...|2021-01-31 22:48:07|1.618438285E9|4277698309551298|          0|   1.32|               16|         102.37|2021-01-31 23:23:43|\n",
      "|4ea019275bf0af102...|2021-01-31 21:30:36|1.618438291E9|4902056415872970|          0| 542.05|               16|         250.91|2021-01-31 23:42:37|\n",
      "|38a91eac8e8da8bbf...|2021-01-31 23:16:02|1.618438291E9|4695890822342701|          0|  53.88|               18|         606.09|2021-01-31 23:25:39|\n",
      "|b9cbd77d1f2591531...|2021-01-31 20:55:39|1.618438288E9|4241453805273630|          0|  20.71|               18|          91.86|2021-01-31 21:29:08|\n",
      "|38a83eadfbbed2201...|2021-01-31 20:47:28|1.618438288E9|4656683571012535|          0|  97.73|               20|          663.2|2021-01-31 21:23:50|\n",
      "|f49e9491c5eb25b83...|2021-01-31 22:20:55|1.618438291E9|4544141497443538|          0| 574.88|               18|         642.18|2021-01-31 22:28:39|\n",
      "|beb56b7f5fbc5937e...|2021-01-31 21:25:32|1.618438288E9|4108484702041863|          0|2489.68|               19|         430.27|2021-01-31 23:57:44|\n",
      "|7d0282426a7f9d196...|2021-01-31 15:11:45|1.618438286E9|4661693857717130|          0|   0.42|               25|         200.08|2021-01-31 18:28:35|\n",
      "|4b49d1acd415d34e3...|2021-01-31 23:26:19| 1.61843828E9|4285140543694436|          0|  37.43|               16|         448.08|2021-01-31 23:55:56|\n",
      "+--------------------+-------------------+-------------+----------------+-----------+-------+-----------------+---------------+-------------------+\n",
      "\n"
     ]
    }
   ],
   "source": [
    "# Show query result\n",
    "selected.show()\n",
    "\n",
    "# To save query result to s3:\n",
    "# OUTPUT_PATH = f\"s3://{BUCKET}/{PREFIX}/test_query_output\"\n",
    "# selected.write.parquet(OUTPUT_PATH, mode=\"overwrite\")"
   ]
  },
  {
   "cell_type": "code",
   "execution_count": null,
   "metadata": {},
   "outputs": [],
   "source": []
  }
 ],
 "metadata": {
  "kernelspec": {
   "display_name": "conda_python3",
   "language": "python",
   "name": "conda_python3"
  },
  "language_info": {
   "codemirror_mode": {
    "name": "ipython",
    "version": 3
   },
   "file_extension": ".py",
   "mimetype": "text/x-python",
   "name": "python",
   "nbconvert_exporter": "python",
   "pygments_lexer": "ipython3",
   "version": "3.6.10"
  }
 },
 "nbformat": 4,
 "nbformat_minor": 5
}
