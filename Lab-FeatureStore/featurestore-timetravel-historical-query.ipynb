{
 "cells": [
  {
   "cell_type": "markdown",
   "metadata": {},
   "source": [
    "### Use SageMaker Feature Store and Apache Spark to generate point-in-time queries to implement Time Travel\n",
    "The following notebook uses SageMaker Feature Store and Apache Spark to build out a set of Dataframes and queries that provide a pattern for using \"Time Travel\" capabilities. We will demonstrate how to build a \"point-in-time\" feature sets by starting with raw transactional data, joining that data with records from the Offline Store, and then building an \"entity\" dataset to define the items we care about and the timestamp of reference. Techniques include building Spark Dataframes, using outer and inner table joins, using query filters to prune items outside our timeframe, and finally ReduceByKey to reduce the final the dataset. "
   ]
  },
  {
   "cell_type": "markdown",
   "metadata": {},
   "source": [
    "#### Install Faker library to help generate timestamps within a given range"
   ]
  },
  {
   "cell_type": "code",
   "execution_count": null,
   "metadata": {},
   "outputs": [],
   "source": [
    "!pip install Faker"
   ]
  },
  {
   "cell_type": "code",
   "execution_count": 1,
   "metadata": {},
   "outputs": [],
   "source": [
    "# Faker\n",
    "from faker import Faker\n",
    "\n",
    "# Import pyspark and build Spark session\n",
    "\n",
    "from pyspark.sql import SparkSession\n",
    "from pyspark.sql.functions import datediff\n",
    "from pyspark.sql.functions import lit\n",
    "from pyspark.sql.functions import col\n",
    "from pyspark.sql.functions import max as sql_max\n",
    "from pyspark.sql.functions import min as sql_min\n",
    "from pyspark.sql.types import StringType\n",
    "from pyspark.sql.types import StructField\n",
    "from pyspark.sql.types import StructType\n",
    "\n",
    "from pyspark import SparkContext, SparkConf\n",
    "import sagemaker_pyspark\n",
    "import datetime\n",
    "\n",
    "# Configure Spark to use the SageMaker Spark dependency jars\n",
    "classpath = \":\".join(sagemaker_pyspark.classpath_jars())\n"
   ]
  },
  {
   "cell_type": "code",
   "execution_count": 2,
   "metadata": {},
   "outputs": [],
   "source": [
    "spark = (SparkSession\n",
    "    .builder\n",
    "    .config(\"spark.driver.extraClassPath\", classpath)\n",
    "    .getOrCreate())\n"
   ]
  },
  {
   "cell_type": "code",
   "execution_count": 3,
   "metadata": {},
   "outputs": [
    {
     "name": "stdout",
     "output_type": "stream",
     "text": [
      "2.3.4\n"
     ]
    }
   ],
   "source": [
    "sc = spark.sparkContext\n",
    "print(sc.version)"
   ]
  },
  {
   "cell_type": "code",
   "execution_count": 4,
   "metadata": {},
   "outputs": [],
   "source": [
    "SEED = 123456\n",
    "faker = Faker()\n",
    "faker.seed_locale('en_US', 0)\n",
    "faker.seed_instance(SEED)"
   ]
  },
  {
   "cell_type": "code",
   "execution_count": 5,
   "metadata": {},
   "outputs": [
    {
     "name": "stdout",
     "output_type": "stream",
     "text": [
      "sagemaker-us-east-1-572539092864\n"
     ]
    }
   ],
   "source": [
    "import sagemaker\n",
    "\n",
    "BUCKET = sagemaker.Session().default_bucket()\n",
    "print(BUCKET)"
   ]
  },
  {
   "cell_type": "code",
   "execution_count": 6,
   "metadata": {},
   "outputs": [
    {
     "name": "stdout",
     "output_type": "stream",
     "text": [
      "s3://sagemaker-us-east-1-572539092864/sagemaker-featurestore-demo\n",
      "sagemaker-featurestore-demo/aggregated\n"
     ]
    }
   ],
   "source": [
    "import os\n",
    "\n",
    "BASE_PREFIX = \"sagemaker-featurestore-demo\"\n",
    "OFFLINE_STORE_BASE_URI = f's3://{BUCKET}/{BASE_PREFIX}'\n",
    "print(OFFLINE_STORE_BASE_URI)\n",
    "\n",
    "AGG_PREFIX = os.path.join(BASE_PREFIX, 'aggregated')\n",
    "print(AGG_PREFIX)\n",
    "\n",
    "AGG_FEATURES_PATH_S3 = f\"s3://{BUCKET}/{AGG_PREFIX}/\"\n",
    "AGG_FEATURES_PATH_PARQUET = f\"s3a://{BUCKET}/{AGG_PREFIX}/\""
   ]
  },
  {
   "cell_type": "code",
   "execution_count": 7,
   "metadata": {},
   "outputs": [
    {
     "name": "stdout",
     "output_type": "stream",
     "text": [
      "Using S3 path: s3://sagemaker-us-east-1-572539092864/sagemaker-featurestore-demo/aggregated/\n",
      "Found files: \n",
      "s3://sagemaker-us-east-1-572539092864/sagemaker-featurestore-demo/aggregated/_SUCCESS\n",
      "s3://sagemaker-us-east-1-572539092864/sagemaker-featurestore-demo/aggregated/part-00000-8516931f-40c6-4755-b0a2-79f831d24d50-c000.csv\n"
     ]
    }
   ],
   "source": [
    "from sagemaker.s3 import S3Downloader\n",
    "\n",
    "file_list = S3Downloader.list(AGG_FEATURES_PATH_S3)\n",
    "\n",
    "print(f'Using S3 path: {AGG_FEATURES_PATH_S3}')\n",
    "print(\"Found files: \\n\" + \"\\n\".join(file_list))"
   ]
  },
  {
   "cell_type": "markdown",
   "metadata": {},
   "source": [
    "#### Let's retreive our credit card transaction data"
   ]
  },
  {
   "cell_type": "code",
   "execution_count": 8,
   "metadata": {},
   "outputs": [],
   "source": [
    "transactions_df = spark.read.options(Header=True).csv(AGG_FEATURES_PATH_PARQUET)"
   ]
  },
  {
   "cell_type": "code",
   "execution_count": 9,
   "metadata": {},
   "outputs": [
    {
     "name": "stdout",
     "output_type": "stream",
     "text": [
      "root\n",
      " |-- tid: string (nullable = true)\n",
      " |-- event_time: string (nullable = true)\n",
      " |-- cc_num: string (nullable = true)\n",
      " |-- amount: string (nullable = true)\n",
      " |-- fraud_label: string (nullable = true)\n",
      " |-- num_trans_last_60m: string (nullable = true)\n",
      " |-- avg_amt_last_60m: string (nullable = true)\n",
      " |-- num_trans_last_1d: string (nullable = true)\n",
      " |-- avg_amt_last_1d: string (nullable = true)\n",
      " |-- amt_ratio1: string (nullable = true)\n",
      " |-- amt_ratio2: string (nullable = true)\n",
      " |-- count_ratio: string (nullable = true)\n",
      "\n"
     ]
    },
    {
     "data": {
      "text/plain": [
       "500001"
      ]
     },
     "execution_count": 9,
     "metadata": {},
     "output_type": "execute_result"
    }
   ],
   "source": [
    "transactions_df.printSchema()\n",
    "transactions_df.count()"
   ]
  },
  {
   "cell_type": "code",
   "execution_count": 10,
   "metadata": {},
   "outputs": [
    {
     "name": "stdout",
     "output_type": "stream",
     "text": [
      "+--------------------+--------------------+----------------+------+-----------+------------------+----------------+-----------------+------------------+-------------------+-------------------+------------------+\n",
      "|                 tid|          event_time|          cc_num|amount|fraud_label|num_trans_last_60m|avg_amt_last_60m|num_trans_last_1d|   avg_amt_last_1d|         amt_ratio1|         amt_ratio2|       count_ratio|\n",
      "+--------------------+--------------------+----------------+------+-----------+------------------+----------------+-----------------+------------------+-------------------+-------------------+------------------+\n",
      "|9f2457e8699918753...|2021-01-01T13:18:...|4006080197832643|  60.0|          0|                 1|            60.0|                1|              60.0|                1.0|                1.0|               1.0|\n",
      "|ea6201607ef021510...|2021-01-02T06:43:...|4006080197832643|   1.8|          0|                 1|             1.8|                2|              30.9|0.05825242718446602|0.05825242718446602|               0.5|\n",
      "|ea7f10d1474da6c00...|2021-01-02T18:51:...|4006080197832643| 340.1|          0|                 1|           340.1|                3|133.96666666666667| 2.5386912167205775| 2.5386912167205775|0.3333333333333333|\n",
      "|dc3df677f3d93761b...|2021-01-02T23:07:...|4006080197832643|  85.2|          0|                 1|            85.2|                4|           121.775| 0.6996509956887703| 0.6996509956887703|              0.25|\n",
      "|313df5414788e7865...|2021-01-03T10:11:...|4006080197832643|677.75|          0|                 1|          677.75|                5|232.96999999999997| 2.9091728548740186| 2.9091728548740186|               0.2|\n",
      "+--------------------+--------------------+----------------+------+-----------+------------------+----------------+-----------------+------------------+-------------------+-------------------+------------------+\n",
      "only showing top 5 rows\n",
      "\n"
     ]
    }
   ],
   "source": [
    "transactions_df.show(5)"
   ]
  },
  {
   "cell_type": "markdown",
   "metadata": {},
   "source": [
    "#### Use Sagemaker Client to retrieve info about Feature Group\n",
    "We will use the `describe_feature_group` method to lookup the S3 Uri location of the Offline Store data files."
   ]
  },
  {
   "cell_type": "code",
   "execution_count": 11,
   "metadata": {},
   "outputs": [],
   "source": [
    "from sagemaker import get_execution_role\n",
    "import sagemaker\n",
    "import boto3\n",
    "\n",
    "role = get_execution_role()\n",
    "sm_client = boto3.Session().client(service_name='sagemaker')\n"
   ]
  },
  {
   "cell_type": "code",
   "execution_count": 12,
   "metadata": {},
   "outputs": [
    {
     "name": "stdout",
     "output_type": "stream",
     "text": [
      "{'FeatureGroupArn': 'arn:aws:sagemaker:us-east-1:572539092864:feature-group/cc-agg-batch-fg', 'FeatureGroupName': 'cc-agg-batch-fg', 'RecordIdentifierFeatureName': 'cc_num', 'EventTimeFeatureName': 'trans_time', 'FeatureDefinitions': [{'FeatureName': 'tid', 'FeatureType': 'String'}, {'FeatureName': 'cc_num', 'FeatureType': 'Integral'}, {'FeatureName': 'num_trans_last_1d', 'FeatureType': 'Integral'}, {'FeatureName': 'avg_amt_last_1d', 'FeatureType': 'Fractional'}, {'FeatureName': 'event_time', 'FeatureType': 'String'}, {'FeatureName': 'trans_time', 'FeatureType': 'Fractional'}], 'CreationTime': datetime.datetime(2021, 4, 15, 12, 27, 20, 670000, tzinfo=tzlocal()), 'OnlineStoreConfig': {'EnableOnlineStore': True}, 'OfflineStoreConfig': {'S3StorageConfig': {'S3Uri': 's3://sagemaker-us-east-1-572539092864/sagemaker-featurestore-demo'}, 'DisableGlueTableCreation': False, 'DataCatalogConfig': {'TableName': 'cc-agg-batch-fg-1618489640', 'Catalog': 'AwsDataCatalog', 'Database': 'sagemaker_featurestore'}}, 'RoleArn': 'arn:aws:iam::572539092864:role/service-role/AmazonSageMaker-ExecutionRole-20200407T174741', 'FeatureGroupStatus': 'Created', 'OfflineStoreStatus': {'Status': 'Active'}, 'Description': 'Aggregated features for each credit card, streamed intraday', 'ResponseMetadata': {'RequestId': '1ea4c813-f577-49da-aedd-d21f7ff026f9', 'HTTPStatusCode': 200, 'HTTPHeaders': {'x-amzn-requestid': '1ea4c813-f577-49da-aedd-d21f7ff026f9', 'content-type': 'application/x-amz-json-1.1', 'content-length': '1327', 'date': 'Fri, 23 Apr 2021 21:45:10 GMT'}, 'RetryAttempts': 0}}\n"
     ]
    }
   ],
   "source": [
    "# Identify name of the Feature Group that contains aggregated features for our transaction data\n",
    "FEATURE_GROUP = 'cc-agg-batch-fg'\n",
    "\n",
    "response = sm_client.describe_feature_group(FeatureGroupName=FEATURE_GROUP)\n",
    "print (response)"
   ]
  },
  {
   "cell_type": "code",
   "execution_count": 13,
   "metadata": {},
   "outputs": [
    {
     "name": "stdout",
     "output_type": "stream",
     "text": [
      "s3://sagemaker-us-east-1-572539092864/sagemaker-featurestore-demo/572539092864/sagemaker/us-east-1/offline-store/cc-agg-batch-fg-1618489640/data/\n"
     ]
    }
   ],
   "source": [
    "# Lookup S3 Location of Offline Store\n",
    "\n",
    "offline_store_base_s3uri = response['OfflineStoreConfig']['S3StorageConfig']['S3Uri']\n",
    "offline_store_full_s3uri = (offline_store_base_s3uri + \n",
    "    '/572539092864/sagemaker/us-east-1/offline-store' +\n",
    "    '/cc-agg-batch-fg-1618489640' + \n",
    "    '/data/')\n",
    "\n",
    "print (offline_store_full_s3uri)\n",
    "\n",
    "# TODO: replace 's3' with 's3a'"
   ]
  },
  {
   "cell_type": "code",
   "execution_count": 14,
   "metadata": {},
   "outputs": [
    {
     "name": "stdout",
     "output_type": "stream",
     "text": [
      "s3a://sagemaker-us-east-1-572539092864/sagemaker-featurestore-demo/572539092864/sagemaker/us-east-1/offline-store/cc-agg-batch-fg-1618489640/data/\n"
     ]
    }
   ],
   "source": [
    "# Load S3 location for Offline Store \n",
    "OFFLINE_STORE_URI = \"s3a://sagemaker-us-east-1-572539092864/sagemaker-featurestore-demo/572539092864/sagemaker/us-east-1/offline-store/cc-agg-batch-fg-1618489640/data/\"\n",
    "print (OFFLINE_STORE_URI)"
   ]
  },
  {
   "cell_type": "code",
   "execution_count": 15,
   "metadata": {},
   "outputs": [
    {
     "name": "stdout",
     "output_type": "stream",
     "text": [
      "root\n",
      " |-- tid: string (nullable = true)\n",
      " |-- cc_num: long (nullable = true)\n",
      " |-- num_trans_last_1d: long (nullable = true)\n",
      " |-- avg_amt_last_1d: double (nullable = true)\n",
      " |-- event_time: string (nullable = true)\n",
      " |-- trans_time: double (nullable = true)\n",
      " |-- write_time: timestamp (nullable = true)\n",
      " |-- api_invocation_time: timestamp (nullable = true)\n",
      " |-- is_deleted: boolean (nullable = true)\n",
      " |-- year: integer (nullable = true)\n",
      " |-- month: integer (nullable = true)\n",
      " |-- day: integer (nullable = true)\n",
      " |-- hour: integer (nullable = true)\n",
      "\n"
     ]
    },
    {
     "data": {
      "text/plain": [
       "10001"
      ]
     },
     "execution_count": 15,
     "metadata": {},
     "output_type": "execute_result"
    }
   ],
   "source": [
    "# Read Offline Store data\n",
    "feature_store_df = spark.read.parquet(OFFLINE_STORE_URI)\n",
    "feature_store_df.printSchema()\n",
    "feature_store_df.count()"
   ]
  },
  {
   "cell_type": "code",
   "execution_count": 16,
   "metadata": {},
   "outputs": [
    {
     "name": "stdout",
     "output_type": "stream",
     "text": [
      "+--------------------+----------------+-----------------+---------------+-------------------+-------------+--------------------+-------------------+----------+----+-----+---+----+\n",
      "|                 tid|          cc_num|num_trans_last_1d|avg_amt_last_1d|         event_time|   trans_time|          write_time|api_invocation_time|is_deleted|year|month|day|hour|\n",
      "+--------------------+----------------+-----------------+---------------+-------------------+-------------+--------------------+-------------------+----------+----+-----+---+----+\n",
      "|8f3aac5ed6a43a632...|4006080197832643|               10|         164.94|2021-01-31 10:29:33|1.619115105E9|2021-04-22 18:16:...|2021-04-22 18:11:44|     false|2021|    4| 22|  18|\n",
      "|137c5d260d041c794...|4008569092490794|               11|         327.33|2021-01-31 23:32:13|1.619115105E9|2021-04-22 18:16:...|2021-04-22 18:11:45|     false|2021|    4| 22|  18|\n",
      "|4a4b1df6b77f84f4e...|4015965906982664|               21|        1014.54|2021-01-30 00:03:31|1.619115105E9|2021-04-22 18:16:...|2021-04-22 18:11:45|     false|2021|    4| 22|  18|\n",
      "|2cb37bc2940bfe3b9...|4026315850364369|               11|          210.4|2021-01-31 15:50:51|1.619115105E9|2021-04-22 18:16:...|2021-04-22 18:11:45|     false|2021|    4| 22|  18|\n",
      "|77d6bea33b69f1a70...|4029536382899161|                8|         712.76|2021-01-31 04:21:43|1.619115105E9|2021-04-22 18:16:...|2021-04-22 18:11:45|     false|2021|    4| 22|  18|\n",
      "+--------------------+----------------+-----------------+---------------+-------------------+-------------+--------------------+-------------------+----------+----+-----+---+----+\n",
      "only showing top 5 rows\n",
      "\n"
     ]
    }
   ],
   "source": [
    "feature_store_df.show(5)"
   ]
  },
  {
   "cell_type": "markdown",
   "metadata": {},
   "source": [
    "#### Create an enhanced set of features by joining raw transaction data with aggregate features from the Offline Store"
   ]
  },
  {
   "cell_type": "code",
   "execution_count": 17,
   "metadata": {},
   "outputs": [],
   "source": [
    "# Join the raw transactons table to the aggregate feature table \n",
    "\n",
    "enhanced_df = (transactions_df.join(feature_store_df, transactions_df.tid == feature_store_df.tid, \"left_outer\")\n",
    "    .drop(transactions_df.tid)\n",
    "    .drop(transactions_df.cc_num)\n",
    "    .drop(transactions_df.num_trans_last_1d)\n",
    "    .drop(transactions_df.avg_amt_last_1d)\n",
    "    .drop(transactions_df.event_time))"
   ]
  },
  {
   "cell_type": "code",
   "execution_count": 18,
   "metadata": {},
   "outputs": [
    {
     "name": "stdout",
     "output_type": "stream",
     "text": [
      "root\n",
      " |-- amount: string (nullable = true)\n",
      " |-- fraud_label: string (nullable = true)\n",
      " |-- num_trans_last_60m: string (nullable = true)\n",
      " |-- avg_amt_last_60m: string (nullable = true)\n",
      " |-- amt_ratio1: string (nullable = true)\n",
      " |-- amt_ratio2: string (nullable = true)\n",
      " |-- count_ratio: string (nullable = true)\n",
      " |-- tid: string (nullable = true)\n",
      " |-- cc_num: long (nullable = true)\n",
      " |-- num_trans_last_1d: long (nullable = true)\n",
      " |-- avg_amt_last_1d: double (nullable = true)\n",
      " |-- event_time: string (nullable = true)\n",
      " |-- trans_time: double (nullable = true)\n",
      " |-- write_time: timestamp (nullable = true)\n",
      " |-- api_invocation_time: timestamp (nullable = true)\n",
      " |-- is_deleted: boolean (nullable = true)\n",
      " |-- year: integer (nullable = true)\n",
      " |-- month: integer (nullable = true)\n",
      " |-- day: integer (nullable = true)\n",
      " |-- hour: integer (nullable = true)\n",
      "\n"
     ]
    },
    {
     "data": {
      "text/plain": [
       "500001"
      ]
     },
     "execution_count": 18,
     "metadata": {},
     "output_type": "execute_result"
    }
   ],
   "source": [
    "enhanced_df.printSchema()\n",
    "enhanced_df.count()"
   ]
  },
  {
   "cell_type": "markdown",
   "metadata": {},
   "source": [
    "### Sample Time Travel query from Studio\n",
    "\n",
    "##### Simplified query for datasets up to 100 GB\n",
    "\n",
    "SELECT *\n",
    "FROM\n",
    "    (SELECT *,\n",
    "         row_number()\n",
    "        OVER (PARTITION BY EventTime\n",
    "    ORDER BY  EventTime desc, Api_Invocation_Time DESC, write_time DESC) AS row_number\n",
    "    FROM sagemaker_featurestore.identity-feature-group-03-20-32-44-1614803787\n",
    "    where EventTime <= timestamp '<timestamp>')\n",
    "    -- replace timestamp '<timestamp>' with just <timestamp>  if EventTimeFeature is of type fractional\n",
    "WHERE row_number = 1 and\n",
    "NOT is_deleted"
   ]
  },
  {
   "cell_type": "markdown",
   "metadata": {},
   "source": [
    "### Build Entity Dataframe that spans the intended time window"
   ]
  },
  {
   "cell_type": "code",
   "execution_count": 19,
   "metadata": {},
   "outputs": [],
   "source": [
    "import random\n",
    "\n",
    "# Num samples in entity dataframe\n",
    "NUM_RANDOM_SAMPLES = 500\n",
    "\n",
    "cc_num_list = transactions_df.rdd.map(lambda x: x.cc_num).collect()"
   ]
  },
  {
   "cell_type": "code",
   "execution_count": 20,
   "metadata": {},
   "outputs": [],
   "source": [
    "cc_num_sample = random.sample(cc_num_list, NUM_RANDOM_SAMPLES)\n",
    "#print(cc_num_sample)"
   ]
  },
  {
   "cell_type": "code",
   "execution_count": 21,
   "metadata": {},
   "outputs": [],
   "source": [
    "# Build list of tuples containing real credit card numbers (cc_num) with faked timestamps within our time window\n",
    "start = datetime.datetime.strptime('2021-01-31 00:00:00', '%Y-%m-%d %H:%M:%S')\n",
    "end = datetime.datetime.strptime('2021-01-31 23:00:00', '%Y-%m-%d %H:%M:%S')\n",
    "\n",
    "samples = list()\n",
    "for r in range(NUM_RANDOM_SAMPLES):\n",
    "    row = []\n",
    "    fake_timestamp = faker.date_time_between(start_date=start, end_date=end, tzinfo=None).strftime('%Y-%m-%d %H:00:00')\n",
    "    row.append(cc_num_sample[r])\n",
    "    row.append(fake_timestamp)\n",
    "    samples.append(row)\n",
    "    \n",
    "#print(samples)"
   ]
  },
  {
   "cell_type": "code",
   "execution_count": 22,
   "metadata": {},
   "outputs": [],
   "source": [
    "# Create and show the Entity Dataframe\n",
    "# (e.g. the dataframe that defines our set of credit card numbers and timestamps for our point-in-time queries)\n",
    "\n",
    "entity_df_schema = StructType([\n",
    "    # change to transactionid (tid)\n",
    "    StructField('cc_num', StringType(), False),\n",
    "    StructField('joindate', StringType(), False)\n",
    "])"
   ]
  },
  {
   "cell_type": "code",
   "execution_count": 24,
   "metadata": {},
   "outputs": [
    {
     "name": "stdout",
     "output_type": "stream",
     "text": [
      "+----------------+-------------------+\n",
      "|          cc_num|           joindate|\n",
      "+----------------+-------------------+\n",
      "|4161024194663503|2021-01-31 10:00:00|\n",
      "|4734323703918129|2021-01-31 01:00:00|\n",
      "|4270765920214643|2021-01-31 06:00:00|\n",
      "|4165922183526308|2021-01-31 00:00:00|\n",
      "|4350641649520912|2021-01-31 02:00:00|\n",
      "|4654807459581186|2021-01-31 01:00:00|\n",
      "|4095552984779759|2021-01-31 09:00:00|\n",
      "|4320022562606425|2021-01-31 01:00:00|\n",
      "|4780604561209799|2021-01-31 04:00:00|\n",
      "|4677720681876170|2021-01-31 08:00:00|\n",
      "+----------------+-------------------+\n",
      "only showing top 10 rows\n",
      "\n"
     ]
    }
   ],
   "source": [
    "# Create entity data frame\n",
    "\n",
    "entity_df = spark.createDataFrame(samples, entity_df_schema)\n",
    "entity_df.show(10)"
   ]
  },
  {
   "cell_type": "code",
   "execution_count": 25,
   "metadata": {},
   "outputs": [
    {
     "name": "stdout",
     "output_type": "stream",
     "text": [
      "[Row(min(joindate)='2021-01-31 00:00:00', max(joindate)='2021-01-31 22:00:00')]\n"
     ]
    }
   ],
   "source": [
    "# Performance Improvement: \n",
    "# Compute min and max times over our query data for filtering, in one pass for performance\n",
    "\n",
    "# entity_df used to define bounded time window\n",
    "minmax_time = entity_df.agg(sql_min(\"joindate\"), sql_max(\"joindate\")).collect()\n",
    "print(minmax_time)"
   ]
  },
  {
   "cell_type": "code",
   "execution_count": 26,
   "metadata": {},
   "outputs": [
    {
     "name": "stdout",
     "output_type": "stream",
     "text": [
      "min_time: 2021-01-31 00:00:00\n",
      "max_time: 2021-01-31 22:00:00\n"
     ]
    }
   ],
   "source": [
    "min_time, max_time = minmax_time[0][\"min(joindate)\"], minmax_time[0][\"max(joindate)\"]\n",
    "print(f'min_time: {min_time}')\n",
    "print(f'max_time: {max_time}')"
   ]
  },
  {
   "cell_type": "code",
   "execution_count": 27,
   "metadata": {},
   "outputs": [
    {
     "name": "stdout",
     "output_type": "stream",
     "text": [
      "Before filter, count: 500001\n"
     ]
    }
   ],
   "source": [
    "print(\"Before filter, count: \" + str(enhanced_df.count()))"
   ]
  },
  {
   "cell_type": "code",
   "execution_count": null,
   "metadata": {},
   "outputs": [],
   "source": [
    "# Filter deleted records out\n",
    "#events_window = events_window.filter(~events_window.is_deleted)\n",
    "#print(\"After count: \" + str(events_window.count()))"
   ]
  },
  {
   "cell_type": "code",
   "execution_count": 28,
   "metadata": {},
   "outputs": [
    {
     "name": "stdout",
     "output_type": "stream",
     "text": [
      "CPU times: user 1.79 ms, sys: 158 µs, total: 1.95 ms\n",
      "Wall time: 47.9 ms\n"
     ]
    }
   ],
   "source": [
    "%%time\n",
    "\n",
    "# Filter out records from after query max_time and before staleness window prior to the min_time\n",
    "# NOTE: This is a performance optimization; doing this prior to individual {cc_num, query_time} filtering will be faster\n",
    "\n",
    "# Choose a \"staleness\" window of time before which we want to ignore records\n",
    "allowed_staleness_days = 4\n",
    "\n",
    "# Eliminate Credit Cards (customers) who do NOT have any relevant records within our time window \n",
    "# this window represents the {min_time ~ max_time} delta, plus our staleness window (4 days)\n",
    "# In this filter, we are actually removing items when event_time is greater than 4 days before min_time\n",
    "\n",
    "filtered = enhanced_df.filter(\n",
    "    # datediff ( enddate, startdate ) - returns days\n",
    "    (datediff(lit(min_time), enhanced_df.event_time) <= allowed_staleness_days) &\n",
    "    (enhanced_df.event_time <= max_time)\n",
    ")"
   ]
  },
  {
   "cell_type": "code",
   "execution_count": 29,
   "metadata": {},
   "outputs": [
    {
     "name": "stdout",
     "output_type": "stream",
     "text": [
      "root\n",
      " |-- amount: string (nullable = true)\n",
      " |-- fraud_label: string (nullable = true)\n",
      " |-- num_trans_last_60m: string (nullable = true)\n",
      " |-- avg_amt_last_60m: string (nullable = true)\n",
      " |-- amt_ratio1: string (nullable = true)\n",
      " |-- amt_ratio2: string (nullable = true)\n",
      " |-- count_ratio: string (nullable = true)\n",
      " |-- tid: string (nullable = true)\n",
      " |-- cc_num: long (nullable = true)\n",
      " |-- num_trans_last_1d: long (nullable = true)\n",
      " |-- avg_amt_last_1d: double (nullable = true)\n",
      " |-- event_time: string (nullable = true)\n",
      " |-- trans_time: double (nullable = true)\n",
      " |-- write_time: timestamp (nullable = true)\n",
      " |-- api_invocation_time: timestamp (nullable = true)\n",
      " |-- is_deleted: boolean (nullable = true)\n",
      " |-- year: integer (nullable = true)\n",
      " |-- month: integer (nullable = true)\n",
      " |-- day: integer (nullable = true)\n",
      " |-- hour: integer (nullable = true)\n",
      "\n",
      "After filter, count: 8749\n"
     ]
    }
   ],
   "source": [
    "filtered.printSchema()\n",
    "print(\"After filter, count: \" + str(filtered.count()))"
   ]
  },
  {
   "cell_type": "code",
   "execution_count": 30,
   "metadata": {},
   "outputs": [
    {
     "name": "stdout",
     "output_type": "stream",
     "text": [
      "+------+-----------+------------------+------------------+--------------------+--------------------+--------------------+--------------------+----------------+-----------------+---------------+-------------------+-------------+--------------------+-------------------+----------+----+-----+---+----+\n",
      "|amount|fraud_label|num_trans_last_60m|  avg_amt_last_60m|          amt_ratio1|          amt_ratio2|         count_ratio|                 tid|          cc_num|num_trans_last_1d|avg_amt_last_1d|         event_time|   trans_time|          write_time|api_invocation_time|is_deleted|year|month|day|hour|\n",
      "+------+-----------+------------------+------------------+--------------------+--------------------+--------------------+--------------------+----------------+-----------------+---------------+-------------------+-------------+--------------------+-------------------+----------+----+-----+---+----+\n",
      "| 74.71|          0|                 1|             74.71|  0.4529388584073479|  0.4529388584073479|                 0.1|8f3aac5ed6a43a632...|4006080197832643|               10|         164.94|2021-01-31 10:29:33|1.619115105E9|2021-04-22 18:16:...|2021-04-22 18:11:44|     false|2021|    4| 22|  18|\n",
      "| 22.58|          0|                 1|             22.58| 0.09873520119811537| 0.09873520119811537|              0.0625|43059f65dca684b1f...|4014600948537520|               16|         228.69|2021-01-31 10:01:58|1.619115105E9|2021-04-22 18:16:...|2021-04-22 18:11:45|     false|2021|    4| 22|  18|\n",
      "| 68.61|          0|                 1|             68.61|  0.0676264537380629|  0.0676264537380629|0.047619047619047616|4a4b1df6b77f84f4e...|4015965906982664|               21|        1014.54|2021-01-30 00:03:31|1.619115105E9|2021-04-22 18:16:...|2021-04-22 18:11:45|     false|2021|    4| 22|  18|\n",
      "|  1.89|          0|                 1|              1.89|0.002241759247256895|0.002241759247256895| 0.07142857142857142|664c43be2d372b40b...|4016674905670309|               14|         843.09|2021-01-31 21:21:02|1.619115105E9|2021-04-22 18:16:...|2021-04-22 18:11:45|     false|2021|    4| 22|  18|\n",
      "|   9.3|          0|                 2|17.064999999999998|0.022783121147413918|0.012416233616815087| 0.11764705882352941|480b8b4900f7286e5...|4019767157668620|               17|         749.02|2021-01-31 19:47:30|1.619115105E9|2021-04-22 18:16:...|2021-04-22 18:11:45|     false|2021|    4| 22|  18|\n",
      "+------+-----------+------------------+------------------+--------------------+--------------------+--------------------+--------------------+----------------+-----------------+---------------+-------------------+-------------+--------------------+-------------------+----------+----+-----+---+----+\n",
      "only showing top 5 rows\n",
      "\n"
     ]
    }
   ],
   "source": [
    "filtered.show(5)"
   ]
  },
  {
   "cell_type": "code",
   "execution_count": 31,
   "metadata": {},
   "outputs": [
    {
     "name": "stdout",
     "output_type": "stream",
     "text": [
      "+----------------+\n",
      "|          cc_num|\n",
      "+----------------+\n",
      "|4006080197832643|\n",
      "|4014600948537520|\n",
      "|4015965906982664|\n",
      "|4016674905670309|\n",
      "|4019767157668620|\n",
      "+----------------+\n",
      "only showing top 5 rows\n",
      "\n"
     ]
    }
   ],
   "source": [
    "filtered.select(\"cc_num\").show(5)"
   ]
  },
  {
   "cell_type": "code",
   "execution_count": 32,
   "metadata": {},
   "outputs": [
    {
     "name": "stdout",
     "output_type": "stream",
     "text": [
      "Joined count: 421\n"
     ]
    }
   ],
   "source": [
    "# Join filtered dataframe with desired entity dataframe; drop duplicate cc_num field\n",
    "\n",
    "joined = filtered.join(entity_df, filtered.cc_num == entity_df.cc_num, \"inner\").drop(entity_df.cc_num)\n",
    "print(\"Joined count: \" + str(joined.count()))"
   ]
  },
  {
   "cell_type": "code",
   "execution_count": 33,
   "metadata": {},
   "outputs": [
    {
     "name": "stdout",
     "output_type": "stream",
     "text": [
      "+-------+-----------+------------------+----------------+-------------------+-------------------+-------------------+--------------------+----------------+-----------------+---------------+-------------------+-------------+--------------------+-------------------+----------+----+-----+---+----+-------------------+\n",
      "| amount|fraud_label|num_trans_last_60m|avg_amt_last_60m|         amt_ratio1|         amt_ratio2|        count_ratio|                 tid|          cc_num|num_trans_last_1d|avg_amt_last_1d|         event_time|   trans_time|          write_time|api_invocation_time|is_deleted|year|month|day|hour|           joindate|\n",
      "+-------+-----------+------------------+----------------+-------------------+-------------------+-------------------+--------------------+----------------+-----------------+---------------+-------------------+-------------+--------------------+-------------------+----------+----+-----+---+----+-------------------+\n",
      "|  90.84|          0|                 1|           90.84|0.13227713545155373|0.13227713545155373|0.14285714285714285|c03d71ee94a0185ad...|4654807459581186|                7|         686.74|2021-01-31 21:36:01|1.619115182E9|2021-04-22 18:16:...|2021-04-22 18:13:01|     false|2021|    4| 22|  18|2021-01-31 01:00:00|\n",
      "|  32.87|          0|                 1|           32.87|0.04289752533350966|0.04289752533350966|0.06666666666666667|5b4abdbd58f5ab2c3...|4044102701173837|               15|         766.24|2021-01-31 20:37:30|1.619115156E9|2021-04-22 18:16:...|2021-04-22 18:12:35|     false|2021|    4| 22|  18|2021-01-31 21:00:00|\n",
      "|  53.02|          0|                 1|           53.02|0.18680854062433944|0.18680854062433944|0.07692307692307693|4e777ac9864fe05c2...|4079941816189347|               13|         283.82|2021-01-30 12:09:03|1.619115203E9|2021-04-22 18:16:...|2021-04-22 18:13:22|     false|2021|    4| 22|  18|2021-01-31 07:00:00|\n",
      "|5010.61|          0|                 1|         5010.61| 1.9271932712603923| 1.9271932712603923|                0.1|bfbcea183c22b4713...|4253589902657103|               10|        2599.95|2021-01-31 08:07:52|1.619115132E9|2021-04-22 18:16:...|2021-04-22 18:12:12|     false|2021|    4| 22|  18|2021-01-31 02:00:00|\n",
      "| 889.88|          0|                 1|          889.88| 0.7284556785456427| 0.7284556785456427|                0.1|66d06d9598129cba1...|4348670604602188|               10|         1221.6|2021-01-30 04:41:18|1.619115107E9|2021-04-22 18:16:...|2021-04-22 18:11:46|     false|2021|    4| 22|  18|2021-01-31 10:00:00|\n",
      "+-------+-----------+------------------+----------------+-------------------+-------------------+-------------------+--------------------+----------------+-----------------+---------------+-------------------+-------------+--------------------+-------------------+----------+----+-----+---+----+-------------------+\n",
      "only showing top 5 rows\n",
      "\n"
     ]
    }
   ],
   "source": [
    "joined.show(5)"
   ]
  },
  {
   "cell_type": "code",
   "execution_count": 34,
   "metadata": {},
   "outputs": [
    {
     "name": "stdout",
     "output_type": "stream",
     "text": [
      "After drop stale, count: 209\n"
     ]
    }
   ],
   "source": [
    "# Filter out data from after query time or before query time minus staleness window\n",
    "# this query removes events outside the time window FOR the SPECIFIC CC (customer)\n",
    "drop_future_and_stale = joined.filter(\n",
    "    (joined.event_time <= entity_df.joindate)\n",
    "    & (datediff(entity_df.joindate, joined.event_time) <= allowed_staleness_days)\n",
    ")\n",
    "\n",
    "print(\"After drop stale, count: \" + str(drop_future_and_stale.count()))"
   ]
  },
  {
   "cell_type": "code",
   "execution_count": 35,
   "metadata": {},
   "outputs": [
    {
     "name": "stdout",
     "output_type": "stream",
     "text": [
      "+------+-----------+------------------+----------------+-------------------+-------------------+-------------------+--------------------+----------------+-----------------+---------------+-------------------+-------------+--------------------+-------------------+----------+----+-----+---+----+-------------------+\n",
      "|amount|fraud_label|num_trans_last_60m|avg_amt_last_60m|         amt_ratio1|         amt_ratio2|        count_ratio|                 tid|          cc_num|num_trans_last_1d|avg_amt_last_1d|         event_time|   trans_time|          write_time|api_invocation_time|is_deleted|year|month|day|hour|           joindate|\n",
      "+------+-----------+------------------+----------------+-------------------+-------------------+-------------------+--------------------+----------------+-----------------+---------------+-------------------+-------------+--------------------+-------------------+----------+----+-----+---+----+-------------------+\n",
      "| 32.87|          0|                 1|           32.87|0.04289752533350966|0.04289752533350966|0.06666666666666667|5b4abdbd58f5ab2c3...|4044102701173837|               15|         766.24|2021-01-31 20:37:30|1.619115156E9|2021-04-22 18:16:...|2021-04-22 18:12:35|     false|2021|    4| 22|  18|2021-01-31 21:00:00|\n",
      "| 53.02|          0|                 1|           53.02|0.18680854062433944|0.18680854062433944|0.07692307692307693|4e777ac9864fe05c2...|4079941816189347|               13|         283.82|2021-01-30 12:09:03|1.619115203E9|2021-04-22 18:16:...|2021-04-22 18:13:22|     false|2021|    4| 22|  18|2021-01-31 07:00:00|\n",
      "|889.88|          0|                 1|          889.88| 0.7284556785456427| 0.7284556785456427|                0.1|66d06d9598129cba1...|4348670604602188|               10|         1221.6|2021-01-30 04:41:18|1.619115107E9|2021-04-22 18:16:...|2021-04-22 18:11:46|     false|2021|    4| 22|  18|2021-01-31 10:00:00|\n",
      "| 71.86|          0|                 1|           71.86|0.21212609760915918|0.21212609760915918|0.07692307692307693|4f6330f47067da2c4...|4535241193690134|               13|         338.76|2021-01-31 10:30:48|1.619115181E9|2021-04-22 18:16:...|2021-04-22 18:13:01|     false|2021|    4| 22|  18|2021-01-31 18:00:00|\n",
      "|964.94|          0|                 1|          964.94|  0.689905385330357|  0.689905385330357| 0.1111111111111111|8c0078f9ef51ced5e...|4070478627221885|                9|        1398.66|2021-01-30 05:48:23|1.619115131E9|2021-04-22 18:16:...|2021-04-22 18:12:11|     false|2021|    4| 22|  18|2021-01-31 06:00:00|\n",
      "+------+-----------+------------------+----------------+-------------------+-------------------+-------------------+--------------------+----------------+-----------------+---------------+-------------------+-------------+--------------------+-------------------+----------+----+-----+---+----+-------------------+\n",
      "only showing top 5 rows\n",
      "\n"
     ]
    }
   ],
   "source": [
    "drop_future_and_stale.show(5)"
   ]
  },
  {
   "cell_type": "code",
   "execution_count": 36,
   "metadata": {},
   "outputs": [
    {
     "name": "stdout",
     "output_type": "stream",
     "text": [
      "<class 'pyspark.rdd.PipelinedRDD'>\n"
     ]
    }
   ],
   "source": [
    "# Use reduceByKey to group by cc_num and keep most recent record\n",
    "take_latest = (\n",
    "    drop_future_and_stale.rdd.map(lambda x: (x.cc_num, x)) \n",
    "    .reduceByKey(\n",
    "        lambda x, y: x if ((x.event_time) >= (y.event_time)) else y\n",
    "    )  #  We could have used api_invocation_time as tie-breaker\n",
    "    .values()  # drop keys\n",
    ")\n",
    "\n",
    "print (type(take_latest))"
   ]
  },
  {
   "cell_type": "code",
   "execution_count": 37,
   "metadata": {},
   "outputs": [],
   "source": [
    "# Convert to DataFrame\n",
    "latest_df = take_latest.toDF(drop_future_and_stale.schema)"
   ]
  },
  {
   "cell_type": "code",
   "execution_count": 38,
   "metadata": {},
   "outputs": [
    {
     "name": "stdout",
     "output_type": "stream",
     "text": [
      "Final count: 206\n"
     ]
    }
   ],
   "source": [
    "# Drop extra columns\n",
    "columns_to_drop = [\"write_time\", \"is_deleted\", \"year\", \"month\", \"day\", \"hour\", \"query_time\", \"api_invocation_time\"]\n",
    "final_df = latest_df.drop(*columns_to_drop)\n",
    "\n",
    "print('Final count: ' + str(final_df.count()))"
   ]
  },
  {
   "cell_type": "code",
   "execution_count": 39,
   "metadata": {},
   "outputs": [
    {
     "name": "stdout",
     "output_type": "stream",
     "text": [
      "+------+-----------+------------------+----------------+--------------------+--------------------+-------------------+--------------------+----------------+-----------------+---------------+-------------------+-------------+-------------------+\n",
      "|amount|fraud_label|num_trans_last_60m|avg_amt_last_60m|          amt_ratio1|          amt_ratio2|        count_ratio|                 tid|          cc_num|num_trans_last_1d|avg_amt_last_1d|         event_time|   trans_time|           joindate|\n",
      "+------+-----------+------------------+----------------+--------------------+--------------------+-------------------+--------------------+----------------+-----------------+---------------+-------------------+-------------+-------------------+\n",
      "|676.03|          0|                 1|          676.03|  1.1784259995258615|  1.1784259995258615|                0.1|d2f5f587f36644a48...|4807481307939800|               10|         573.67|2021-01-31 12:22:48|1.619115177E9|2021-01-31 18:00:00|\n",
      "| 20.27|          0|                 1|           20.27|0.018386700421384218|0.018386700421384218|0.09090909090909091|648e7aeb9fb285859...|4989229657563401|               11|        1102.43|2021-01-29 08:13:45| 1.61911512E9|2021-01-31 20:00:00|\n",
      "| 40.52|          0|                 1|           40.52|0.025617019466796783|0.025617019466796783|0.09090909090909091|1f766f4dbc893bdf0...|4532182472262802|               11|        1581.76|2021-01-31 10:38:51|1.619115209E9|2021-01-31 19:00:00|\n",
      "| 700.6|          0|                 1|           700.6|   2.447230012275571|   2.447230012275571|0.14285714285714285|c0d9fc2175707b8a4...|4936630177324402|                7|         286.28|2021-01-31 16:23:55|1.619115202E9|2021-01-31 17:00:00|\n",
      "|772.93|          0|                 1|          772.93|  2.4053914950255186|  2.4053914950255186|0.07692307692307693|5867be07572688f99...|4544032753203403|               13|         321.33|2021-01-31 06:49:59|1.619115134E9|2021-01-31 10:00:00|\n",
      "| 62.19|          0|                 1|           62.19|  0.4391348288325661|  0.4391348288325661|             0.0625|eb05240bfd154c122...|4661166615213403|               16|         141.62|2021-01-30 23:23:43|1.619115223E9|2021-01-31 04:00:00|\n",
      "|  2.59|          0|                 1|            2.59|0.002236840211305111|0.002236840211305111|0.08333333333333333|dac9c36821202465e...|4573302380804004|               12|        1157.88|2021-01-30 13:51:44|1.619115113E9|2021-01-31 06:00:00|\n",
      "| 86.34|          0|                 1|           86.34| 0.14664398834379497| 0.14664398834379497|0.14285714285714285|86436850f85b3be80...|4354483554745804|                7|         588.77|2021-01-30 10:13:38|1.619115117E9|2021-01-31 15:00:00|\n",
      "|   4.3|          0|                 2|          44.695| 0.13333797400066127|0.012828130399437152|0.16666666666666666|b9674545b0297f89c...|4015078451539804|               12|          335.2|2021-01-30 16:01:50|1.619115174E9|2021-01-31 11:00:00|\n",
      "|234.36|          0|                 1|          234.36|   1.112988967347266|   1.112988967347266|             0.0625|0d421322e40bbd73e...|4710088955809205|               16|         210.57|2021-01-31 16:13:21|1.619115108E9|2021-01-31 18:00:00|\n",
      "+------+-----------+------------------+----------------+--------------------+--------------------+-------------------+--------------------+----------------+-----------------+---------------+-------------------+-------------+-------------------+\n",
      "only showing top 10 rows\n",
      "\n"
     ]
    }
   ],
   "source": [
    "# Show final query results\n",
    "\n",
    "final_df.show(10)\n",
    "\n",
    "# To save query result to s3:\n",
    "# OUTPUT_PATH = f\"s3://{BUCKET}/{PREFIX}/test_query_output\"\n",
    "# final_df.write.parquet(OUTPUT_PATH, mode=\"overwrite\")"
   ]
  },
  {
   "cell_type": "code",
   "execution_count": null,
   "metadata": {},
   "outputs": [],
   "source": []
  }
 ],
 "metadata": {
  "kernelspec": {
   "display_name": "conda_python3",
   "language": "python",
   "name": "conda_python3"
  },
  "language_info": {
   "codemirror_mode": {
    "name": "ipython",
    "version": 3
   },
   "file_extension": ".py",
   "mimetype": "text/x-python",
   "name": "python",
   "nbconvert_exporter": "python",
   "pygments_lexer": "ipython3",
   "version": "3.6.10"
  }
 },
 "nbformat": 4,
 "nbformat_minor": 5
}
