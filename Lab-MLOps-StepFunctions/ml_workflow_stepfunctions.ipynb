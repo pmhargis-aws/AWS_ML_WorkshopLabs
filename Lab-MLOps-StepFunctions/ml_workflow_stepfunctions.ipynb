{
 "cells": [
  {
   "cell_type": "markdown",
   "metadata": {},
   "source": [
    "# Build a machine learning workflow using Step Functions and SageMaker\n",
    "\n",
    "1. [Introduction](#Introduction)\n",
    "1. [Setup](#Setup)\n",
    "1. [Build a machine learning workflow](#Build-a-machine-learning-workflow)\n"
   ]
  },
  {
   "cell_type": "markdown",
   "metadata": {},
   "source": [
    "## Introduction\n",
    "\n",
    "This notebook describes using the AWS Step Functions Data Science SDK to create and manage workflows. The Step Functions SDK is an open source library that allows data scientists to easily create and execute machine learning workflows using AWS Step Functions and Amazon SageMaker. For more information, see the following.\n",
    "* [AWS Step Functions](https://aws.amazon.com/step-functions/)\n",
    "* [AWS Step Functions Developer Guide](https://docs.aws.amazon.com/step-functions/latest/dg/welcome.html)\n",
    "* [AWS Step Functions Data Science SDK](https://aws-step-functions-data-science-sdk.readthedocs.io)\n",
    "\n",
    "In this notebook we will use the SDK to create steps, link them together to create a workflow, and execute the workflow in AWS Step Functions. The first tutorial shows how to create an ML pipeline workflow, and the second shows how to run multiple experiments in parallel."
   ]
  },
  {
   "cell_type": "code",
   "execution_count": null,
   "metadata": {},
   "outputs": [],
   "source": [
    "import sys\n",
    "!{sys.executable} -m pip install --upgrade stepfunctions"
   ]
  },
  {
   "cell_type": "markdown",
   "metadata": {},
   "source": [
    "## Setup\n",
    "\n",
    "### Add a policy to your SageMaker role in IAM\n",
    "\n",
    "**If you are running this notebook on an Amazon SageMaker notebook instance**, the IAM role assumed by your notebook instance needs permission to create and run workflows in AWS Step Functions. To provide this permission to the role, do the following.\n",
    "\n",
    "1. Open the Amazon [SageMaker console](https://console.aws.amazon.com/sagemaker/). \n",
    "2. Select **Notebook instances** and choose the name of your notebook instance\n",
    "3. Under **Permissions and encryption** select the role ARN to view the role on the IAM console\n",
    "4. Choose **Attach policies** and search for `AWSStepFunctionsFullAccess`.\n",
    "5. Select the check box next to `AWSStepFunctionsFullAccess` and choose **Attach policy**\n",
    "\n",
    "If you are running this notebook in a local environment, the SDK will use your configured AWS CLI configuration. For more information, see [Configuring the AWS CLI](https://docs.aws.amazon.com/cli/latest/userguide/cli-chap-configure.html).\n",
    "\n",
    "Next, create an execution role in IAM for Step Functions. \n",
    "\n",
    "### Create an execution role for Step Functions\n",
    "\n",
    "You need an execution role so that you can create and execute workflows in Step Functions.\n",
    "\n",
    "1. Go to the [IAM console](https://console.aws.amazon.com/iam/)\n",
    "2. Select **Roles** and then **Create role**.\n",
    "3. Under **Choose the service that will use this role** select **Step Functions**\n",
    "4. Choose **Next** until you can enter a **Role name**\n",
    "5. Enter a name such as `AmazonSageMaker-StepFunctionsWorkflowExecutionRole` and then select **Create role**\n",
    "\n",
    "\n",
    "Attach a policy to the role you created. The following steps attach a policy that provides full access to Step Functions, however as a good practice you should only provide access to the resources you need.  \n",
    "\n",
    "1. Under the **Permissions** tab, click **Add inline policy**\n",
    "2. Enter the following in the **JSON** tab\n",
    "\n",
    "```json\n",
    "{\n",
    "    \"Version\": \"2012-10-17\",\n",
    "    \"Statement\": [\n",
    "        {\n",
    "            \"Effect\": \"Allow\",\n",
    "            \"Action\": [\n",
    "                \"sagemaker:CreateTransformJob\",\n",
    "                \"sagemaker:DescribeTransformJob\",\n",
    "                \"sagemaker:StopTransformJob\",\n",
    "                \"sagemaker:CreateTrainingJob\",\n",
    "                \"sagemaker:DescribeTrainingJob\",\n",
    "                \"sagemaker:StopTrainingJob\",\n",
    "                \"sagemaker:CreateHyperParameterTuningJob\",\n",
    "                \"sagemaker:DescribeHyperParameterTuningJob\",\n",
    "                \"sagemaker:StopHyperParameterTuningJob\",\n",
    "                \"sagemaker:CreateModel\",\n",
    "                \"sagemaker:CreateEndpointConfig\",\n",
    "                \"sagemaker:CreateEndpoint\",\n",
    "                \"sagemaker:DeleteEndpointConfig\",\n",
    "                \"sagemaker:DeleteEndpoint\",\n",
    "                \"sagemaker:UpdateEndpoint\",\n",
    "                \"sagemaker:ListTags\",\n",
    "                \"lambda:InvokeFunction\",\n",
    "                \"sqs:SendMessage\",\n",
    "                \"sns:Publish\",\n",
    "                \"ecs:RunTask\",\n",
    "                \"ecs:StopTask\",\n",
    "                \"ecs:DescribeTasks\",\n",
    "                \"dynamodb:GetItem\",\n",
    "                \"dynamodb:PutItem\",\n",
    "                \"dynamodb:UpdateItem\",\n",
    "                \"dynamodb:DeleteItem\",\n",
    "                \"batch:SubmitJob\",\n",
    "                \"batch:DescribeJobs\",\n",
    "                \"batch:TerminateJob\",\n",
    "                \"glue:StartJobRun\",\n",
    "                \"glue:GetJobRun\",\n",
    "                \"glue:GetJobRuns\",\n",
    "                \"glue:BatchStopJobRun\"\n",
    "            ],\n",
    "            \"Resource\": \"*\"\n",
    "        },\n",
    "        {\n",
    "            \"Effect\": \"Allow\",\n",
    "            \"Action\": [\n",
    "                \"iam:PassRole\"\n",
    "            ],\n",
    "            \"Resource\": \"*\",\n",
    "            \"Condition\": {\n",
    "                \"StringEquals\": {\n",
    "                    \"iam:PassedToService\": \"sagemaker.amazonaws.com\"\n",
    "                }\n",
    "            }\n",
    "        },\n",
    "        {\n",
    "            \"Effect\": \"Allow\",\n",
    "            \"Action\": [\n",
    "                \"events:PutTargets\",\n",
    "                \"events:PutRule\",\n",
    "                \"events:DescribeRule\"\n",
    "            ],\n",
    "            \"Resource\": [\n",
    "                \"arn:aws:events:*:*:rule/StepFunctionsGetEventsForSageMakerTrainingJobsRule\",\n",
    "                \"arn:aws:events:*:*:rule/StepFunctionsGetEventsForSageMakerTransformJobsRule\",\n",
    "                \"arn:aws:events:*:*:rule/StepFunctionsGetEventsForSageMakerTuningJobsRule\",\n",
    "                \"arn:aws:events:*:*:rule/StepFunctionsGetEventsForECSTaskRule\",\n",
    "                \"arn:aws:events:*:*:rule/StepFunctionsGetEventsForBatchJobsRule\"\n",
    "            ]\n",
    "        }\n",
    "    ]\n",
    "}\n",
    "```\n",
    "\n",
    "3. Choose **Review policy** and give the policy a name such as `AmazonSageMaker-StepFunctionsWorkflowExecutionPolicy`\n",
    "4. Choose **Create policy**. You will be redirected to the details page for the role.\n",
    "5. Copy the **Role ARN** at the top of the **Summary**"
   ]
  },
  {
   "cell_type": "markdown",
   "metadata": {},
   "source": [
    "### Configure execution roles"
   ]
  },
  {
   "cell_type": "code",
   "execution_count": 2,
   "metadata": {},
   "outputs": [],
   "source": [
    "import sagemaker\n",
    "\n",
    "# SageMaker Execution Role\n",
    "# You can use sagemaker.get_execution_role() if running inside sagemaker's notebook instance\n",
    "sagemaker_execution_role = sagemaker.get_execution_role() #Replace with ARN if not in an AWS SageMaker notebook\n",
    "\n",
    "# paste the AmazonSageMaker-StepFunctionsWorkflowExecutionRole ARN from above\n",
    "workflow_execution_role = \"arn:aws:iam::572539092864:role/StepFunctionsWorkflowExecutionRole\" "
   ]
  },
  {
   "cell_type": "markdown",
   "metadata": {},
   "source": [
    "### Import the required modules"
   ]
  },
  {
   "cell_type": "code",
   "execution_count": 3,
   "metadata": {},
   "outputs": [],
   "source": [
    "import boto3\n",
    "import sagemaker\n",
    "import time\n",
    "import random\n",
    "import uuid\n",
    "import logging\n",
    "import stepfunctions\n",
    "import io\n",
    "import random\n",
    "\n",
    "from sagemaker.amazon.amazon_estimator import image_uris\n",
    "from stepfunctions import steps\n",
    "from stepfunctions.steps import TrainingStep, ModelStep, TransformStep\n",
    "from stepfunctions.inputs import ExecutionInput\n",
    "from stepfunctions.workflow import Workflow\n",
    "from stepfunctions.template import TrainingPipeline\n",
    "from stepfunctions.template.utils import replace_parameters_with_jsonpath\n",
    "\n",
    "session = sagemaker.Session()\n",
    "stepfunctions.set_stream_logger(level=logging.INFO)\n",
    "\n",
    "region = boto3.Session().region_name\n",
    "bucket = session.default_bucket()\n",
    "prefix = 'sagemaker/DEMO-xgboost-regression'\n",
    "bucket_path = 'https://s3-{}.amazonaws.com/{}'.format(region, bucket)"
   ]
  },
  {
   "cell_type": "markdown",
   "metadata": {},
   "source": [
    "### Prepare the dataset\n",
    "\n",
    "The following cell defines utility methods to split a dataset into train, validation, and test datasets. It then defines methods to upload them to an Amazon S3 bucket."
   ]
  },
  {
   "cell_type": "code",
   "execution_count": 4,
   "metadata": {},
   "outputs": [],
   "source": [
    "def data_split(FILE_DATA, FILE_TRAIN, FILE_VALIDATION, FILE_TEST, PERCENT_TRAIN, PERCENT_VALIDATION, PERCENT_TEST):\n",
    "    data = [l for l in open(FILE_DATA, 'r')]\n",
    "    train_file = open(FILE_TRAIN, 'w')\n",
    "    valid_file = open(FILE_VALIDATION, 'w')\n",
    "    tests_file = open(FILE_TEST, 'w')\n",
    "\n",
    "    num_of_data = len(data)\n",
    "    num_train = int((PERCENT_TRAIN/100.0)*num_of_data)\n",
    "    num_valid = int((PERCENT_VALIDATION/100.0)*num_of_data)\n",
    "    num_tests = int((PERCENT_TEST/100.0)*num_of_data)\n",
    "\n",
    "    data_fractions = [num_train, num_valid, num_tests]\n",
    "    split_data = [[],[],[]]\n",
    "\n",
    "    rand_data_ind = 0\n",
    "\n",
    "    for split_ind, fraction in enumerate(data_fractions):\n",
    "        for i in range(fraction):\n",
    "            rand_data_ind = random.randint(0, len(data)-1)\n",
    "            split_data[split_ind].append(data[rand_data_ind])\n",
    "            data.pop(rand_data_ind)\n",
    "\n",
    "    for l in split_data[0]:\n",
    "        train_file.write(l)\n",
    "\n",
    "    for l in split_data[1]:\n",
    "        valid_file.write(l)\n",
    "\n",
    "    for l in split_data[2]:\n",
    "        tests_file.write(l)\n",
    "\n",
    "    train_file.close()\n",
    "    valid_file.close()\n",
    "    tests_file.close()\n",
    "\n",
    "def write_to_s3(fobj, bucket, key):\n",
    "    return boto3.Session(region_name=region).resource('s3').Bucket(bucket).Object(key).upload_fileobj(fobj)\n",
    "\n",
    "def upload_to_s3(bucket, channel, filename):\n",
    "    fobj=open(filename, 'rb')\n",
    "    key = prefix+'/'+channel\n",
    "    url = 's3://{}/{}/{}'.format(bucket, key, filename)\n",
    "    print('Writing to {}'.format(url))\n",
    "    write_to_s3(fobj, bucket, key)"
   ]
  },
  {
   "cell_type": "markdown",
   "metadata": {},
   "source": [
    "This notebook uses the XGBoost algorithm to train and host a regression model. We use the [Abalone data](https://www.csie.ntu.edu.tw/~cjlin/libsvmtools/datasets/regression.html) originally from the [UCI data repository](https://archive.ics.uci.edu/ml/datasets/abalone). More details about the original dataset can be found [here](https://archive.ics.uci.edu/ml/machine-learning-databases/abalone/abalone.names).  In the libsvm converted [version](https://www.csie.ntu.edu.tw/~cjlin/libsvmtools/datasets/regression.html), the nominal feature (Male/Female/Infant) has been converted into a real valued feature. Age of abalone is to be predicted from eight physical measurements.  "
   ]
  },
  {
   "cell_type": "code",
   "execution_count": 5,
   "metadata": {},
   "outputs": [
    {
     "name": "stdout",
     "output_type": "stream",
     "text": [
      "Writing to s3://sagemaker-us-east-1-572539092864/sagemaker/DEMO-xgboost-regression/train/abalone.train\n",
      "Writing to s3://sagemaker-us-east-1-572539092864/sagemaker/DEMO-xgboost-regression/validation/abalone.validation\n",
      "Writing to s3://sagemaker-us-east-1-572539092864/sagemaker/DEMO-xgboost-regression/test/abalone.test\n"
     ]
    }
   ],
   "source": [
    "try: #python3\n",
    "    from urllib.request import urlretrieve\n",
    "except: #python2\n",
    "    from urllib import urlretrieve\n",
    "    \n",
    "# Load the dataset\n",
    "FILE_DATA = 'abalone'\n",
    "urlretrieve(\"https://www.csie.ntu.edu.tw/~cjlin/libsvmtools/datasets/regression/abalone\", FILE_DATA)\n",
    "\n",
    "#split the downloaded data into train/test/validation files\n",
    "FILE_TRAIN = 'abalone.train'\n",
    "FILE_VALIDATION = 'abalone.validation'\n",
    "FILE_TEST = 'abalone.test'\n",
    "PERCENT_TRAIN = 70\n",
    "PERCENT_VALIDATION = 15\n",
    "PERCENT_TEST = 15\n",
    "data_split(FILE_DATA, FILE_TRAIN, FILE_VALIDATION, FILE_TEST, PERCENT_TRAIN, PERCENT_VALIDATION, PERCENT_TEST)\n",
    "\n",
    "#upload the files to the S3 bucket\n",
    "upload_to_s3(bucket, 'train', FILE_TRAIN)\n",
    "upload_to_s3(bucket, 'validation', FILE_VALIDATION)\n",
    "upload_to_s3(bucket, 'test', FILE_TEST)\n",
    "\n",
    "train_s3_file = bucket_path + \"/\" + prefix + '/train'\n",
    "validation_s3_file = bucket_path + \"/\" + prefix + '/validation'\n",
    "test_s3_file = bucket_path + \"/\" + prefix + '/test'"
   ]
  },
  {
   "cell_type": "markdown",
   "metadata": {},
   "source": [
    "### Configure the AWS Sagemaker estimator"
   ]
  },
  {
   "cell_type": "code",
   "execution_count": 6,
   "metadata": {},
   "outputs": [],
   "source": [
    "xgb = sagemaker.estimator.Estimator(\n",
    "    image_uris.retrieve('xgboost', region, '1.2-1'),\n",
    "    sagemaker_execution_role, \n",
    "    train_instance_count = 1, \n",
    "    train_instance_type = 'ml.m4.4xlarge',\n",
    "    train_volume_size = 5,\n",
    "    output_path = bucket_path + \"/\" + prefix + \"/single-xgboost\",\n",
    "    sagemaker_session = session\n",
    ")\n",
    "\n",
    "xgb.set_hyperparameters(\n",
    "    objective = 'reg:linear',\n",
    "    num_round = 50,\n",
    "    max_depth = 5,\n",
    "    eta = 0.2,\n",
    "    gamma = 4,\n",
    "    min_child_weight = 6,\n",
    "    subsample = 0.7\n",
    ")"
   ]
  },
  {
   "cell_type": "markdown",
   "metadata": {},
   "source": [
    "\n",
    "## Build a machine learning workflow"
   ]
  },
  {
   "cell_type": "markdown",
   "metadata": {},
   "source": [
    "<img src=\"img/e2e_pipeline.png\">"
   ]
  },
  {
   "cell_type": "markdown",
   "metadata": {},
   "source": [
    "You can use a workflow to create a machine learning pipeline. The AWS Data Science Workflows SDK provides several AWS SageMaker workflow steps that you can use to construct an ML pipeline. In this tutorial you will use the Train and Transform steps.\n",
    "\n",
    "* [**TrainingStep**](https://aws-step-functions-data-science-sdk.readthedocs.io/en/latest/sagemaker.html#stepfunctions.steps.sagemaker.TrainingStep) - Starts a Sagemaker training job and outputs the model artifacts to S3.\n",
    "* [**ModelStep**](https://aws-step-functions-data-science-sdk.readthedocs.io/en/latest/sagemaker.html#stepfunctions.steps.sagemaker.ModelStep) - Creates a model on SageMaker using the model artifacts from S3.\n",
    "* [**TransformStep**](https://aws-step-functions-data-science-sdk.readthedocs.io/en/latest/sagemaker.html#stepfunctions.steps.sagemaker.TransformStep) - Starts a SageMaker transform job\n",
    "* [**EndpointConfigStep**](https://aws-step-functions-data-science-sdk.readthedocs.io/en/latest/sagemaker.html#stepfunctions.steps.sagemaker.EndpointConfigStep) - Defines an endpoint configuration on SageMaker.\n",
    "* [**EndpointStep**](https://aws-step-functions-data-science-sdk.readthedocs.io/en/latest/sagemaker.html#stepfunctions.steps.sagemaker.EndpointStep) - Deploys the trained model to the configured endpoint."
   ]
  },
  {
   "cell_type": "markdown",
   "metadata": {},
   "source": [
    "### Define the input schema for a workflow execution\n",
    "\n",
    "The [**ExecutionInput**](https://aws-step-functions-data-science-sdk.readthedocs.io/en/latest/placeholders.html#stepfunctions.inputs.ExecutionInput) API defines the options to dynamically pass information to a workflow at runtime.\n",
    "\n",
    "The following cell defines the fields that must be passed to your workflow when starting an execution.\n",
    "\n",
    "While the workflow is usually static after it is defined, you may want to pass values dynamically that are used by steps in your workflow. To help with this, the SDK provides a way to create placeholders when you define your workflow. These placeholders can be dynamically assigned values when you execute your workflow.\n",
    "\n",
    "ExecutionInput values are accessible to each step of your workflow. You have the ability to define a schema for this placeholder collection, as shown in the cell below. When you execute your workflow the SDK will verify if the dynamic input conforms to the schema you defined."
   ]
  },
  {
   "cell_type": "code",
   "execution_count": 7,
   "metadata": {},
   "outputs": [],
   "source": [
    "# SageMaker expects unique names for each job, model and endpoint. \n",
    "# If these names are not unique the execution will fail. Pass these\n",
    "# dynamically for each execution using placeholders.\n",
    "execution_input = ExecutionInput(schema={\n",
    "    'JobName': str, \n",
    "    'ModelName': str,\n",
    "    'EndpointName': str\n",
    "})"
   ]
  },
  {
   "cell_type": "markdown",
   "metadata": {},
   "source": [
    "\n",
    "### Create the training step \n",
    "\n",
    "In the following cell we create the training step and pass the estimator we defined above. See  [TrainingStep](https://aws-step-functions-data-science-sdk.readthedocs.io/en/latest/sagemaker.html#stepfunctions.steps.sagemaker.TrainingStep) in the AWS Step Functions Data Science SDK documentation."
   ]
  },
  {
   "cell_type": "code",
   "execution_count": 8,
   "metadata": {},
   "outputs": [],
   "source": [
    "training_step = steps.TrainingStep(\n",
    "    'Train Step', \n",
    "    estimator=xgb,\n",
    "    data={\n",
    "        'train': sagemaker.TrainingInput(train_s3_file, content_type='text/libsvm'),\n",
    "        'validation': sagemaker.TrainingInput(validation_s3_file, content_type='text/libsvm')\n",
    "    },\n",
    "    job_name=execution_input['JobName']  \n",
    ")"
   ]
  },
  {
   "cell_type": "markdown",
   "metadata": {},
   "source": [
    "### Create the model step \n",
    "\n",
    "In the following cell we define a model step that will create a model in SageMaker using the artifacts created during the TrainingStep. See  [ModelStep](https://aws-step-functions-data-science-sdk.readthedocs.io/en/latest/sagemaker.html#stepfunctions.steps.sagemaker.ModelStep) in the AWS Step Functions Data Science SDK documentation.\n",
    "\n",
    "The model creation step typically follows the training step. The Step Functions SDK provides the [get_expected_model](https://aws-step-functions-data-science-sdk.readthedocs.io/en/latest/sagemaker.html#stepfunctions.steps.sagemaker.TrainingStep.get_expected_model) method in the TrainingStep class to provide a reference for the trained model artifacts. Please note that this method is only useful when the ModelStep directly follows the TrainingStep."
   ]
  },
  {
   "cell_type": "code",
   "execution_count": 9,
   "metadata": {},
   "outputs": [],
   "source": [
    "model_step = steps.ModelStep(\n",
    "    'Save model',\n",
    "    model=training_step.get_expected_model(),\n",
    "    model_name=execution_input['ModelName']  \n",
    ")"
   ]
  },
  {
   "cell_type": "markdown",
   "metadata": {},
   "source": [
    "### Create the transform step\n",
    "\n",
    "In the following cell we create the transform step. See  [TransformStep](https://aws-step-functions-data-science-sdk.readthedocs.io/en/latest/sagemaker.html#stepfunctions.steps.sagemaker.TransformStep) in the AWS Step Functions Data Science SDK documentation."
   ]
  },
  {
   "cell_type": "code",
   "execution_count": 10,
   "metadata": {},
   "outputs": [],
   "source": [
    "transform_step = steps.TransformStep(\n",
    "    'Transform Input Dataset',\n",
    "    transformer=xgb.transformer(\n",
    "        instance_count=1,\n",
    "        instance_type='ml.m5.large'\n",
    "    ),\n",
    "    job_name=execution_input['JobName'],     \n",
    "    model_name=execution_input['ModelName'], \n",
    "    data=test_s3_file,\n",
    "    content_type='text/libsvm'\n",
    ")"
   ]
  },
  {
   "cell_type": "markdown",
   "metadata": {},
   "source": [
    "### Create an endpoint configuration step\n",
    "\n",
    "In the following cell we create an endpoint configuration step. See [EndpointConfigStep](https://aws-step-functions-data-science-sdk.readthedocs.io/en/latest/sagemaker.html#stepfunctions.steps.sagemaker.EndpointConfigStep) in the AWS Step Functions Data Science SDK documentation.\n",
    "\n"
   ]
  },
  {
   "cell_type": "code",
   "execution_count": 11,
   "metadata": {},
   "outputs": [],
   "source": [
    "endpoint_config_step = steps.EndpointConfigStep(\n",
    "    \"Create Endpoint Config\",\n",
    "    endpoint_config_name=execution_input['ModelName'],\n",
    "    model_name=execution_input['ModelName'],\n",
    "    initial_instance_count=1,\n",
    "    instance_type='ml.m5.large'\n",
    ")"
   ]
  },
  {
   "cell_type": "markdown",
   "metadata": {},
   "source": [
    "### Create an endpoint\n",
    "\n",
    "In the following cell we create a step to deploy the trained model to an endpoint in AWS SageMaker. See [EndpointStep](https://aws-step-functions-data-science-sdk.readthedocs.io/en/latest/sagemaker.html#stepfunctions.steps.sagemaker.EndpointStep) in the AWS Step Functions Data Science SDK documentation."
   ]
  },
  {
   "cell_type": "code",
   "execution_count": 12,
   "metadata": {},
   "outputs": [],
   "source": [
    "endpoint_step = steps.EndpointStep(\n",
    "    \"Create Endpoint\",\n",
    "    endpoint_name=execution_input['EndpointName'],\n",
    "    endpoint_config_name=execution_input['ModelName']\n",
    ")"
   ]
  },
  {
   "cell_type": "markdown",
   "metadata": {},
   "source": [
    "### Chain together steps for your workflow\n",
    "\n",
    "Create your workflow definition by chaining the steps together. See [Chain](https://aws-step-functions-data-science-sdk.readthedocs.io/en/latest/sagemaker.html#stepfunctions.steps.states.Chain) in the AWS Step Functions Data Science SDK documentation."
   ]
  },
  {
   "cell_type": "code",
   "execution_count": 13,
   "metadata": {},
   "outputs": [],
   "source": [
    "workflow_definition = steps.Chain([\n",
    "    training_step,\n",
    "    model_step,\n",
    "    transform_step,\n",
    "    endpoint_config_step,\n",
    "    endpoint_step\n",
    "])"
   ]
  },
  {
   "cell_type": "markdown",
   "metadata": {},
   "source": [
    "Create your workflow using the workflow definition above, and render the graph with [render_graph](https://aws-step-functions-data-science-sdk.readthedocs.io/en/latest/workflow.html#stepfunctions.workflow.Workflow.render_graph)."
   ]
  },
  {
   "cell_type": "code",
   "execution_count": 14,
   "metadata": {},
   "outputs": [],
   "source": [
    "workflow = Workflow(\n",
    "    name='MyTrainTransformDeploy_v1',\n",
    "    definition=workflow_definition,\n",
    "    role=workflow_execution_role,\n",
    "    execution_input=execution_input\n",
    ")"
   ]
  },
  {
   "cell_type": "code",
   "execution_count": 15,
   "metadata": {},
   "outputs": [
    {
     "data": {
      "text/html": [
       "\n",
       "<link rel=\"stylesheet\" type=\"text/css\" href=\"https://do0of8uwbahzz.cloudfront.net/graph.css\">\n",
       "<div id=\"graph-474\" class=\"workflowgraph\">\n",
       "    \n",
       "    <svg></svg>\n",
       "    \n",
       "</div>\n",
       "\n",
       "<script type=\"text/javascript\">\n",
       "\n",
       "require.config({\n",
       "    paths: {\n",
       "        sfn: \"https://do0of8uwbahzz.cloudfront.net/sfn\",\n",
       "    }\n",
       "});\n",
       "\n",
       "require(['sfn'], function(sfn) {\n",
       "    var element = document.getElementById('graph-474')\n",
       "\n",
       "    var options = {\n",
       "        width: parseFloat(getComputedStyle(element, null).width.replace(\"px\", \"\")),\n",
       "        height: 600,\n",
       "        layout: 'LR',\n",
       "        resizeHeight: true\n",
       "    };\n",
       "\n",
       "    var definition = {\"StartAt\": \"Train Step\", \"States\": {\"Train Step\": {\"Resource\": \"arn:aws:states:::sagemaker:createTrainingJob.sync\", \"Parameters\": {\"AlgorithmSpecification\": {\"TrainingImage\": \"683313688378.dkr.ecr.us-east-1.amazonaws.com/sagemaker-xgboost:1.2-1\", \"TrainingInputMode\": \"File\"}, \"OutputDataConfig\": {\"S3OutputPath\": \"https://s3-us-east-1.amazonaws.com/sagemaker-us-east-1-572539092864/sagemaker/DEMO-xgboost-regression/single-xgboost\"}, \"StoppingCondition\": {\"MaxRuntimeInSeconds\": 86400}, \"ResourceConfig\": {\"InstanceCount\": 1, \"InstanceType\": \"ml.m4.4xlarge\", \"VolumeSizeInGB\": 5}, \"RoleArn\": \"arn:aws:iam::572539092864:role/service-role/AmazonSageMaker-ExecutionRole-20200407T174741\", \"InputDataConfig\": [{\"DataSource\": {\"S3DataSource\": {\"S3DataType\": \"S3Prefix\", \"S3Uri\": \"https://s3-us-east-1.amazonaws.com/sagemaker-us-east-1-572539092864/sagemaker/DEMO-xgboost-regression/train\", \"S3DataDistributionType\": \"FullyReplicated\"}}, \"ContentType\": \"text/libsvm\", \"ChannelName\": \"train\"}, {\"DataSource\": {\"S3DataSource\": {\"S3DataType\": \"S3Prefix\", \"S3Uri\": \"https://s3-us-east-1.amazonaws.com/sagemaker-us-east-1-572539092864/sagemaker/DEMO-xgboost-regression/validation\", \"S3DataDistributionType\": \"FullyReplicated\"}}, \"ContentType\": \"text/libsvm\", \"ChannelName\": \"validation\"}], \"HyperParameters\": {\"objective\": \"reg:linear\", \"num_round\": \"50\", \"max_depth\": \"5\", \"eta\": \"0.2\", \"gamma\": \"4\", \"min_child_weight\": \"6\", \"subsample\": \"0.7\"}, \"TrainingJobName.$\": \"$$.Execution.Input['JobName']\"}, \"Type\": \"Task\", \"Next\": \"Save model\"}, \"Save model\": {\"Parameters\": {\"ExecutionRoleArn\": \"arn:aws:iam::572539092864:role/service-role/AmazonSageMaker-ExecutionRole-20200407T174741\", \"ModelName.$\": \"$$.Execution.Input['ModelName']\", \"PrimaryContainer\": {\"Environment\": {}, \"Image\": \"683313688378.dkr.ecr.us-east-1.amazonaws.com/sagemaker-xgboost:1.2-1\", \"ModelDataUrl.$\": \"$['ModelArtifacts']['S3ModelArtifacts']\"}}, \"Resource\": \"arn:aws:states:::sagemaker:createModel\", \"Type\": \"Task\", \"Next\": \"Transform Input Dataset\"}, \"Transform Input Dataset\": {\"Resource\": \"arn:aws:states:::sagemaker:createTransformJob.sync\", \"Parameters\": {\"TransformJobName.$\": \"$$.Execution.Input['JobName']\", \"ModelName.$\": \"$$.Execution.Input['ModelName']\", \"TransformInput\": {\"DataSource\": {\"S3DataSource\": {\"S3DataType\": \"S3Prefix\", \"S3Uri\": \"https://s3-us-east-1.amazonaws.com/sagemaker-us-east-1-572539092864/sagemaker/DEMO-xgboost-regression/test\"}}, \"ContentType\": \"text/libsvm\"}, \"TransformOutput\": {\"S3OutputPath\": \"s3://sagemaker-us-east-1-572539092864/sagemaker-xgboost-2021-05-04-15-40-56-742\"}, \"TransformResources\": {\"InstanceCount\": 1, \"InstanceType\": \"ml.m5.large\"}}, \"Type\": \"Task\", \"Next\": \"Create Endpoint Config\"}, \"Create Endpoint Config\": {\"Resource\": \"arn:aws:states:::sagemaker:createEndpointConfig\", \"Parameters\": {\"EndpointConfigName.$\": \"$$.Execution.Input['ModelName']\", \"ProductionVariants\": [{\"InitialInstanceCount\": 1, \"InstanceType\": \"ml.m5.large\", \"ModelName.$\": \"$$.Execution.Input['ModelName']\", \"VariantName\": \"AllTraffic\"}]}, \"Type\": \"Task\", \"Next\": \"Create Endpoint\"}, \"Create Endpoint\": {\"Resource\": \"arn:aws:states:::sagemaker:createEndpoint\", \"Parameters\": {\"EndpointConfigName.$\": \"$$.Execution.Input['ModelName']\", \"EndpointName.$\": \"$$.Execution.Input['EndpointName']\"}, \"Type\": \"Task\", \"End\": true}}};\n",
       "    var elementId = '#graph-474';\n",
       "\n",
       "    var graph = new sfn.StateMachineGraph(definition, elementId, options);\n",
       "    graph.render();\n",
       "});\n",
       "\n",
       "</script>\n"
      ],
      "text/plain": [
       "<IPython.core.display.HTML object>"
      ]
     },
     "execution_count": 15,
     "metadata": {},
     "output_type": "execute_result"
    }
   ],
   "source": [
    "workflow.render_graph()"
   ]
  },
  {
   "cell_type": "markdown",
   "metadata": {},
   "source": [
    "Create the workflow in AWS Step Functions with [create](https://aws-step-functions-data-science-sdk.readthedocs.io/en/latest/workflow.html#stepfunctions.workflow.Workflow.create)."
   ]
  },
  {
   "cell_type": "code",
   "execution_count": 16,
   "metadata": {},
   "outputs": [
    {
     "name": "stdout",
     "output_type": "stream",
     "text": [
      "\u001b[32m[INFO] Workflow created successfully on AWS Step Functions.\u001b[0m\n"
     ]
    },
    {
     "data": {
      "text/plain": [
       "'arn:aws:states:us-east-1:572539092864:stateMachine:MyTrainTransformDeploy_v1'"
      ]
     },
     "execution_count": 16,
     "metadata": {},
     "output_type": "execute_result"
    }
   ],
   "source": [
    "workflow.create()"
   ]
  },
  {
   "cell_type": "markdown",
   "metadata": {},
   "source": [
    "Run the workflow with [execute](https://aws-step-functions-data-science-sdk.readthedocs.io/en/latest/workflow.html#stepfunctions.workflow.Workflow.execute)."
   ]
  },
  {
   "cell_type": "code",
   "execution_count": 17,
   "metadata": {},
   "outputs": [
    {
     "name": "stdout",
     "output_type": "stream",
     "text": [
      "\u001b[32m[INFO] Workflow execution started successfully on AWS Step Functions.\u001b[0m\n"
     ]
    }
   ],
   "source": [
    "execution = workflow.execute(\n",
    "    inputs={\n",
    "        'JobName': 'regression-{}'.format(uuid.uuid1().hex), # Each Sagemaker Job requires a unique name\n",
    "        'ModelName': 'regression-{}'.format(uuid.uuid1().hex), # Each Model requires a unique name,\n",
    "        'EndpointName': 'regression-{}'.format(uuid.uuid1().hex) # Each Endpoint requires a unique name,\n",
    "    }\n",
    ")"
   ]
  },
  {
   "cell_type": "markdown",
   "metadata": {},
   "source": [
    "Render workflow progress with the [render_progress](https://aws-step-functions-data-science-sdk.readthedocs.io/en/latest/workflow.html#stepfunctions.workflow.Execution.render_progress).\n",
    "\n",
    "This generates a snapshot of the current state of your workflow as it executes. This is a static image. Run the cell again to check progress. "
   ]
  },
  {
   "cell_type": "code",
   "execution_count": 20,
   "metadata": {
    "scrolled": true
   },
   "outputs": [
    {
     "data": {
      "text/html": [
       "\n",
       "<link rel=\"stylesheet\" type=\"text/css\" href=\"https://do0of8uwbahzz.cloudfront.net/graph.css\">\n",
       "<div id=\"graph-13\" class=\"workflowgraph\">\n",
       "    \n",
       "    <style>\n",
       "        .graph-legend ul {\n",
       "            list-style-type: none;\n",
       "            padding: 10px;\n",
       "            padding-left: 0;\n",
       "            margin: 0;\n",
       "            position: absolute;\n",
       "            top: 0;\n",
       "            background: transparent;\n",
       "        }\n",
       "\n",
       "        .graph-legend li {\n",
       "            margin-left: 10px;\n",
       "            display: inline-block;\n",
       "        }\n",
       "\n",
       "        .graph-legend li > div {\n",
       "            width: 10px;\n",
       "            height: 10px;\n",
       "            display: inline-block;\n",
       "        }\n",
       "\n",
       "        .graph-legend .success { background-color: #2BD62E }\n",
       "        .graph-legend .failed { background-color: #DE322F }\n",
       "        .graph-legend .cancelled { background-color: #DDDDDD }\n",
       "        .graph-legend .in-progress { background-color: #53C9ED }\n",
       "        .graph-legend .caught-error { background-color: #FFA500 }\n",
       "    </style>\n",
       "    <div class=\"graph-legend\">\n",
       "        <ul>\n",
       "            <li>\n",
       "                <div class=\"success\"></div>\n",
       "                <span>Success</span>\n",
       "            </li>\n",
       "            <li>\n",
       "                <div class=\"failed\"></div>\n",
       "                <span>Failed</span>\n",
       "            </li>\n",
       "            <li>\n",
       "                <div class=\"cancelled\"></div>\n",
       "                <span>Cancelled</span>\n",
       "            </li>\n",
       "            <li>\n",
       "                <div class=\"in-progress\"></div>\n",
       "                <span>In Progress</span>\n",
       "            </li>\n",
       "            <li>\n",
       "                <div class=\"caught-error\"></div>\n",
       "                <span>Caught Error</span>\n",
       "            </li>\n",
       "        </ul>\n",
       "    </div>\n",
       "\n",
       "    <svg></svg>\n",
       "    <a href=\"https://console.aws.amazon.com/states/home?region=us-east-1#/executions/details/arn:aws:states:us-east-1:572539092864:execution:MyTrainTransformDeploy_v1:c0aea278-47f8-46c0-846b-d113c917f441\" target=\"_blank\"> Inspect in AWS Step Functions </a>\n",
       "</div>\n",
       "\n",
       "<script type=\"text/javascript\">\n",
       "\n",
       "require.config({\n",
       "    paths: {\n",
       "        sfn: \"https://do0of8uwbahzz.cloudfront.net/sfn\",\n",
       "    }\n",
       "});\n",
       "\n",
       "require(['sfn'], function(sfn) {\n",
       "    var element = document.getElementById('graph-13')\n",
       "\n",
       "    var options = {\n",
       "        width: parseFloat(getComputedStyle(element, null).width.replace(\"px\", \"\")),\n",
       "        height: 1000,\n",
       "        layout: 'LR',\n",
       "        resizeHeight: true\n",
       "    };\n",
       "\n",
       "    var definition = {\"StartAt\": \"Train Step\", \"States\": {\"Train Step\": {\"Resource\": \"arn:aws:states:::sagemaker:createTrainingJob.sync\", \"Parameters\": {\"AlgorithmSpecification\": {\"TrainingImage\": \"683313688378.dkr.ecr.us-east-1.amazonaws.com/sagemaker-xgboost:1.2-1\", \"TrainingInputMode\": \"File\"}, \"OutputDataConfig\": {\"S3OutputPath\": \"https://s3-us-east-1.amazonaws.com/sagemaker-us-east-1-572539092864/sagemaker/DEMO-xgboost-regression/single-xgboost\"}, \"StoppingCondition\": {\"MaxRuntimeInSeconds\": 86400}, \"ResourceConfig\": {\"InstanceCount\": 1, \"InstanceType\": \"ml.m4.4xlarge\", \"VolumeSizeInGB\": 5}, \"RoleArn\": \"arn:aws:iam::572539092864:role/service-role/AmazonSageMaker-ExecutionRole-20200407T174741\", \"InputDataConfig\": [{\"DataSource\": {\"S3DataSource\": {\"S3DataType\": \"S3Prefix\", \"S3Uri\": \"https://s3-us-east-1.amazonaws.com/sagemaker-us-east-1-572539092864/sagemaker/DEMO-xgboost-regression/train\", \"S3DataDistributionType\": \"FullyReplicated\"}}, \"ContentType\": \"text/libsvm\", \"ChannelName\": \"train\"}, {\"DataSource\": {\"S3DataSource\": {\"S3DataType\": \"S3Prefix\", \"S3Uri\": \"https://s3-us-east-1.amazonaws.com/sagemaker-us-east-1-572539092864/sagemaker/DEMO-xgboost-regression/validation\", \"S3DataDistributionType\": \"FullyReplicated\"}}, \"ContentType\": \"text/libsvm\", \"ChannelName\": \"validation\"}], \"HyperParameters\": {\"objective\": \"reg:linear\", \"num_round\": \"50\", \"max_depth\": \"5\", \"eta\": \"0.2\", \"gamma\": \"4\", \"min_child_weight\": \"6\", \"subsample\": \"0.7\"}, \"TrainingJobName.$\": \"$$.Execution.Input['JobName']\"}, \"Type\": \"Task\", \"Next\": \"Save model\"}, \"Save model\": {\"Parameters\": {\"ExecutionRoleArn\": \"arn:aws:iam::572539092864:role/service-role/AmazonSageMaker-ExecutionRole-20200407T174741\", \"ModelName.$\": \"$$.Execution.Input['ModelName']\", \"PrimaryContainer\": {\"Environment\": {}, \"Image\": \"683313688378.dkr.ecr.us-east-1.amazonaws.com/sagemaker-xgboost:1.2-1\", \"ModelDataUrl.$\": \"$['ModelArtifacts']['S3ModelArtifacts']\"}}, \"Resource\": \"arn:aws:states:::sagemaker:createModel\", \"Type\": \"Task\", \"Next\": \"Transform Input Dataset\"}, \"Transform Input Dataset\": {\"Resource\": \"arn:aws:states:::sagemaker:createTransformJob.sync\", \"Parameters\": {\"TransformJobName.$\": \"$$.Execution.Input['JobName']\", \"ModelName.$\": \"$$.Execution.Input['ModelName']\", \"TransformInput\": {\"DataSource\": {\"S3DataSource\": {\"S3DataType\": \"S3Prefix\", \"S3Uri\": \"https://s3-us-east-1.amazonaws.com/sagemaker-us-east-1-572539092864/sagemaker/DEMO-xgboost-regression/test\"}}, \"ContentType\": \"text/libsvm\"}, \"TransformOutput\": {\"S3OutputPath\": \"s3://sagemaker-us-east-1-572539092864/sagemaker-xgboost-2021-05-04-15-40-56-742\"}, \"TransformResources\": {\"InstanceCount\": 1, \"InstanceType\": \"ml.m5.large\"}}, \"Type\": \"Task\", \"Next\": \"Create Endpoint Config\"}, \"Create Endpoint Config\": {\"Resource\": \"arn:aws:states:::sagemaker:createEndpointConfig\", \"Parameters\": {\"EndpointConfigName.$\": \"$$.Execution.Input['ModelName']\", \"ProductionVariants\": [{\"InitialInstanceCount\": 1, \"InstanceType\": \"ml.m5.large\", \"ModelName.$\": \"$$.Execution.Input['ModelName']\", \"VariantName\": \"AllTraffic\"}]}, \"Type\": \"Task\", \"Next\": \"Create Endpoint\"}, \"Create Endpoint\": {\"Resource\": \"arn:aws:states:::sagemaker:createEndpoint\", \"Parameters\": {\"EndpointConfigName.$\": \"$$.Execution.Input['ModelName']\", \"EndpointName.$\": \"$$.Execution.Input['EndpointName']\"}, \"Type\": \"Task\", \"End\": true}}};\n",
       "    var elementId = '#graph-13';\n",
       "    var events = { 'events': [{\"timestamp\": 1620142923.933, \"type\": \"ExecutionStarted\", \"id\": 1, \"previousEventId\": 0, \"executionStartedEventDetails\": {\"input\": \"{\\n    \\\"JobName\\\": \\\"regression-46248572acef11eb8fa469e76e10bb47\\\",\\n    \\\"ModelName\\\": \\\"regression-4624895aacef11eb8fa469e76e10bb47\\\",\\n    \\\"EndpointName\\\": \\\"regression-462489b4acef11eb8fa469e76e10bb47\\\"\\n}\", \"inputDetails\": {\"truncated\": false}, \"roleArn\": \"arn:aws:iam::572539092864:role/StepFunctionsWorkflowExecutionRole\"}}, {\"timestamp\": 1620142923.968, \"type\": \"TaskStateEntered\", \"id\": 2, \"previousEventId\": 0, \"stateEnteredEventDetails\": {\"name\": \"Train Step\", \"input\": \"{\\n    \\\"JobName\\\": \\\"regression-46248572acef11eb8fa469e76e10bb47\\\",\\n    \\\"ModelName\\\": \\\"regression-4624895aacef11eb8fa469e76e10bb47\\\",\\n    \\\"EndpointName\\\": \\\"regression-462489b4acef11eb8fa469e76e10bb47\\\"\\n}\", \"inputDetails\": {\"truncated\": false}}}, {\"timestamp\": 1620142923.968, \"type\": \"TaskScheduled\", \"id\": 3, \"previousEventId\": 2, \"taskScheduledEventDetails\": {\"resourceType\": \"sagemaker\", \"resource\": \"createTrainingJob.sync\", \"region\": \"us-east-1\", \"parameters\": \"{\\\"AlgorithmSpecification\\\":{\\\"TrainingImage\\\":\\\"683313688378.dkr.ecr.us-east-1.amazonaws.com/sagemaker-xgboost:1.2-1\\\",\\\"TrainingInputMode\\\":\\\"File\\\"},\\\"OutputDataConfig\\\":{\\\"S3OutputPath\\\":\\\"https://s3-us-east-1.amazonaws.com/sagemaker-us-east-1-572539092864/sagemaker/DEMO-xgboost-regression/single-xgboost\\\"},\\\"StoppingCondition\\\":{\\\"MaxRuntimeInSeconds\\\":86400},\\\"ResourceConfig\\\":{\\\"InstanceCount\\\":1,\\\"InstanceType\\\":\\\"ml.m4.4xlarge\\\",\\\"VolumeSizeInGB\\\":5},\\\"RoleArn\\\":\\\"arn:aws:iam::572539092864:role/service-role/AmazonSageMaker-ExecutionRole-20200407T174741\\\",\\\"InputDataConfig\\\":[{\\\"DataSource\\\":{\\\"S3DataSource\\\":{\\\"S3DataType\\\":\\\"S3Prefix\\\",\\\"S3Uri\\\":\\\"https://s3-us-east-1.amazonaws.com/sagemaker-us-east-1-572539092864/sagemaker/DEMO-xgboost-regression/train\\\",\\\"S3DataDistributionType\\\":\\\"FullyReplicated\\\"}},\\\"ContentType\\\":\\\"text/libsvm\\\",\\\"ChannelName\\\":\\\"train\\\"},{\\\"DataSource\\\":{\\\"S3DataSource\\\":{\\\"S3DataType\\\":\\\"S3Prefix\\\",\\\"S3Uri\\\":\\\"https://s3-us-east-1.amazonaws.com/sagemaker-us-east-1-572539092864/sagemaker/DEMO-xgboost-regression/validation\\\",\\\"S3DataDistributionType\\\":\\\"FullyReplicated\\\"}},\\\"ContentType\\\":\\\"text/libsvm\\\",\\\"ChannelName\\\":\\\"validation\\\"}],\\\"HyperParameters\\\":{\\\"objective\\\":\\\"reg:linear\\\",\\\"num_round\\\":\\\"50\\\",\\\"max_depth\\\":\\\"5\\\",\\\"eta\\\":\\\"0.2\\\",\\\"gamma\\\":\\\"4\\\",\\\"min_child_weight\\\":\\\"6\\\",\\\"subsample\\\":\\\"0.7\\\"},\\\"TrainingJobName\\\":\\\"regression-46248572acef11eb8fa469e76e10bb47\\\",\\\"Tags\\\":[{\\\"Key\\\":\\\"MANAGED_BY_AWS\\\",\\\"Value\\\":\\\"STARTED_BY_STEP_FUNCTIONS\\\"}]}\"}}, {\"timestamp\": 1620142924.042, \"type\": \"TaskStarted\", \"id\": 4, \"previousEventId\": 3, \"taskStartedEventDetails\": {\"resourceType\": \"sagemaker\", \"resource\": \"createTrainingJob.sync\"}}, {\"timestamp\": 1620142924.264, \"type\": \"TaskSubmitted\", \"id\": 5, \"previousEventId\": 4, \"taskSubmittedEventDetails\": {\"resourceType\": \"sagemaker\", \"resource\": \"createTrainingJob.sync\", \"output\": \"{\\\"SdkHttpMetadata\\\":{\\\"AllHttpHeaders\\\":{\\\"x-amzn-RequestId\\\":[\\\"8c0899b8-0662-4282-950b-7e7e8fc4ac77\\\"],\\\"Content-Length\\\":[\\\"118\\\"],\\\"Date\\\":[\\\"Tue, 04 May 2021 15:42:04 GMT\\\"],\\\"Content-Type\\\":[\\\"application/x-amz-json-1.1\\\"]},\\\"HttpHeaders\\\":{\\\"Content-Length\\\":\\\"118\\\",\\\"Content-Type\\\":\\\"application/x-amz-json-1.1\\\",\\\"Date\\\":\\\"Tue, 04 May 2021 15:42:04 GMT\\\",\\\"x-amzn-RequestId\\\":\\\"8c0899b8-0662-4282-950b-7e7e8fc4ac77\\\"},\\\"HttpStatusCode\\\":200},\\\"SdkResponseMetadata\\\":{\\\"RequestId\\\":\\\"8c0899b8-0662-4282-950b-7e7e8fc4ac77\\\"},\\\"TrainingJobArn\\\":\\\"arn:aws:sagemaker:us-east-1:572539092864:training-job/regression-46248572acef11eb8fa469e76e10bb47\\\"}\", \"outputDetails\": {\"truncated\": false}}}, {\"timestamp\": 1620143145.04, \"type\": \"TaskSucceeded\", \"id\": 6, \"previousEventId\": 5, \"taskSucceededEventDetails\": {\"resourceType\": \"sagemaker\", \"resource\": \"createTrainingJob.sync\", \"output\": \"{\\\"TrainingJobName\\\":\\\"regression-46248572acef11eb8fa469e76e10bb47\\\",\\\"TrainingJobArn\\\":\\\"arn:aws:sagemaker:us-east-1:572539092864:training-job/regression-46248572acef11eb8fa469e76e10bb47\\\",\\\"ModelArtifacts\\\":{\\\"S3ModelArtifacts\\\":\\\"https://s3-us-east-1.amazonaws.com/sagemaker-us-east-1-572539092864/sagemaker/DEMO-xgboost-regression/single-xgboost/regression-46248572acef11eb8fa469e76e10bb47/output/model.tar.gz\\\"},\\\"TrainingJobStatus\\\":\\\"Completed\\\",\\\"SecondaryStatus\\\":\\\"Completed\\\",\\\"HyperParameters\\\":{\\\"eta\\\":\\\"0.2\\\",\\\"max_depth\\\":\\\"5\\\",\\\"num_round\\\":\\\"50\\\",\\\"subsample\\\":\\\"0.7\\\",\\\"gamma\\\":\\\"4\\\",\\\"min_child_weight\\\":\\\"6\\\",\\\"objective\\\":\\\"reg:linear\\\"},\\\"AlgorithmSpecification\\\":{\\\"TrainingImage\\\":\\\"683313688378.dkr.ecr.us-east-1.amazonaws.com/sagemaker-xgboost:1.2-1\\\",\\\"TrainingInputMode\\\":\\\"FILE\\\"},\\\"RoleArn\\\":\\\"arn:aws:iam::572539092864:role/service-role/AmazonSageMaker-ExecutionRole-20200407T174741\\\",\\\"InputDataConfig\\\":[{\\\"ChannelName\\\":\\\"train\\\",\\\"DataSource\\\":{\\\"S3DataSource\\\":{\\\"S3DataType\\\":\\\"S3_PREFIX\\\",\\\"S3Uri\\\":\\\"https://s3-us-east-1.amazonaws.com/sagemaker-us-east-1-572539092864/sagemaker/DEMO-xgboost-regression/train\\\",\\\"S3DataDistributionType\\\":\\\"FULLY_REPLICATED\\\"}},\\\"ContentType\\\":\\\"text/libsvm\\\",\\\"CompressionType\\\":\\\"NONE\\\",\\\"RecordWrapperType\\\":\\\"NONE\\\"},{\\\"ChannelName\\\":\\\"validation\\\",\\\"DataSource\\\":{\\\"S3DataSource\\\":{\\\"S3DataType\\\":\\\"S3_PREFIX\\\",\\\"S3Uri\\\":\\\"https://s3-us-east-1.amazonaws.com/sagemaker-us-east-1-572539092864/sagemaker/DEMO-xgboost-regression/validation\\\",\\\"S3DataDistributionType\\\":\\\"FULLY_REPLICATED\\\"}},\\\"ContentType\\\":\\\"text/libsvm\\\",\\\"CompressionType\\\":\\\"NONE\\\",\\\"RecordWrapperType\\\":\\\"NONE\\\"}],\\\"OutputDataConfig\\\":{\\\"S3OutputPath\\\":\\\"https://s3-us-east-1.amazonaws.com/sagemaker-us-east-1-572539092864/sagemaker/DEMO-xgboost-regression/single-xgboost\\\"},\\\"ResourceConfig\\\":{\\\"InstanceType\\\":\\\"ml.m4.4xlarge\\\",\\\"InstanceCount\\\":1.0,\\\"VolumeSizeInGB\\\":5.0},\\\"StoppingCondition\\\":{\\\"MaxRuntimeInSeconds\\\":86400.0},\\\"CreationTime\\\":1.62014292423E12,\\\"TrainingStartTime\\\":1.620143080546E12,\\\"TrainingEndTime\\\":1.620143140804E12,\\\"LastModifiedTime\\\":1.620143140804E12,\\\"SecondaryStatusTransitions\\\":[{\\\"Status\\\":\\\"Starting\\\",\\\"StartTime\\\":1.62014292423E12,\\\"EndTime\\\":1.620143080546E12,\\\"StatusMessage\\\":\\\"Preparing the instances for training\\\"},{\\\"Status\\\":\\\"Downloading\\\",\\\"StartTime\\\":1.620143080546E12,\\\"EndTime\\\":1.62014310595E12,\\\"StatusMessage\\\":\\\"Downloading input data\\\"},{\\\"Status\\\":\\\"Training\\\",\\\"StartTime\\\":1.62014310595E12,\\\"EndTime\\\":1.620143133338E12,\\\"StatusMessage\\\":\\\"Training image download completed. Training in progress.\\\"},{\\\"Status\\\":\\\"Uploading\\\",\\\"StartTime\\\":1.620143133338E12,\\\"EndTime\\\":1.620143140804E12,\\\"StatusMessage\\\":\\\"Uploading generated training model\\\"},{\\\"Status\\\":\\\"Completed\\\",\\\"StartTime\\\":1.620143140804E12,\\\"EndTime\\\":1.620143140804E12,\\\"StatusMessage\\\":\\\"Training job completed\\\"}],\\\"Tags\\\":{\\\"AWS_STEP_FUNCTIONS_EXECUTION_ARN\\\":\\\"arn:aws:states:us-east-1:572539092864:execution:MyTrainTransformDeploy_v1:c0aea278-47f8-46c0-846b-d113c917f441\\\",\\\"MANAGED_BY_AWS\\\":\\\"STARTED_BY_STEP_FUNCTIONS\\\"}}\", \"outputDetails\": {\"truncated\": false}}}, {\"timestamp\": 1620143145.04, \"type\": \"TaskStateExited\", \"id\": 7, \"previousEventId\": 6, \"stateExitedEventDetails\": {\"name\": \"Train Step\", \"output\": \"{\\\"TrainingJobName\\\":\\\"regression-46248572acef11eb8fa469e76e10bb47\\\",\\\"TrainingJobArn\\\":\\\"arn:aws:sagemaker:us-east-1:572539092864:training-job/regression-46248572acef11eb8fa469e76e10bb47\\\",\\\"ModelArtifacts\\\":{\\\"S3ModelArtifacts\\\":\\\"https://s3-us-east-1.amazonaws.com/sagemaker-us-east-1-572539092864/sagemaker/DEMO-xgboost-regression/single-xgboost/regression-46248572acef11eb8fa469e76e10bb47/output/model.tar.gz\\\"},\\\"TrainingJobStatus\\\":\\\"Completed\\\",\\\"SecondaryStatus\\\":\\\"Completed\\\",\\\"HyperParameters\\\":{\\\"eta\\\":\\\"0.2\\\",\\\"max_depth\\\":\\\"5\\\",\\\"num_round\\\":\\\"50\\\",\\\"subsample\\\":\\\"0.7\\\",\\\"gamma\\\":\\\"4\\\",\\\"min_child_weight\\\":\\\"6\\\",\\\"objective\\\":\\\"reg:linear\\\"},\\\"AlgorithmSpecification\\\":{\\\"TrainingImage\\\":\\\"683313688378.dkr.ecr.us-east-1.amazonaws.com/sagemaker-xgboost:1.2-1\\\",\\\"TrainingInputMode\\\":\\\"FILE\\\"},\\\"RoleArn\\\":\\\"arn:aws:iam::572539092864:role/service-role/AmazonSageMaker-ExecutionRole-20200407T174741\\\",\\\"InputDataConfig\\\":[{\\\"ChannelName\\\":\\\"train\\\",\\\"DataSource\\\":{\\\"S3DataSource\\\":{\\\"S3DataType\\\":\\\"S3_PREFIX\\\",\\\"S3Uri\\\":\\\"https://s3-us-east-1.amazonaws.com/sagemaker-us-east-1-572539092864/sagemaker/DEMO-xgboost-regression/train\\\",\\\"S3DataDistributionType\\\":\\\"FULLY_REPLICATED\\\"}},\\\"ContentType\\\":\\\"text/libsvm\\\",\\\"CompressionType\\\":\\\"NONE\\\",\\\"RecordWrapperType\\\":\\\"NONE\\\"},{\\\"ChannelName\\\":\\\"validation\\\",\\\"DataSource\\\":{\\\"S3DataSource\\\":{\\\"S3DataType\\\":\\\"S3_PREFIX\\\",\\\"S3Uri\\\":\\\"https://s3-us-east-1.amazonaws.com/sagemaker-us-east-1-572539092864/sagemaker/DEMO-xgboost-regression/validation\\\",\\\"S3DataDistributionType\\\":\\\"FULLY_REPLICATED\\\"}},\\\"ContentType\\\":\\\"text/libsvm\\\",\\\"CompressionType\\\":\\\"NONE\\\",\\\"RecordWrapperType\\\":\\\"NONE\\\"}],\\\"OutputDataConfig\\\":{\\\"S3OutputPath\\\":\\\"https://s3-us-east-1.amazonaws.com/sagemaker-us-east-1-572539092864/sagemaker/DEMO-xgboost-regression/single-xgboost\\\"},\\\"ResourceConfig\\\":{\\\"InstanceType\\\":\\\"ml.m4.4xlarge\\\",\\\"InstanceCount\\\":1.0,\\\"VolumeSizeInGB\\\":5.0},\\\"StoppingCondition\\\":{\\\"MaxRuntimeInSeconds\\\":86400.0},\\\"CreationTime\\\":1.62014292423E12,\\\"TrainingStartTime\\\":1.620143080546E12,\\\"TrainingEndTime\\\":1.620143140804E12,\\\"LastModifiedTime\\\":1.620143140804E12,\\\"SecondaryStatusTransitions\\\":[{\\\"Status\\\":\\\"Starting\\\",\\\"StartTime\\\":1.62014292423E12,\\\"EndTime\\\":1.620143080546E12,\\\"StatusMessage\\\":\\\"Preparing the instances for training\\\"},{\\\"Status\\\":\\\"Downloading\\\",\\\"StartTime\\\":1.620143080546E12,\\\"EndTime\\\":1.62014310595E12,\\\"StatusMessage\\\":\\\"Downloading input data\\\"},{\\\"Status\\\":\\\"Training\\\",\\\"StartTime\\\":1.62014310595E12,\\\"EndTime\\\":1.620143133338E12,\\\"StatusMessage\\\":\\\"Training image download completed. Training in progress.\\\"},{\\\"Status\\\":\\\"Uploading\\\",\\\"StartTime\\\":1.620143133338E12,\\\"EndTime\\\":1.620143140804E12,\\\"StatusMessage\\\":\\\"Uploading generated training model\\\"},{\\\"Status\\\":\\\"Completed\\\",\\\"StartTime\\\":1.620143140804E12,\\\"EndTime\\\":1.620143140804E12,\\\"StatusMessage\\\":\\\"Training job completed\\\"}],\\\"Tags\\\":{\\\"AWS_STEP_FUNCTIONS_EXECUTION_ARN\\\":\\\"arn:aws:states:us-east-1:572539092864:execution:MyTrainTransformDeploy_v1:c0aea278-47f8-46c0-846b-d113c917f441\\\",\\\"MANAGED_BY_AWS\\\":\\\"STARTED_BY_STEP_FUNCTIONS\\\"}}\", \"outputDetails\": {\"truncated\": false}}}, {\"timestamp\": 1620143145.047, \"type\": \"TaskStateEntered\", \"id\": 8, \"previousEventId\": 7, \"stateEnteredEventDetails\": {\"name\": \"Save model\", \"input\": \"{\\\"TrainingJobName\\\":\\\"regression-46248572acef11eb8fa469e76e10bb47\\\",\\\"TrainingJobArn\\\":\\\"arn:aws:sagemaker:us-east-1:572539092864:training-job/regression-46248572acef11eb8fa469e76e10bb47\\\",\\\"ModelArtifacts\\\":{\\\"S3ModelArtifacts\\\":\\\"https://s3-us-east-1.amazonaws.com/sagemaker-us-east-1-572539092864/sagemaker/DEMO-xgboost-regression/single-xgboost/regression-46248572acef11eb8fa469e76e10bb47/output/model.tar.gz\\\"},\\\"TrainingJobStatus\\\":\\\"Completed\\\",\\\"SecondaryStatus\\\":\\\"Completed\\\",\\\"HyperParameters\\\":{\\\"eta\\\":\\\"0.2\\\",\\\"max_depth\\\":\\\"5\\\",\\\"num_round\\\":\\\"50\\\",\\\"subsample\\\":\\\"0.7\\\",\\\"gamma\\\":\\\"4\\\",\\\"min_child_weight\\\":\\\"6\\\",\\\"objective\\\":\\\"reg:linear\\\"},\\\"AlgorithmSpecification\\\":{\\\"TrainingImage\\\":\\\"683313688378.dkr.ecr.us-east-1.amazonaws.com/sagemaker-xgboost:1.2-1\\\",\\\"TrainingInputMode\\\":\\\"FILE\\\"},\\\"RoleArn\\\":\\\"arn:aws:iam::572539092864:role/service-role/AmazonSageMaker-ExecutionRole-20200407T174741\\\",\\\"InputDataConfig\\\":[{\\\"ChannelName\\\":\\\"train\\\",\\\"DataSource\\\":{\\\"S3DataSource\\\":{\\\"S3DataType\\\":\\\"S3_PREFIX\\\",\\\"S3Uri\\\":\\\"https://s3-us-east-1.amazonaws.com/sagemaker-us-east-1-572539092864/sagemaker/DEMO-xgboost-regression/train\\\",\\\"S3DataDistributionType\\\":\\\"FULLY_REPLICATED\\\"}},\\\"ContentType\\\":\\\"text/libsvm\\\",\\\"CompressionType\\\":\\\"NONE\\\",\\\"RecordWrapperType\\\":\\\"NONE\\\"},{\\\"ChannelName\\\":\\\"validation\\\",\\\"DataSource\\\":{\\\"S3DataSource\\\":{\\\"S3DataType\\\":\\\"S3_PREFIX\\\",\\\"S3Uri\\\":\\\"https://s3-us-east-1.amazonaws.com/sagemaker-us-east-1-572539092864/sagemaker/DEMO-xgboost-regression/validation\\\",\\\"S3DataDistributionType\\\":\\\"FULLY_REPLICATED\\\"}},\\\"ContentType\\\":\\\"text/libsvm\\\",\\\"CompressionType\\\":\\\"NONE\\\",\\\"RecordWrapperType\\\":\\\"NONE\\\"}],\\\"OutputDataConfig\\\":{\\\"S3OutputPath\\\":\\\"https://s3-us-east-1.amazonaws.com/sagemaker-us-east-1-572539092864/sagemaker/DEMO-xgboost-regression/single-xgboost\\\"},\\\"ResourceConfig\\\":{\\\"InstanceType\\\":\\\"ml.m4.4xlarge\\\",\\\"InstanceCount\\\":1.0,\\\"VolumeSizeInGB\\\":5.0},\\\"StoppingCondition\\\":{\\\"MaxRuntimeInSeconds\\\":86400.0},\\\"CreationTime\\\":1.62014292423E12,\\\"TrainingStartTime\\\":1.620143080546E12,\\\"TrainingEndTime\\\":1.620143140804E12,\\\"LastModifiedTime\\\":1.620143140804E12,\\\"SecondaryStatusTransitions\\\":[{\\\"Status\\\":\\\"Starting\\\",\\\"StartTime\\\":1.62014292423E12,\\\"EndTime\\\":1.620143080546E12,\\\"StatusMessage\\\":\\\"Preparing the instances for training\\\"},{\\\"Status\\\":\\\"Downloading\\\",\\\"StartTime\\\":1.620143080546E12,\\\"EndTime\\\":1.62014310595E12,\\\"StatusMessage\\\":\\\"Downloading input data\\\"},{\\\"Status\\\":\\\"Training\\\",\\\"StartTime\\\":1.62014310595E12,\\\"EndTime\\\":1.620143133338E12,\\\"StatusMessage\\\":\\\"Training image download completed. Training in progress.\\\"},{\\\"Status\\\":\\\"Uploading\\\",\\\"StartTime\\\":1.620143133338E12,\\\"EndTime\\\":1.620143140804E12,\\\"StatusMessage\\\":\\\"Uploading generated training model\\\"},{\\\"Status\\\":\\\"Completed\\\",\\\"StartTime\\\":1.620143140804E12,\\\"EndTime\\\":1.620143140804E12,\\\"StatusMessage\\\":\\\"Training job completed\\\"}],\\\"Tags\\\":{\\\"AWS_STEP_FUNCTIONS_EXECUTION_ARN\\\":\\\"arn:aws:states:us-east-1:572539092864:execution:MyTrainTransformDeploy_v1:c0aea278-47f8-46c0-846b-d113c917f441\\\",\\\"MANAGED_BY_AWS\\\":\\\"STARTED_BY_STEP_FUNCTIONS\\\"}}\", \"inputDetails\": {\"truncated\": false}}}, {\"timestamp\": 1620143145.047, \"type\": \"TaskScheduled\", \"id\": 9, \"previousEventId\": 8, \"taskScheduledEventDetails\": {\"resourceType\": \"sagemaker\", \"resource\": \"createModel\", \"region\": \"us-east-1\", \"parameters\": \"{\\\"ExecutionRoleArn\\\":\\\"arn:aws:iam::572539092864:role/service-role/AmazonSageMaker-ExecutionRole-20200407T174741\\\",\\\"PrimaryContainer\\\":{\\\"Environment\\\":{},\\\"Image\\\":\\\"683313688378.dkr.ecr.us-east-1.amazonaws.com/sagemaker-xgboost:1.2-1\\\",\\\"ModelDataUrl\\\":\\\"https://s3-us-east-1.amazonaws.com/sagemaker-us-east-1-572539092864/sagemaker/DEMO-xgboost-regression/single-xgboost/regression-46248572acef11eb8fa469e76e10bb47/output/model.tar.gz\\\"},\\\"ModelName\\\":\\\"regression-4624895aacef11eb8fa469e76e10bb47\\\"}\"}}, {\"timestamp\": 1620143145.057, \"type\": \"TaskStarted\", \"id\": 10, \"previousEventId\": 9, \"taskStartedEventDetails\": {\"resourceType\": \"sagemaker\", \"resource\": \"createModel\"}}, {\"timestamp\": 1620143145.453, \"type\": \"TaskSucceeded\", \"id\": 11, \"previousEventId\": 10, \"taskSucceededEventDetails\": {\"resourceType\": \"sagemaker\", \"resource\": \"createModel\", \"output\": \"{\\\"ModelArn\\\":\\\"arn:aws:sagemaker:us-east-1:572539092864:model/regression-4624895aacef11eb8fa469e76e10bb47\\\",\\\"SdkHttpMetadata\\\":{\\\"AllHttpHeaders\\\":{\\\"x-amzn-RequestId\\\":[\\\"0fdeb554-2a68-4e50-b182-cafc0a1adc24\\\"],\\\"Content-Length\\\":[\\\"105\\\"],\\\"Date\\\":[\\\"Tue, 04 May 2021 15:45:45 GMT\\\"],\\\"Content-Type\\\":[\\\"application/x-amz-json-1.1\\\"]},\\\"HttpHeaders\\\":{\\\"Content-Length\\\":\\\"105\\\",\\\"Content-Type\\\":\\\"application/x-amz-json-1.1\\\",\\\"Date\\\":\\\"Tue, 04 May 2021 15:45:45 GMT\\\",\\\"x-amzn-RequestId\\\":\\\"0fdeb554-2a68-4e50-b182-cafc0a1adc24\\\"},\\\"HttpStatusCode\\\":200},\\\"SdkResponseMetadata\\\":{\\\"RequestId\\\":\\\"0fdeb554-2a68-4e50-b182-cafc0a1adc24\\\"}}\", \"outputDetails\": {\"truncated\": false}}}, {\"timestamp\": 1620143145.453, \"type\": \"TaskStateExited\", \"id\": 12, \"previousEventId\": 11, \"stateExitedEventDetails\": {\"name\": \"Save model\", \"output\": \"{\\\"ModelArn\\\":\\\"arn:aws:sagemaker:us-east-1:572539092864:model/regression-4624895aacef11eb8fa469e76e10bb47\\\",\\\"SdkHttpMetadata\\\":{\\\"AllHttpHeaders\\\":{\\\"x-amzn-RequestId\\\":[\\\"0fdeb554-2a68-4e50-b182-cafc0a1adc24\\\"],\\\"Content-Length\\\":[\\\"105\\\"],\\\"Date\\\":[\\\"Tue, 04 May 2021 15:45:45 GMT\\\"],\\\"Content-Type\\\":[\\\"application/x-amz-json-1.1\\\"]},\\\"HttpHeaders\\\":{\\\"Content-Length\\\":\\\"105\\\",\\\"Content-Type\\\":\\\"application/x-amz-json-1.1\\\",\\\"Date\\\":\\\"Tue, 04 May 2021 15:45:45 GMT\\\",\\\"x-amzn-RequestId\\\":\\\"0fdeb554-2a68-4e50-b182-cafc0a1adc24\\\"},\\\"HttpStatusCode\\\":200},\\\"SdkResponseMetadata\\\":{\\\"RequestId\\\":\\\"0fdeb554-2a68-4e50-b182-cafc0a1adc24\\\"}}\", \"outputDetails\": {\"truncated\": false}}}, {\"timestamp\": 1620143145.46, \"type\": \"TaskStateEntered\", \"id\": 13, \"previousEventId\": 12, \"stateEnteredEventDetails\": {\"name\": \"Transform Input Dataset\", \"input\": \"{\\\"ModelArn\\\":\\\"arn:aws:sagemaker:us-east-1:572539092864:model/regression-4624895aacef11eb8fa469e76e10bb47\\\",\\\"SdkHttpMetadata\\\":{\\\"AllHttpHeaders\\\":{\\\"x-amzn-RequestId\\\":[\\\"0fdeb554-2a68-4e50-b182-cafc0a1adc24\\\"],\\\"Content-Length\\\":[\\\"105\\\"],\\\"Date\\\":[\\\"Tue, 04 May 2021 15:45:45 GMT\\\"],\\\"Content-Type\\\":[\\\"application/x-amz-json-1.1\\\"]},\\\"HttpHeaders\\\":{\\\"Content-Length\\\":\\\"105\\\",\\\"Content-Type\\\":\\\"application/x-amz-json-1.1\\\",\\\"Date\\\":\\\"Tue, 04 May 2021 15:45:45 GMT\\\",\\\"x-amzn-RequestId\\\":\\\"0fdeb554-2a68-4e50-b182-cafc0a1adc24\\\"},\\\"HttpStatusCode\\\":200},\\\"SdkResponseMetadata\\\":{\\\"RequestId\\\":\\\"0fdeb554-2a68-4e50-b182-cafc0a1adc24\\\"}}\", \"inputDetails\": {\"truncated\": false}}}, {\"timestamp\": 1620143145.46, \"type\": \"TaskScheduled\", \"id\": 14, \"previousEventId\": 13, \"taskScheduledEventDetails\": {\"resourceType\": \"sagemaker\", \"resource\": \"createTransformJob.sync\", \"region\": \"us-east-1\", \"parameters\": \"{\\\"TransformInput\\\":{\\\"DataSource\\\":{\\\"S3DataSource\\\":{\\\"S3DataType\\\":\\\"S3Prefix\\\",\\\"S3Uri\\\":\\\"https://s3-us-east-1.amazonaws.com/sagemaker-us-east-1-572539092864/sagemaker/DEMO-xgboost-regression/test\\\"}},\\\"ContentType\\\":\\\"text/libsvm\\\"},\\\"TransformOutput\\\":{\\\"S3OutputPath\\\":\\\"s3://sagemaker-us-east-1-572539092864/sagemaker-xgboost-2021-05-04-15-40-56-742\\\"},\\\"TransformResources\\\":{\\\"InstanceCount\\\":1,\\\"InstanceType\\\":\\\"ml.m5.large\\\"},\\\"ModelName\\\":\\\"regression-4624895aacef11eb8fa469e76e10bb47\\\",\\\"TransformJobName\\\":\\\"regression-46248572acef11eb8fa469e76e10bb47\\\",\\\"Tags\\\":[{\\\"Key\\\":\\\"MANAGED_BY_AWS\\\",\\\"Value\\\":\\\"STARTED_BY_STEP_FUNCTIONS\\\"}]}\"}}, {\"timestamp\": 1620143146.001, \"type\": \"TaskStarted\", \"id\": 15, \"previousEventId\": 14, \"taskStartedEventDetails\": {\"resourceType\": \"sagemaker\", \"resource\": \"createTransformJob.sync\"}}, {\"timestamp\": 1620143146.251, \"type\": \"TaskSubmitted\", \"id\": 16, \"previousEventId\": 15, \"taskSubmittedEventDetails\": {\"resourceType\": \"sagemaker\", \"resource\": \"createTransformJob.sync\", \"output\": \"{\\\"SdkHttpMetadata\\\":{\\\"AllHttpHeaders\\\":{\\\"x-amzn-RequestId\\\":[\\\"418babcd-7e94-42e4-ad9f-f1dc2f797add\\\"],\\\"Content-Length\\\":[\\\"120\\\"],\\\"Date\\\":[\\\"Tue, 04 May 2021 15:45:46 GMT\\\"],\\\"Content-Type\\\":[\\\"application/x-amz-json-1.1\\\"]},\\\"HttpHeaders\\\":{\\\"Content-Length\\\":\\\"120\\\",\\\"Content-Type\\\":\\\"application/x-amz-json-1.1\\\",\\\"Date\\\":\\\"Tue, 04 May 2021 15:45:46 GMT\\\",\\\"x-amzn-RequestId\\\":\\\"418babcd-7e94-42e4-ad9f-f1dc2f797add\\\"},\\\"HttpStatusCode\\\":200},\\\"SdkResponseMetadata\\\":{\\\"RequestId\\\":\\\"418babcd-7e94-42e4-ad9f-f1dc2f797add\\\"},\\\"TransformJobArn\\\":\\\"arn:aws:sagemaker:us-east-1:572539092864:transform-job/regression-46248572acef11eb8fa469e76e10bb47\\\"}\", \"outputDetails\": {\"truncated\": false}}}, {\"timestamp\": 1620143437.126, \"type\": \"TaskSucceeded\", \"id\": 17, \"previousEventId\": 16, \"taskSucceededEventDetails\": {\"resourceType\": \"sagemaker\", \"resource\": \"createTransformJob.sync\", \"output\": \"{\\\"TransformJobName\\\":\\\"regression-46248572acef11eb8fa469e76e10bb47\\\",\\\"TransformJobArn\\\":\\\"arn:aws:sagemaker:us-east-1:572539092864:transform-job/regression-46248572acef11eb8fa469e76e10bb47\\\",\\\"TransformJobStatus\\\":\\\"Completed\\\",\\\"ModelName\\\":\\\"regression-4624895aacef11eb8fa469e76e10bb47\\\",\\\"MaxConcurrentTransforms\\\":0.0,\\\"MaxPayloadInMB\\\":0.0,\\\"TransformInput\\\":{\\\"DataSource\\\":{\\\"S3DataSource\\\":{\\\"S3DataType\\\":\\\"S3_PREFIX\\\",\\\"S3Uri\\\":\\\"https://s3-us-east-1.amazonaws.com/sagemaker-us-east-1-572539092864/sagemaker/DEMO-xgboost-regression/test\\\"}},\\\"ContentType\\\":\\\"text/libsvm\\\",\\\"CompressionType\\\":\\\"NONE\\\",\\\"SplitType\\\":\\\"NONE\\\"},\\\"TransformOutput\\\":{\\\"S3OutputPath\\\":\\\"s3://sagemaker-us-east-1-572539092864/sagemaker-xgboost-2021-05-04-15-40-56-742\\\",\\\"AssembleWith\\\":\\\"NONE\\\"},\\\"TransformResources\\\":{\\\"InstanceType\\\":\\\"ml.m5.large\\\",\\\"InstanceCount\\\":1.0},\\\"CreationTime\\\":1.620143146E12,\\\"TransformStartTime\\\":1.620143351E12,\\\"TransformEndTime\\\":1.620143434E12,\\\"DataProcessing\\\":{\\\"InputFilter\\\":\\\"$\\\",\\\"OutputFilter\\\":\\\"$\\\",\\\"JoinSource\\\":\\\"NONE\\\"},\\\"ExperimentConfig\\\":{},\\\"Tags\\\":{\\\"AWS_STEP_FUNCTIONS_EXECUTION_ARN\\\":\\\"arn:aws:states:us-east-1:572539092864:execution:MyTrainTransformDeploy_v1:c0aea278-47f8-46c0-846b-d113c917f441\\\",\\\"MANAGED_BY_AWS\\\":\\\"STARTED_BY_STEP_FUNCTIONS\\\"}}\", \"outputDetails\": {\"truncated\": false}}}, {\"timestamp\": 1620143437.126, \"type\": \"TaskStateExited\", \"id\": 18, \"previousEventId\": 17, \"stateExitedEventDetails\": {\"name\": \"Transform Input Dataset\", \"output\": \"{\\\"TransformJobName\\\":\\\"regression-46248572acef11eb8fa469e76e10bb47\\\",\\\"TransformJobArn\\\":\\\"arn:aws:sagemaker:us-east-1:572539092864:transform-job/regression-46248572acef11eb8fa469e76e10bb47\\\",\\\"TransformJobStatus\\\":\\\"Completed\\\",\\\"ModelName\\\":\\\"regression-4624895aacef11eb8fa469e76e10bb47\\\",\\\"MaxConcurrentTransforms\\\":0.0,\\\"MaxPayloadInMB\\\":0.0,\\\"TransformInput\\\":{\\\"DataSource\\\":{\\\"S3DataSource\\\":{\\\"S3DataType\\\":\\\"S3_PREFIX\\\",\\\"S3Uri\\\":\\\"https://s3-us-east-1.amazonaws.com/sagemaker-us-east-1-572539092864/sagemaker/DEMO-xgboost-regression/test\\\"}},\\\"ContentType\\\":\\\"text/libsvm\\\",\\\"CompressionType\\\":\\\"NONE\\\",\\\"SplitType\\\":\\\"NONE\\\"},\\\"TransformOutput\\\":{\\\"S3OutputPath\\\":\\\"s3://sagemaker-us-east-1-572539092864/sagemaker-xgboost-2021-05-04-15-40-56-742\\\",\\\"AssembleWith\\\":\\\"NONE\\\"},\\\"TransformResources\\\":{\\\"InstanceType\\\":\\\"ml.m5.large\\\",\\\"InstanceCount\\\":1.0},\\\"CreationTime\\\":1.620143146E12,\\\"TransformStartTime\\\":1.620143351E12,\\\"TransformEndTime\\\":1.620143434E12,\\\"DataProcessing\\\":{\\\"InputFilter\\\":\\\"$\\\",\\\"OutputFilter\\\":\\\"$\\\",\\\"JoinSource\\\":\\\"NONE\\\"},\\\"ExperimentConfig\\\":{},\\\"Tags\\\":{\\\"AWS_STEP_FUNCTIONS_EXECUTION_ARN\\\":\\\"arn:aws:states:us-east-1:572539092864:execution:MyTrainTransformDeploy_v1:c0aea278-47f8-46c0-846b-d113c917f441\\\",\\\"MANAGED_BY_AWS\\\":\\\"STARTED_BY_STEP_FUNCTIONS\\\"}}\", \"outputDetails\": {\"truncated\": false}}}, {\"timestamp\": 1620143437.135, \"type\": \"TaskStateEntered\", \"id\": 19, \"previousEventId\": 18, \"stateEnteredEventDetails\": {\"name\": \"Create Endpoint Config\", \"input\": \"{\\\"TransformJobName\\\":\\\"regression-46248572acef11eb8fa469e76e10bb47\\\",\\\"TransformJobArn\\\":\\\"arn:aws:sagemaker:us-east-1:572539092864:transform-job/regression-46248572acef11eb8fa469e76e10bb47\\\",\\\"TransformJobStatus\\\":\\\"Completed\\\",\\\"ModelName\\\":\\\"regression-4624895aacef11eb8fa469e76e10bb47\\\",\\\"MaxConcurrentTransforms\\\":0.0,\\\"MaxPayloadInMB\\\":0.0,\\\"TransformInput\\\":{\\\"DataSource\\\":{\\\"S3DataSource\\\":{\\\"S3DataType\\\":\\\"S3_PREFIX\\\",\\\"S3Uri\\\":\\\"https://s3-us-east-1.amazonaws.com/sagemaker-us-east-1-572539092864/sagemaker/DEMO-xgboost-regression/test\\\"}},\\\"ContentType\\\":\\\"text/libsvm\\\",\\\"CompressionType\\\":\\\"NONE\\\",\\\"SplitType\\\":\\\"NONE\\\"},\\\"TransformOutput\\\":{\\\"S3OutputPath\\\":\\\"s3://sagemaker-us-east-1-572539092864/sagemaker-xgboost-2021-05-04-15-40-56-742\\\",\\\"AssembleWith\\\":\\\"NONE\\\"},\\\"TransformResources\\\":{\\\"InstanceType\\\":\\\"ml.m5.large\\\",\\\"InstanceCount\\\":1.0},\\\"CreationTime\\\":1.620143146E12,\\\"TransformStartTime\\\":1.620143351E12,\\\"TransformEndTime\\\":1.620143434E12,\\\"DataProcessing\\\":{\\\"InputFilter\\\":\\\"$\\\",\\\"OutputFilter\\\":\\\"$\\\",\\\"JoinSource\\\":\\\"NONE\\\"},\\\"ExperimentConfig\\\":{},\\\"Tags\\\":{\\\"AWS_STEP_FUNCTIONS_EXECUTION_ARN\\\":\\\"arn:aws:states:us-east-1:572539092864:execution:MyTrainTransformDeploy_v1:c0aea278-47f8-46c0-846b-d113c917f441\\\",\\\"MANAGED_BY_AWS\\\":\\\"STARTED_BY_STEP_FUNCTIONS\\\"}}\", \"inputDetails\": {\"truncated\": false}}}, {\"timestamp\": 1620143437.135, \"type\": \"TaskScheduled\", \"id\": 20, \"previousEventId\": 19, \"taskScheduledEventDetails\": {\"resourceType\": \"sagemaker\", \"resource\": \"createEndpointConfig\", \"region\": \"us-east-1\", \"parameters\": \"{\\\"ProductionVariants\\\":[{\\\"InitialInstanceCount\\\":1,\\\"InstanceType\\\":\\\"ml.m5.large\\\",\\\"VariantName\\\":\\\"AllTraffic\\\",\\\"ModelName\\\":\\\"regression-4624895aacef11eb8fa469e76e10bb47\\\"}],\\\"EndpointConfigName\\\":\\\"regression-4624895aacef11eb8fa469e76e10bb47\\\"}\"}}, {\"timestamp\": 1620143437.143, \"type\": \"TaskStarted\", \"id\": 21, \"previousEventId\": 20, \"taskStartedEventDetails\": {\"resourceType\": \"sagemaker\", \"resource\": \"createEndpointConfig\"}}, {\"timestamp\": 1620143437.226, \"type\": \"TaskSucceeded\", \"id\": 22, \"previousEventId\": 21, \"taskSucceededEventDetails\": {\"resourceType\": \"sagemaker\", \"resource\": \"createEndpointConfig\", \"output\": \"{\\\"EndpointConfigArn\\\":\\\"arn:aws:sagemaker:us-east-1:572539092864:endpoint-config/regression-4624895aacef11eb8fa469e76e10bb47\\\",\\\"SdkHttpMetadata\\\":{\\\"AllHttpHeaders\\\":{\\\"x-amzn-RequestId\\\":[\\\"b57f410c-6477-488e-aa05-02ec76edb789\\\"],\\\"Content-Length\\\":[\\\"124\\\"],\\\"Date\\\":[\\\"Tue, 04 May 2021 15:50:37 GMT\\\"],\\\"Content-Type\\\":[\\\"application/x-amz-json-1.1\\\"]},\\\"HttpHeaders\\\":{\\\"Content-Length\\\":\\\"124\\\",\\\"Content-Type\\\":\\\"application/x-amz-json-1.1\\\",\\\"Date\\\":\\\"Tue, 04 May 2021 15:50:37 GMT\\\",\\\"x-amzn-RequestId\\\":\\\"b57f410c-6477-488e-aa05-02ec76edb789\\\"},\\\"HttpStatusCode\\\":200},\\\"SdkResponseMetadata\\\":{\\\"RequestId\\\":\\\"b57f410c-6477-488e-aa05-02ec76edb789\\\"}}\", \"outputDetails\": {\"truncated\": false}}}, {\"timestamp\": 1620143437.226, \"type\": \"TaskStateExited\", \"id\": 23, \"previousEventId\": 22, \"stateExitedEventDetails\": {\"name\": \"Create Endpoint Config\", \"output\": \"{\\\"EndpointConfigArn\\\":\\\"arn:aws:sagemaker:us-east-1:572539092864:endpoint-config/regression-4624895aacef11eb8fa469e76e10bb47\\\",\\\"SdkHttpMetadata\\\":{\\\"AllHttpHeaders\\\":{\\\"x-amzn-RequestId\\\":[\\\"b57f410c-6477-488e-aa05-02ec76edb789\\\"],\\\"Content-Length\\\":[\\\"124\\\"],\\\"Date\\\":[\\\"Tue, 04 May 2021 15:50:37 GMT\\\"],\\\"Content-Type\\\":[\\\"application/x-amz-json-1.1\\\"]},\\\"HttpHeaders\\\":{\\\"Content-Length\\\":\\\"124\\\",\\\"Content-Type\\\":\\\"application/x-amz-json-1.1\\\",\\\"Date\\\":\\\"Tue, 04 May 2021 15:50:37 GMT\\\",\\\"x-amzn-RequestId\\\":\\\"b57f410c-6477-488e-aa05-02ec76edb789\\\"},\\\"HttpStatusCode\\\":200},\\\"SdkResponseMetadata\\\":{\\\"RequestId\\\":\\\"b57f410c-6477-488e-aa05-02ec76edb789\\\"}}\", \"outputDetails\": {\"truncated\": false}}}, {\"timestamp\": 1620143437.301, \"type\": \"TaskStateEntered\", \"id\": 24, \"previousEventId\": 23, \"stateEnteredEventDetails\": {\"name\": \"Create Endpoint\", \"input\": \"{\\\"EndpointConfigArn\\\":\\\"arn:aws:sagemaker:us-east-1:572539092864:endpoint-config/regression-4624895aacef11eb8fa469e76e10bb47\\\",\\\"SdkHttpMetadata\\\":{\\\"AllHttpHeaders\\\":{\\\"x-amzn-RequestId\\\":[\\\"b57f410c-6477-488e-aa05-02ec76edb789\\\"],\\\"Content-Length\\\":[\\\"124\\\"],\\\"Date\\\":[\\\"Tue, 04 May 2021 15:50:37 GMT\\\"],\\\"Content-Type\\\":[\\\"application/x-amz-json-1.1\\\"]},\\\"HttpHeaders\\\":{\\\"Content-Length\\\":\\\"124\\\",\\\"Content-Type\\\":\\\"application/x-amz-json-1.1\\\",\\\"Date\\\":\\\"Tue, 04 May 2021 15:50:37 GMT\\\",\\\"x-amzn-RequestId\\\":\\\"b57f410c-6477-488e-aa05-02ec76edb789\\\"},\\\"HttpStatusCode\\\":200},\\\"SdkResponseMetadata\\\":{\\\"RequestId\\\":\\\"b57f410c-6477-488e-aa05-02ec76edb789\\\"}}\", \"inputDetails\": {\"truncated\": false}}}, {\"timestamp\": 1620143437.301, \"type\": \"TaskScheduled\", \"id\": 25, \"previousEventId\": 24, \"taskScheduledEventDetails\": {\"resourceType\": \"sagemaker\", \"resource\": \"createEndpoint\", \"region\": \"us-east-1\", \"parameters\": \"{\\\"EndpointName\\\":\\\"regression-462489b4acef11eb8fa469e76e10bb47\\\",\\\"EndpointConfigName\\\":\\\"regression-4624895aacef11eb8fa469e76e10bb47\\\"}\"}}, {\"timestamp\": 1620143437.309, \"type\": \"TaskStarted\", \"id\": 26, \"previousEventId\": 25, \"taskStartedEventDetails\": {\"resourceType\": \"sagemaker\", \"resource\": \"createEndpoint\"}}, {\"timestamp\": 1620143437.84, \"type\": \"TaskSucceeded\", \"id\": 27, \"previousEventId\": 26, \"taskSucceededEventDetails\": {\"resourceType\": \"sagemaker\", \"resource\": \"createEndpoint\", \"output\": \"{\\\"EndpointArn\\\":\\\"arn:aws:sagemaker:us-east-1:572539092864:endpoint/regression-462489b4acef11eb8fa469e76e10bb47\\\",\\\"SdkHttpMetadata\\\":{\\\"AllHttpHeaders\\\":{\\\"x-amzn-RequestId\\\":[\\\"0701ffb7-2345-4a74-8c1c-af32e5e5173c\\\"],\\\"Content-Length\\\":[\\\"111\\\"],\\\"Date\\\":[\\\"Tue, 04 May 2021 15:50:37 GMT\\\"],\\\"Content-Type\\\":[\\\"application/x-amz-json-1.1\\\"]},\\\"HttpHeaders\\\":{\\\"Content-Length\\\":\\\"111\\\",\\\"Content-Type\\\":\\\"application/x-amz-json-1.1\\\",\\\"Date\\\":\\\"Tue, 04 May 2021 15:50:37 GMT\\\",\\\"x-amzn-RequestId\\\":\\\"0701ffb7-2345-4a74-8c1c-af32e5e5173c\\\"},\\\"HttpStatusCode\\\":200},\\\"SdkResponseMetadata\\\":{\\\"RequestId\\\":\\\"0701ffb7-2345-4a74-8c1c-af32e5e5173c\\\"}}\", \"outputDetails\": {\"truncated\": false}}}, {\"timestamp\": 1620143437.84, \"type\": \"TaskStateExited\", \"id\": 28, \"previousEventId\": 27, \"stateExitedEventDetails\": {\"name\": \"Create Endpoint\", \"output\": \"{\\\"EndpointArn\\\":\\\"arn:aws:sagemaker:us-east-1:572539092864:endpoint/regression-462489b4acef11eb8fa469e76e10bb47\\\",\\\"SdkHttpMetadata\\\":{\\\"AllHttpHeaders\\\":{\\\"x-amzn-RequestId\\\":[\\\"0701ffb7-2345-4a74-8c1c-af32e5e5173c\\\"],\\\"Content-Length\\\":[\\\"111\\\"],\\\"Date\\\":[\\\"Tue, 04 May 2021 15:50:37 GMT\\\"],\\\"Content-Type\\\":[\\\"application/x-amz-json-1.1\\\"]},\\\"HttpHeaders\\\":{\\\"Content-Length\\\":\\\"111\\\",\\\"Content-Type\\\":\\\"application/x-amz-json-1.1\\\",\\\"Date\\\":\\\"Tue, 04 May 2021 15:50:37 GMT\\\",\\\"x-amzn-RequestId\\\":\\\"0701ffb7-2345-4a74-8c1c-af32e5e5173c\\\"},\\\"HttpStatusCode\\\":200},\\\"SdkResponseMetadata\\\":{\\\"RequestId\\\":\\\"0701ffb7-2345-4a74-8c1c-af32e5e5173c\\\"}}\", \"outputDetails\": {\"truncated\": false}}}, {\"timestamp\": 1620143437.84, \"type\": \"ExecutionSucceeded\", \"id\": 29, \"previousEventId\": 28, \"executionSucceededEventDetails\": {\"output\": \"{\\\"EndpointArn\\\":\\\"arn:aws:sagemaker:us-east-1:572539092864:endpoint/regression-462489b4acef11eb8fa469e76e10bb47\\\",\\\"SdkHttpMetadata\\\":{\\\"AllHttpHeaders\\\":{\\\"x-amzn-RequestId\\\":[\\\"0701ffb7-2345-4a74-8c1c-af32e5e5173c\\\"],\\\"Content-Length\\\":[\\\"111\\\"],\\\"Date\\\":[\\\"Tue, 04 May 2021 15:50:37 GMT\\\"],\\\"Content-Type\\\":[\\\"application/x-amz-json-1.1\\\"]},\\\"HttpHeaders\\\":{\\\"Content-Length\\\":\\\"111\\\",\\\"Content-Type\\\":\\\"application/x-amz-json-1.1\\\",\\\"Date\\\":\\\"Tue, 04 May 2021 15:50:37 GMT\\\",\\\"x-amzn-RequestId\\\":\\\"0701ffb7-2345-4a74-8c1c-af32e5e5173c\\\"},\\\"HttpStatusCode\\\":200},\\\"SdkResponseMetadata\\\":{\\\"RequestId\\\":\\\"0701ffb7-2345-4a74-8c1c-af32e5e5173c\\\"}}\", \"outputDetails\": {\"truncated\": false}}}] };\n",
       "\n",
       "    var graph = new sfn.StateMachineExecutionGraph(definition, events, elementId, options);\n",
       "    graph.render();\n",
       "});\n",
       "\n",
       "</script>\n"
      ],
      "text/plain": [
       "<IPython.core.display.HTML object>"
      ]
     },
     "execution_count": 20,
     "metadata": {},
     "output_type": "execute_result"
    }
   ],
   "source": [
    "execution.render_progress()"
   ]
  },
  {
   "cell_type": "markdown",
   "metadata": {},
   "source": [
    "Use [list_events](https://aws-step-functions-data-science-sdk.readthedocs.io/en/latest/workflow.html#stepfunctions.workflow.Execution.list_events) to list all events in the workflow execution."
   ]
  },
  {
   "cell_type": "code",
   "execution_count": 22,
   "metadata": {
    "scrolled": false
   },
   "outputs": [
    {
     "data": {
      "text/plain": [
       "[{'timestamp': datetime.datetime(2021, 5, 4, 15, 42, 3, 933000, tzinfo=tzlocal()),\n",
       "  'type': 'ExecutionStarted',\n",
       "  'id': 1,\n",
       "  'previousEventId': 0,\n",
       "  'executionStartedEventDetails': {'input': '{\\n    \"JobName\": \"regression-46248572acef11eb8fa469e76e10bb47\",\\n    \"ModelName\": \"regression-4624895aacef11eb8fa469e76e10bb47\",\\n    \"EndpointName\": \"regression-462489b4acef11eb8fa469e76e10bb47\"\\n}',\n",
       "   'inputDetails': {'truncated': False},\n",
       "   'roleArn': 'arn:aws:iam::572539092864:role/StepFunctionsWorkflowExecutionRole'}},\n",
       " {'timestamp': datetime.datetime(2021, 5, 4, 15, 42, 3, 968000, tzinfo=tzlocal()),\n",
       "  'type': 'TaskStateEntered',\n",
       "  'id': 2,\n",
       "  'previousEventId': 0,\n",
       "  'stateEnteredEventDetails': {'name': 'Train Step',\n",
       "   'input': '{\\n    \"JobName\": \"regression-46248572acef11eb8fa469e76e10bb47\",\\n    \"ModelName\": \"regression-4624895aacef11eb8fa469e76e10bb47\",\\n    \"EndpointName\": \"regression-462489b4acef11eb8fa469e76e10bb47\"\\n}',\n",
       "   'inputDetails': {'truncated': False}}},\n",
       " {'timestamp': datetime.datetime(2021, 5, 4, 15, 42, 3, 968000, tzinfo=tzlocal()),\n",
       "  'type': 'TaskScheduled',\n",
       "  'id': 3,\n",
       "  'previousEventId': 2,\n",
       "  'taskScheduledEventDetails': {'resourceType': 'sagemaker',\n",
       "   'resource': 'createTrainingJob.sync',\n",
       "   'region': 'us-east-1',\n",
       "   'parameters': '{\"AlgorithmSpecification\":{\"TrainingImage\":\"683313688378.dkr.ecr.us-east-1.amazonaws.com/sagemaker-xgboost:1.2-1\",\"TrainingInputMode\":\"File\"},\"OutputDataConfig\":{\"S3OutputPath\":\"https://s3-us-east-1.amazonaws.com/sagemaker-us-east-1-572539092864/sagemaker/DEMO-xgboost-regression/single-xgboost\"},\"StoppingCondition\":{\"MaxRuntimeInSeconds\":86400},\"ResourceConfig\":{\"InstanceCount\":1,\"InstanceType\":\"ml.m4.4xlarge\",\"VolumeSizeInGB\":5},\"RoleArn\":\"arn:aws:iam::572539092864:role/service-role/AmazonSageMaker-ExecutionRole-20200407T174741\",\"InputDataConfig\":[{\"DataSource\":{\"S3DataSource\":{\"S3DataType\":\"S3Prefix\",\"S3Uri\":\"https://s3-us-east-1.amazonaws.com/sagemaker-us-east-1-572539092864/sagemaker/DEMO-xgboost-regression/train\",\"S3DataDistributionType\":\"FullyReplicated\"}},\"ContentType\":\"text/libsvm\",\"ChannelName\":\"train\"},{\"DataSource\":{\"S3DataSource\":{\"S3DataType\":\"S3Prefix\",\"S3Uri\":\"https://s3-us-east-1.amazonaws.com/sagemaker-us-east-1-572539092864/sagemaker/DEMO-xgboost-regression/validation\",\"S3DataDistributionType\":\"FullyReplicated\"}},\"ContentType\":\"text/libsvm\",\"ChannelName\":\"validation\"}],\"HyperParameters\":{\"objective\":\"reg:linear\",\"num_round\":\"50\",\"max_depth\":\"5\",\"eta\":\"0.2\",\"gamma\":\"4\",\"min_child_weight\":\"6\",\"subsample\":\"0.7\"},\"TrainingJobName\":\"regression-46248572acef11eb8fa469e76e10bb47\",\"Tags\":[{\"Key\":\"MANAGED_BY_AWS\",\"Value\":\"STARTED_BY_STEP_FUNCTIONS\"}]}'}},\n",
       " {'timestamp': datetime.datetime(2021, 5, 4, 15, 42, 4, 42000, tzinfo=tzlocal()),\n",
       "  'type': 'TaskStarted',\n",
       "  'id': 4,\n",
       "  'previousEventId': 3,\n",
       "  'taskStartedEventDetails': {'resourceType': 'sagemaker',\n",
       "   'resource': 'createTrainingJob.sync'}},\n",
       " {'timestamp': datetime.datetime(2021, 5, 4, 15, 42, 4, 264000, tzinfo=tzlocal()),\n",
       "  'type': 'TaskSubmitted',\n",
       "  'id': 5,\n",
       "  'previousEventId': 4,\n",
       "  'taskSubmittedEventDetails': {'resourceType': 'sagemaker',\n",
       "   'resource': 'createTrainingJob.sync',\n",
       "   'output': '{\"SdkHttpMetadata\":{\"AllHttpHeaders\":{\"x-amzn-RequestId\":[\"8c0899b8-0662-4282-950b-7e7e8fc4ac77\"],\"Content-Length\":[\"118\"],\"Date\":[\"Tue, 04 May 2021 15:42:04 GMT\"],\"Content-Type\":[\"application/x-amz-json-1.1\"]},\"HttpHeaders\":{\"Content-Length\":\"118\",\"Content-Type\":\"application/x-amz-json-1.1\",\"Date\":\"Tue, 04 May 2021 15:42:04 GMT\",\"x-amzn-RequestId\":\"8c0899b8-0662-4282-950b-7e7e8fc4ac77\"},\"HttpStatusCode\":200},\"SdkResponseMetadata\":{\"RequestId\":\"8c0899b8-0662-4282-950b-7e7e8fc4ac77\"},\"TrainingJobArn\":\"arn:aws:sagemaker:us-east-1:572539092864:training-job/regression-46248572acef11eb8fa469e76e10bb47\"}',\n",
       "   'outputDetails': {'truncated': False}}},\n",
       " {'timestamp': datetime.datetime(2021, 5, 4, 15, 45, 45, 40000, tzinfo=tzlocal()),\n",
       "  'type': 'TaskSucceeded',\n",
       "  'id': 6,\n",
       "  'previousEventId': 5,\n",
       "  'taskSucceededEventDetails': {'resourceType': 'sagemaker',\n",
       "   'resource': 'createTrainingJob.sync',\n",
       "   'output': '{\"TrainingJobName\":\"regression-46248572acef11eb8fa469e76e10bb47\",\"TrainingJobArn\":\"arn:aws:sagemaker:us-east-1:572539092864:training-job/regression-46248572acef11eb8fa469e76e10bb47\",\"ModelArtifacts\":{\"S3ModelArtifacts\":\"https://s3-us-east-1.amazonaws.com/sagemaker-us-east-1-572539092864/sagemaker/DEMO-xgboost-regression/single-xgboost/regression-46248572acef11eb8fa469e76e10bb47/output/model.tar.gz\"},\"TrainingJobStatus\":\"Completed\",\"SecondaryStatus\":\"Completed\",\"HyperParameters\":{\"eta\":\"0.2\",\"max_depth\":\"5\",\"num_round\":\"50\",\"subsample\":\"0.7\",\"gamma\":\"4\",\"min_child_weight\":\"6\",\"objective\":\"reg:linear\"},\"AlgorithmSpecification\":{\"TrainingImage\":\"683313688378.dkr.ecr.us-east-1.amazonaws.com/sagemaker-xgboost:1.2-1\",\"TrainingInputMode\":\"FILE\"},\"RoleArn\":\"arn:aws:iam::572539092864:role/service-role/AmazonSageMaker-ExecutionRole-20200407T174741\",\"InputDataConfig\":[{\"ChannelName\":\"train\",\"DataSource\":{\"S3DataSource\":{\"S3DataType\":\"S3_PREFIX\",\"S3Uri\":\"https://s3-us-east-1.amazonaws.com/sagemaker-us-east-1-572539092864/sagemaker/DEMO-xgboost-regression/train\",\"S3DataDistributionType\":\"FULLY_REPLICATED\"}},\"ContentType\":\"text/libsvm\",\"CompressionType\":\"NONE\",\"RecordWrapperType\":\"NONE\"},{\"ChannelName\":\"validation\",\"DataSource\":{\"S3DataSource\":{\"S3DataType\":\"S3_PREFIX\",\"S3Uri\":\"https://s3-us-east-1.amazonaws.com/sagemaker-us-east-1-572539092864/sagemaker/DEMO-xgboost-regression/validation\",\"S3DataDistributionType\":\"FULLY_REPLICATED\"}},\"ContentType\":\"text/libsvm\",\"CompressionType\":\"NONE\",\"RecordWrapperType\":\"NONE\"}],\"OutputDataConfig\":{\"S3OutputPath\":\"https://s3-us-east-1.amazonaws.com/sagemaker-us-east-1-572539092864/sagemaker/DEMO-xgboost-regression/single-xgboost\"},\"ResourceConfig\":{\"InstanceType\":\"ml.m4.4xlarge\",\"InstanceCount\":1.0,\"VolumeSizeInGB\":5.0},\"StoppingCondition\":{\"MaxRuntimeInSeconds\":86400.0},\"CreationTime\":1.62014292423E12,\"TrainingStartTime\":1.620143080546E12,\"TrainingEndTime\":1.620143140804E12,\"LastModifiedTime\":1.620143140804E12,\"SecondaryStatusTransitions\":[{\"Status\":\"Starting\",\"StartTime\":1.62014292423E12,\"EndTime\":1.620143080546E12,\"StatusMessage\":\"Preparing the instances for training\"},{\"Status\":\"Downloading\",\"StartTime\":1.620143080546E12,\"EndTime\":1.62014310595E12,\"StatusMessage\":\"Downloading input data\"},{\"Status\":\"Training\",\"StartTime\":1.62014310595E12,\"EndTime\":1.620143133338E12,\"StatusMessage\":\"Training image download completed. Training in progress.\"},{\"Status\":\"Uploading\",\"StartTime\":1.620143133338E12,\"EndTime\":1.620143140804E12,\"StatusMessage\":\"Uploading generated training model\"},{\"Status\":\"Completed\",\"StartTime\":1.620143140804E12,\"EndTime\":1.620143140804E12,\"StatusMessage\":\"Training job completed\"}],\"Tags\":{\"AWS_STEP_FUNCTIONS_EXECUTION_ARN\":\"arn:aws:states:us-east-1:572539092864:execution:MyTrainTransformDeploy_v1:c0aea278-47f8-46c0-846b-d113c917f441\",\"MANAGED_BY_AWS\":\"STARTED_BY_STEP_FUNCTIONS\"}}',\n",
       "   'outputDetails': {'truncated': False}}},\n",
       " {'timestamp': datetime.datetime(2021, 5, 4, 15, 45, 45, 40000, tzinfo=tzlocal()),\n",
       "  'type': 'TaskStateExited',\n",
       "  'id': 7,\n",
       "  'previousEventId': 6,\n",
       "  'stateExitedEventDetails': {'name': 'Train Step',\n",
       "   'output': '{\"TrainingJobName\":\"regression-46248572acef11eb8fa469e76e10bb47\",\"TrainingJobArn\":\"arn:aws:sagemaker:us-east-1:572539092864:training-job/regression-46248572acef11eb8fa469e76e10bb47\",\"ModelArtifacts\":{\"S3ModelArtifacts\":\"https://s3-us-east-1.amazonaws.com/sagemaker-us-east-1-572539092864/sagemaker/DEMO-xgboost-regression/single-xgboost/regression-46248572acef11eb8fa469e76e10bb47/output/model.tar.gz\"},\"TrainingJobStatus\":\"Completed\",\"SecondaryStatus\":\"Completed\",\"HyperParameters\":{\"eta\":\"0.2\",\"max_depth\":\"5\",\"num_round\":\"50\",\"subsample\":\"0.7\",\"gamma\":\"4\",\"min_child_weight\":\"6\",\"objective\":\"reg:linear\"},\"AlgorithmSpecification\":{\"TrainingImage\":\"683313688378.dkr.ecr.us-east-1.amazonaws.com/sagemaker-xgboost:1.2-1\",\"TrainingInputMode\":\"FILE\"},\"RoleArn\":\"arn:aws:iam::572539092864:role/service-role/AmazonSageMaker-ExecutionRole-20200407T174741\",\"InputDataConfig\":[{\"ChannelName\":\"train\",\"DataSource\":{\"S3DataSource\":{\"S3DataType\":\"S3_PREFIX\",\"S3Uri\":\"https://s3-us-east-1.amazonaws.com/sagemaker-us-east-1-572539092864/sagemaker/DEMO-xgboost-regression/train\",\"S3DataDistributionType\":\"FULLY_REPLICATED\"}},\"ContentType\":\"text/libsvm\",\"CompressionType\":\"NONE\",\"RecordWrapperType\":\"NONE\"},{\"ChannelName\":\"validation\",\"DataSource\":{\"S3DataSource\":{\"S3DataType\":\"S3_PREFIX\",\"S3Uri\":\"https://s3-us-east-1.amazonaws.com/sagemaker-us-east-1-572539092864/sagemaker/DEMO-xgboost-regression/validation\",\"S3DataDistributionType\":\"FULLY_REPLICATED\"}},\"ContentType\":\"text/libsvm\",\"CompressionType\":\"NONE\",\"RecordWrapperType\":\"NONE\"}],\"OutputDataConfig\":{\"S3OutputPath\":\"https://s3-us-east-1.amazonaws.com/sagemaker-us-east-1-572539092864/sagemaker/DEMO-xgboost-regression/single-xgboost\"},\"ResourceConfig\":{\"InstanceType\":\"ml.m4.4xlarge\",\"InstanceCount\":1.0,\"VolumeSizeInGB\":5.0},\"StoppingCondition\":{\"MaxRuntimeInSeconds\":86400.0},\"CreationTime\":1.62014292423E12,\"TrainingStartTime\":1.620143080546E12,\"TrainingEndTime\":1.620143140804E12,\"LastModifiedTime\":1.620143140804E12,\"SecondaryStatusTransitions\":[{\"Status\":\"Starting\",\"StartTime\":1.62014292423E12,\"EndTime\":1.620143080546E12,\"StatusMessage\":\"Preparing the instances for training\"},{\"Status\":\"Downloading\",\"StartTime\":1.620143080546E12,\"EndTime\":1.62014310595E12,\"StatusMessage\":\"Downloading input data\"},{\"Status\":\"Training\",\"StartTime\":1.62014310595E12,\"EndTime\":1.620143133338E12,\"StatusMessage\":\"Training image download completed. Training in progress.\"},{\"Status\":\"Uploading\",\"StartTime\":1.620143133338E12,\"EndTime\":1.620143140804E12,\"StatusMessage\":\"Uploading generated training model\"},{\"Status\":\"Completed\",\"StartTime\":1.620143140804E12,\"EndTime\":1.620143140804E12,\"StatusMessage\":\"Training job completed\"}],\"Tags\":{\"AWS_STEP_FUNCTIONS_EXECUTION_ARN\":\"arn:aws:states:us-east-1:572539092864:execution:MyTrainTransformDeploy_v1:c0aea278-47f8-46c0-846b-d113c917f441\",\"MANAGED_BY_AWS\":\"STARTED_BY_STEP_FUNCTIONS\"}}',\n",
       "   'outputDetails': {'truncated': False}}},\n",
       " {'timestamp': datetime.datetime(2021, 5, 4, 15, 45, 45, 47000, tzinfo=tzlocal()),\n",
       "  'type': 'TaskStateEntered',\n",
       "  'id': 8,\n",
       "  'previousEventId': 7,\n",
       "  'stateEnteredEventDetails': {'name': 'Save model',\n",
       "   'input': '{\"TrainingJobName\":\"regression-46248572acef11eb8fa469e76e10bb47\",\"TrainingJobArn\":\"arn:aws:sagemaker:us-east-1:572539092864:training-job/regression-46248572acef11eb8fa469e76e10bb47\",\"ModelArtifacts\":{\"S3ModelArtifacts\":\"https://s3-us-east-1.amazonaws.com/sagemaker-us-east-1-572539092864/sagemaker/DEMO-xgboost-regression/single-xgboost/regression-46248572acef11eb8fa469e76e10bb47/output/model.tar.gz\"},\"TrainingJobStatus\":\"Completed\",\"SecondaryStatus\":\"Completed\",\"HyperParameters\":{\"eta\":\"0.2\",\"max_depth\":\"5\",\"num_round\":\"50\",\"subsample\":\"0.7\",\"gamma\":\"4\",\"min_child_weight\":\"6\",\"objective\":\"reg:linear\"},\"AlgorithmSpecification\":{\"TrainingImage\":\"683313688378.dkr.ecr.us-east-1.amazonaws.com/sagemaker-xgboost:1.2-1\",\"TrainingInputMode\":\"FILE\"},\"RoleArn\":\"arn:aws:iam::572539092864:role/service-role/AmazonSageMaker-ExecutionRole-20200407T174741\",\"InputDataConfig\":[{\"ChannelName\":\"train\",\"DataSource\":{\"S3DataSource\":{\"S3DataType\":\"S3_PREFIX\",\"S3Uri\":\"https://s3-us-east-1.amazonaws.com/sagemaker-us-east-1-572539092864/sagemaker/DEMO-xgboost-regression/train\",\"S3DataDistributionType\":\"FULLY_REPLICATED\"}},\"ContentType\":\"text/libsvm\",\"CompressionType\":\"NONE\",\"RecordWrapperType\":\"NONE\"},{\"ChannelName\":\"validation\",\"DataSource\":{\"S3DataSource\":{\"S3DataType\":\"S3_PREFIX\",\"S3Uri\":\"https://s3-us-east-1.amazonaws.com/sagemaker-us-east-1-572539092864/sagemaker/DEMO-xgboost-regression/validation\",\"S3DataDistributionType\":\"FULLY_REPLICATED\"}},\"ContentType\":\"text/libsvm\",\"CompressionType\":\"NONE\",\"RecordWrapperType\":\"NONE\"}],\"OutputDataConfig\":{\"S3OutputPath\":\"https://s3-us-east-1.amazonaws.com/sagemaker-us-east-1-572539092864/sagemaker/DEMO-xgboost-regression/single-xgboost\"},\"ResourceConfig\":{\"InstanceType\":\"ml.m4.4xlarge\",\"InstanceCount\":1.0,\"VolumeSizeInGB\":5.0},\"StoppingCondition\":{\"MaxRuntimeInSeconds\":86400.0},\"CreationTime\":1.62014292423E12,\"TrainingStartTime\":1.620143080546E12,\"TrainingEndTime\":1.620143140804E12,\"LastModifiedTime\":1.620143140804E12,\"SecondaryStatusTransitions\":[{\"Status\":\"Starting\",\"StartTime\":1.62014292423E12,\"EndTime\":1.620143080546E12,\"StatusMessage\":\"Preparing the instances for training\"},{\"Status\":\"Downloading\",\"StartTime\":1.620143080546E12,\"EndTime\":1.62014310595E12,\"StatusMessage\":\"Downloading input data\"},{\"Status\":\"Training\",\"StartTime\":1.62014310595E12,\"EndTime\":1.620143133338E12,\"StatusMessage\":\"Training image download completed. Training in progress.\"},{\"Status\":\"Uploading\",\"StartTime\":1.620143133338E12,\"EndTime\":1.620143140804E12,\"StatusMessage\":\"Uploading generated training model\"},{\"Status\":\"Completed\",\"StartTime\":1.620143140804E12,\"EndTime\":1.620143140804E12,\"StatusMessage\":\"Training job completed\"}],\"Tags\":{\"AWS_STEP_FUNCTIONS_EXECUTION_ARN\":\"arn:aws:states:us-east-1:572539092864:execution:MyTrainTransformDeploy_v1:c0aea278-47f8-46c0-846b-d113c917f441\",\"MANAGED_BY_AWS\":\"STARTED_BY_STEP_FUNCTIONS\"}}',\n",
       "   'inputDetails': {'truncated': False}}},\n",
       " {'timestamp': datetime.datetime(2021, 5, 4, 15, 45, 45, 47000, tzinfo=tzlocal()),\n",
       "  'type': 'TaskScheduled',\n",
       "  'id': 9,\n",
       "  'previousEventId': 8,\n",
       "  'taskScheduledEventDetails': {'resourceType': 'sagemaker',\n",
       "   'resource': 'createModel',\n",
       "   'region': 'us-east-1',\n",
       "   'parameters': '{\"ExecutionRoleArn\":\"arn:aws:iam::572539092864:role/service-role/AmazonSageMaker-ExecutionRole-20200407T174741\",\"PrimaryContainer\":{\"Environment\":{},\"Image\":\"683313688378.dkr.ecr.us-east-1.amazonaws.com/sagemaker-xgboost:1.2-1\",\"ModelDataUrl\":\"https://s3-us-east-1.amazonaws.com/sagemaker-us-east-1-572539092864/sagemaker/DEMO-xgboost-regression/single-xgboost/regression-46248572acef11eb8fa469e76e10bb47/output/model.tar.gz\"},\"ModelName\":\"regression-4624895aacef11eb8fa469e76e10bb47\"}'}},\n",
       " {'timestamp': datetime.datetime(2021, 5, 4, 15, 45, 45, 57000, tzinfo=tzlocal()),\n",
       "  'type': 'TaskStarted',\n",
       "  'id': 10,\n",
       "  'previousEventId': 9,\n",
       "  'taskStartedEventDetails': {'resourceType': 'sagemaker',\n",
       "   'resource': 'createModel'}},\n",
       " {'timestamp': datetime.datetime(2021, 5, 4, 15, 45, 45, 453000, tzinfo=tzlocal()),\n",
       "  'type': 'TaskSucceeded',\n",
       "  'id': 11,\n",
       "  'previousEventId': 10,\n",
       "  'taskSucceededEventDetails': {'resourceType': 'sagemaker',\n",
       "   'resource': 'createModel',\n",
       "   'output': '{\"ModelArn\":\"arn:aws:sagemaker:us-east-1:572539092864:model/regression-4624895aacef11eb8fa469e76e10bb47\",\"SdkHttpMetadata\":{\"AllHttpHeaders\":{\"x-amzn-RequestId\":[\"0fdeb554-2a68-4e50-b182-cafc0a1adc24\"],\"Content-Length\":[\"105\"],\"Date\":[\"Tue, 04 May 2021 15:45:45 GMT\"],\"Content-Type\":[\"application/x-amz-json-1.1\"]},\"HttpHeaders\":{\"Content-Length\":\"105\",\"Content-Type\":\"application/x-amz-json-1.1\",\"Date\":\"Tue, 04 May 2021 15:45:45 GMT\",\"x-amzn-RequestId\":\"0fdeb554-2a68-4e50-b182-cafc0a1adc24\"},\"HttpStatusCode\":200},\"SdkResponseMetadata\":{\"RequestId\":\"0fdeb554-2a68-4e50-b182-cafc0a1adc24\"}}',\n",
       "   'outputDetails': {'truncated': False}}},\n",
       " {'timestamp': datetime.datetime(2021, 5, 4, 15, 45, 45, 453000, tzinfo=tzlocal()),\n",
       "  'type': 'TaskStateExited',\n",
       "  'id': 12,\n",
       "  'previousEventId': 11,\n",
       "  'stateExitedEventDetails': {'name': 'Save model',\n",
       "   'output': '{\"ModelArn\":\"arn:aws:sagemaker:us-east-1:572539092864:model/regression-4624895aacef11eb8fa469e76e10bb47\",\"SdkHttpMetadata\":{\"AllHttpHeaders\":{\"x-amzn-RequestId\":[\"0fdeb554-2a68-4e50-b182-cafc0a1adc24\"],\"Content-Length\":[\"105\"],\"Date\":[\"Tue, 04 May 2021 15:45:45 GMT\"],\"Content-Type\":[\"application/x-amz-json-1.1\"]},\"HttpHeaders\":{\"Content-Length\":\"105\",\"Content-Type\":\"application/x-amz-json-1.1\",\"Date\":\"Tue, 04 May 2021 15:45:45 GMT\",\"x-amzn-RequestId\":\"0fdeb554-2a68-4e50-b182-cafc0a1adc24\"},\"HttpStatusCode\":200},\"SdkResponseMetadata\":{\"RequestId\":\"0fdeb554-2a68-4e50-b182-cafc0a1adc24\"}}',\n",
       "   'outputDetails': {'truncated': False}}},\n",
       " {'timestamp': datetime.datetime(2021, 5, 4, 15, 45, 45, 460000, tzinfo=tzlocal()),\n",
       "  'type': 'TaskStateEntered',\n",
       "  'id': 13,\n",
       "  'previousEventId': 12,\n",
       "  'stateEnteredEventDetails': {'name': 'Transform Input Dataset',\n",
       "   'input': '{\"ModelArn\":\"arn:aws:sagemaker:us-east-1:572539092864:model/regression-4624895aacef11eb8fa469e76e10bb47\",\"SdkHttpMetadata\":{\"AllHttpHeaders\":{\"x-amzn-RequestId\":[\"0fdeb554-2a68-4e50-b182-cafc0a1adc24\"],\"Content-Length\":[\"105\"],\"Date\":[\"Tue, 04 May 2021 15:45:45 GMT\"],\"Content-Type\":[\"application/x-amz-json-1.1\"]},\"HttpHeaders\":{\"Content-Length\":\"105\",\"Content-Type\":\"application/x-amz-json-1.1\",\"Date\":\"Tue, 04 May 2021 15:45:45 GMT\",\"x-amzn-RequestId\":\"0fdeb554-2a68-4e50-b182-cafc0a1adc24\"},\"HttpStatusCode\":200},\"SdkResponseMetadata\":{\"RequestId\":\"0fdeb554-2a68-4e50-b182-cafc0a1adc24\"}}',\n",
       "   'inputDetails': {'truncated': False}}},\n",
       " {'timestamp': datetime.datetime(2021, 5, 4, 15, 45, 45, 460000, tzinfo=tzlocal()),\n",
       "  'type': 'TaskScheduled',\n",
       "  'id': 14,\n",
       "  'previousEventId': 13,\n",
       "  'taskScheduledEventDetails': {'resourceType': 'sagemaker',\n",
       "   'resource': 'createTransformJob.sync',\n",
       "   'region': 'us-east-1',\n",
       "   'parameters': '{\"TransformInput\":{\"DataSource\":{\"S3DataSource\":{\"S3DataType\":\"S3Prefix\",\"S3Uri\":\"https://s3-us-east-1.amazonaws.com/sagemaker-us-east-1-572539092864/sagemaker/DEMO-xgboost-regression/test\"}},\"ContentType\":\"text/libsvm\"},\"TransformOutput\":{\"S3OutputPath\":\"s3://sagemaker-us-east-1-572539092864/sagemaker-xgboost-2021-05-04-15-40-56-742\"},\"TransformResources\":{\"InstanceCount\":1,\"InstanceType\":\"ml.m5.large\"},\"ModelName\":\"regression-4624895aacef11eb8fa469e76e10bb47\",\"TransformJobName\":\"regression-46248572acef11eb8fa469e76e10bb47\",\"Tags\":[{\"Key\":\"MANAGED_BY_AWS\",\"Value\":\"STARTED_BY_STEP_FUNCTIONS\"}]}'}},\n",
       " {'timestamp': datetime.datetime(2021, 5, 4, 15, 45, 46, 1000, tzinfo=tzlocal()),\n",
       "  'type': 'TaskStarted',\n",
       "  'id': 15,\n",
       "  'previousEventId': 14,\n",
       "  'taskStartedEventDetails': {'resourceType': 'sagemaker',\n",
       "   'resource': 'createTransformJob.sync'}},\n",
       " {'timestamp': datetime.datetime(2021, 5, 4, 15, 45, 46, 251000, tzinfo=tzlocal()),\n",
       "  'type': 'TaskSubmitted',\n",
       "  'id': 16,\n",
       "  'previousEventId': 15,\n",
       "  'taskSubmittedEventDetails': {'resourceType': 'sagemaker',\n",
       "   'resource': 'createTransformJob.sync',\n",
       "   'output': '{\"SdkHttpMetadata\":{\"AllHttpHeaders\":{\"x-amzn-RequestId\":[\"418babcd-7e94-42e4-ad9f-f1dc2f797add\"],\"Content-Length\":[\"120\"],\"Date\":[\"Tue, 04 May 2021 15:45:46 GMT\"],\"Content-Type\":[\"application/x-amz-json-1.1\"]},\"HttpHeaders\":{\"Content-Length\":\"120\",\"Content-Type\":\"application/x-amz-json-1.1\",\"Date\":\"Tue, 04 May 2021 15:45:46 GMT\",\"x-amzn-RequestId\":\"418babcd-7e94-42e4-ad9f-f1dc2f797add\"},\"HttpStatusCode\":200},\"SdkResponseMetadata\":{\"RequestId\":\"418babcd-7e94-42e4-ad9f-f1dc2f797add\"},\"TransformJobArn\":\"arn:aws:sagemaker:us-east-1:572539092864:transform-job/regression-46248572acef11eb8fa469e76e10bb47\"}',\n",
       "   'outputDetails': {'truncated': False}}},\n",
       " {'timestamp': datetime.datetime(2021, 5, 4, 15, 50, 37, 126000, tzinfo=tzlocal()),\n",
       "  'type': 'TaskSucceeded',\n",
       "  'id': 17,\n",
       "  'previousEventId': 16,\n",
       "  'taskSucceededEventDetails': {'resourceType': 'sagemaker',\n",
       "   'resource': 'createTransformJob.sync',\n",
       "   'output': '{\"TransformJobName\":\"regression-46248572acef11eb8fa469e76e10bb47\",\"TransformJobArn\":\"arn:aws:sagemaker:us-east-1:572539092864:transform-job/regression-46248572acef11eb8fa469e76e10bb47\",\"TransformJobStatus\":\"Completed\",\"ModelName\":\"regression-4624895aacef11eb8fa469e76e10bb47\",\"MaxConcurrentTransforms\":0.0,\"MaxPayloadInMB\":0.0,\"TransformInput\":{\"DataSource\":{\"S3DataSource\":{\"S3DataType\":\"S3_PREFIX\",\"S3Uri\":\"https://s3-us-east-1.amazonaws.com/sagemaker-us-east-1-572539092864/sagemaker/DEMO-xgboost-regression/test\"}},\"ContentType\":\"text/libsvm\",\"CompressionType\":\"NONE\",\"SplitType\":\"NONE\"},\"TransformOutput\":{\"S3OutputPath\":\"s3://sagemaker-us-east-1-572539092864/sagemaker-xgboost-2021-05-04-15-40-56-742\",\"AssembleWith\":\"NONE\"},\"TransformResources\":{\"InstanceType\":\"ml.m5.large\",\"InstanceCount\":1.0},\"CreationTime\":1.620143146E12,\"TransformStartTime\":1.620143351E12,\"TransformEndTime\":1.620143434E12,\"DataProcessing\":{\"InputFilter\":\"$\",\"OutputFilter\":\"$\",\"JoinSource\":\"NONE\"},\"ExperimentConfig\":{},\"Tags\":{\"AWS_STEP_FUNCTIONS_EXECUTION_ARN\":\"arn:aws:states:us-east-1:572539092864:execution:MyTrainTransformDeploy_v1:c0aea278-47f8-46c0-846b-d113c917f441\",\"MANAGED_BY_AWS\":\"STARTED_BY_STEP_FUNCTIONS\"}}',\n",
       "   'outputDetails': {'truncated': False}}},\n",
       " {'timestamp': datetime.datetime(2021, 5, 4, 15, 50, 37, 126000, tzinfo=tzlocal()),\n",
       "  'type': 'TaskStateExited',\n",
       "  'id': 18,\n",
       "  'previousEventId': 17,\n",
       "  'stateExitedEventDetails': {'name': 'Transform Input Dataset',\n",
       "   'output': '{\"TransformJobName\":\"regression-46248572acef11eb8fa469e76e10bb47\",\"TransformJobArn\":\"arn:aws:sagemaker:us-east-1:572539092864:transform-job/regression-46248572acef11eb8fa469e76e10bb47\",\"TransformJobStatus\":\"Completed\",\"ModelName\":\"regression-4624895aacef11eb8fa469e76e10bb47\",\"MaxConcurrentTransforms\":0.0,\"MaxPayloadInMB\":0.0,\"TransformInput\":{\"DataSource\":{\"S3DataSource\":{\"S3DataType\":\"S3_PREFIX\",\"S3Uri\":\"https://s3-us-east-1.amazonaws.com/sagemaker-us-east-1-572539092864/sagemaker/DEMO-xgboost-regression/test\"}},\"ContentType\":\"text/libsvm\",\"CompressionType\":\"NONE\",\"SplitType\":\"NONE\"},\"TransformOutput\":{\"S3OutputPath\":\"s3://sagemaker-us-east-1-572539092864/sagemaker-xgboost-2021-05-04-15-40-56-742\",\"AssembleWith\":\"NONE\"},\"TransformResources\":{\"InstanceType\":\"ml.m5.large\",\"InstanceCount\":1.0},\"CreationTime\":1.620143146E12,\"TransformStartTime\":1.620143351E12,\"TransformEndTime\":1.620143434E12,\"DataProcessing\":{\"InputFilter\":\"$\",\"OutputFilter\":\"$\",\"JoinSource\":\"NONE\"},\"ExperimentConfig\":{},\"Tags\":{\"AWS_STEP_FUNCTIONS_EXECUTION_ARN\":\"arn:aws:states:us-east-1:572539092864:execution:MyTrainTransformDeploy_v1:c0aea278-47f8-46c0-846b-d113c917f441\",\"MANAGED_BY_AWS\":\"STARTED_BY_STEP_FUNCTIONS\"}}',\n",
       "   'outputDetails': {'truncated': False}}},\n",
       " {'timestamp': datetime.datetime(2021, 5, 4, 15, 50, 37, 135000, tzinfo=tzlocal()),\n",
       "  'type': 'TaskStateEntered',\n",
       "  'id': 19,\n",
       "  'previousEventId': 18,\n",
       "  'stateEnteredEventDetails': {'name': 'Create Endpoint Config',\n",
       "   'input': '{\"TransformJobName\":\"regression-46248572acef11eb8fa469e76e10bb47\",\"TransformJobArn\":\"arn:aws:sagemaker:us-east-1:572539092864:transform-job/regression-46248572acef11eb8fa469e76e10bb47\",\"TransformJobStatus\":\"Completed\",\"ModelName\":\"regression-4624895aacef11eb8fa469e76e10bb47\",\"MaxConcurrentTransforms\":0.0,\"MaxPayloadInMB\":0.0,\"TransformInput\":{\"DataSource\":{\"S3DataSource\":{\"S3DataType\":\"S3_PREFIX\",\"S3Uri\":\"https://s3-us-east-1.amazonaws.com/sagemaker-us-east-1-572539092864/sagemaker/DEMO-xgboost-regression/test\"}},\"ContentType\":\"text/libsvm\",\"CompressionType\":\"NONE\",\"SplitType\":\"NONE\"},\"TransformOutput\":{\"S3OutputPath\":\"s3://sagemaker-us-east-1-572539092864/sagemaker-xgboost-2021-05-04-15-40-56-742\",\"AssembleWith\":\"NONE\"},\"TransformResources\":{\"InstanceType\":\"ml.m5.large\",\"InstanceCount\":1.0},\"CreationTime\":1.620143146E12,\"TransformStartTime\":1.620143351E12,\"TransformEndTime\":1.620143434E12,\"DataProcessing\":{\"InputFilter\":\"$\",\"OutputFilter\":\"$\",\"JoinSource\":\"NONE\"},\"ExperimentConfig\":{},\"Tags\":{\"AWS_STEP_FUNCTIONS_EXECUTION_ARN\":\"arn:aws:states:us-east-1:572539092864:execution:MyTrainTransformDeploy_v1:c0aea278-47f8-46c0-846b-d113c917f441\",\"MANAGED_BY_AWS\":\"STARTED_BY_STEP_FUNCTIONS\"}}',\n",
       "   'inputDetails': {'truncated': False}}},\n",
       " {'timestamp': datetime.datetime(2021, 5, 4, 15, 50, 37, 135000, tzinfo=tzlocal()),\n",
       "  'type': 'TaskScheduled',\n",
       "  'id': 20,\n",
       "  'previousEventId': 19,\n",
       "  'taskScheduledEventDetails': {'resourceType': 'sagemaker',\n",
       "   'resource': 'createEndpointConfig',\n",
       "   'region': 'us-east-1',\n",
       "   'parameters': '{\"ProductionVariants\":[{\"InitialInstanceCount\":1,\"InstanceType\":\"ml.m5.large\",\"VariantName\":\"AllTraffic\",\"ModelName\":\"regression-4624895aacef11eb8fa469e76e10bb47\"}],\"EndpointConfigName\":\"regression-4624895aacef11eb8fa469e76e10bb47\"}'}},\n",
       " {'timestamp': datetime.datetime(2021, 5, 4, 15, 50, 37, 143000, tzinfo=tzlocal()),\n",
       "  'type': 'TaskStarted',\n",
       "  'id': 21,\n",
       "  'previousEventId': 20,\n",
       "  'taskStartedEventDetails': {'resourceType': 'sagemaker',\n",
       "   'resource': 'createEndpointConfig'}},\n",
       " {'timestamp': datetime.datetime(2021, 5, 4, 15, 50, 37, 226000, tzinfo=tzlocal()),\n",
       "  'type': 'TaskSucceeded',\n",
       "  'id': 22,\n",
       "  'previousEventId': 21,\n",
       "  'taskSucceededEventDetails': {'resourceType': 'sagemaker',\n",
       "   'resource': 'createEndpointConfig',\n",
       "   'output': '{\"EndpointConfigArn\":\"arn:aws:sagemaker:us-east-1:572539092864:endpoint-config/regression-4624895aacef11eb8fa469e76e10bb47\",\"SdkHttpMetadata\":{\"AllHttpHeaders\":{\"x-amzn-RequestId\":[\"b57f410c-6477-488e-aa05-02ec76edb789\"],\"Content-Length\":[\"124\"],\"Date\":[\"Tue, 04 May 2021 15:50:37 GMT\"],\"Content-Type\":[\"application/x-amz-json-1.1\"]},\"HttpHeaders\":{\"Content-Length\":\"124\",\"Content-Type\":\"application/x-amz-json-1.1\",\"Date\":\"Tue, 04 May 2021 15:50:37 GMT\",\"x-amzn-RequestId\":\"b57f410c-6477-488e-aa05-02ec76edb789\"},\"HttpStatusCode\":200},\"SdkResponseMetadata\":{\"RequestId\":\"b57f410c-6477-488e-aa05-02ec76edb789\"}}',\n",
       "   'outputDetails': {'truncated': False}}},\n",
       " {'timestamp': datetime.datetime(2021, 5, 4, 15, 50, 37, 226000, tzinfo=tzlocal()),\n",
       "  'type': 'TaskStateExited',\n",
       "  'id': 23,\n",
       "  'previousEventId': 22,\n",
       "  'stateExitedEventDetails': {'name': 'Create Endpoint Config',\n",
       "   'output': '{\"EndpointConfigArn\":\"arn:aws:sagemaker:us-east-1:572539092864:endpoint-config/regression-4624895aacef11eb8fa469e76e10bb47\",\"SdkHttpMetadata\":{\"AllHttpHeaders\":{\"x-amzn-RequestId\":[\"b57f410c-6477-488e-aa05-02ec76edb789\"],\"Content-Length\":[\"124\"],\"Date\":[\"Tue, 04 May 2021 15:50:37 GMT\"],\"Content-Type\":[\"application/x-amz-json-1.1\"]},\"HttpHeaders\":{\"Content-Length\":\"124\",\"Content-Type\":\"application/x-amz-json-1.1\",\"Date\":\"Tue, 04 May 2021 15:50:37 GMT\",\"x-amzn-RequestId\":\"b57f410c-6477-488e-aa05-02ec76edb789\"},\"HttpStatusCode\":200},\"SdkResponseMetadata\":{\"RequestId\":\"b57f410c-6477-488e-aa05-02ec76edb789\"}}',\n",
       "   'outputDetails': {'truncated': False}}},\n",
       " {'timestamp': datetime.datetime(2021, 5, 4, 15, 50, 37, 301000, tzinfo=tzlocal()),\n",
       "  'type': 'TaskStateEntered',\n",
       "  'id': 24,\n",
       "  'previousEventId': 23,\n",
       "  'stateEnteredEventDetails': {'name': 'Create Endpoint',\n",
       "   'input': '{\"EndpointConfigArn\":\"arn:aws:sagemaker:us-east-1:572539092864:endpoint-config/regression-4624895aacef11eb8fa469e76e10bb47\",\"SdkHttpMetadata\":{\"AllHttpHeaders\":{\"x-amzn-RequestId\":[\"b57f410c-6477-488e-aa05-02ec76edb789\"],\"Content-Length\":[\"124\"],\"Date\":[\"Tue, 04 May 2021 15:50:37 GMT\"],\"Content-Type\":[\"application/x-amz-json-1.1\"]},\"HttpHeaders\":{\"Content-Length\":\"124\",\"Content-Type\":\"application/x-amz-json-1.1\",\"Date\":\"Tue, 04 May 2021 15:50:37 GMT\",\"x-amzn-RequestId\":\"b57f410c-6477-488e-aa05-02ec76edb789\"},\"HttpStatusCode\":200},\"SdkResponseMetadata\":{\"RequestId\":\"b57f410c-6477-488e-aa05-02ec76edb789\"}}',\n",
       "   'inputDetails': {'truncated': False}}},\n",
       " {'timestamp': datetime.datetime(2021, 5, 4, 15, 50, 37, 301000, tzinfo=tzlocal()),\n",
       "  'type': 'TaskScheduled',\n",
       "  'id': 25,\n",
       "  'previousEventId': 24,\n",
       "  'taskScheduledEventDetails': {'resourceType': 'sagemaker',\n",
       "   'resource': 'createEndpoint',\n",
       "   'region': 'us-east-1',\n",
       "   'parameters': '{\"EndpointName\":\"regression-462489b4acef11eb8fa469e76e10bb47\",\"EndpointConfigName\":\"regression-4624895aacef11eb8fa469e76e10bb47\"}'}},\n",
       " {'timestamp': datetime.datetime(2021, 5, 4, 15, 50, 37, 309000, tzinfo=tzlocal()),\n",
       "  'type': 'TaskStarted',\n",
       "  'id': 26,\n",
       "  'previousEventId': 25,\n",
       "  'taskStartedEventDetails': {'resourceType': 'sagemaker',\n",
       "   'resource': 'createEndpoint'}},\n",
       " {'timestamp': datetime.datetime(2021, 5, 4, 15, 50, 37, 840000, tzinfo=tzlocal()),\n",
       "  'type': 'TaskSucceeded',\n",
       "  'id': 27,\n",
       "  'previousEventId': 26,\n",
       "  'taskSucceededEventDetails': {'resourceType': 'sagemaker',\n",
       "   'resource': 'createEndpoint',\n",
       "   'output': '{\"EndpointArn\":\"arn:aws:sagemaker:us-east-1:572539092864:endpoint/regression-462489b4acef11eb8fa469e76e10bb47\",\"SdkHttpMetadata\":{\"AllHttpHeaders\":{\"x-amzn-RequestId\":[\"0701ffb7-2345-4a74-8c1c-af32e5e5173c\"],\"Content-Length\":[\"111\"],\"Date\":[\"Tue, 04 May 2021 15:50:37 GMT\"],\"Content-Type\":[\"application/x-amz-json-1.1\"]},\"HttpHeaders\":{\"Content-Length\":\"111\",\"Content-Type\":\"application/x-amz-json-1.1\",\"Date\":\"Tue, 04 May 2021 15:50:37 GMT\",\"x-amzn-RequestId\":\"0701ffb7-2345-4a74-8c1c-af32e5e5173c\"},\"HttpStatusCode\":200},\"SdkResponseMetadata\":{\"RequestId\":\"0701ffb7-2345-4a74-8c1c-af32e5e5173c\"}}',\n",
       "   'outputDetails': {'truncated': False}}},\n",
       " {'timestamp': datetime.datetime(2021, 5, 4, 15, 50, 37, 840000, tzinfo=tzlocal()),\n",
       "  'type': 'TaskStateExited',\n",
       "  'id': 28,\n",
       "  'previousEventId': 27,\n",
       "  'stateExitedEventDetails': {'name': 'Create Endpoint',\n",
       "   'output': '{\"EndpointArn\":\"arn:aws:sagemaker:us-east-1:572539092864:endpoint/regression-462489b4acef11eb8fa469e76e10bb47\",\"SdkHttpMetadata\":{\"AllHttpHeaders\":{\"x-amzn-RequestId\":[\"0701ffb7-2345-4a74-8c1c-af32e5e5173c\"],\"Content-Length\":[\"111\"],\"Date\":[\"Tue, 04 May 2021 15:50:37 GMT\"],\"Content-Type\":[\"application/x-amz-json-1.1\"]},\"HttpHeaders\":{\"Content-Length\":\"111\",\"Content-Type\":\"application/x-amz-json-1.1\",\"Date\":\"Tue, 04 May 2021 15:50:37 GMT\",\"x-amzn-RequestId\":\"0701ffb7-2345-4a74-8c1c-af32e5e5173c\"},\"HttpStatusCode\":200},\"SdkResponseMetadata\":{\"RequestId\":\"0701ffb7-2345-4a74-8c1c-af32e5e5173c\"}}',\n",
       "   'outputDetails': {'truncated': False}}},\n",
       " {'timestamp': datetime.datetime(2021, 5, 4, 15, 50, 37, 840000, tzinfo=tzlocal()),\n",
       "  'type': 'ExecutionSucceeded',\n",
       "  'id': 29,\n",
       "  'previousEventId': 28,\n",
       "  'executionSucceededEventDetails': {'output': '{\"EndpointArn\":\"arn:aws:sagemaker:us-east-1:572539092864:endpoint/regression-462489b4acef11eb8fa469e76e10bb47\",\"SdkHttpMetadata\":{\"AllHttpHeaders\":{\"x-amzn-RequestId\":[\"0701ffb7-2345-4a74-8c1c-af32e5e5173c\"],\"Content-Length\":[\"111\"],\"Date\":[\"Tue, 04 May 2021 15:50:37 GMT\"],\"Content-Type\":[\"application/x-amz-json-1.1\"]},\"HttpHeaders\":{\"Content-Length\":\"111\",\"Content-Type\":\"application/x-amz-json-1.1\",\"Date\":\"Tue, 04 May 2021 15:50:37 GMT\",\"x-amzn-RequestId\":\"0701ffb7-2345-4a74-8c1c-af32e5e5173c\"},\"HttpStatusCode\":200},\"SdkResponseMetadata\":{\"RequestId\":\"0701ffb7-2345-4a74-8c1c-af32e5e5173c\"}}',\n",
       "   'outputDetails': {'truncated': False}}}]"
      ]
     },
     "execution_count": 22,
     "metadata": {},
     "output_type": "execute_result"
    }
   ],
   "source": [
    "execution.list_events(html=False)"
   ]
  },
  {
   "cell_type": "markdown",
   "metadata": {},
   "source": [
    "Use [list_executions](https://aws-step-functions-data-science-sdk.readthedocs.io/en/latest/workflow.html#stepfunctions.workflow.Workflow.list_executions) to list all executions for a specific workflow."
   ]
  },
  {
   "cell_type": "code",
   "execution_count": 23,
   "metadata": {},
   "outputs": [
    {
     "data": {
      "text/plain": [
       "[Execution(execution_arn='arn:aws:states:us-east-1:572539092864:execution:MyTrainTransformDeploy_v1:c0aea278-47f8-46c0-846b-d113c917f441', name='c0aea278-47f8-46c0-846b-d113c917f441', status='SUCCEEDED', start_date=datetime.datetime(2021, 5, 4, 15, 42, 3, 933000, tzinfo=tzlocal()))]"
      ]
     },
     "execution_count": 23,
     "metadata": {},
     "output_type": "execute_result"
    }
   ],
   "source": [
    "workflow.list_executions(html=False)"
   ]
  },
  {
   "cell_type": "markdown",
   "metadata": {},
   "source": [
    "Use [list_workflows](https://aws-step-functions-data-science-sdk.readthedocs.io/en/latest/workflow.html#stepfunctions.workflow.Workflow.list_workflows) to list all workflows in your AWS account."
   ]
  },
  {
   "cell_type": "code",
   "execution_count": 24,
   "metadata": {
    "scrolled": true
   },
   "outputs": [
    {
     "data": {
      "text/html": [
       "\n",
       "    <style>\n",
       "        \n",
       "    .table-widget {\n",
       "        width: 100%;\n",
       "        font-size: 14px;\n",
       "        line-height: 28px;\n",
       "        color: #545b64;\n",
       "        border-spacing: 0;\n",
       "        background-color: #fff;\n",
       "        border-color: grey;\n",
       "        background: #fafafa;\n",
       "    }\n",
       "\n",
       "    .table-widget thead th {\n",
       "        text-align: left !important;\n",
       "        color: #879596;\n",
       "        padding: 0.3em 2em;\n",
       "        border-bottom: 1px solid #eaeded;\n",
       "        min-height: 4rem;\n",
       "        line-height: 28px;\n",
       "    }\n",
       "\n",
       "    .table-widget thead th:first-of-type {\n",
       "    }\n",
       "\n",
       "    .table-widget td {\n",
       "        overflow-wrap: break-word;\n",
       "        padding: 0.4em 2em;\n",
       "        line-height: 28px;\n",
       "        text-align: left !important;\n",
       "        background: #fff;\n",
       "        border-bottom: 1px solid #eaeded;\n",
       "        border-top: 1px solid transparent;\n",
       "    }\n",
       "\n",
       "    .table-widget td:before {\n",
       "        content: \"\";\n",
       "        height: 3rem;\n",
       "    }\n",
       "\n",
       "    a {\n",
       "        cursor: pointer;\n",
       "        text-decoration: none !important;\n",
       "        color: #007dbc;\n",
       "    }\n",
       "\n",
       "    a:hover {\n",
       "        text-decoration: underline !important;\n",
       "    }\n",
       "\n",
       "    a.disabled {\n",
       "        color: black;\n",
       "        cursor: default;\n",
       "        pointer-events: none;\n",
       "    }\n",
       "\n",
       "    .hide {\n",
       "        display: none;\n",
       "    }\n",
       "\n",
       "    pre {\n",
       "        white-space: pre-wrap;\n",
       "    }\n",
       "\n",
       "        \n",
       "    * {\n",
       "        box-sizing: border-box;\n",
       "    }\n",
       "\n",
       "    .table-widget {\n",
       "        min-width: 100%;\n",
       "        font-size: 14px;\n",
       "        line-height: 28px;\n",
       "        color: #545b64;\n",
       "        border-spacing: 0;\n",
       "        background-color: #fff;\n",
       "        border-color: grey;\n",
       "        background: #fafafa;\n",
       "    }\n",
       "\n",
       "    .table-widget thead th {\n",
       "        text-align: left !important;\n",
       "        color: #879596;\n",
       "        padding: 0.3em 2em;\n",
       "        border-bottom: 1px solid #eaeded;\n",
       "        min-height: 4rem;\n",
       "        line-height: 28px;\n",
       "    }\n",
       "\n",
       "    .table-widget td {\n",
       "        /* padding: 24px 18px; */\n",
       "        padding: 0.4em 2em;\n",
       "        line-height: 28px;\n",
       "        text-align: left !important;\n",
       "        background: #fff;\n",
       "        border-bottom: 1px solid #eaeded;\n",
       "        border-top: 1px solid transparent;\n",
       "    }\n",
       "\n",
       "    .table-widget td:before {\n",
       "        content: \"\";\n",
       "        height: 3rem;\n",
       "    }\n",
       "\n",
       "    .table-widget .clickable-cell {\n",
       "        cursor: pointer;\n",
       "    }\n",
       "\n",
       "    .hide {\n",
       "        display: none;\n",
       "    }\n",
       "\n",
       "    .triangle-right {\n",
       "        width: 0;\n",
       "        height: 0;\n",
       "        border-top: 5px solid transparent;\n",
       "        border-left: 8px solid #545b64;\n",
       "        border-bottom: 5px solid transparent;\n",
       "        margin-right: 5px;\n",
       "    }\n",
       "\n",
       "    a.awsui {\n",
       "        text-decoration: none !important;\n",
       "        color: #007dbc;\n",
       "    }\n",
       "\n",
       "    a.awsui:hover {\n",
       "        text-decoration: underline !important;\n",
       "    }\n",
       "\n",
       "    </style>\n",
       "    <table class=\"table-widget\">\n",
       "        <thead>\n",
       "            <tr>\n",
       "                <th>Name</th>\n",
       "                <th>Creation Date</th>\n",
       "            </tr>\n",
       "        </thead>\n",
       "        <tbody>\n",
       "            \n",
       "    <tr class=\"awsui-table-row\">\n",
       "        <td>\n",
       "            <a href=\"https://console.aws.amazon.com/states/home?region=us-east-1#/statemachines/view/arn:aws:states:us-east-1:572539092864:stateMachine:AB3-ModelTrainingWorkflow\" target=\"_blank\" class=\"awsui\">AB3-ModelTrainingWorkflow</a>\n",
       "        </td>\n",
       "        <td>Oct 06, 2020 09:19:10.290 PM</td>\n",
       "    </tr>\n",
       "\n",
       "\n",
       "    <tr class=\"awsui-table-row\">\n",
       "        <td>\n",
       "            <a href=\"https://console.aws.amazon.com/states/home?region=us-east-1#/statemachines/view/arn:aws:states:us-east-1:572539092864:stateMachine:MyInferenceRoutine_0d2ef4a1a0ac4ae58fb948eef1fa4c4d\" target=\"_blank\" class=\"awsui\">MyInferenceRoutine_0d2ef4a1a0ac4ae58fb948eef1fa4c4d</a>\n",
       "        </td>\n",
       "        <td>Jul 09, 2020 10:14:04.363 PM</td>\n",
       "    </tr>\n",
       "\n",
       "\n",
       "    <tr class=\"awsui-table-row\">\n",
       "        <td>\n",
       "            <a href=\"https://console.aws.amazon.com/states/home?region=us-east-1#/statemachines/view/arn:aws:states:us-east-1:572539092864:stateMachine:MyInferenceRoutine_0eeb4f6f582240e9afd2250ab53bf99a\" target=\"_blank\" class=\"awsui\">MyInferenceRoutine_0eeb4f6f582240e9afd2250ab53bf99a</a>\n",
       "        </td>\n",
       "        <td>Jul 10, 2020 07:44:28.596 PM</td>\n",
       "    </tr>\n",
       "\n",
       "\n",
       "    <tr class=\"awsui-table-row\">\n",
       "        <td>\n",
       "            <a href=\"https://console.aws.amazon.com/states/home?region=us-east-1#/statemachines/view/arn:aws:states:us-east-1:572539092864:stateMachine:MyTrainTransformDeploy_v1\" target=\"_blank\" class=\"awsui\">MyTrainTransformDeploy_v1</a>\n",
       "        </td>\n",
       "        <td>May 04, 2021 03:42:00.097 PM</td>\n",
       "    </tr>\n",
       "\n",
       "\n",
       "    <tr class=\"awsui-table-row\">\n",
       "        <td>\n",
       "            <a href=\"https://console.aws.amazon.com/states/home?region=us-east-1#/statemachines/view/arn:aws:states:us-east-1:572539092864:stateMachine:MyTrainingRoutine64216f3b06bb440482247b3751a50ec7\" target=\"_blank\" class=\"awsui\">MyTrainingRoutine64216f3b06bb440482247b3751a50ec7</a>\n",
       "        </td>\n",
       "        <td>Sep 09, 2020 09:02:26.359 PM</td>\n",
       "    </tr>\n",
       "\n",
       "\n",
       "    <tr class=\"awsui-table-row\">\n",
       "        <td>\n",
       "            <a href=\"https://console.aws.amazon.com/states/home?region=us-east-1#/statemachines/view/arn:aws:states:us-east-1:572539092864:stateMachine:training-pipeline-2020-08-21-15-00-08\" target=\"_blank\" class=\"awsui\">training-pipeline-2020-08-21-15-00-08</a>\n",
       "        </td>\n",
       "        <td>Aug 21, 2020 03:00:27.637 PM</td>\n",
       "    </tr>\n",
       "\n",
       "\n",
       "    <tr class=\"awsui-table-row\">\n",
       "        <td>\n",
       "            <a href=\"https://console.aws.amazon.com/states/home?region=us-east-1#/statemachines/view/arn:aws:states:us-east-1:572539092864:stateMachine:training-pipeline-2020-09-25-21-40-37\" target=\"_blank\" class=\"awsui\">training-pipeline-2020-09-25-21-40-37</a>\n",
       "        </td>\n",
       "        <td>Sep 25, 2020 09:40:50.812 PM</td>\n",
       "    </tr>\n",
       "\n",
       "        </tbody>\n",
       "    </table>\n"
      ],
      "text/plain": [
       "<IPython.core.display.HTML object>"
      ]
     },
     "execution_count": 24,
     "metadata": {},
     "output_type": "execute_result"
    }
   ],
   "source": [
    "Workflow.list_workflows(html=True)"
   ]
  },
  {
   "cell_type": "markdown",
   "metadata": {},
   "source": [
    "---"
   ]
  }
 ],
 "metadata": {
  "kernelspec": {
   "display_name": "conda_python3",
   "language": "python",
   "name": "conda_python3"
  },
  "language_info": {
   "codemirror_mode": {
    "name": "ipython",
    "version": 3
   },
   "file_extension": ".py",
   "mimetype": "text/x-python",
   "name": "python",
   "nbconvert_exporter": "python",
   "pygments_lexer": "ipython3",
   "version": "3.6.10"
  }
 },
 "nbformat": 4,
 "nbformat_minor": 2
}
